{
  "nbformat": 4,
  "nbformat_minor": 0,
  "metadata": {
    "colab": {
      "provenance": []
    },
    "kernelspec": {
      "name": "python3",
      "display_name": "Python 3"
    },
    "language_info": {
      "name": "python"
    }
  },
  "cells": [
    {
      "cell_type": "markdown",
      "source": [
        "hfp\n"
      ],
      "metadata": {
        "id": "pct7saemhz7J"
      }
    },
    {
      "cell_type": "markdown",
      "source": [
        "ckkckd"
      ],
      "metadata": {
        "id": "3Yb9v541naN0"
      }
    },
    {
      "cell_type": "markdown",
      "source": [
        "ckk"
      ],
      "metadata": {
        "id": "P0ruou8pnbvr"
      }
    }
  ]
}