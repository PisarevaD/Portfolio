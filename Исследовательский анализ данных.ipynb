{
 "cells": [
  {
   "cell_type": "markdown",
   "metadata": {},
   "source": [
    "<div style=\"border:solid Chocolate 2px; padding: 40px\">\n",
    "\n",
    "<b>Привет!👋</b>\n",
    "\n",
    "Меня зовут Огурлиев Анзор, я буду ревьюером твоего проекта. Сразу хочу предложить тебе общаться на \"ты\", если тебе это неудобно, скажи мне об этом. Нам предстоит пройти с тобой через тернистый и от того интересный путь анализа данных! Можешь не переживать, я всегда помогу тебе, если у тебя возникнут вопросы)\n",
    "\n",
    "По ходу твоей работы я буду оставлять свои комментарии, по выполненным тобой шагам. Попрошу тебя не удалять их, так мне будет проще отслеживать твой прогресс в случае повторной проверки.\n",
    "\n",
    "Очень важно вести диалог и обсуждать те пункты, которые у тебя могли не получиться, поэтому, ты можешь оставлять свои комментарии, и мы обязательно во всем разберемся! Самое главное - выделяй свои комментарии удобным для тебя способом (цвет, рамка), но так, чтобы они отчетлитво отличались от моих комментариев. Так мы ни в чем не запутаемся)\n",
    "\n",
    "Свои комментарии я буду выделять так: <font color='green'>зеленый</font>, <font color='gold'>желтый</font> и <font color='red'>красный</font> цвет, например:\n",
    "\n",
    "<br/>\n",
    "\n",
    "<div class=\"alert alert-success\">\n",
    "<h2> Комментарий ревьюера V1<a class=\"tocSkip\"> </h2>\n",
    "\n",
    "<b>Все отлично!👍:</b> Этот комментарий я буду оставлять, если твое решение оптимально для данного шага.\n",
    "</div>\n",
    "\n",
    "<br/>\n",
    "\n",
    "<div class=\"alert alert-warning\">\n",
    "    <h2> Комментарий ревьюера V1<a class=\"tocSkip\"> </h2>\n",
    "\n",
    "<b>Некоторые замечания и рекомендации💡:</b> Это не означает, что ты совершил ошибку. Такими комментариями я буду отмечать места, где ты справился с задачей, но её можно решить ещё лучше. Также в таких комментариях я буду оставлять для тебя другие советы.\n",
    "</div>\n",
    "\n",
    "\n",
    "<br/>\n",
    "<div class=\"alert alert-block alert-danger\">\n",
    "<h2> Комментарий ревьюера V1<a class=\"tocSkip\"></h2>\n",
    "\n",
    "\n",
    "<b>На доработку🤔:</b>\n",
    "Если решение, которое ты применил на определенном шаге, требует значительных изменений, то я буду оставлять такой комментарий. Тебе нужно будет подумать еще раз как правильным образом решить данный этап. Если ревью содержит такие комментарии, то я не смогу принять проект с первого раза.\n",
    "</div>\n",
    "\n",
    "P.S. В оглавлении комментария ты увидишь `V1` (`V1`, `V2`, `V3`) - это версия моего комментария, которая понадобится нам с тобой, чтобы не запутаться, если потребуется оставить тебе комментарии после первой проверки."
   ]
  },
  {
   "cell_type": "markdown",
   "metadata": {},
   "source": [
    "# Исследование объявлений о продаже квартир\n",
    "\n",
    "В вашем распоряжении данные сервиса Яндекс.Недвижимость — архив объявлений о продаже квартир в Санкт-Петербурге и соседних населённых пунктов за несколько лет. Нужно научиться определять рыночную стоимость объектов недвижимости. Ваша задача — установить параметры. Это позволит построить автоматизированную систему: она отследит аномалии и мошенническую деятельность. \n",
    "\n",
    "По каждой квартире на продажу доступны два вида данных. Первые вписаны пользователем, вторые — получены автоматически на основе картографических данных. Например, расстояние до центра, аэропорта, ближайшего парка и водоёма. "
   ]
  },
  {
   "cell_type": "markdown",
   "metadata": {},
   "source": [
    "<div class=\"alert alert-success\">\n",
    "<h2> Комментарий ревьюера V1<a class=\"tocSkip\"> </h2>\n",
    "\n",
    "<b>Все отлично!👍:</b> Молодец, что начинаешь проект с описания."
   ]
  },
  {
   "cell_type": "markdown",
   "metadata": {},
   "source": [
    "### Откройте файл с данными и изучите общую информацию. "
   ]
  },
  {
   "cell_type": "markdown",
   "metadata": {},
   "source": [
    "#### Импортируем библиотеки Pandas и Matplotlib и считываем данные из csv-файла. Выводим первые 5 строк, чтобы ознакомиться с данными."
   ]
  },
  {
   "cell_type": "markdown",
   "metadata": {},
   "source": [
    "<div class=\"alert alert-block alert-danger\">\n",
    "<h2> Комментарий ревьюера V1<a class=\"tocSkip\"></h2>\n",
    "\n",
    "\n",
    "<b>На доработку🤔:</b>\n",
    "Видимо, работа над проектом выполнялась локально, в таком случае нужно использовать конструкцию `try` -> `except`, в одном случае считывать файл локально, в другом считывать файл с ресурсов Практикума. Это необходимо делать для того, чтобы проект компилировался у ревьюера, чтобы он мог его полностью проверить. Перед каждой отправкой проекта на проверку перезапускай его и проверяй в тренажере на корректность работы. Для этого нужно нажать `Kernel` -> `Restart & Run All`. Это нужно для того, чтобы ревьюер проверил работает ли твой проект, все ли сделано верно, возможно, он захочет оставить для тебя примеры. Важно научиться проверять проект перед отправкой сейчас, потому что в дальнейшем проекты будут еще объемнее, будет обидно потратить время и отправить нерабочий проект.\n",
    "\n",
    "Внеси изменения в код, проверь проект перед отправкой обязательно, и присылай мне. Я постараюсь проверить его как можно скорее.\n",
    "</div>"
   ]
  },
  {
   "cell_type": "markdown",
   "metadata": {},
   "source": [
    "<div style=\"background-color:black; color:#ffffff; text-align:center; padding:2%\">\n",
    "    \n",
    "**Дарья:** Спасибо большое, первый раз загружала файл локально, совсем не подумала об этом, исправила🙂"
   ]
  },
  {
   "cell_type": "code",
   "execution_count": 1,
   "metadata": {},
   "outputs": [
    {
     "data": {
      "text/html": [
       "<div>\n",
       "<style scoped>\n",
       "    .dataframe tbody tr th:only-of-type {\n",
       "        vertical-align: middle;\n",
       "    }\n",
       "\n",
       "    .dataframe tbody tr th {\n",
       "        vertical-align: top;\n",
       "    }\n",
       "\n",
       "    .dataframe thead th {\n",
       "        text-align: right;\n",
       "    }\n",
       "</style>\n",
       "<table border=\"1\" class=\"dataframe\">\n",
       "  <thead>\n",
       "    <tr style=\"text-align: right;\">\n",
       "      <th></th>\n",
       "      <th>total_images\\tlast_price\\ttotal_area\\tfirst_day_exposition\\trooms\\tceiling_height\\tfloors_total\\tliving_area\\tfloor\\tis_apartment\\tstudio\\topen_plan\\tkitchen_area\\tbalcony\\tlocality_name\\tairports_nearest\\tcityCenters_nearest\\tparks_around3000\\tparks_nearest\\tponds_around3000\\tponds_nearest\\tdays_exposition</th>\n",
       "    </tr>\n",
       "  </thead>\n",
       "  <tbody>\n",
       "    <tr>\n",
       "      <th>0</th>\n",
       "      <td>20\\t13000000.0\\t108.0\\t2019-03-07T00:00:00\\t3\\...</td>\n",
       "    </tr>\n",
       "    <tr>\n",
       "      <th>1</th>\n",
       "      <td>7\\t3350000.0\\t40.4\\t2018-12-04T00:00:00\\t1\\t\\t...</td>\n",
       "    </tr>\n",
       "    <tr>\n",
       "      <th>2</th>\n",
       "      <td>10\\t5196000.0\\t56.0\\t2015-08-20T00:00:00\\t2\\t\\...</td>\n",
       "    </tr>\n",
       "    <tr>\n",
       "      <th>3</th>\n",
       "      <td>0\\t64900000.0\\t159.0\\t2015-07-24T00:00:00\\t3\\t...</td>\n",
       "    </tr>\n",
       "    <tr>\n",
       "      <th>4</th>\n",
       "      <td>2\\t10000000.0\\t100.0\\t2018-06-19T00:00:00\\t2\\t...</td>\n",
       "    </tr>\n",
       "  </tbody>\n",
       "</table>\n",
       "</div>"
      ],
      "text/plain": [
       "  total_images\\tlast_price\\ttotal_area\\tfirst_day_exposition\\trooms\\tceiling_height\\tfloors_total\\tliving_area\\tfloor\\tis_apartment\\tstudio\\topen_plan\\tkitchen_area\\tbalcony\\tlocality_name\\tairports_nearest\\tcityCenters_nearest\\tparks_around3000\\tparks_nearest\\tponds_around3000\\tponds_nearest\\tdays_exposition\n",
       "0  20\\t13000000.0\\t108.0\\t2019-03-07T00:00:00\\t3\\...                                                                                                                                                                                                                                                                  \n",
       "1  7\\t3350000.0\\t40.4\\t2018-12-04T00:00:00\\t1\\t\\t...                                                                                                                                                                                                                                                                  \n",
       "2  10\\t5196000.0\\t56.0\\t2015-08-20T00:00:00\\t2\\t\\...                                                                                                                                                                                                                                                                  \n",
       "3  0\\t64900000.0\\t159.0\\t2015-07-24T00:00:00\\t3\\t...                                                                                                                                                                                                                                                                  \n",
       "4  2\\t10000000.0\\t100.0\\t2018-06-19T00:00:00\\t2\\t...                                                                                                                                                                                                                                                                  "
      ]
     },
     "execution_count": 1,
     "metadata": {},
     "output_type": "execute_result"
    }
   ],
   "source": [
    "import pandas as pd\n",
    "import matplotlib.pyplot as plt\n",
    "\n",
    "data = pd.read_csv('/datasets/real_estate_data.csv')\n",
    "data.head()"
   ]
  },
  {
   "cell_type": "markdown",
   "metadata": {},
   "source": [
    "Данные не разбиты по колонкам в связи с тем, что разделителем вступает '\\t'."
   ]
  },
  {
   "cell_type": "markdown",
   "metadata": {},
   "source": [
    "#### Добавляем разделитель и выводим общую информацию о датафрейме."
   ]
  },
  {
   "cell_type": "code",
   "execution_count": 2,
   "metadata": {},
   "outputs": [
    {
     "name": "stdout",
     "output_type": "stream",
     "text": [
      "<class 'pandas.core.frame.DataFrame'>\n",
      "RangeIndex: 23699 entries, 0 to 23698\n",
      "Data columns (total 22 columns):\n",
      " #   Column                Non-Null Count  Dtype  \n",
      "---  ------                --------------  -----  \n",
      " 0   total_images          23699 non-null  int64  \n",
      " 1   last_price            23699 non-null  float64\n",
      " 2   total_area            23699 non-null  float64\n",
      " 3   first_day_exposition  23699 non-null  object \n",
      " 4   rooms                 23699 non-null  int64  \n",
      " 5   ceiling_height        14504 non-null  float64\n",
      " 6   floors_total          23613 non-null  float64\n",
      " 7   living_area           21796 non-null  float64\n",
      " 8   floor                 23699 non-null  int64  \n",
      " 9   is_apartment          2775 non-null   object \n",
      " 10  studio                23699 non-null  bool   \n",
      " 11  open_plan             23699 non-null  bool   \n",
      " 12  kitchen_area          21421 non-null  float64\n",
      " 13  balcony               12180 non-null  float64\n",
      " 14  locality_name         23650 non-null  object \n",
      " 15  airports_nearest      18157 non-null  float64\n",
      " 16  cityCenters_nearest   18180 non-null  float64\n",
      " 17  parks_around3000      18181 non-null  float64\n",
      " 18  parks_nearest         8079 non-null   float64\n",
      " 19  ponds_around3000      18181 non-null  float64\n",
      " 20  ponds_nearest         9110 non-null   float64\n",
      " 21  days_exposition       20518 non-null  float64\n",
      "dtypes: bool(2), float64(14), int64(3), object(3)\n",
      "memory usage: 3.7+ MB\n"
     ]
    }
   ],
   "source": [
    "data = pd.read_csv('/datasets/real_estate_data.csv', sep='\\t')\n",
    "data.info()"
   ]
  },
  {
   "cell_type": "markdown",
   "metadata": {},
   "source": [
    "#### Строим общую гистограмму для всех числовых значений в таблице."
   ]
  },
  {
   "cell_type": "code",
   "execution_count": 3,
   "metadata": {},
   "outputs": [
    {
     "data": {
      "image/png": "[encoded data removed]",
      "text/plain": [
       "<Figure size 1080x1440 with 20 Axes>"
      ]
     },
     "metadata": {
      "needs_background": "light"
     },
     "output_type": "display_data"
    }
   ],
   "source": [
    "data.hist(figsize=(15,20));"
   ]
  },
  {
   "cell_type": "markdown",
   "metadata": {},
   "source": [
    "<div class=\"alert alert-warning\">\n",
    "<h2> Комментарий ревьюера V1<a class=\"tocSkip\"> </h2>\n",
    "\n",
    "<b>Некоторые замечания и рекомендации💡:</b> После того, как ты рассмотрела данные, стоит составить их краткое описание. Также лучше смотреть на значения в датафрейме с помощью метода head(), ты его вызвала только в первый раз, когда был указан неправильный разделитель."
   ]
  },
  {
   "cell_type": "markdown",
   "metadata": {},
   "source": [
    "### Предобработка данных"
   ]
  },
  {
   "cell_type": "markdown",
   "metadata": {},
   "source": [
    "#### Определяем в каких столбцах есть пропуски."
   ]
  },
  {
   "cell_type": "code",
   "execution_count": 4,
   "metadata": {},
   "outputs": [
    {
     "data": {
      "text/plain": [
       "total_images                0\n",
       "last_price                  0\n",
       "total_area                  0\n",
       "first_day_exposition        0\n",
       "rooms                       0\n",
       "ceiling_height           9195\n",
       "floors_total               86\n",
       "living_area              1903\n",
       "floor                       0\n",
       "is_apartment            20924\n",
       "studio                      0\n",
       "open_plan                   0\n",
       "kitchen_area             2278\n",
       "balcony                 11519\n",
       "locality_name              49\n",
       "airports_nearest         5542\n",
       "cityCenters_nearest      5519\n",
       "parks_around3000         5518\n",
       "parks_nearest           15620\n",
       "ponds_around3000         5518\n",
       "ponds_nearest           14589\n",
       "days_exposition          3181\n",
       "dtype: int64"
      ]
     },
     "execution_count": 4,
     "metadata": {},
     "output_type": "execute_result"
    }
   ],
   "source": [
    "data.isna().sum()"
   ]
  },
  {
   "cell_type": "markdown",
   "metadata": {},
   "source": [
    "#### Определяем как заполнить пропущенные значения в каждом из столбцов."
   ]
  },
  {
   "cell_type": "markdown",
   "metadata": {},
   "source": [
    "- *ceiling_height* отвечает за высоту потолков, значения можно **заменить на медиану**, так как судя по гистограмме есть аномальный выброс, а все остальные знаения собраны в одном диапазоне, дополнительно нужно изучить выбросы"
   ]
  },
  {
   "cell_type": "code",
   "execution_count": 5,
   "metadata": {},
   "outputs": [],
   "source": [
    "data['ceiling_height'] = data['ceiling_height'].fillna(data['ceiling_height'].median())"
   ]
  },
  {
   "cell_type": "markdown",
   "metadata": {},
   "source": [
    "<div class=\"alert alert-success\">\n",
    "<h2> Комментарий ревьюера V1<a class=\"tocSkip\"> </h2>\n",
    "\n",
    "<b>Все отлично!👍:</b> Верное решение, молодец!"
   ]
  },
  {
   "cell_type": "markdown",
   "metadata": {},
   "source": [
    "- *floors_total* - всего этажей в доме, заменить медианным значением будет некорректно, так как пропущенных строк всего 86 -  **удаляем эти объявления**"
   ]
  },
  {
   "cell_type": "code",
   "execution_count": 6,
   "metadata": {},
   "outputs": [],
   "source": [
    "data = data.dropna(subset=['floors_total'])"
   ]
  },
  {
   "cell_type": "markdown",
   "metadata": {},
   "source": [
    "<div class=\"alert alert-block alert-danger\">\n",
    "<h2> Комментарий ревьюера V1<a class=\"tocSkip\"></h2>\n",
    "\n",
    "\n",
    "<b>На доработку🤔:</b>\n",
    "Прежде всего пропусков в поле количества этажей в здании всего 86, лучше удалить эти объявления, это никак не повлияет на дальнейший анализ.\n",
    "    \n",
    "Не стоит так заполнять пропуски, в объявлении может получиться так, что этаж квартиры в объявлении больше, чем количество этажей в здании. Не понятно как можно восстановить пропуски, чаще всего встречаются 5 и 9 этажные здании, стоит ли использовать медиану?"
   ]
  },
  {
   "cell_type": "markdown",
   "metadata": {},
   "source": [
    "<div style=\"background-color:black; color:#ffffff; text-align:center; padding:2%\">\n",
    "    \n",
    "**Дарья:** Исправила🙂"
   ]
  },
  {
   "cell_type": "markdown",
   "metadata": {},
   "source": [
    "<div class=\"alert alert-success\">\n",
    "<h2> Комментарий ревьюера V2<a class=\"tocSkip\"> </h2>\n",
    "\n",
    "<b>Все отлично!👍:</b> Все правильно доработала, молодец!"
   ]
  },
  {
   "cell_type": "markdown",
   "metadata": {},
   "source": [
    "- *living_area* - жилая площадь, очень важный параметр при продаже квартиры, данный параметр можно было бы вытащить, отняв из общей площади квартиру сумму нежилых помещений, но нет данных по площади балконов и лоджий, а также не во всех строках есть данные о площади кухни, чтобы не исказить данные - **оставляем пропуски в этом толбце**\n",
    "- *is_apartment* - апартаменты, так как это булев тип, скорее всего пропуски означают то, что продавец не указал эти данные потому что он продаёт не аппартаменты, **меняем пропущенные значения на 0**"
   ]
  },
  {
   "cell_type": "code",
   "execution_count": 7,
   "metadata": {},
   "outputs": [],
   "source": [
    "data['is_apartment'] = data['is_apartment'].fillna(0)"
   ]
  },
  {
   "cell_type": "markdown",
   "metadata": {},
   "source": [
    "<div class=\"alert alert-success\">\n",
    "<h2> Комментарий ревьюера V1<a class=\"tocSkip\"> </h2>\n",
    "\n",
    "<b>Все отлично!👍:</b> Верное решение."
   ]
  },
  {
   "cell_type": "markdown",
   "metadata": {},
   "source": [
    "- *kitchen_area* - площадь кухни также важный параметр при продаже квартиры, нельзя заменить не медианным знаением (так как в каждом каждом населённом пункте отличаются типы построек), а если отнимать жилую площадь от общей площади, то мы можем прибавить к площади кухни площадь лоджий и балконов, гардеробов и санузлов, что также отразится на результатах. **Оставляем пропуски**\n",
    "- *balcony* - число балконов, скорее всего их не указали, потому что их нет, **меняем все пропущенные значения на 0**"
   ]
  },
  {
   "cell_type": "markdown",
   "metadata": {},
   "source": [
    "<div class=\"alert alert-warning\">\n",
    "<h2> Комментарий ревьюера V1<a class=\"tocSkip\"> </h2>\n",
    "\n",
    "<b>Некоторые замечания и рекомендации💡:</b> Пропуски в жилой площади и площади кухни можно было восстановить. Жилая площадь сильно коррелирует с общей площадью, можно посчитать коэффициент отношения жилой площади к общей по объявлениям, где есть данные, взять среди коэффициентов медиану и с её помощью восстановить пропуски, умножив на общую площадь.\n",
    "    \n",
    "Аналогично и для площади кухни."
   ]
  },
  {
   "cell_type": "code",
   "execution_count": 8,
   "metadata": {},
   "outputs": [],
   "source": [
    "data['balcony'] = data['balcony'].fillna(0)"
   ]
  },
  {
   "cell_type": "markdown",
   "metadata": {},
   "source": [
    "<div class=\"alert alert-success\">\n",
    "<h2> Комментарий ревьюера V1<a class=\"tocSkip\"> </h2>\n",
    "\n",
    "<b>Все отлично!👍:</b> С балконами тоже правильно."
   ]
  },
  {
   "cell_type": "markdown",
   "metadata": {},
   "source": [
    "- *locality_name* - название населённого пункта, так как цены сильно зависят от территориального расположения - **меняем пропуски на \"unknown\"**, чтобы пропуски не повлияли на исследование внутри населённых пунктов"
   ]
  },
  {
   "cell_type": "code",
   "execution_count": 9,
   "metadata": {},
   "outputs": [],
   "source": [
    "data['locality_name'] = data['locality_name'].fillna('unknown')"
   ]
  },
  {
   "cell_type": "markdown",
   "metadata": {},
   "source": [
    "<div class=\"alert alert-warning\">\n",
    "<h2> Комментарий ревьюера V1<a class=\"tocSkip\"> </h2>\n",
    "\n",
    "<b>Некоторые замечания и рекомендации💡:</b> Объявлений без населенного пункта тоже крайне мало, их можно было удалить."
   ]
  },
  {
   "cell_type": "markdown",
   "metadata": {},
   "source": [
    "- *airports_nearest* - расстояние до ближайшего аэропорта, скорее всего данные не заполнены, так как в населённом пункте может отсутствовать аэропорт, **оставляем пропущенные значения**\n",
    "- *cityCenters_nearest* - расстояние до центра города, скорее всего отсутствует у небольших населёных пунктов, где центр города сложно определить или это каттеджные посёлки, в которых центра нет как-такового в принципе, **оставляем пропущенные значения**\n",
    "- *parks_around3000* - число парков в радиусе 3 км, скорее всего значения пропущены в связи с тем что поблизости парков нет, **меняем все пропущенные значения на 0**"
   ]
  },
  {
   "cell_type": "code",
   "execution_count": 10,
   "metadata": {},
   "outputs": [],
   "source": [
    "data['parks_around3000'] = data['parks_around3000'].fillna(0)"
   ]
  },
  {
   "cell_type": "markdown",
   "metadata": {},
   "source": [
    "- *ponds_nearest* - расстояние для ближайшего водоёма, скорее всего нет водоёмов на территории населённого пункта, **оставляем пропуски**\n",
    "- *ponds_around3000* - число водоёмов в радиусе 3 км, скорее всего значения пропущены в связи с тем что поблизости водоёмов нет, **меняем все пропущенные значения на 0**"
   ]
  },
  {
   "cell_type": "code",
   "execution_count": 11,
   "metadata": {},
   "outputs": [],
   "source": [
    "data['ponds_around3000'] = data['ponds_around3000'].fillna(0)"
   ]
  },
  {
   "cell_type": "markdown",
   "metadata": {},
   "source": [
    "- *days_exposition* - сколько дней было размещено объявление, судя по гистограмме у столбца распределение Пуассона, меньшее количество объявлений вист долго, **заменим пропуски медианным значением**"
   ]
  },
  {
   "cell_type": "code",
   "execution_count": 12,
   "metadata": {},
   "outputs": [],
   "source": [
    "data['days_exposition'] = data['days_exposition'].fillna(data['days_exposition'].median())"
   ]
  },
  {
   "cell_type": "markdown",
   "metadata": {},
   "source": [
    "**Возможные причины пропусков данных:**\n",
    "- данные могли быть повреждены при выгрузке;\n",
    "- человеческий фактор (при формиовании объявления о продаже, продавец мог не указать данные);\n",
    "- довольно много пропусков в данных с картографическими данными, это может быть связано с техническими проблемами со стороны сервиса или продавец не указал адрес и в связи с этим картографические данные не были загружены. Сейчас на платформе нельзя опубликовать объявление без точного адреса, но так как архив состоит из объявлений за несколько лет, возможно раньше это было возможным."
   ]
  },
  {
   "cell_type": "markdown",
   "metadata": {},
   "source": [
    "<div class=\"alert alert-success\">\n",
    "<h2> Комментарий ревьюера V1<a class=\"tocSkip\"> </h2>\n",
    "\n",
    "<b>Все отлично!👍:</b> Все остальные параметры обработала верно."
   ]
  },
  {
   "cell_type": "markdown",
   "metadata": {},
   "source": [
    "#### Рассмотрим типы данных в каждом столбце."
   ]
  },
  {
   "cell_type": "markdown",
   "metadata": {},
   "source": [
    "Для удобства ещё раз вызовем информацию о таблице"
   ]
  },
  {
   "cell_type": "code",
   "execution_count": 13,
   "metadata": {},
   "outputs": [
    {
     "name": "stdout",
     "output_type": "stream",
     "text": [
      "<class 'pandas.core.frame.DataFrame'>\n",
      "Int64Index: 23613 entries, 0 to 23698\n",
      "Data columns (total 22 columns):\n",
      " #   Column                Non-Null Count  Dtype  \n",
      "---  ------                --------------  -----  \n",
      " 0   total_images          23613 non-null  int64  \n",
      " 1   last_price            23613 non-null  float64\n",
      " 2   total_area            23613 non-null  float64\n",
      " 3   first_day_exposition  23613 non-null  object \n",
      " 4   rooms                 23613 non-null  int64  \n",
      " 5   ceiling_height        23613 non-null  float64\n",
      " 6   floors_total          23613 non-null  float64\n",
      " 7   living_area           21743 non-null  float64\n",
      " 8   floor                 23613 non-null  int64  \n",
      " 9   is_apartment          23613 non-null  object \n",
      " 10  studio                23613 non-null  bool   \n",
      " 11  open_plan             23613 non-null  bool   \n",
      " 12  kitchen_area          21382 non-null  float64\n",
      " 13  balcony               23613 non-null  float64\n",
      " 14  locality_name         23613 non-null  object \n",
      " 15  airports_nearest      18081 non-null  float64\n",
      " 16  cityCenters_nearest   18104 non-null  float64\n",
      " 17  parks_around3000      23613 non-null  float64\n",
      " 18  parks_nearest         8045 non-null   float64\n",
      " 19  ponds_around3000      23613 non-null  float64\n",
      " 20  ponds_nearest         9061 non-null   float64\n",
      " 21  days_exposition       23613 non-null  float64\n",
      "dtypes: bool(2), float64(14), int64(3), object(3)\n",
      "memory usage: 3.8+ MB\n"
     ]
    }
   ],
   "source": [
    "data.info()"
   ]
  },
  {
   "cell_type": "markdown",
   "metadata": {},
   "source": [
    "#### Меняем тип данных в соответствии с их содержанием."
   ]
  },
  {
   "cell_type": "markdown",
   "metadata": {},
   "source": [
    "- Меняем формат даты публикации на datetime, так как в столбце указаны дата и время публикации объявления."
   ]
  },
  {
   "cell_type": "code",
   "execution_count": 14,
   "metadata": {},
   "outputs": [],
   "source": [
    "data['first_day_exposition'] = pd.to_datetime(data['first_day_exposition'], format='%Y-%m-%dT%H:%M:%S')"
   ]
  },
  {
   "cell_type": "markdown",
   "metadata": {},
   "source": [
    "- Меняем апартаменты на булев тип."
   ]
  },
  {
   "cell_type": "code",
   "execution_count": 15,
   "metadata": {},
   "outputs": [],
   "source": [
    "data['is_apartment'] = data['is_apartment'].astype(bool)"
   ]
  },
  {
   "cell_type": "markdown",
   "metadata": {},
   "source": [
    "- Меняем количество балконов на целое число, так как не может быть не целого количества балконов."
   ]
  },
  {
   "cell_type": "code",
   "execution_count": 16,
   "metadata": {},
   "outputs": [],
   "source": [
    "data['balcony'] = data['balcony'].astype(int)"
   ]
  },
  {
   "cell_type": "markdown",
   "metadata": {},
   "source": [
    "- Меняем количество парков на целое число, так как не может быть не целого количества парков."
   ]
  },
  {
   "cell_type": "code",
   "execution_count": 17,
   "metadata": {},
   "outputs": [],
   "source": [
    "data['parks_around3000'] = data['parks_around3000'].astype(int)"
   ]
  },
  {
   "cell_type": "markdown",
   "metadata": {},
   "source": [
    "- Меняем количество водоёмов на целое число, так как не может быть не целого количества водоёмов."
   ]
  },
  {
   "cell_type": "code",
   "execution_count": 18,
   "metadata": {},
   "outputs": [],
   "source": [
    "data['ponds_around3000'] = data['ponds_around3000'].astype(int)"
   ]
  },
  {
   "cell_type": "markdown",
   "metadata": {},
   "source": [
    "Можно было бы поменять количество дней размещения и всего этажей в доме на целое число, так как не может быть не целого количества этажей или дней, но так как мы заменили пропуски на медианные значения - в данных встречаются не только целые числа."
   ]
  },
  {
   "cell_type": "code",
   "execution_count": 19,
   "metadata": {},
   "outputs": [
    {
     "name": "stdout",
     "output_type": "stream",
     "text": [
      "<class 'pandas.core.frame.DataFrame'>\n",
      "Int64Index: 23613 entries, 0 to 23698\n",
      "Data columns (total 22 columns):\n",
      " #   Column                Non-Null Count  Dtype         \n",
      "---  ------                --------------  -----         \n",
      " 0   total_images          23613 non-null  int64         \n",
      " 1   last_price            23613 non-null  float64       \n",
      " 2   total_area            23613 non-null  float64       \n",
      " 3   first_day_exposition  23613 non-null  datetime64[ns]\n",
      " 4   rooms                 23613 non-null  int64         \n",
      " 5   ceiling_height        23613 non-null  float64       \n",
      " 6   floors_total          23613 non-null  float64       \n",
      " 7   living_area           21743 non-null  float64       \n",
      " 8   floor                 23613 non-null  int64         \n",
      " 9   is_apartment          23613 non-null  bool          \n",
      " 10  studio                23613 non-null  bool          \n",
      " 11  open_plan             23613 non-null  bool          \n",
      " 12  kitchen_area          21382 non-null  float64       \n",
      " 13  balcony               23613 non-null  int64         \n",
      " 14  locality_name         23613 non-null  object        \n",
      " 15  airports_nearest      18081 non-null  float64       \n",
      " 16  cityCenters_nearest   18104 non-null  float64       \n",
      " 17  parks_around3000      23613 non-null  int64         \n",
      " 18  parks_nearest         8045 non-null   float64       \n",
      " 19  ponds_around3000      23613 non-null  int64         \n",
      " 20  ponds_nearest         9061 non-null   float64       \n",
      " 21  days_exposition       23613 non-null  float64       \n",
      "dtypes: bool(3), datetime64[ns](1), float64(11), int64(6), object(1)\n",
      "memory usage: 3.7+ MB\n"
     ]
    }
   ],
   "source": [
    "data.info()"
   ]
  },
  {
   "cell_type": "markdown",
   "metadata": {},
   "source": [
    "<div class=\"alert alert-success\">\n",
    "<h2> Комментарий ревьюера V1<a class=\"tocSkip\"> </h2>\n",
    "\n",
    "<b>Все отлично!👍:</b> Типы данных подобраны подходящие."
   ]
  },
  {
   "cell_type": "markdown",
   "metadata": {},
   "source": [
    "#### Устраняем неявные дубликаты."
   ]
  },
  {
   "cell_type": "markdown",
   "metadata": {},
   "source": [
    "Неявные дубликаты могут быть в столбце *locality_name* так как это есдинчтвенный столбец со строковыми значениями,\n",
    "чтобы посмотреть какие населённые пункты в нём сохранены - нужно вывести все уникальные значения в данном столбце."
   ]
  },
  {
   "cell_type": "code",
   "execution_count": 20,
   "metadata": {
    "scrolled": true
   },
   "outputs": [
    {
     "data": {
      "text/plain": [
       "array(['Санкт-Петербург', 'посёлок Шушары', 'городской посёлок Янино-1',\n",
       "       'посёлок Парголово', 'посёлок Мурино', 'Ломоносов', 'Сертолово',\n",
       "       'Петергоф', 'Пушкин', 'деревня Кудрово', 'Коммунар', 'Колпино',\n",
       "       'поселок городского типа Красный Бор', 'Гатчина', 'поселок Мурино',\n",
       "       'деревня Фёдоровское', 'Выборг', 'Кронштадт', 'Кировск',\n",
       "       'деревня Новое Девяткино', 'посёлок Металлострой',\n",
       "       'посёлок городского типа Лебяжье',\n",
       "       'посёлок городского типа Сиверский', 'поселок Молодцово',\n",
       "       'поселок городского типа Кузьмоловский',\n",
       "       'садовое товарищество Новая Ропша', 'Павловск',\n",
       "       'деревня Пикколово', 'Всеволожск', 'Волхов', 'Кингисепп',\n",
       "       'Приозерск', 'Сестрорецк', 'деревня Куттузи', 'посёлок Аннино',\n",
       "       'поселок городского типа Ефимовский', 'посёлок Плодовое',\n",
       "       'деревня Заклинье', 'поселок Торковичи', 'поселок Первомайское',\n",
       "       'Красное Село', 'посёлок Понтонный', 'Сясьстрой', 'деревня Старая',\n",
       "       'деревня Лесколово', 'посёлок Новый Свет', 'Сланцы',\n",
       "       'село Путилово', 'Ивангород', 'Мурино', 'Шлиссельбург',\n",
       "       'Никольское', 'Зеленогорск', 'Сосновый Бор', 'поселок Новый Свет',\n",
       "       'деревня Оржицы', 'деревня Кальтино', 'Кудрово',\n",
       "       'поселок Романовка', 'посёлок Бугры', 'поселок Бугры',\n",
       "       'поселок городского типа Рощино', 'Кириши', 'Луга', 'Волосово',\n",
       "       'Отрадное', 'село Павлово', 'поселок Оредеж', 'село Копорье',\n",
       "       'посёлок городского типа Красный Бор', 'посёлок Молодёжное',\n",
       "       'Тихвин', 'посёлок Победа', 'деревня Нурма',\n",
       "       'поселок городского типа Синявино', 'Тосно',\n",
       "       'посёлок городского типа Кузьмоловский', 'посёлок Стрельна',\n",
       "       'Бокситогорск', 'посёлок Александровская', 'деревня Лопухинка',\n",
       "       'Пикалёво', 'поселок Терволово',\n",
       "       'поселок городского типа Советский', 'Подпорожье',\n",
       "       'посёлок Петровское', 'посёлок городского типа Токсово',\n",
       "       'поселок Сельцо', 'посёлок городского типа Вырица',\n",
       "       'деревня Кипень', 'деревня Келози', 'деревня Вартемяги',\n",
       "       'посёлок Тельмана', 'поселок Севастьяново',\n",
       "       'городской поселок Большая Ижора', 'unknown',\n",
       "       'городской посёлок Павлово', 'деревня Агалатово',\n",
       "       'посёлок Новогорелово', 'городской посёлок Лесогорский',\n",
       "       'деревня Лаголово', 'поселок Цвелодубово',\n",
       "       'поселок городского типа Рахья', 'поселок городского типа Вырица',\n",
       "       'деревня Белогорка', 'поселок Заводской',\n",
       "       'городской посёлок Новоселье', 'деревня Большие Колпаны',\n",
       "       'деревня Горбунки', 'деревня Батово', 'деревня Заневка',\n",
       "       'деревня Иссад', 'Приморск', 'городской посёлок Фёдоровское',\n",
       "       'деревня Мистолово', 'Новая Ладога', 'поселок Зимитицы',\n",
       "       'поселок Барышево', 'деревня Разметелево',\n",
       "       'поселок городского типа имени Свердлова', 'деревня Пеники',\n",
       "       'поселок Рябово', 'деревня Пудомяги', 'поселок станции Корнево',\n",
       "       'деревня Низино', 'деревня Бегуницы', 'посёлок Поляны',\n",
       "       'городской посёлок Мга', 'поселок Елизаветино',\n",
       "       'посёлок городского типа Кузнечное', 'деревня Колтуши',\n",
       "       'поселок Запорожское', 'посёлок городского типа Рощино',\n",
       "       'деревня Гостилицы', 'деревня Малое Карлино',\n",
       "       'посёлок Мичуринское', 'посёлок городского типа имени Морозова',\n",
       "       'посёлок Песочный', 'посёлок Сосново', 'деревня Аро',\n",
       "       'поселок Ильичёво', 'посёлок городского типа Тайцы',\n",
       "       'деревня Малое Верево', 'деревня Извара', 'поселок станции Вещево',\n",
       "       'село Паша', 'деревня Калитино',\n",
       "       'посёлок городского типа Ульяновка', 'деревня Чудской Бор',\n",
       "       'поселок городского типа Дубровка', 'деревня Мины',\n",
       "       'поселок Войсковицы', 'посёлок городского типа имени Свердлова',\n",
       "       'деревня Коркино', 'посёлок Ропша',\n",
       "       'поселок городского типа Приладожский', 'посёлок Щеглово',\n",
       "       'посёлок Гаврилово', 'Лодейное Поле', 'деревня Рабитицы',\n",
       "       'поселок городского типа Никольский', 'деревня Кузьмолово',\n",
       "       'деревня Малые Колпаны', 'поселок Тельмана',\n",
       "       'посёлок Петро-Славянка', 'городской посёлок Назия',\n",
       "       'посёлок Репино', 'посёлок Ильичёво', 'поселок Углово',\n",
       "       'поселок Старая Малукса', 'садовое товарищество Рахья',\n",
       "       'поселок Аннино', 'поселок Победа', 'деревня Меньково',\n",
       "       'деревня Старые Бегуницы', 'посёлок Сапёрный', 'поселок Семрино',\n",
       "       'поселок Гаврилово', 'поселок Глажево', 'поселок Кобринское',\n",
       "       'деревня Гарболово', 'деревня Юкки',\n",
       "       'поселок станции Приветнинское', 'деревня Мануйлово',\n",
       "       'деревня Пчева', 'поселок Поляны', 'поселок Цвылёво',\n",
       "       'поселок Мельниково', 'посёлок Пудость', 'посёлок Усть-Луга',\n",
       "       'Светогорск', 'Любань', 'поселок Селезнёво',\n",
       "       'поселок городского типа Рябово', 'Каменногорск', 'деревня Кривко',\n",
       "       'поселок Глебычево', 'деревня Парицы', 'поселок Жилпосёлок',\n",
       "       'посёлок городского типа Мга', 'городской поселок Янино-1',\n",
       "       'посёлок Войскорово', 'село Никольское', 'посёлок Терволово',\n",
       "       'поселок Стеклянный', 'посёлок городского типа Важины',\n",
       "       'посёлок Мыза-Ивановка', 'село Русско-Высоцкое',\n",
       "       'поселок городского типа Лебяжье',\n",
       "       'поселок городского типа Форносово', 'село Старая Ладога',\n",
       "       'поселок Житково', 'городской посёлок Виллози', 'деревня Лампово',\n",
       "       'деревня Шпаньково', 'деревня Лаврики', 'посёлок Сумино',\n",
       "       'посёлок Возрождение', 'деревня Старосиверская',\n",
       "       'посёлок Кикерино', 'поселок Возрождение',\n",
       "       'деревня Старое Хинколово', 'посёлок Пригородный',\n",
       "       'посёлок Торфяное', 'городской посёлок Будогощь',\n",
       "       'поселок Суходолье', 'поселок Красная Долина', 'деревня Хапо-Ое',\n",
       "       'поселок городского типа Дружная Горка', 'поселок Лисий Нос',\n",
       "       'деревня Яльгелево', 'посёлок Стеклянный', 'село Рождествено',\n",
       "       'деревня Старополье', 'посёлок Левашово', 'деревня Сяськелево',\n",
       "       'деревня Камышовка',\n",
       "       'садоводческое некоммерческое товарищество Лесная Поляна',\n",
       "       'деревня Хязельки', 'поселок Жилгородок',\n",
       "       'посёлок городского типа Павлово', 'деревня Ялгино',\n",
       "       'поселок Новый Учхоз', 'городской посёлок Рощино',\n",
       "       'поселок Гончарово', 'поселок Почап', 'посёлок Сапёрное',\n",
       "       'посёлок Платформа 69-й километр', 'поселок Каложицы',\n",
       "       'деревня Фалилеево', 'деревня Пельгора',\n",
       "       'поселок городского типа Лесогорский', 'деревня Торошковичи',\n",
       "       'посёлок Белоостров', 'посёлок Алексеевка', 'поселок Серебрянский',\n",
       "       'поселок Лукаши', 'поселок Петровское', 'деревня Щеглово',\n",
       "       'поселок Мичуринское', 'деревня Тарасово', 'поселок Кингисеппский',\n",
       "       'посёлок при железнодорожной станции Вещево', 'поселок Ушаки',\n",
       "       'деревня Котлы', 'деревня Сижно', 'деревня Торосово',\n",
       "       'посёлок Форт Красная Горка', 'деревня Новолисино',\n",
       "       'посёлок станции Громово', 'деревня Глинка', 'посёлок Мельниково',\n",
       "       'поселок городского типа Назия', 'деревня Старая Пустошь',\n",
       "       'поселок Коммунары', 'поселок Починок',\n",
       "       'посёлок городского типа Вознесенье', 'деревня Разбегаево',\n",
       "       'посёлок городского типа Рябово', 'поселок Гладкое',\n",
       "       'посёлок при железнодорожной станции Приветнинское',\n",
       "       'поселок Тёсово-4', 'посёлок Жилгородок', 'деревня Бор',\n",
       "       'посёлок Коробицыно', 'деревня Большая Вруда', 'деревня Курковицы',\n",
       "       'посёлок Лисий Нос', 'городской посёлок Советский',\n",
       "       'посёлок Кобралово', 'деревня Суоранда', 'поселок Кобралово',\n",
       "       'поселок городского типа Кондратьево',\n",
       "       'коттеджный поселок Счастье', 'поселок Любань', 'деревня Реброво',\n",
       "       'деревня Зимитицы', 'деревня Тойворово', 'поселок Семиозерье',\n",
       "       'поселок Лесное', 'поселок Совхозный', 'поселок Усть-Луга',\n",
       "       'посёлок Ленинское', 'посёлок Суйда',\n",
       "       'посёлок городского типа Форносово', 'деревня Нижние Осельки',\n",
       "       'посёлок станции Свирь', 'поселок Перово', 'Высоцк',\n",
       "       'поселок Гарболово', 'село Шум', 'поселок Котельский',\n",
       "       'поселок станции Лужайка', 'деревня Большая Пустомержа',\n",
       "       'поселок Красносельское', 'деревня Вахнова Кара', 'деревня Пижма',\n",
       "       'коттеджный поселок Кивеннапа Север', 'поселок Коробицыно',\n",
       "       'поселок Ромашки', 'посёлок Перово', 'деревня Каськово',\n",
       "       'деревня Куровицы', 'посёлок Плоское', 'поселок Сумино',\n",
       "       'поселок городского типа Большая Ижора', 'поселок Кирпичное',\n",
       "       'деревня Ям-Тесово', 'деревня Раздолье', 'деревня Терпилицы',\n",
       "       'поселок городского типа Токсово', 'посёлок Шугозеро',\n",
       "       'деревня Ваганово', 'поселок Пушное', 'садовое товарищество Садко',\n",
       "       'посёлок Усть-Ижора', 'деревня Выскатка',\n",
       "       'городской посёлок Свирьстрой', 'поселок Громово',\n",
       "       'деревня Кисельня', 'посёлок Старая Малукса',\n",
       "       'деревня Трубников Бор', 'поселок Калитино',\n",
       "       'посёлок Высокоключевой', 'садовое товарищество Приладожский',\n",
       "       'посёлок Пансионат Зелёный Бор', 'деревня Ненимяки',\n",
       "       'поселок Пансионат Зелёный Бор', 'деревня Снегирёвка',\n",
       "       'деревня Рапполово', 'деревня Пустынка', 'поселок Рабитицы',\n",
       "       'деревня Большой Сабск', 'деревня Русско', 'деревня Лупполово',\n",
       "       'деревня Большое Рейзино', 'деревня Малая Романовка',\n",
       "       'поселок Дружноселье', 'поселок Пчевжа', 'поселок Володарское',\n",
       "       'деревня Нижняя', 'коттеджный посёлок Лесное', 'деревня Тихковицы',\n",
       "       'деревня Борисова Грива', 'посёлок Дзержинского'], dtype=object)"
      ]
     },
     "execution_count": 20,
     "metadata": {},
     "output_type": "execute_result"
    }
   ],
   "source": [
    "data['locality_name'].unique()"
   ]
  },
  {
   "cell_type": "code",
   "execution_count": 21,
   "metadata": {},
   "outputs": [
    {
     "data": {
      "text/plain": [
       "365"
      ]
     },
     "execution_count": 21,
     "metadata": {},
     "output_type": "execute_result"
    }
   ],
   "source": [
    "data['locality_name'].nunique() #проверяем количесво уникальных значений до обработки"
   ]
  },
  {
   "cell_type": "markdown",
   "metadata": {},
   "source": [
    "Меняем все буквы \"ё\" на буквы \"е\""
   ]
  },
  {
   "cell_type": "code",
   "execution_count": 22,
   "metadata": {},
   "outputs": [],
   "source": [
    "data['locality_name'] = data['locality_name'].str.replace('ё', 'е')"
   ]
  },
  {
   "cell_type": "markdown",
   "metadata": {},
   "source": [
    "В датафрейме присутствует очень много написаний типа населённых пунктов \"поселок\", уберём все дополнительные слова"
   ]
  },
  {
   "cell_type": "code",
   "execution_count": 23,
   "metadata": {},
   "outputs": [],
   "source": [
    "data['locality_name'] = data['locality_name'].str.replace('городской поселок ', 'поселок ')\n",
    "data['locality_name'] = data['locality_name'].str.replace('поселок городского типа ', 'поселок ')\n",
    "data['locality_name'] = data['locality_name'].str.replace('коттеджный поселок ', 'поселок ')\n",
    "data['locality_name'] = data['locality_name'].str.replace('поселок станции ', 'поселок ')"
   ]
  },
  {
   "cell_type": "code",
   "execution_count": 24,
   "metadata": {},
   "outputs": [
    {
     "data": {
      "text/plain": [
       "321"
      ]
     },
     "execution_count": 24,
     "metadata": {},
     "output_type": "execute_result"
    }
   ],
   "source": [
    "data['locality_name'].nunique()"
   ]
  },
  {
   "cell_type": "markdown",
   "metadata": {},
   "source": [
    "Посмотрим, сколько будет уникальных значений, если убрать все типы"
   ]
  },
  {
   "cell_type": "code",
   "execution_count": 25,
   "metadata": {},
   "outputs": [],
   "source": [
    "def categorize_locality_name(row):\n",
    "    try:\n",
    "        if 'поселок' in row:\n",
    "            return 'поселок'\n",
    "        elif 'деревня' in row:\n",
    "            return 'деревня'\n",
    "        elif 'садовое товарищество' in row:\n",
    "            return 'садовое товарищество'\n",
    "        elif 'село' in row:\n",
    "            return 'село'\n",
    "    except:\n",
    "        return 'нет категории'"
   ]
  },
  {
   "cell_type": "code",
   "execution_count": 26,
   "metadata": {},
   "outputs": [],
   "source": [
    "data['locality_name_category'] = data['locality_name'].apply(categorize_locality_name)"
   ]
  },
  {
   "cell_type": "code",
   "execution_count": 27,
   "metadata": {},
   "outputs": [
    {
     "data": {
      "text/plain": [
       "308"
      ]
     },
     "execution_count": 27,
     "metadata": {},
     "output_type": "execute_result"
    }
   ],
   "source": [
    "data['locality_name'] = data['locality_name'].str.replace('поселок ', '')\n",
    "data['locality_name'] = data['locality_name'].str.replace('деревня ', '')\n",
    "data['locality_name'] = data['locality_name'].str.replace('садовое товарищество ', '')\n",
    "data['locality_name'] = data['locality_name'].str.replace('село ', '')\n",
    "\n",
    "data['locality_name'].nunique()"
   ]
  },
  {
   "cell_type": "markdown",
   "metadata": {},
   "source": [
    "Так как теоритически могут быть населённые пункты разного типа с одинаковым названием (в Санкт-Петербурге и Ленинградской области такое действительно встречается), мы не можем удалить все типы.\n",
    "При этом, прошлый код показал, что уникальных имён без типов стало на 13 меньше, что существенно, поэтому мы добавим отдельный столбец с категориями перед кодом с *replace()*, чтобы не потерять эти данные."
   ]
  },
  {
   "cell_type": "markdown",
   "metadata": {},
   "source": [
    "<div class=\"alert alert-success\">\n",
    "<h2> Комментарий ревьюера V1<a class=\"tocSkip\"> </h2>\n",
    "\n",
    "<b>Все отлично!👍:</b> Неявные дубликаты правильно обработала, так держать! На самом деле можно убрать типы и оставить только названия, так как мы работаем с одной областью и вероятность, что в ней есть населенные пункты с одинаковыми названиями крайне мала."
   ]
  },
  {
   "cell_type": "markdown",
   "metadata": {},
   "source": [
    "#### Устраняем редкие и выбивающиеся значения."
   ]
  },
  {
   "cell_type": "markdown",
   "metadata": {},
   "source": [
    "Посмотрим редкие и выбивающиеся значения в столбцах с числовыми данными с помощью *discribe()* и диаграммы размаха."
   ]
  },
  {
   "cell_type": "code",
   "execution_count": 28,
   "metadata": {
    "scrolled": true
   },
   "outputs": [
    {
     "data": {
      "text/html": [
       "<div>\n",
       "<style scoped>\n",
       "    .dataframe tbody tr th:only-of-type {\n",
       "        vertical-align: middle;\n",
       "    }\n",
       "\n",
       "    .dataframe tbody tr th {\n",
       "        vertical-align: top;\n",
       "    }\n",
       "\n",
       "    .dataframe thead th {\n",
       "        text-align: right;\n",
       "    }\n",
       "</style>\n",
       "<table border=\"1\" class=\"dataframe\">\n",
       "  <thead>\n",
       "    <tr style=\"text-align: right;\">\n",
       "      <th></th>\n",
       "      <th>total_images</th>\n",
       "      <th>last_price</th>\n",
       "      <th>total_area</th>\n",
       "      <th>rooms</th>\n",
       "      <th>ceiling_height</th>\n",
       "      <th>floors_total</th>\n",
       "      <th>living_area</th>\n",
       "      <th>floor</th>\n",
       "      <th>kitchen_area</th>\n",
       "      <th>balcony</th>\n",
       "      <th>airports_nearest</th>\n",
       "      <th>cityCenters_nearest</th>\n",
       "      <th>parks_around3000</th>\n",
       "      <th>parks_nearest</th>\n",
       "      <th>ponds_around3000</th>\n",
       "      <th>ponds_nearest</th>\n",
       "      <th>days_exposition</th>\n",
       "    </tr>\n",
       "  </thead>\n",
       "  <tbody>\n",
       "    <tr>\n",
       "      <th>count</th>\n",
       "      <td>23613.000000</td>\n",
       "      <td>2.361300e+04</td>\n",
       "      <td>23613.000000</td>\n",
       "      <td>23613.000000</td>\n",
       "      <td>23613.000000</td>\n",
       "      <td>23613.000000</td>\n",
       "      <td>21743.000000</td>\n",
       "      <td>23613.000000</td>\n",
       "      <td>21382.000000</td>\n",
       "      <td>23613.000000</td>\n",
       "      <td>18081.000000</td>\n",
       "      <td>18104.000000</td>\n",
       "      <td>23613.000000</td>\n",
       "      <td>8045.000000</td>\n",
       "      <td>23613.000000</td>\n",
       "      <td>9061.000000</td>\n",
       "      <td>23613.000000</td>\n",
       "    </tr>\n",
       "    <tr>\n",
       "      <th>mean</th>\n",
       "      <td>9.874518</td>\n",
       "      <td>6.540555e+06</td>\n",
       "      <td>60.340678</td>\n",
       "      <td>2.071147</td>\n",
       "      <td>2.724581</td>\n",
       "      <td>10.673824</td>\n",
       "      <td>34.462781</td>\n",
       "      <td>5.877313</td>\n",
       "      <td>10.564128</td>\n",
       "      <td>0.593063</td>\n",
       "      <td>28788.008185</td>\n",
       "      <td>14185.084015</td>\n",
       "      <td>0.468810</td>\n",
       "      <td>490.554630</td>\n",
       "      <td>0.590480</td>\n",
       "      <td>518.209469</td>\n",
       "      <td>169.347690</td>\n",
       "    </tr>\n",
       "    <tr>\n",
       "      <th>std</th>\n",
       "      <td>5.681541</td>\n",
       "      <td>1.090172e+07</td>\n",
       "      <td>35.648988</td>\n",
       "      <td>1.078380</td>\n",
       "      <td>0.990085</td>\n",
       "      <td>6.597173</td>\n",
       "      <td>22.037433</td>\n",
       "      <td>4.873539</td>\n",
       "      <td>5.904316</td>\n",
       "      <td>0.960307</td>\n",
       "      <td>12626.209956</td>\n",
       "      <td>8614.132292</td>\n",
       "      <td>0.748489</td>\n",
       "      <td>341.336698</td>\n",
       "      <td>0.884436</td>\n",
       "      <td>277.887489</td>\n",
       "      <td>206.485173</td>\n",
       "    </tr>\n",
       "    <tr>\n",
       "      <th>min</th>\n",
       "      <td>0.000000</td>\n",
       "      <td>1.219000e+04</td>\n",
       "      <td>12.000000</td>\n",
       "      <td>0.000000</td>\n",
       "      <td>1.000000</td>\n",
       "      <td>1.000000</td>\n",
       "      <td>2.000000</td>\n",
       "      <td>1.000000</td>\n",
       "      <td>1.300000</td>\n",
       "      <td>0.000000</td>\n",
       "      <td>0.000000</td>\n",
       "      <td>181.000000</td>\n",
       "      <td>0.000000</td>\n",
       "      <td>1.000000</td>\n",
       "      <td>0.000000</td>\n",
       "      <td>13.000000</td>\n",
       "      <td>1.000000</td>\n",
       "    </tr>\n",
       "    <tr>\n",
       "      <th>25%</th>\n",
       "      <td>6.000000</td>\n",
       "      <td>3.400000e+06</td>\n",
       "      <td>40.000000</td>\n",
       "      <td>1.000000</td>\n",
       "      <td>2.600000</td>\n",
       "      <td>5.000000</td>\n",
       "      <td>18.600000</td>\n",
       "      <td>2.000000</td>\n",
       "      <td>7.000000</td>\n",
       "      <td>0.000000</td>\n",
       "      <td>18575.000000</td>\n",
       "      <td>9233.750000</td>\n",
       "      <td>0.000000</td>\n",
       "      <td>288.000000</td>\n",
       "      <td>0.000000</td>\n",
       "      <td>294.000000</td>\n",
       "      <td>45.000000</td>\n",
       "    </tr>\n",
       "    <tr>\n",
       "      <th>50%</th>\n",
       "      <td>9.000000</td>\n",
       "      <td>4.650000e+06</td>\n",
       "      <td>52.000000</td>\n",
       "      <td>2.000000</td>\n",
       "      <td>2.650000</td>\n",
       "      <td>9.000000</td>\n",
       "      <td>30.000000</td>\n",
       "      <td>4.000000</td>\n",
       "      <td>9.100000</td>\n",
       "      <td>0.000000</td>\n",
       "      <td>26726.000000</td>\n",
       "      <td>13093.000000</td>\n",
       "      <td>0.000000</td>\n",
       "      <td>455.000000</td>\n",
       "      <td>0.000000</td>\n",
       "      <td>503.000000</td>\n",
       "      <td>95.000000</td>\n",
       "    </tr>\n",
       "    <tr>\n",
       "      <th>75%</th>\n",
       "      <td>14.000000</td>\n",
       "      <td>6.799000e+06</td>\n",
       "      <td>69.800000</td>\n",
       "      <td>3.000000</td>\n",
       "      <td>2.700000</td>\n",
       "      <td>16.000000</td>\n",
       "      <td>42.300000</td>\n",
       "      <td>8.000000</td>\n",
       "      <td>12.000000</td>\n",
       "      <td>1.000000</td>\n",
       "      <td>37242.000000</td>\n",
       "      <td>16287.000000</td>\n",
       "      <td>1.000000</td>\n",
       "      <td>612.000000</td>\n",
       "      <td>1.000000</td>\n",
       "      <td>730.000000</td>\n",
       "      <td>199.000000</td>\n",
       "    </tr>\n",
       "    <tr>\n",
       "      <th>max</th>\n",
       "      <td>50.000000</td>\n",
       "      <td>7.630000e+08</td>\n",
       "      <td>900.000000</td>\n",
       "      <td>19.000000</td>\n",
       "      <td>100.000000</td>\n",
       "      <td>60.000000</td>\n",
       "      <td>409.700000</td>\n",
       "      <td>33.000000</td>\n",
       "      <td>112.000000</td>\n",
       "      <td>5.000000</td>\n",
       "      <td>84869.000000</td>\n",
       "      <td>65968.000000</td>\n",
       "      <td>3.000000</td>\n",
       "      <td>3190.000000</td>\n",
       "      <td>3.000000</td>\n",
       "      <td>1344.000000</td>\n",
       "      <td>1580.000000</td>\n",
       "    </tr>\n",
       "  </tbody>\n",
       "</table>\n",
       "</div>"
      ],
      "text/plain": [
       "       total_images    last_price    total_area         rooms  ceiling_height  \\\n",
       "count  23613.000000  2.361300e+04  23613.000000  23613.000000    23613.000000   \n",
       "mean       9.874518  6.540555e+06     60.340678      2.071147        2.724581   \n",
       "std        5.681541  1.090172e+07     35.648988      1.078380        0.990085   \n",
       "min        0.000000  1.219000e+04     12.000000      0.000000        1.000000   \n",
       "25%        6.000000  3.400000e+06     40.000000      1.000000        2.600000   \n",
       "50%        9.000000  4.650000e+06     52.000000      2.000000        2.650000   \n",
       "75%       14.000000  6.799000e+06     69.800000      3.000000        2.700000   \n",
       "max       50.000000  7.630000e+08    900.000000     19.000000      100.000000   \n",
       "\n",
       "       floors_total   living_area         floor  kitchen_area       balcony  \\\n",
       "count  23613.000000  21743.000000  23613.000000  21382.000000  23613.000000   \n",
       "mean      10.673824     34.462781      5.877313     10.564128      0.593063   \n",
       "std        6.597173     22.037433      4.873539      5.904316      0.960307   \n",
       "min        1.000000      2.000000      1.000000      1.300000      0.000000   \n",
       "25%        5.000000     18.600000      2.000000      7.000000      0.000000   \n",
       "50%        9.000000     30.000000      4.000000      9.100000      0.000000   \n",
       "75%       16.000000     42.300000      8.000000     12.000000      1.000000   \n",
       "max       60.000000    409.700000     33.000000    112.000000      5.000000   \n",
       "\n",
       "       airports_nearest  cityCenters_nearest  parks_around3000  parks_nearest  \\\n",
       "count      18081.000000         18104.000000      23613.000000    8045.000000   \n",
       "mean       28788.008185         14185.084015          0.468810     490.554630   \n",
       "std        12626.209956          8614.132292          0.748489     341.336698   \n",
       "min            0.000000           181.000000          0.000000       1.000000   \n",
       "25%        18575.000000          9233.750000          0.000000     288.000000   \n",
       "50%        26726.000000         13093.000000          0.000000     455.000000   \n",
       "75%        37242.000000         16287.000000          1.000000     612.000000   \n",
       "max        84869.000000         65968.000000          3.000000    3190.000000   \n",
       "\n",
       "       ponds_around3000  ponds_nearest  days_exposition  \n",
       "count      23613.000000    9061.000000     23613.000000  \n",
       "mean           0.590480     518.209469       169.347690  \n",
       "std            0.884436     277.887489       206.485173  \n",
       "min            0.000000      13.000000         1.000000  \n",
       "25%            0.000000     294.000000        45.000000  \n",
       "50%            0.000000     503.000000        95.000000  \n",
       "75%            1.000000     730.000000       199.000000  \n",
       "max            3.000000    1344.000000      1580.000000  "
      ]
     },
     "execution_count": 28,
     "metadata": {},
     "output_type": "execute_result"
    }
   ],
   "source": [
    "data.describe() #распределение значений по числовым данным"
   ]
  },
  {
   "cell_type": "markdown",
   "metadata": {},
   "source": [
    "**Число фотографий квартиры в объявлении**"
   ]
  },
  {
   "cell_type": "markdown",
   "metadata": {},
   "source": [
    "Начнём по порядку, сначала посмотрим диаграмму размаха по количеству фотографий в каждом объявлении."
   ]
  },
  {
   "cell_type": "code",
   "execution_count": 29,
   "metadata": {},
   "outputs": [
    {
     "data": {
      "text/plain": [
       "<function matplotlib.pyplot.show(close=None, block=None)>"
      ]
     },
     "execution_count": 29,
     "metadata": {},
     "output_type": "execute_result"
    },
    {
     "data": {
      "image/png": "[encoded data removed]",
      "text/plain": [
       "<Figure size 432x288 with 1 Axes>"
      ]
     },
     "metadata": {
      "needs_background": "light"
     },
     "output_type": "display_data"
    }
   ],
   "source": [
    "data.boxplot('total_images')\n",
    "plt.show"
   ]
  },
  {
   "cell_type": "code",
   "execution_count": 30,
   "metadata": {},
   "outputs": [
    {
     "data": {
      "text/plain": [
       "30"
      ]
     },
     "execution_count": 30,
     "metadata": {},
     "output_type": "execute_result"
    }
   ],
   "source": [
    "len(data.query('total_images > 25')) #посчитаем, сколько строк с большим количеством изображений (больше 25)"
   ]
  },
  {
   "cell_type": "code",
   "execution_count": 31,
   "metadata": {},
   "outputs": [],
   "source": [
    "data = data[data.total_images < 25] #удаляем выбросы"
   ]
  },
  {
   "cell_type": "markdown",
   "metadata": {},
   "source": [
    "**Цена на момент снятия с публикации**"
   ]
  },
  {
   "cell_type": "markdown",
   "metadata": {},
   "source": [
    "Далее займёмся ценой на момент снятия с публикации. Судя по распределению данных цена на при продаже не может быть меньше 1000000, сначала разделим этот столбец."
   ]
  },
  {
   "cell_type": "code",
   "execution_count": 32,
   "metadata": {},
   "outputs": [
    {
     "data": {
      "text/html": [
       "<div>\n",
       "<style scoped>\n",
       "    .dataframe tbody tr th:only-of-type {\n",
       "        vertical-align: middle;\n",
       "    }\n",
       "\n",
       "    .dataframe tbody tr th {\n",
       "        vertical-align: top;\n",
       "    }\n",
       "\n",
       "    .dataframe thead th {\n",
       "        text-align: right;\n",
       "    }\n",
       "</style>\n",
       "<table border=\"1\" class=\"dataframe\">\n",
       "  <thead>\n",
       "    <tr style=\"text-align: right;\">\n",
       "      <th></th>\n",
       "      <th>total_images</th>\n",
       "      <th>last_price</th>\n",
       "      <th>total_area</th>\n",
       "      <th>rooms</th>\n",
       "      <th>ceiling_height</th>\n",
       "      <th>floors_total</th>\n",
       "      <th>living_area</th>\n",
       "      <th>floor</th>\n",
       "      <th>kitchen_area</th>\n",
       "      <th>balcony</th>\n",
       "      <th>airports_nearest</th>\n",
       "      <th>cityCenters_nearest</th>\n",
       "      <th>parks_around3000</th>\n",
       "      <th>parks_nearest</th>\n",
       "      <th>ponds_around3000</th>\n",
       "      <th>ponds_nearest</th>\n",
       "      <th>days_exposition</th>\n",
       "    </tr>\n",
       "  </thead>\n",
       "  <tbody>\n",
       "    <tr>\n",
       "      <th>count</th>\n",
       "      <td>23582.000000</td>\n",
       "      <td>23582.000000</td>\n",
       "      <td>23582.000000</td>\n",
       "      <td>23582.000000</td>\n",
       "      <td>23582.000000</td>\n",
       "      <td>23582.000000</td>\n",
       "      <td>21712.000000</td>\n",
       "      <td>23582.000000</td>\n",
       "      <td>21351.000000</td>\n",
       "      <td>23582.000000</td>\n",
       "      <td>18055.000000</td>\n",
       "      <td>18078.000000</td>\n",
       "      <td>23582.000000</td>\n",
       "      <td>8034.000000</td>\n",
       "      <td>23582.000000</td>\n",
       "      <td>9048.000000</td>\n",
       "      <td>23582.000000</td>\n",
       "    </tr>\n",
       "    <tr>\n",
       "      <th>mean</th>\n",
       "      <td>9.845263</td>\n",
       "      <td>6533.328348</td>\n",
       "      <td>60.289770</td>\n",
       "      <td>2.069884</td>\n",
       "      <td>2.724566</td>\n",
       "      <td>10.669791</td>\n",
       "      <td>34.429166</td>\n",
       "      <td>5.873717</td>\n",
       "      <td>10.556554</td>\n",
       "      <td>0.592231</td>\n",
       "      <td>28790.247521</td>\n",
       "      <td>14189.964211</td>\n",
       "      <td>0.468747</td>\n",
       "      <td>490.626960</td>\n",
       "      <td>0.590493</td>\n",
       "      <td>518.308245</td>\n",
       "      <td>169.453227</td>\n",
       "    </tr>\n",
       "    <tr>\n",
       "      <th>std</th>\n",
       "      <td>5.621828</td>\n",
       "      <td>10903.336076</td>\n",
       "      <td>35.597124</td>\n",
       "      <td>1.078034</td>\n",
       "      <td>0.990682</td>\n",
       "      <td>6.594431</td>\n",
       "      <td>22.006195</td>\n",
       "      <td>4.870530</td>\n",
       "      <td>5.895003</td>\n",
       "      <td>0.959130</td>\n",
       "      <td>12627.727058</td>\n",
       "      <td>8616.056347</td>\n",
       "      <td>0.748420</td>\n",
       "      <td>341.513996</td>\n",
       "      <td>0.884548</td>\n",
       "      <td>277.938385</td>\n",
       "      <td>206.584039</td>\n",
       "    </tr>\n",
       "    <tr>\n",
       "      <th>min</th>\n",
       "      <td>0.000000</td>\n",
       "      <td>12.190000</td>\n",
       "      <td>12.000000</td>\n",
       "      <td>0.000000</td>\n",
       "      <td>1.000000</td>\n",
       "      <td>1.000000</td>\n",
       "      <td>2.000000</td>\n",
       "      <td>1.000000</td>\n",
       "      <td>1.300000</td>\n",
       "      <td>0.000000</td>\n",
       "      <td>0.000000</td>\n",
       "      <td>181.000000</td>\n",
       "      <td>0.000000</td>\n",
       "      <td>1.000000</td>\n",
       "      <td>0.000000</td>\n",
       "      <td>13.000000</td>\n",
       "      <td>1.000000</td>\n",
       "    </tr>\n",
       "    <tr>\n",
       "      <th>25%</th>\n",
       "      <td>6.000000</td>\n",
       "      <td>3400.000000</td>\n",
       "      <td>40.000000</td>\n",
       "      <td>1.000000</td>\n",
       "      <td>2.600000</td>\n",
       "      <td>5.000000</td>\n",
       "      <td>18.600000</td>\n",
       "      <td>2.000000</td>\n",
       "      <td>7.000000</td>\n",
       "      <td>0.000000</td>\n",
       "      <td>18574.000000</td>\n",
       "      <td>9234.000000</td>\n",
       "      <td>0.000000</td>\n",
       "      <td>288.000000</td>\n",
       "      <td>0.000000</td>\n",
       "      <td>294.000000</td>\n",
       "      <td>45.000000</td>\n",
       "    </tr>\n",
       "    <tr>\n",
       "      <th>50%</th>\n",
       "      <td>9.000000</td>\n",
       "      <td>4633.500000</td>\n",
       "      <td>52.000000</td>\n",
       "      <td>2.000000</td>\n",
       "      <td>2.650000</td>\n",
       "      <td>9.000000</td>\n",
       "      <td>30.000000</td>\n",
       "      <td>4.000000</td>\n",
       "      <td>9.100000</td>\n",
       "      <td>0.000000</td>\n",
       "      <td>26726.000000</td>\n",
       "      <td>13094.000000</td>\n",
       "      <td>0.000000</td>\n",
       "      <td>455.000000</td>\n",
       "      <td>0.000000</td>\n",
       "      <td>503.000000</td>\n",
       "      <td>95.000000</td>\n",
       "    </tr>\n",
       "    <tr>\n",
       "      <th>75%</th>\n",
       "      <td>14.000000</td>\n",
       "      <td>6762.544000</td>\n",
       "      <td>69.700000</td>\n",
       "      <td>3.000000</td>\n",
       "      <td>2.700000</td>\n",
       "      <td>16.000000</td>\n",
       "      <td>42.270000</td>\n",
       "      <td>8.000000</td>\n",
       "      <td>12.000000</td>\n",
       "      <td>1.000000</td>\n",
       "      <td>37250.000000</td>\n",
       "      <td>16293.000000</td>\n",
       "      <td>1.000000</td>\n",
       "      <td>612.000000</td>\n",
       "      <td>1.000000</td>\n",
       "      <td>730.000000</td>\n",
       "      <td>199.000000</td>\n",
       "    </tr>\n",
       "    <tr>\n",
       "      <th>max</th>\n",
       "      <td>24.000000</td>\n",
       "      <td>763000.000000</td>\n",
       "      <td>900.000000</td>\n",
       "      <td>19.000000</td>\n",
       "      <td>100.000000</td>\n",
       "      <td>60.000000</td>\n",
       "      <td>409.700000</td>\n",
       "      <td>33.000000</td>\n",
       "      <td>112.000000</td>\n",
       "      <td>5.000000</td>\n",
       "      <td>84869.000000</td>\n",
       "      <td>65968.000000</td>\n",
       "      <td>3.000000</td>\n",
       "      <td>3190.000000</td>\n",
       "      <td>3.000000</td>\n",
       "      <td>1344.000000</td>\n",
       "      <td>1580.000000</td>\n",
       "    </tr>\n",
       "  </tbody>\n",
       "</table>\n",
       "</div>"
      ],
      "text/plain": [
       "       total_images     last_price    total_area         rooms  \\\n",
       "count  23582.000000   23582.000000  23582.000000  23582.000000   \n",
       "mean       9.845263    6533.328348     60.289770      2.069884   \n",
       "std        5.621828   10903.336076     35.597124      1.078034   \n",
       "min        0.000000      12.190000     12.000000      0.000000   \n",
       "25%        6.000000    3400.000000     40.000000      1.000000   \n",
       "50%        9.000000    4633.500000     52.000000      2.000000   \n",
       "75%       14.000000    6762.544000     69.700000      3.000000   \n",
       "max       24.000000  763000.000000    900.000000     19.000000   \n",
       "\n",
       "       ceiling_height  floors_total   living_area         floor  kitchen_area  \\\n",
       "count    23582.000000  23582.000000  21712.000000  23582.000000  21351.000000   \n",
       "mean         2.724566     10.669791     34.429166      5.873717     10.556554   \n",
       "std          0.990682      6.594431     22.006195      4.870530      5.895003   \n",
       "min          1.000000      1.000000      2.000000      1.000000      1.300000   \n",
       "25%          2.600000      5.000000     18.600000      2.000000      7.000000   \n",
       "50%          2.650000      9.000000     30.000000      4.000000      9.100000   \n",
       "75%          2.700000     16.000000     42.270000      8.000000     12.000000   \n",
       "max        100.000000     60.000000    409.700000     33.000000    112.000000   \n",
       "\n",
       "            balcony  airports_nearest  cityCenters_nearest  parks_around3000  \\\n",
       "count  23582.000000      18055.000000         18078.000000      23582.000000   \n",
       "mean       0.592231      28790.247521         14189.964211          0.468747   \n",
       "std        0.959130      12627.727058          8616.056347          0.748420   \n",
       "min        0.000000          0.000000           181.000000          0.000000   \n",
       "25%        0.000000      18574.000000          9234.000000          0.000000   \n",
       "50%        0.000000      26726.000000         13094.000000          0.000000   \n",
       "75%        1.000000      37250.000000         16293.000000          1.000000   \n",
       "max        5.000000      84869.000000         65968.000000          3.000000   \n",
       "\n",
       "       parks_nearest  ponds_around3000  ponds_nearest  days_exposition  \n",
       "count    8034.000000      23582.000000    9048.000000     23582.000000  \n",
       "mean      490.626960          0.590493     518.308245       169.453227  \n",
       "std       341.513996          0.884548     277.938385       206.584039  \n",
       "min         1.000000          0.000000      13.000000         1.000000  \n",
       "25%       288.000000          0.000000     294.000000        45.000000  \n",
       "50%       455.000000          0.000000     503.000000        95.000000  \n",
       "75%       612.000000          1.000000     730.000000       199.000000  \n",
       "max      3190.000000          3.000000    1344.000000      1580.000000  "
      ]
     },
     "execution_count": 32,
     "metadata": {},
     "output_type": "execute_result"
    }
   ],
   "source": [
    "data['last_price'] = data['last_price'] / 1000 # разделим данные в столбце на тысячу\n",
    "data.describe() #проверяем"
   ]
  },
  {
   "cell_type": "code",
   "execution_count": 33,
   "metadata": {},
   "outputs": [
    {
     "data": {
      "text/plain": [
       "<function matplotlib.pyplot.show(close=None, block=None)>"
      ]
     },
     "execution_count": 33,
     "metadata": {},
     "output_type": "execute_result"
    },
    {
     "data": {
      "image/png": "[encoded data removed]",
      "text/plain": [
       "<Figure size 432x288 with 1 Axes>"
      ]
     },
     "metadata": {
      "needs_background": "light"
     },
     "output_type": "display_data"
    }
   ],
   "source": [
    "data.boxplot('last_price')\n",
    "plt.show"
   ]
  },
  {
   "cell_type": "markdown",
   "metadata": {},
   "source": [
    "763 млн - единичный случай, также по диаграмме размаха видно, что больше 200 млн также ограниченное количество объявлений, попробуем изменить масштаб диаграммы."
   ]
  },
  {
   "cell_type": "code",
   "execution_count": 34,
   "metadata": {},
   "outputs": [
    {
     "data": {
      "text/plain": [
       "(0.0, 14.0)"
      ]
     },
     "execution_count": 34,
     "metadata": {},
     "output_type": "execute_result"
    },
    {
     "data": {
      "image/png": "[encoded data removed]",
      "text/plain": [
       "<Figure size 432x288 with 1 Axes>"
      ]
     },
     "metadata": {
      "needs_background": "light"
     },
     "output_type": "display_data"
    }
   ],
   "source": [
    "data.boxplot('last_price')\n",
    "plt.ylim(0, 14)"
   ]
  },
  {
   "cell_type": "code",
   "execution_count": 35,
   "metadata": {},
   "outputs": [
    {
     "data": {
      "text/plain": [
       "(6000.0, 25000.0)"
      ]
     },
     "execution_count": 35,
     "metadata": {},
     "output_type": "execute_result"
    },
    {
     "data": {
      "image/png": "[encoded data removed]",
      "text/plain": [
       "<Figure size 432x288 with 1 Axes>"
      ]
     },
     "metadata": {
      "needs_background": "light"
     },
     "output_type": "display_data"
    }
   ],
   "source": [
    "data.boxplot('last_price')\n",
    "plt.ylim(6000, 25000)"
   ]
  },
  {
   "cell_type": "markdown",
   "metadata": {},
   "source": [
    "На диаграмме смущает то, что она начинается с минимальной цены, 12 000 - это подозрительно низкая цена для квартиры, на данный момент цена в за квариру в Санкт-Петебурге и ЛО стартует от 300 000. Естественно, что цены на недвижимость со временем растут, но рост в 30 раз выглядит подозрительно. "
   ]
  },
  {
   "cell_type": "code",
   "execution_count": 36,
   "metadata": {},
   "outputs": [
    {
     "data": {
      "text/plain": [
       "1"
      ]
     },
     "execution_count": 36,
     "metadata": {},
     "output_type": "execute_result"
    }
   ],
   "source": [
    "len(data.query('last_price < 300')) # посмотрим сколько объявлений находится в диапазоне до 300000"
   ]
  },
  {
   "cell_type": "code",
   "execution_count": 37,
   "metadata": {},
   "outputs": [
    {
     "data": {
      "text/plain": [
       "1"
      ]
     },
     "execution_count": 37,
     "metadata": {},
     "output_type": "execute_result"
    }
   ],
   "source": [
    "len(data.query('last_price < 400')) # посмтрим сколько объявлений нааходится в диапазоне до 400000"
   ]
  },
  {
   "cell_type": "markdown",
   "metadata": {},
   "source": [
    "Всего одно объявление - это либо ошибка в объявлении, либо аномально низкая цена, удалим строку с ним и единичное объявление с ценой 763 млн (оно единственное в диапозоне от 500 млн) и проверим, как график выглядит после манипуляций."
   ]
  },
  {
   "cell_type": "code",
   "execution_count": 38,
   "metadata": {},
   "outputs": [
    {
     "data": {
      "text/plain": [
       "<function matplotlib.pyplot.show(close=None, block=None)>"
      ]
     },
     "execution_count": 38,
     "metadata": {},
     "output_type": "execute_result"
    },
    {
     "data": {
      "image/png": "[encoded data removed]",
      "text/plain": [
       "<Figure size 432x288 with 1 Axes>"
      ]
     },
     "metadata": {
      "needs_background": "light"
     },
     "output_type": "display_data"
    }
   ],
   "source": [
    "data = data[data.last_price > 400]\n",
    "data = data[data.last_price < 500000]\n",
    "data.boxplot('last_price')\n",
    "plt.show"
   ]
  },
  {
   "cell_type": "markdown",
   "metadata": {},
   "source": [
    "Посчитаем, сколько объявлений в диапозоне от 100 млн, так как на диаграмме присутствует большое скопление выбросов до этого значения, а дальше единичные случае, так же по таблице мы видим, что 75% объявлений с ценой до 7 млн."
   ]
  },
  {
   "cell_type": "code",
   "execution_count": 39,
   "metadata": {},
   "outputs": [
    {
     "data": {
      "text/plain": [
       "36"
      ]
     },
     "execution_count": 39,
     "metadata": {},
     "output_type": "execute_result"
    }
   ],
   "source": [
    "len(data.query('last_price > 100000'))"
   ]
  },
  {
   "cell_type": "markdown",
   "metadata": {},
   "source": [
    "Теперь посчитаем выбросы до 100 млн."
   ]
  },
  {
   "cell_type": "code",
   "execution_count": 40,
   "metadata": {},
   "outputs": [
    {
     "data": {
      "text/plain": [
       "1761"
      ]
     },
     "execution_count": 40,
     "metadata": {},
     "output_type": "execute_result"
    }
   ],
   "source": [
    "len(data.query('12500 < last_price < 100000'))"
   ]
  },
  {
   "cell_type": "markdown",
   "metadata": {},
   "source": [
    "Так как выбросы до 100 млн составлют 7% от всеего объёма данных, мы не будем их удалять, удалим лишь объявления с ценой выше этого значения, так как таких строк всего 36 (меньше 0,2%)"
   ]
  },
  {
   "cell_type": "code",
   "execution_count": 41,
   "metadata": {},
   "outputs": [
    {
     "data": {
      "text/html": [
       "<div>\n",
       "<style scoped>\n",
       "    .dataframe tbody tr th:only-of-type {\n",
       "        vertical-align: middle;\n",
       "    }\n",
       "\n",
       "    .dataframe tbody tr th {\n",
       "        vertical-align: top;\n",
       "    }\n",
       "\n",
       "    .dataframe thead th {\n",
       "        text-align: right;\n",
       "    }\n",
       "</style>\n",
       "<table border=\"1\" class=\"dataframe\">\n",
       "  <thead>\n",
       "    <tr style=\"text-align: right;\">\n",
       "      <th></th>\n",
       "      <th>total_images</th>\n",
       "      <th>last_price</th>\n",
       "      <th>total_area</th>\n",
       "      <th>rooms</th>\n",
       "      <th>ceiling_height</th>\n",
       "      <th>floors_total</th>\n",
       "      <th>living_area</th>\n",
       "      <th>floor</th>\n",
       "      <th>kitchen_area</th>\n",
       "      <th>balcony</th>\n",
       "      <th>airports_nearest</th>\n",
       "      <th>cityCenters_nearest</th>\n",
       "      <th>parks_around3000</th>\n",
       "      <th>parks_nearest</th>\n",
       "      <th>ponds_around3000</th>\n",
       "      <th>ponds_nearest</th>\n",
       "      <th>days_exposition</th>\n",
       "    </tr>\n",
       "  </thead>\n",
       "  <tbody>\n",
       "    <tr>\n",
       "      <th>count</th>\n",
       "      <td>23544.000000</td>\n",
       "      <td>23544.000000</td>\n",
       "      <td>23544.000000</td>\n",
       "      <td>23544.000000</td>\n",
       "      <td>23544.000000</td>\n",
       "      <td>23544.000000</td>\n",
       "      <td>21679.000000</td>\n",
       "      <td>23544.000000</td>\n",
       "      <td>21319.00000</td>\n",
       "      <td>23544.000000</td>\n",
       "      <td>18018.000000</td>\n",
       "      <td>18041.000000</td>\n",
       "      <td>23544.000000</td>\n",
       "      <td>8007.000000</td>\n",
       "      <td>23544.000000</td>\n",
       "      <td>9015.000000</td>\n",
       "      <td>23544.000000</td>\n",
       "    </tr>\n",
       "    <tr>\n",
       "      <th>mean</th>\n",
       "      <td>9.836094</td>\n",
       "      <td>6242.097614</td>\n",
       "      <td>59.864898</td>\n",
       "      <td>2.064942</td>\n",
       "      <td>2.723546</td>\n",
       "      <td>10.675161</td>\n",
       "      <td>34.222207</td>\n",
       "      <td>5.873556</td>\n",
       "      <td>10.51260</td>\n",
       "      <td>0.592423</td>\n",
       "      <td>28794.563104</td>\n",
       "      <td>14210.095505</td>\n",
       "      <td>0.467083</td>\n",
       "      <td>490.910828</td>\n",
       "      <td>0.588303</td>\n",
       "      <td>518.992790</td>\n",
       "      <td>169.245328</td>\n",
       "    </tr>\n",
       "    <tr>\n",
       "      <th>std</th>\n",
       "      <td>5.618560</td>\n",
       "      <td>6421.837435</td>\n",
       "      <td>33.397935</td>\n",
       "      <td>1.069192</td>\n",
       "      <td>0.990652</td>\n",
       "      <td>6.595933</td>\n",
       "      <td>21.146700</td>\n",
       "      <td>4.870417</td>\n",
       "      <td>5.73246</td>\n",
       "      <td>0.958974</td>\n",
       "      <td>12638.702639</td>\n",
       "      <td>8612.823897</td>\n",
       "      <td>0.746411</td>\n",
       "      <td>341.866579</td>\n",
       "      <td>0.882524</td>\n",
       "      <td>278.012933</td>\n",
       "      <td>206.416136</td>\n",
       "    </tr>\n",
       "    <tr>\n",
       "      <th>min</th>\n",
       "      <td>0.000000</td>\n",
       "      <td>430.000000</td>\n",
       "      <td>12.000000</td>\n",
       "      <td>0.000000</td>\n",
       "      <td>1.000000</td>\n",
       "      <td>1.000000</td>\n",
       "      <td>2.000000</td>\n",
       "      <td>1.000000</td>\n",
       "      <td>1.30000</td>\n",
       "      <td>0.000000</td>\n",
       "      <td>0.000000</td>\n",
       "      <td>181.000000</td>\n",
       "      <td>0.000000</td>\n",
       "      <td>1.000000</td>\n",
       "      <td>0.000000</td>\n",
       "      <td>13.000000</td>\n",
       "      <td>1.000000</td>\n",
       "    </tr>\n",
       "    <tr>\n",
       "      <th>25%</th>\n",
       "      <td>6.000000</td>\n",
       "      <td>3400.000000</td>\n",
       "      <td>40.000000</td>\n",
       "      <td>1.000000</td>\n",
       "      <td>2.600000</td>\n",
       "      <td>5.000000</td>\n",
       "      <td>18.600000</td>\n",
       "      <td>2.000000</td>\n",
       "      <td>7.00000</td>\n",
       "      <td>0.000000</td>\n",
       "      <td>18557.000000</td>\n",
       "      <td>9265.000000</td>\n",
       "      <td>0.000000</td>\n",
       "      <td>288.000000</td>\n",
       "      <td>0.000000</td>\n",
       "      <td>295.000000</td>\n",
       "      <td>45.000000</td>\n",
       "    </tr>\n",
       "    <tr>\n",
       "      <th>50%</th>\n",
       "      <td>9.000000</td>\n",
       "      <td>4600.000000</td>\n",
       "      <td>52.000000</td>\n",
       "      <td>2.000000</td>\n",
       "      <td>2.650000</td>\n",
       "      <td>9.000000</td>\n",
       "      <td>30.000000</td>\n",
       "      <td>4.000000</td>\n",
       "      <td>9.10000</td>\n",
       "      <td>0.000000</td>\n",
       "      <td>26743.500000</td>\n",
       "      <td>13107.000000</td>\n",
       "      <td>0.000000</td>\n",
       "      <td>455.000000</td>\n",
       "      <td>0.000000</td>\n",
       "      <td>503.000000</td>\n",
       "      <td>95.000000</td>\n",
       "    </tr>\n",
       "    <tr>\n",
       "      <th>75%</th>\n",
       "      <td>14.000000</td>\n",
       "      <td>6750.000000</td>\n",
       "      <td>69.400000</td>\n",
       "      <td>3.000000</td>\n",
       "      <td>2.700000</td>\n",
       "      <td>16.000000</td>\n",
       "      <td>42.200000</td>\n",
       "      <td>8.000000</td>\n",
       "      <td>12.00000</td>\n",
       "      <td>1.000000</td>\n",
       "      <td>37282.250000</td>\n",
       "      <td>16293.000000</td>\n",
       "      <td>1.000000</td>\n",
       "      <td>612.000000</td>\n",
       "      <td>1.000000</td>\n",
       "      <td>732.000000</td>\n",
       "      <td>198.000000</td>\n",
       "    </tr>\n",
       "    <tr>\n",
       "      <th>max</th>\n",
       "      <td>24.000000</td>\n",
       "      <td>99000.000000</td>\n",
       "      <td>590.000000</td>\n",
       "      <td>19.000000</td>\n",
       "      <td>100.000000</td>\n",
       "      <td>60.000000</td>\n",
       "      <td>409.000000</td>\n",
       "      <td>33.000000</td>\n",
       "      <td>107.00000</td>\n",
       "      <td>5.000000</td>\n",
       "      <td>84869.000000</td>\n",
       "      <td>65968.000000</td>\n",
       "      <td>3.000000</td>\n",
       "      <td>3190.000000</td>\n",
       "      <td>3.000000</td>\n",
       "      <td>1344.000000</td>\n",
       "      <td>1580.000000</td>\n",
       "    </tr>\n",
       "  </tbody>\n",
       "</table>\n",
       "</div>"
      ],
      "text/plain": [
       "       total_images    last_price    total_area         rooms  ceiling_height  \\\n",
       "count  23544.000000  23544.000000  23544.000000  23544.000000    23544.000000   \n",
       "mean       9.836094   6242.097614     59.864898      2.064942        2.723546   \n",
       "std        5.618560   6421.837435     33.397935      1.069192        0.990652   \n",
       "min        0.000000    430.000000     12.000000      0.000000        1.000000   \n",
       "25%        6.000000   3400.000000     40.000000      1.000000        2.600000   \n",
       "50%        9.000000   4600.000000     52.000000      2.000000        2.650000   \n",
       "75%       14.000000   6750.000000     69.400000      3.000000        2.700000   \n",
       "max       24.000000  99000.000000    590.000000     19.000000      100.000000   \n",
       "\n",
       "       floors_total   living_area         floor  kitchen_area       balcony  \\\n",
       "count  23544.000000  21679.000000  23544.000000   21319.00000  23544.000000   \n",
       "mean      10.675161     34.222207      5.873556      10.51260      0.592423   \n",
       "std        6.595933     21.146700      4.870417       5.73246      0.958974   \n",
       "min        1.000000      2.000000      1.000000       1.30000      0.000000   \n",
       "25%        5.000000     18.600000      2.000000       7.00000      0.000000   \n",
       "50%        9.000000     30.000000      4.000000       9.10000      0.000000   \n",
       "75%       16.000000     42.200000      8.000000      12.00000      1.000000   \n",
       "max       60.000000    409.000000     33.000000     107.00000      5.000000   \n",
       "\n",
       "       airports_nearest  cityCenters_nearest  parks_around3000  parks_nearest  \\\n",
       "count      18018.000000         18041.000000      23544.000000    8007.000000   \n",
       "mean       28794.563104         14210.095505          0.467083     490.910828   \n",
       "std        12638.702639          8612.823897          0.746411     341.866579   \n",
       "min            0.000000           181.000000          0.000000       1.000000   \n",
       "25%        18557.000000          9265.000000          0.000000     288.000000   \n",
       "50%        26743.500000         13107.000000          0.000000     455.000000   \n",
       "75%        37282.250000         16293.000000          1.000000     612.000000   \n",
       "max        84869.000000         65968.000000          3.000000    3190.000000   \n",
       "\n",
       "       ponds_around3000  ponds_nearest  days_exposition  \n",
       "count      23544.000000    9015.000000     23544.000000  \n",
       "mean           0.588303     518.992790       169.245328  \n",
       "std            0.882524     278.012933       206.416136  \n",
       "min            0.000000      13.000000         1.000000  \n",
       "25%            0.000000     295.000000        45.000000  \n",
       "50%            0.000000     503.000000        95.000000  \n",
       "75%            1.000000     732.000000       198.000000  \n",
       "max            3.000000    1344.000000      1580.000000  "
      ]
     },
     "execution_count": 41,
     "metadata": {},
     "output_type": "execute_result"
    }
   ],
   "source": [
    "data = data[data.last_price < 100000]\n",
    "data.describe() #проверяем"
   ]
  },
  {
   "cell_type": "markdown",
   "metadata": {},
   "source": [
    "**Общая площадь квартиры в квадратных метрах**"
   ]
  },
  {
   "cell_type": "markdown",
   "metadata": {},
   "source": [
    "Посмотрим диаграмму размаха для столбца *total_area*."
   ]
  },
  {
   "cell_type": "code",
   "execution_count": 42,
   "metadata": {},
   "outputs": [
    {
     "data": {
      "text/plain": [
       "<function matplotlib.pyplot.show(close=None, block=None)>"
      ]
     },
     "execution_count": 42,
     "metadata": {},
     "output_type": "execute_result"
    },
    {
     "data": {
      "image/png": "[encoded data removed]",
      "text/plain": [
       "<Figure size 432x288 with 1 Axes>"
      ]
     },
     "metadata": {
      "needs_background": "light"
     },
     "output_type": "display_data"
    }
   ],
   "source": [
    "data.boxplot('total_area')\n",
    "plt.show"
   ]
  },
  {
   "cell_type": "markdown",
   "metadata": {},
   "source": [
    "Судя по таблице минимальная площадь квартиры составляет 12 кв.м. Это нельзя считать чем-то аномальным, так как часто продают апартаменты, посмотрим поближе график с большими значениями, начиная от 300 кв.м. Уже сейчас видно, что с площадью более 500 кв.м. 3 объявления, но нужно посмотреть ближе, чтобы удостоверится."
   ]
  },
  {
   "cell_type": "code",
   "execution_count": 43,
   "metadata": {},
   "outputs": [
    {
     "data": {
      "text/plain": [
       "(300.0, 600.0)"
      ]
     },
     "execution_count": 43,
     "metadata": {},
     "output_type": "execute_result"
    },
    {
     "data": {
      "image/png": "[encoded data removed]",
      "text/plain": [
       "<Figure size 432x288 with 1 Axes>"
      ]
     },
     "metadata": {
      "needs_background": "light"
     },
     "output_type": "display_data"
    }
   ],
   "source": [
    "data.boxplot('total_area')\n",
    "plt.ylim(300, 600)"
   ]
  },
  {
   "cell_type": "code",
   "execution_count": 44,
   "metadata": {},
   "outputs": [
    {
     "data": {
      "text/plain": [
       "45"
      ]
     },
     "execution_count": 44,
     "metadata": {},
     "output_type": "execute_result"
    }
   ],
   "source": [
    "len(data.query('total_area > 300')) #посчитаем количество"
   ]
  },
  {
   "cell_type": "markdown",
   "metadata": {},
   "source": [
    "Всего таких объявлений 45 штук, их можно удалить в связи с тем что такие значения очень редкие."
   ]
  },
  {
   "cell_type": "code",
   "execution_count": 45,
   "metadata": {
    "scrolled": true
   },
   "outputs": [
    {
     "data": {
      "text/html": [
       "<div>\n",
       "<style scoped>\n",
       "    .dataframe tbody tr th:only-of-type {\n",
       "        vertical-align: middle;\n",
       "    }\n",
       "\n",
       "    .dataframe tbody tr th {\n",
       "        vertical-align: top;\n",
       "    }\n",
       "\n",
       "    .dataframe thead th {\n",
       "        text-align: right;\n",
       "    }\n",
       "</style>\n",
       "<table border=\"1\" class=\"dataframe\">\n",
       "  <thead>\n",
       "    <tr style=\"text-align: right;\">\n",
       "      <th></th>\n",
       "      <th>total_images</th>\n",
       "      <th>last_price</th>\n",
       "      <th>total_area</th>\n",
       "      <th>rooms</th>\n",
       "      <th>ceiling_height</th>\n",
       "      <th>floors_total</th>\n",
       "      <th>living_area</th>\n",
       "      <th>floor</th>\n",
       "      <th>kitchen_area</th>\n",
       "      <th>balcony</th>\n",
       "      <th>airports_nearest</th>\n",
       "      <th>cityCenters_nearest</th>\n",
       "      <th>parks_around3000</th>\n",
       "      <th>parks_nearest</th>\n",
       "      <th>ponds_around3000</th>\n",
       "      <th>ponds_nearest</th>\n",
       "      <th>days_exposition</th>\n",
       "    </tr>\n",
       "  </thead>\n",
       "  <tbody>\n",
       "    <tr>\n",
       "      <th>count</th>\n",
       "      <td>23497.00000</td>\n",
       "      <td>23497.000000</td>\n",
       "      <td>23497.000000</td>\n",
       "      <td>23497.000000</td>\n",
       "      <td>23497.000000</td>\n",
       "      <td>23497.000000</td>\n",
       "      <td>21641.000000</td>\n",
       "      <td>23497.000000</td>\n",
       "      <td>21281.000000</td>\n",
       "      <td>23497.000000</td>\n",
       "      <td>17974.000000</td>\n",
       "      <td>17995.000000</td>\n",
       "      <td>23497.000000</td>\n",
       "      <td>7976.000000</td>\n",
       "      <td>23497.000000</td>\n",
       "      <td>8988.000000</td>\n",
       "      <td>23497.000000</td>\n",
       "    </tr>\n",
       "    <tr>\n",
       "      <th>mean</th>\n",
       "      <td>9.83300</td>\n",
       "      <td>6156.475377</td>\n",
       "      <td>59.213546</td>\n",
       "      <td>2.055879</td>\n",
       "      <td>2.722688</td>\n",
       "      <td>10.684172</td>\n",
       "      <td>33.901299</td>\n",
       "      <td>5.875729</td>\n",
       "      <td>10.470774</td>\n",
       "      <td>0.593140</td>\n",
       "      <td>28798.759542</td>\n",
       "      <td>14223.371770</td>\n",
       "      <td>0.465719</td>\n",
       "      <td>490.963516</td>\n",
       "      <td>0.587352</td>\n",
       "      <td>519.321095</td>\n",
       "      <td>169.159850</td>\n",
       "    </tr>\n",
       "    <tr>\n",
       "      <th>std</th>\n",
       "      <td>5.61565</td>\n",
       "      <td>6047.282251</td>\n",
       "      <td>29.922106</td>\n",
       "      <td>1.041725</td>\n",
       "      <td>0.991049</td>\n",
       "      <td>6.596999</td>\n",
       "      <td>19.508068</td>\n",
       "      <td>4.872319</td>\n",
       "      <td>5.602001</td>\n",
       "      <td>0.959124</td>\n",
       "      <td>12646.374758</td>\n",
       "      <td>8610.406629</td>\n",
       "      <td>0.745051</td>\n",
       "      <td>341.830979</td>\n",
       "      <td>0.881779</td>\n",
       "      <td>278.075766</td>\n",
       "      <td>206.375444</td>\n",
       "    </tr>\n",
       "    <tr>\n",
       "      <th>min</th>\n",
       "      <td>0.00000</td>\n",
       "      <td>430.000000</td>\n",
       "      <td>12.000000</td>\n",
       "      <td>0.000000</td>\n",
       "      <td>1.000000</td>\n",
       "      <td>1.000000</td>\n",
       "      <td>2.000000</td>\n",
       "      <td>1.000000</td>\n",
       "      <td>1.300000</td>\n",
       "      <td>0.000000</td>\n",
       "      <td>0.000000</td>\n",
       "      <td>181.000000</td>\n",
       "      <td>0.000000</td>\n",
       "      <td>1.000000</td>\n",
       "      <td>0.000000</td>\n",
       "      <td>13.000000</td>\n",
       "      <td>1.000000</td>\n",
       "    </tr>\n",
       "    <tr>\n",
       "      <th>25%</th>\n",
       "      <td>6.00000</td>\n",
       "      <td>3400.000000</td>\n",
       "      <td>40.000000</td>\n",
       "      <td>1.000000</td>\n",
       "      <td>2.600000</td>\n",
       "      <td>5.000000</td>\n",
       "      <td>18.600000</td>\n",
       "      <td>2.000000</td>\n",
       "      <td>7.000000</td>\n",
       "      <td>0.000000</td>\n",
       "      <td>18551.000000</td>\n",
       "      <td>9289.000000</td>\n",
       "      <td>0.000000</td>\n",
       "      <td>288.000000</td>\n",
       "      <td>0.000000</td>\n",
       "      <td>295.000000</td>\n",
       "      <td>45.000000</td>\n",
       "    </tr>\n",
       "    <tr>\n",
       "      <th>50%</th>\n",
       "      <td>9.00000</td>\n",
       "      <td>4600.000000</td>\n",
       "      <td>52.000000</td>\n",
       "      <td>2.000000</td>\n",
       "      <td>2.650000</td>\n",
       "      <td>9.000000</td>\n",
       "      <td>30.000000</td>\n",
       "      <td>4.000000</td>\n",
       "      <td>9.100000</td>\n",
       "      <td>0.000000</td>\n",
       "      <td>26757.000000</td>\n",
       "      <td>13118.000000</td>\n",
       "      <td>0.000000</td>\n",
       "      <td>455.000000</td>\n",
       "      <td>0.000000</td>\n",
       "      <td>503.000000</td>\n",
       "      <td>95.000000</td>\n",
       "    </tr>\n",
       "    <tr>\n",
       "      <th>75%</th>\n",
       "      <td>14.00000</td>\n",
       "      <td>6700.000000</td>\n",
       "      <td>69.100000</td>\n",
       "      <td>3.000000</td>\n",
       "      <td>2.700000</td>\n",
       "      <td>16.000000</td>\n",
       "      <td>42.100000</td>\n",
       "      <td>8.000000</td>\n",
       "      <td>12.000000</td>\n",
       "      <td>1.000000</td>\n",
       "      <td>37287.000000</td>\n",
       "      <td>16294.000000</td>\n",
       "      <td>1.000000</td>\n",
       "      <td>612.000000</td>\n",
       "      <td>1.000000</td>\n",
       "      <td>733.000000</td>\n",
       "      <td>198.000000</td>\n",
       "    </tr>\n",
       "    <tr>\n",
       "      <th>max</th>\n",
       "      <td>24.00000</td>\n",
       "      <td>99000.000000</td>\n",
       "      <td>297.500000</td>\n",
       "      <td>16.000000</td>\n",
       "      <td>100.000000</td>\n",
       "      <td>60.000000</td>\n",
       "      <td>250.000000</td>\n",
       "      <td>33.000000</td>\n",
       "      <td>107.000000</td>\n",
       "      <td>5.000000</td>\n",
       "      <td>84869.000000</td>\n",
       "      <td>65968.000000</td>\n",
       "      <td>3.000000</td>\n",
       "      <td>3190.000000</td>\n",
       "      <td>3.000000</td>\n",
       "      <td>1344.000000</td>\n",
       "      <td>1580.000000</td>\n",
       "    </tr>\n",
       "  </tbody>\n",
       "</table>\n",
       "</div>"
      ],
      "text/plain": [
       "       total_images    last_price    total_area         rooms  ceiling_height  \\\n",
       "count   23497.00000  23497.000000  23497.000000  23497.000000    23497.000000   \n",
       "mean        9.83300   6156.475377     59.213546      2.055879        2.722688   \n",
       "std         5.61565   6047.282251     29.922106      1.041725        0.991049   \n",
       "min         0.00000    430.000000     12.000000      0.000000        1.000000   \n",
       "25%         6.00000   3400.000000     40.000000      1.000000        2.600000   \n",
       "50%         9.00000   4600.000000     52.000000      2.000000        2.650000   \n",
       "75%        14.00000   6700.000000     69.100000      3.000000        2.700000   \n",
       "max        24.00000  99000.000000    297.500000     16.000000      100.000000   \n",
       "\n",
       "       floors_total   living_area         floor  kitchen_area       balcony  \\\n",
       "count  23497.000000  21641.000000  23497.000000  21281.000000  23497.000000   \n",
       "mean      10.684172     33.901299      5.875729     10.470774      0.593140   \n",
       "std        6.596999     19.508068      4.872319      5.602001      0.959124   \n",
       "min        1.000000      2.000000      1.000000      1.300000      0.000000   \n",
       "25%        5.000000     18.600000      2.000000      7.000000      0.000000   \n",
       "50%        9.000000     30.000000      4.000000      9.100000      0.000000   \n",
       "75%       16.000000     42.100000      8.000000     12.000000      1.000000   \n",
       "max       60.000000    250.000000     33.000000    107.000000      5.000000   \n",
       "\n",
       "       airports_nearest  cityCenters_nearest  parks_around3000  parks_nearest  \\\n",
       "count      17974.000000         17995.000000      23497.000000    7976.000000   \n",
       "mean       28798.759542         14223.371770          0.465719     490.963516   \n",
       "std        12646.374758          8610.406629          0.745051     341.830979   \n",
       "min            0.000000           181.000000          0.000000       1.000000   \n",
       "25%        18551.000000          9289.000000          0.000000     288.000000   \n",
       "50%        26757.000000         13118.000000          0.000000     455.000000   \n",
       "75%        37287.000000         16294.000000          1.000000     612.000000   \n",
       "max        84869.000000         65968.000000          3.000000    3190.000000   \n",
       "\n",
       "       ponds_around3000  ponds_nearest  days_exposition  \n",
       "count      23497.000000    8988.000000     23497.000000  \n",
       "mean           0.587352     519.321095       169.159850  \n",
       "std            0.881779     278.075766       206.375444  \n",
       "min            0.000000      13.000000         1.000000  \n",
       "25%            0.000000     295.000000        45.000000  \n",
       "50%            0.000000     503.000000        95.000000  \n",
       "75%            1.000000     733.000000       198.000000  \n",
       "max            3.000000    1344.000000      1580.000000  "
      ]
     },
     "execution_count": 45,
     "metadata": {},
     "output_type": "execute_result"
    }
   ],
   "source": [
    "data = data[data.total_area < 300]\n",
    "data.describe() #проверяем"
   ]
  },
  {
   "cell_type": "markdown",
   "metadata": {},
   "source": [
    "**Число комнат**"
   ]
  },
  {
   "cell_type": "markdown",
   "metadata": {},
   "source": [
    "Проверяем, нет ли аномалий в столбце *rooms*."
   ]
  },
  {
   "cell_type": "code",
   "execution_count": 46,
   "metadata": {},
   "outputs": [
    {
     "data": {
      "text/plain": [
       "<function matplotlib.pyplot.show(close=None, block=None)>"
      ]
     },
     "execution_count": 46,
     "metadata": {},
     "output_type": "execute_result"
    },
    {
     "data": {
      "image/png": "[encoded data removed]",
      "text/plain": [
       "<Figure size 432x288 with 1 Axes>"
      ]
     },
     "metadata": {
      "needs_background": "light"
     },
     "output_type": "display_data"
    }
   ],
   "source": [
    "data.boxplot('rooms')\n",
    "plt.show"
   ]
  },
  {
   "cell_type": "markdown",
   "metadata": {},
   "source": [
    "Объявлений с количеством комнат больше 6 - всего 7 штук, их нужно убрать, так как это редкие значения, также смущает что в этом столбце присутствуют нулевые значения, нужно посмотрить, сколько объявлений без комнат, возможно так обозначают квартиры-студии или апартаменты."
   ]
  },
  {
   "cell_type": "code",
   "execution_count": 47,
   "metadata": {},
   "outputs": [],
   "source": [
    "data = data[data.rooms < 7] #удаляем объявления с большим количеством комнат"
   ]
  },
  {
   "cell_type": "code",
   "execution_count": 48,
   "metadata": {},
   "outputs": [
    {
     "data": {
      "text/plain": [
       "193"
      ]
     },
     "execution_count": 48,
     "metadata": {},
     "output_type": "execute_result"
    }
   ],
   "source": [
    "len(data.query('rooms < 1')) #посчитаем количество объявлений без комнат"
   ]
  },
  {
   "cell_type": "code",
   "execution_count": 49,
   "metadata": {
    "scrolled": false
   },
   "outputs": [
    {
     "data": {
      "text/plain": [
       "144     False\n",
       "349     False\n",
       "440     False\n",
       "508     False\n",
       "608     False\n",
       "697     False\n",
       "716     False\n",
       "780     False\n",
       "839     False\n",
       "946     False\n",
       "1173    False\n",
       "1174    False\n",
       "1220    False\n",
       "1260    False\n",
       "1277    False\n",
       "Name: is_apartment, dtype: bool"
      ]
     },
     "execution_count": 49,
     "metadata": {},
     "output_type": "execute_result"
    }
   ],
   "source": [
    "data.query('rooms < 1')['is_apartment'].head(15) #выведем на экран первые 15 строк по столбцу апартаменты"
   ]
  },
  {
   "cell_type": "code",
   "execution_count": 50,
   "metadata": {},
   "outputs": [
    {
     "data": {
      "text/plain": [
       "144      True\n",
       "349     False\n",
       "440      True\n",
       "508     False\n",
       "608      True\n",
       "697      True\n",
       "716      True\n",
       "780     False\n",
       "839     False\n",
       "946     False\n",
       "1173     True\n",
       "1174     True\n",
       "1220     True\n",
       "1260     True\n",
       "1277     True\n",
       "Name: studio, dtype: bool"
      ]
     },
     "execution_count": 50,
     "metadata": {},
     "output_type": "execute_result"
    }
   ],
   "source": [
    "data.query('rooms < 1')['studio'].head(15) #выведем на экран первые 15 строк по столбцу студия"
   ]
  },
  {
   "cell_type": "markdown",
   "metadata": {},
   "source": [
    "Выведенные данные показывают, что это не апартаменты и не всегда студии, значит нужно удалить эти строки, чтобы они не искажали данные."
   ]
  },
  {
   "cell_type": "code",
   "execution_count": 51,
   "metadata": {},
   "outputs": [
    {
     "data": {
      "text/html": [
       "<div>\n",
       "<style scoped>\n",
       "    .dataframe tbody tr th:only-of-type {\n",
       "        vertical-align: middle;\n",
       "    }\n",
       "\n",
       "    .dataframe tbody tr th {\n",
       "        vertical-align: top;\n",
       "    }\n",
       "\n",
       "    .dataframe thead th {\n",
       "        text-align: right;\n",
       "    }\n",
       "</style>\n",
       "<table border=\"1\" class=\"dataframe\">\n",
       "  <thead>\n",
       "    <tr style=\"text-align: right;\">\n",
       "      <th></th>\n",
       "      <th>total_images</th>\n",
       "      <th>last_price</th>\n",
       "      <th>total_area</th>\n",
       "      <th>rooms</th>\n",
       "      <th>ceiling_height</th>\n",
       "      <th>floors_total</th>\n",
       "      <th>living_area</th>\n",
       "      <th>floor</th>\n",
       "      <th>kitchen_area</th>\n",
       "      <th>balcony</th>\n",
       "      <th>airports_nearest</th>\n",
       "      <th>cityCenters_nearest</th>\n",
       "      <th>parks_around3000</th>\n",
       "      <th>parks_nearest</th>\n",
       "      <th>ponds_around3000</th>\n",
       "      <th>ponds_nearest</th>\n",
       "      <th>days_exposition</th>\n",
       "    </tr>\n",
       "  </thead>\n",
       "  <tbody>\n",
       "    <tr>\n",
       "      <th>count</th>\n",
       "      <td>23243.000000</td>\n",
       "      <td>23243.000000</td>\n",
       "      <td>23243.000000</td>\n",
       "      <td>23243.000000</td>\n",
       "      <td>23243.000000</td>\n",
       "      <td>23243.000000</td>\n",
       "      <td>21400.000000</td>\n",
       "      <td>23243.000000</td>\n",
       "      <td>21225.000000</td>\n",
       "      <td>23243.000000</td>\n",
       "      <td>17797.000000</td>\n",
       "      <td>17818.000000</td>\n",
       "      <td>23243.000000</td>\n",
       "      <td>7902.000000</td>\n",
       "      <td>23243.000000</td>\n",
       "      <td>8884.000000</td>\n",
       "      <td>23243.000000</td>\n",
       "    </tr>\n",
       "    <tr>\n",
       "      <th>mean</th>\n",
       "      <td>9.848815</td>\n",
       "      <td>6136.866208</td>\n",
       "      <td>59.086868</td>\n",
       "      <td>2.057910</td>\n",
       "      <td>2.720574</td>\n",
       "      <td>10.646173</td>\n",
       "      <td>33.735695</td>\n",
       "      <td>5.859011</td>\n",
       "      <td>10.447691</td>\n",
       "      <td>0.590371</td>\n",
       "      <td>28843.672361</td>\n",
       "      <td>14260.461051</td>\n",
       "      <td>0.465947</td>\n",
       "      <td>490.968742</td>\n",
       "      <td>0.586843</td>\n",
       "      <td>519.753264</td>\n",
       "      <td>169.518608</td>\n",
       "    </tr>\n",
       "    <tr>\n",
       "      <th>std</th>\n",
       "      <td>5.614968</td>\n",
       "      <td>5974.939325</td>\n",
       "      <td>28.861011</td>\n",
       "      <td>0.983997</td>\n",
       "      <td>0.982900</td>\n",
       "      <td>6.572028</td>\n",
       "      <td>18.640117</td>\n",
       "      <td>4.856423</td>\n",
       "      <td>5.576341</td>\n",
       "      <td>0.959307</td>\n",
       "      <td>12656.656722</td>\n",
       "      <td>8623.018594</td>\n",
       "      <td>0.744477</td>\n",
       "      <td>342.628770</td>\n",
       "      <td>0.881535</td>\n",
       "      <td>278.043695</td>\n",
       "      <td>206.464432</td>\n",
       "    </tr>\n",
       "    <tr>\n",
       "      <th>min</th>\n",
       "      <td>0.000000</td>\n",
       "      <td>430.000000</td>\n",
       "      <td>12.000000</td>\n",
       "      <td>1.000000</td>\n",
       "      <td>1.000000</td>\n",
       "      <td>1.000000</td>\n",
       "      <td>2.000000</td>\n",
       "      <td>1.000000</td>\n",
       "      <td>1.300000</td>\n",
       "      <td>0.000000</td>\n",
       "      <td>0.000000</td>\n",
       "      <td>181.000000</td>\n",
       "      <td>0.000000</td>\n",
       "      <td>1.000000</td>\n",
       "      <td>0.000000</td>\n",
       "      <td>13.000000</td>\n",
       "      <td>1.000000</td>\n",
       "    </tr>\n",
       "    <tr>\n",
       "      <th>25%</th>\n",
       "      <td>6.000000</td>\n",
       "      <td>3450.000000</td>\n",
       "      <td>40.000000</td>\n",
       "      <td>1.000000</td>\n",
       "      <td>2.600000</td>\n",
       "      <td>5.000000</td>\n",
       "      <td>18.600000</td>\n",
       "      <td>2.000000</td>\n",
       "      <td>7.000000</td>\n",
       "      <td>0.000000</td>\n",
       "      <td>18551.000000</td>\n",
       "      <td>9360.250000</td>\n",
       "      <td>0.000000</td>\n",
       "      <td>288.000000</td>\n",
       "      <td>0.000000</td>\n",
       "      <td>295.000000</td>\n",
       "      <td>45.000000</td>\n",
       "    </tr>\n",
       "    <tr>\n",
       "      <th>50%</th>\n",
       "      <td>9.000000</td>\n",
       "      <td>4650.000000</td>\n",
       "      <td>52.000000</td>\n",
       "      <td>2.000000</td>\n",
       "      <td>2.650000</td>\n",
       "      <td>9.000000</td>\n",
       "      <td>30.000000</td>\n",
       "      <td>4.000000</td>\n",
       "      <td>9.000000</td>\n",
       "      <td>0.000000</td>\n",
       "      <td>26815.000000</td>\n",
       "      <td>13138.000000</td>\n",
       "      <td>0.000000</td>\n",
       "      <td>455.000000</td>\n",
       "      <td>0.000000</td>\n",
       "      <td>504.000000</td>\n",
       "      <td>95.000000</td>\n",
       "    </tr>\n",
       "    <tr>\n",
       "      <th>75%</th>\n",
       "      <td>14.000000</td>\n",
       "      <td>6700.000000</td>\n",
       "      <td>69.100000</td>\n",
       "      <td>3.000000</td>\n",
       "      <td>2.700000</td>\n",
       "      <td>16.000000</td>\n",
       "      <td>42.100000</td>\n",
       "      <td>8.000000</td>\n",
       "      <td>12.000000</td>\n",
       "      <td>1.000000</td>\n",
       "      <td>37347.000000</td>\n",
       "      <td>16307.500000</td>\n",
       "      <td>1.000000</td>\n",
       "      <td>612.000000</td>\n",
       "      <td>1.000000</td>\n",
       "      <td>733.000000</td>\n",
       "      <td>199.000000</td>\n",
       "    </tr>\n",
       "    <tr>\n",
       "      <th>max</th>\n",
       "      <td>24.000000</td>\n",
       "      <td>99000.000000</td>\n",
       "      <td>297.500000</td>\n",
       "      <td>6.000000</td>\n",
       "      <td>100.000000</td>\n",
       "      <td>60.000000</td>\n",
       "      <td>250.000000</td>\n",
       "      <td>33.000000</td>\n",
       "      <td>107.000000</td>\n",
       "      <td>5.000000</td>\n",
       "      <td>84869.000000</td>\n",
       "      <td>65968.000000</td>\n",
       "      <td>3.000000</td>\n",
       "      <td>3190.000000</td>\n",
       "      <td>3.000000</td>\n",
       "      <td>1344.000000</td>\n",
       "      <td>1580.000000</td>\n",
       "    </tr>\n",
       "  </tbody>\n",
       "</table>\n",
       "</div>"
      ],
      "text/plain": [
       "       total_images    last_price    total_area         rooms  ceiling_height  \\\n",
       "count  23243.000000  23243.000000  23243.000000  23243.000000    23243.000000   \n",
       "mean       9.848815   6136.866208     59.086868      2.057910        2.720574   \n",
       "std        5.614968   5974.939325     28.861011      0.983997        0.982900   \n",
       "min        0.000000    430.000000     12.000000      1.000000        1.000000   \n",
       "25%        6.000000   3450.000000     40.000000      1.000000        2.600000   \n",
       "50%        9.000000   4650.000000     52.000000      2.000000        2.650000   \n",
       "75%       14.000000   6700.000000     69.100000      3.000000        2.700000   \n",
       "max       24.000000  99000.000000    297.500000      6.000000      100.000000   \n",
       "\n",
       "       floors_total   living_area         floor  kitchen_area       balcony  \\\n",
       "count  23243.000000  21400.000000  23243.000000  21225.000000  23243.000000   \n",
       "mean      10.646173     33.735695      5.859011     10.447691      0.590371   \n",
       "std        6.572028     18.640117      4.856423      5.576341      0.959307   \n",
       "min        1.000000      2.000000      1.000000      1.300000      0.000000   \n",
       "25%        5.000000     18.600000      2.000000      7.000000      0.000000   \n",
       "50%        9.000000     30.000000      4.000000      9.000000      0.000000   \n",
       "75%       16.000000     42.100000      8.000000     12.000000      1.000000   \n",
       "max       60.000000    250.000000     33.000000    107.000000      5.000000   \n",
       "\n",
       "       airports_nearest  cityCenters_nearest  parks_around3000  parks_nearest  \\\n",
       "count      17797.000000         17818.000000      23243.000000    7902.000000   \n",
       "mean       28843.672361         14260.461051          0.465947     490.968742   \n",
       "std        12656.656722          8623.018594          0.744477     342.628770   \n",
       "min            0.000000           181.000000          0.000000       1.000000   \n",
       "25%        18551.000000          9360.250000          0.000000     288.000000   \n",
       "50%        26815.000000         13138.000000          0.000000     455.000000   \n",
       "75%        37347.000000         16307.500000          1.000000     612.000000   \n",
       "max        84869.000000         65968.000000          3.000000    3190.000000   \n",
       "\n",
       "       ponds_around3000  ponds_nearest  days_exposition  \n",
       "count      23243.000000    8884.000000     23243.000000  \n",
       "mean           0.586843     519.753264       169.518608  \n",
       "std            0.881535     278.043695       206.464432  \n",
       "min            0.000000      13.000000         1.000000  \n",
       "25%            0.000000     295.000000        45.000000  \n",
       "50%            0.000000     504.000000        95.000000  \n",
       "75%            1.000000     733.000000       199.000000  \n",
       "max            3.000000    1344.000000      1580.000000  "
      ]
     },
     "execution_count": 51,
     "metadata": {},
     "output_type": "execute_result"
    }
   ],
   "source": [
    "data = data[data.rooms > 0] #удаляем объявления с нулевым количеством комнат\n",
    "data.describe() #проверяем"
   ]
  },
  {
   "cell_type": "markdown",
   "metadata": {},
   "source": [
    "**Высота потолков**"
   ]
  },
  {
   "cell_type": "markdown",
   "metadata": {},
   "source": [
    "Проверяем, нет ли подозрительных значений в столбце *ceiling_height*."
   ]
  },
  {
   "cell_type": "code",
   "execution_count": 52,
   "metadata": {},
   "outputs": [
    {
     "data": {
      "text/plain": [
       "<function matplotlib.pyplot.show(close=None, block=None)>"
      ]
     },
     "execution_count": 52,
     "metadata": {},
     "output_type": "execute_result"
    },
    {
     "data": {
      "image/png": "[encoded data removed]",
      "text/plain": [
       "<Figure size 432x288 with 1 Axes>"
      ]
     },
     "metadata": {
      "needs_background": "light"
     },
     "output_type": "display_data"
    }
   ],
   "source": [
    "data.boxplot('ceiling_height')\n",
    "plt.show"
   ]
  },
  {
   "cell_type": "markdown",
   "metadata": {},
   "source": [
    "Начнём с минимальных значений, в таблице зафиксировано минимальное значение 1 м, по нормативам высота потолков не может быть менее 2,5 м, посмотрим сколько объявлений с низкими потолками."
   ]
  },
  {
   "cell_type": "code",
   "execution_count": 53,
   "metadata": {},
   "outputs": [
    {
     "data": {
      "text/plain": [
       "73"
      ]
     },
     "execution_count": 53,
     "metadata": {},
     "output_type": "execute_result"
    }
   ],
   "source": [
    "len(data.query('ceiling_height < 2.5'))"
   ]
  },
  {
   "cell_type": "markdown",
   "metadata": {},
   "source": [
    "Удаляем аномально низкие значения и максимальное значение на 100 м, которое видно на графике."
   ]
  },
  {
   "cell_type": "code",
   "execution_count": 54,
   "metadata": {},
   "outputs": [],
   "source": [
    "data = data[data.ceiling_height >= 2.5]\n",
    "data = data[data.ceiling_height < 40]"
   ]
  },
  {
   "cell_type": "markdown",
   "metadata": {},
   "source": [
    "Посмотрим на большие значения крупнее."
   ]
  },
  {
   "cell_type": "code",
   "execution_count": 55,
   "metadata": {},
   "outputs": [
    {
     "data": {
      "text/plain": [
       "(4.0, 40.0)"
      ]
     },
     "execution_count": 55,
     "metadata": {},
     "output_type": "execute_result"
    },
    {
     "data": {
      "image/png": "[encoded data removed]",
      "text/plain": [
       "<Figure size 432x288 with 1 Axes>"
      ]
     },
     "metadata": {
      "needs_background": "light"
     },
     "output_type": "display_data"
    }
   ],
   "source": [
    "data.boxplot('ceiling_height')\n",
    "plt.ylim(4, 40)"
   ]
  },
  {
   "cell_type": "markdown",
   "metadata": {},
   "source": [
    "Если взять за основуданные что потолки в квартирах (не ощественных местах) находятся в дипозоне от 2,5 м до 4 м, то можно предположить, что выбросы yf графике от 25 м до 35 м - это ошибка в мерах измерения, их мы разделим на 10, а остальные удалим как редкие."
   ]
  },
  {
   "cell_type": "code",
   "execution_count": 56,
   "metadata": {},
   "outputs": [
    {
     "data": {
      "text/html": [
       "<div>\n",
       "<style scoped>\n",
       "    .dataframe tbody tr th:only-of-type {\n",
       "        vertical-align: middle;\n",
       "    }\n",
       "\n",
       "    .dataframe tbody tr th {\n",
       "        vertical-align: top;\n",
       "    }\n",
       "\n",
       "    .dataframe thead th {\n",
       "        text-align: right;\n",
       "    }\n",
       "</style>\n",
       "<table border=\"1\" class=\"dataframe\">\n",
       "  <thead>\n",
       "    <tr style=\"text-align: right;\">\n",
       "      <th></th>\n",
       "      <th>total_images</th>\n",
       "      <th>last_price</th>\n",
       "      <th>total_area</th>\n",
       "      <th>rooms</th>\n",
       "      <th>ceiling_height</th>\n",
       "      <th>floors_total</th>\n",
       "      <th>living_area</th>\n",
       "      <th>floor</th>\n",
       "      <th>kitchen_area</th>\n",
       "      <th>balcony</th>\n",
       "      <th>airports_nearest</th>\n",
       "      <th>cityCenters_nearest</th>\n",
       "      <th>parks_around3000</th>\n",
       "      <th>parks_nearest</th>\n",
       "      <th>ponds_around3000</th>\n",
       "      <th>ponds_nearest</th>\n",
       "      <th>days_exposition</th>\n",
       "    </tr>\n",
       "  </thead>\n",
       "  <tbody>\n",
       "    <tr>\n",
       "      <th>count</th>\n",
       "      <td>23160.000000</td>\n",
       "      <td>23160.000000</td>\n",
       "      <td>23160.000000</td>\n",
       "      <td>23160.000000</td>\n",
       "      <td>23160.000000</td>\n",
       "      <td>23160.000000</td>\n",
       "      <td>21323.000000</td>\n",
       "      <td>23160.000000</td>\n",
       "      <td>21151.000000</td>\n",
       "      <td>23160.000000</td>\n",
       "      <td>17746.000000</td>\n",
       "      <td>17767.000000</td>\n",
       "      <td>23160.000000</td>\n",
       "      <td>7871.000000</td>\n",
       "      <td>23160.000000</td>\n",
       "      <td>8858.000000</td>\n",
       "      <td>23160.000000</td>\n",
       "    </tr>\n",
       "    <tr>\n",
       "      <th>mean</th>\n",
       "      <td>9.854404</td>\n",
       "      <td>6144.555409</td>\n",
       "      <td>59.124780</td>\n",
       "      <td>2.058204</td>\n",
       "      <td>2.694698</td>\n",
       "      <td>10.655699</td>\n",
       "      <td>33.750156</td>\n",
       "      <td>5.863385</td>\n",
       "      <td>10.456213</td>\n",
       "      <td>0.589292</td>\n",
       "      <td>28849.125831</td>\n",
       "      <td>14257.680306</td>\n",
       "      <td>0.465717</td>\n",
       "      <td>490.968238</td>\n",
       "      <td>0.587392</td>\n",
       "      <td>519.840596</td>\n",
       "      <td>169.606822</td>\n",
       "    </tr>\n",
       "    <tr>\n",
       "      <th>std</th>\n",
       "      <td>5.613242</td>\n",
       "      <td>5982.601500</td>\n",
       "      <td>28.891825</td>\n",
       "      <td>0.984520</td>\n",
       "      <td>0.211994</td>\n",
       "      <td>6.574292</td>\n",
       "      <td>18.659169</td>\n",
       "      <td>4.860344</td>\n",
       "      <td>5.580961</td>\n",
       "      <td>0.958109</td>\n",
       "      <td>12657.630472</td>\n",
       "      <td>8623.817545</td>\n",
       "      <td>0.744332</td>\n",
       "      <td>343.124429</td>\n",
       "      <td>0.881931</td>\n",
       "      <td>278.077736</td>\n",
       "      <td>206.651097</td>\n",
       "    </tr>\n",
       "    <tr>\n",
       "      <th>min</th>\n",
       "      <td>0.000000</td>\n",
       "      <td>430.000000</td>\n",
       "      <td>12.000000</td>\n",
       "      <td>1.000000</td>\n",
       "      <td>2.500000</td>\n",
       "      <td>1.000000</td>\n",
       "      <td>2.000000</td>\n",
       "      <td>1.000000</td>\n",
       "      <td>1.300000</td>\n",
       "      <td>0.000000</td>\n",
       "      <td>0.000000</td>\n",
       "      <td>181.000000</td>\n",
       "      <td>0.000000</td>\n",
       "      <td>1.000000</td>\n",
       "      <td>0.000000</td>\n",
       "      <td>13.000000</td>\n",
       "      <td>1.000000</td>\n",
       "    </tr>\n",
       "    <tr>\n",
       "      <th>25%</th>\n",
       "      <td>6.000000</td>\n",
       "      <td>3450.000000</td>\n",
       "      <td>40.000000</td>\n",
       "      <td>1.000000</td>\n",
       "      <td>2.600000</td>\n",
       "      <td>5.000000</td>\n",
       "      <td>18.600000</td>\n",
       "      <td>2.000000</td>\n",
       "      <td>7.000000</td>\n",
       "      <td>0.000000</td>\n",
       "      <td>18551.000000</td>\n",
       "      <td>9357.500000</td>\n",
       "      <td>0.000000</td>\n",
       "      <td>288.000000</td>\n",
       "      <td>0.000000</td>\n",
       "      <td>295.000000</td>\n",
       "      <td>45.000000</td>\n",
       "    </tr>\n",
       "    <tr>\n",
       "      <th>50%</th>\n",
       "      <td>9.000000</td>\n",
       "      <td>4650.000000</td>\n",
       "      <td>52.000000</td>\n",
       "      <td>2.000000</td>\n",
       "      <td>2.650000</td>\n",
       "      <td>9.000000</td>\n",
       "      <td>30.000000</td>\n",
       "      <td>4.000000</td>\n",
       "      <td>9.100000</td>\n",
       "      <td>0.000000</td>\n",
       "      <td>26822.000000</td>\n",
       "      <td>13138.000000</td>\n",
       "      <td>0.000000</td>\n",
       "      <td>454.000000</td>\n",
       "      <td>0.000000</td>\n",
       "      <td>504.000000</td>\n",
       "      <td>95.000000</td>\n",
       "    </tr>\n",
       "    <tr>\n",
       "      <th>75%</th>\n",
       "      <td>14.000000</td>\n",
       "      <td>6714.299250</td>\n",
       "      <td>69.200000</td>\n",
       "      <td>3.000000</td>\n",
       "      <td>2.700000</td>\n",
       "      <td>16.000000</td>\n",
       "      <td>42.100000</td>\n",
       "      <td>8.000000</td>\n",
       "      <td>12.000000</td>\n",
       "      <td>1.000000</td>\n",
       "      <td>37360.750000</td>\n",
       "      <td>16303.000000</td>\n",
       "      <td>1.000000</td>\n",
       "      <td>613.000000</td>\n",
       "      <td>1.000000</td>\n",
       "      <td>733.000000</td>\n",
       "      <td>199.000000</td>\n",
       "    </tr>\n",
       "    <tr>\n",
       "      <th>max</th>\n",
       "      <td>24.000000</td>\n",
       "      <td>99000.000000</td>\n",
       "      <td>297.500000</td>\n",
       "      <td>6.000000</td>\n",
       "      <td>5.500000</td>\n",
       "      <td>60.000000</td>\n",
       "      <td>250.000000</td>\n",
       "      <td>33.000000</td>\n",
       "      <td>107.000000</td>\n",
       "      <td>5.000000</td>\n",
       "      <td>84869.000000</td>\n",
       "      <td>65968.000000</td>\n",
       "      <td>3.000000</td>\n",
       "      <td>3190.000000</td>\n",
       "      <td>3.000000</td>\n",
       "      <td>1344.000000</td>\n",
       "      <td>1580.000000</td>\n",
       "    </tr>\n",
       "  </tbody>\n",
       "</table>\n",
       "</div>"
      ],
      "text/plain": [
       "       total_images    last_price    total_area         rooms  ceiling_height  \\\n",
       "count  23160.000000  23160.000000  23160.000000  23160.000000    23160.000000   \n",
       "mean       9.854404   6144.555409     59.124780      2.058204        2.694698   \n",
       "std        5.613242   5982.601500     28.891825      0.984520        0.211994   \n",
       "min        0.000000    430.000000     12.000000      1.000000        2.500000   \n",
       "25%        6.000000   3450.000000     40.000000      1.000000        2.600000   \n",
       "50%        9.000000   4650.000000     52.000000      2.000000        2.650000   \n",
       "75%       14.000000   6714.299250     69.200000      3.000000        2.700000   \n",
       "max       24.000000  99000.000000    297.500000      6.000000        5.500000   \n",
       "\n",
       "       floors_total   living_area         floor  kitchen_area       balcony  \\\n",
       "count  23160.000000  21323.000000  23160.000000  21151.000000  23160.000000   \n",
       "mean      10.655699     33.750156      5.863385     10.456213      0.589292   \n",
       "std        6.574292     18.659169      4.860344      5.580961      0.958109   \n",
       "min        1.000000      2.000000      1.000000      1.300000      0.000000   \n",
       "25%        5.000000     18.600000      2.000000      7.000000      0.000000   \n",
       "50%        9.000000     30.000000      4.000000      9.100000      0.000000   \n",
       "75%       16.000000     42.100000      8.000000     12.000000      1.000000   \n",
       "max       60.000000    250.000000     33.000000    107.000000      5.000000   \n",
       "\n",
       "       airports_nearest  cityCenters_nearest  parks_around3000  parks_nearest  \\\n",
       "count      17746.000000         17767.000000      23160.000000    7871.000000   \n",
       "mean       28849.125831         14257.680306          0.465717     490.968238   \n",
       "std        12657.630472          8623.817545          0.744332     343.124429   \n",
       "min            0.000000           181.000000          0.000000       1.000000   \n",
       "25%        18551.000000          9357.500000          0.000000     288.000000   \n",
       "50%        26822.000000         13138.000000          0.000000     454.000000   \n",
       "75%        37360.750000         16303.000000          1.000000     613.000000   \n",
       "max        84869.000000         65968.000000          3.000000    3190.000000   \n",
       "\n",
       "       ponds_around3000  ponds_nearest  days_exposition  \n",
       "count      23160.000000    8858.000000     23160.000000  \n",
       "mean           0.587392     519.840596       169.606822  \n",
       "std            0.881931     278.077736       206.651097  \n",
       "min            0.000000      13.000000         1.000000  \n",
       "25%            0.000000     295.000000        45.000000  \n",
       "50%            0.000000     504.000000        95.000000  \n",
       "75%            1.000000     733.000000       199.000000  \n",
       "max            3.000000    1344.000000      1580.000000  "
      ]
     },
     "execution_count": 56,
     "metadata": {},
     "output_type": "execute_result"
    }
   ],
   "source": [
    "data.loc[data['ceiling_height'] >= 25, 'ceiling_height'] = data['ceiling_height'] / 10\n",
    "data = data[data.ceiling_height < 7]\n",
    "data.describe() #проверяем"
   ]
  },
  {
   "cell_type": "markdown",
   "metadata": {},
   "source": [
    "**Всего этажей в доме**"
   ]
  },
  {
   "cell_type": "markdown",
   "metadata": {},
   "source": [
    "Выведем диаграмму размаха для столбца *floors_total*."
   ]
  },
  {
   "cell_type": "code",
   "execution_count": 57,
   "metadata": {},
   "outputs": [
    {
     "data": {
      "text/plain": [
       "<function matplotlib.pyplot.show(close=None, block=None)>"
      ]
     },
     "execution_count": 57,
     "metadata": {},
     "output_type": "execute_result"
    },
    {
     "data": {
      "image/png": "[encoded data removed]",
      "text/plain": [
       "<Figure size 432x288 with 1 Axes>"
      ]
     },
     "metadata": {
      "needs_background": "light"
     },
     "output_type": "display_data"
    }
   ],
   "source": [
    "data.boxplot('floors_total')\n",
    "plt.show"
   ]
  },
  {
   "cell_type": "markdown",
   "metadata": {},
   "source": [
    "По данным в интернете, самое высокое жилое здание в Санкт-Петерурге состоит из 37 этажей (Жилой комплекс «Князь Александр Невский»), а в Ленинградской области 29 этажей (п. Мурино), всё, что больше этого количества - удаляем (судя по графику таких значений 2)."
   ]
  },
  {
   "cell_type": "code",
   "execution_count": 58,
   "metadata": {},
   "outputs": [
    {
     "data": {
      "text/html": [
       "<div>\n",
       "<style scoped>\n",
       "    .dataframe tbody tr th:only-of-type {\n",
       "        vertical-align: middle;\n",
       "    }\n",
       "\n",
       "    .dataframe tbody tr th {\n",
       "        vertical-align: top;\n",
       "    }\n",
       "\n",
       "    .dataframe thead th {\n",
       "        text-align: right;\n",
       "    }\n",
       "</style>\n",
       "<table border=\"1\" class=\"dataframe\">\n",
       "  <thead>\n",
       "    <tr style=\"text-align: right;\">\n",
       "      <th></th>\n",
       "      <th>total_images</th>\n",
       "      <th>last_price</th>\n",
       "      <th>total_area</th>\n",
       "      <th>rooms</th>\n",
       "      <th>ceiling_height</th>\n",
       "      <th>floors_total</th>\n",
       "      <th>living_area</th>\n",
       "      <th>floor</th>\n",
       "      <th>kitchen_area</th>\n",
       "      <th>balcony</th>\n",
       "      <th>airports_nearest</th>\n",
       "      <th>cityCenters_nearest</th>\n",
       "      <th>parks_around3000</th>\n",
       "      <th>parks_nearest</th>\n",
       "      <th>ponds_around3000</th>\n",
       "      <th>ponds_nearest</th>\n",
       "      <th>days_exposition</th>\n",
       "    </tr>\n",
       "  </thead>\n",
       "  <tbody>\n",
       "    <tr>\n",
       "      <th>count</th>\n",
       "      <td>23158.000000</td>\n",
       "      <td>23158.000000</td>\n",
       "      <td>23158.000000</td>\n",
       "      <td>23158.000000</td>\n",
       "      <td>23158.000000</td>\n",
       "      <td>23158.000000</td>\n",
       "      <td>21321.000000</td>\n",
       "      <td>23158.000000</td>\n",
       "      <td>21149.000000</td>\n",
       "      <td>23158.000000</td>\n",
       "      <td>17744.000000</td>\n",
       "      <td>17765.000000</td>\n",
       "      <td>23158.000000</td>\n",
       "      <td>7869.000000</td>\n",
       "      <td>23158.000000</td>\n",
       "      <td>8857.000000</td>\n",
       "      <td>23158.000000</td>\n",
       "    </tr>\n",
       "    <tr>\n",
       "      <th>mean</th>\n",
       "      <td>9.854348</td>\n",
       "      <td>6144.750206</td>\n",
       "      <td>59.126194</td>\n",
       "      <td>2.058252</td>\n",
       "      <td>2.694692</td>\n",
       "      <td>10.651783</td>\n",
       "      <td>33.751545</td>\n",
       "      <td>5.862942</td>\n",
       "      <td>10.456190</td>\n",
       "      <td>0.589343</td>\n",
       "      <td>28847.390442</td>\n",
       "      <td>14255.769209</td>\n",
       "      <td>0.465627</td>\n",
       "      <td>490.948786</td>\n",
       "      <td>0.587313</td>\n",
       "      <td>519.829965</td>\n",
       "      <td>169.612359</td>\n",
       "    </tr>\n",
       "    <tr>\n",
       "      <th>std</th>\n",
       "      <td>5.613464</td>\n",
       "      <td>5982.823062</td>\n",
       "      <td>28.892661</td>\n",
       "      <td>0.984538</td>\n",
       "      <td>0.211999</td>\n",
       "      <td>6.560951</td>\n",
       "      <td>18.659314</td>\n",
       "      <td>4.859884</td>\n",
       "      <td>5.581132</td>\n",
       "      <td>0.958135</td>\n",
       "      <td>12654.825281</td>\n",
       "      <td>8620.245709</td>\n",
       "      <td>0.744287</td>\n",
       "      <td>343.147032</td>\n",
       "      <td>0.881818</td>\n",
       "      <td>278.091635</td>\n",
       "      <td>206.658397</td>\n",
       "    </tr>\n",
       "    <tr>\n",
       "      <th>min</th>\n",
       "      <td>0.000000</td>\n",
       "      <td>430.000000</td>\n",
       "      <td>12.000000</td>\n",
       "      <td>1.000000</td>\n",
       "      <td>2.500000</td>\n",
       "      <td>1.000000</td>\n",
       "      <td>2.000000</td>\n",
       "      <td>1.000000</td>\n",
       "      <td>1.300000</td>\n",
       "      <td>0.000000</td>\n",
       "      <td>0.000000</td>\n",
       "      <td>181.000000</td>\n",
       "      <td>0.000000</td>\n",
       "      <td>1.000000</td>\n",
       "      <td>0.000000</td>\n",
       "      <td>13.000000</td>\n",
       "      <td>1.000000</td>\n",
       "    </tr>\n",
       "    <tr>\n",
       "      <th>25%</th>\n",
       "      <td>6.000000</td>\n",
       "      <td>3450.000000</td>\n",
       "      <td>40.000000</td>\n",
       "      <td>1.000000</td>\n",
       "      <td>2.600000</td>\n",
       "      <td>5.000000</td>\n",
       "      <td>18.600000</td>\n",
       "      <td>2.000000</td>\n",
       "      <td>7.000000</td>\n",
       "      <td>0.000000</td>\n",
       "      <td>18551.000000</td>\n",
       "      <td>9356.000000</td>\n",
       "      <td>0.000000</td>\n",
       "      <td>288.000000</td>\n",
       "      <td>0.000000</td>\n",
       "      <td>295.000000</td>\n",
       "      <td>45.000000</td>\n",
       "    </tr>\n",
       "    <tr>\n",
       "      <th>50%</th>\n",
       "      <td>9.000000</td>\n",
       "      <td>4650.000000</td>\n",
       "      <td>52.000000</td>\n",
       "      <td>2.000000</td>\n",
       "      <td>2.650000</td>\n",
       "      <td>9.000000</td>\n",
       "      <td>30.000000</td>\n",
       "      <td>4.000000</td>\n",
       "      <td>9.100000</td>\n",
       "      <td>0.000000</td>\n",
       "      <td>26822.000000</td>\n",
       "      <td>13138.000000</td>\n",
       "      <td>0.000000</td>\n",
       "      <td>454.000000</td>\n",
       "      <td>0.000000</td>\n",
       "      <td>504.000000</td>\n",
       "      <td>95.000000</td>\n",
       "    </tr>\n",
       "    <tr>\n",
       "      <th>75%</th>\n",
       "      <td>14.000000</td>\n",
       "      <td>6718.099750</td>\n",
       "      <td>69.200000</td>\n",
       "      <td>3.000000</td>\n",
       "      <td>2.700000</td>\n",
       "      <td>16.000000</td>\n",
       "      <td>42.100000</td>\n",
       "      <td>8.000000</td>\n",
       "      <td>12.000000</td>\n",
       "      <td>1.000000</td>\n",
       "      <td>37354.250000</td>\n",
       "      <td>16300.000000</td>\n",
       "      <td>1.000000</td>\n",
       "      <td>613.000000</td>\n",
       "      <td>1.000000</td>\n",
       "      <td>733.000000</td>\n",
       "      <td>199.000000</td>\n",
       "    </tr>\n",
       "    <tr>\n",
       "      <th>max</th>\n",
       "      <td>24.000000</td>\n",
       "      <td>99000.000000</td>\n",
       "      <td>297.500000</td>\n",
       "      <td>6.000000</td>\n",
       "      <td>5.500000</td>\n",
       "      <td>36.000000</td>\n",
       "      <td>250.000000</td>\n",
       "      <td>33.000000</td>\n",
       "      <td>107.000000</td>\n",
       "      <td>5.000000</td>\n",
       "      <td>84869.000000</td>\n",
       "      <td>65968.000000</td>\n",
       "      <td>3.000000</td>\n",
       "      <td>3190.000000</td>\n",
       "      <td>3.000000</td>\n",
       "      <td>1344.000000</td>\n",
       "      <td>1580.000000</td>\n",
       "    </tr>\n",
       "  </tbody>\n",
       "</table>\n",
       "</div>"
      ],
      "text/plain": [
       "       total_images    last_price    total_area         rooms  ceiling_height  \\\n",
       "count  23158.000000  23158.000000  23158.000000  23158.000000    23158.000000   \n",
       "mean       9.854348   6144.750206     59.126194      2.058252        2.694692   \n",
       "std        5.613464   5982.823062     28.892661      0.984538        0.211999   \n",
       "min        0.000000    430.000000     12.000000      1.000000        2.500000   \n",
       "25%        6.000000   3450.000000     40.000000      1.000000        2.600000   \n",
       "50%        9.000000   4650.000000     52.000000      2.000000        2.650000   \n",
       "75%       14.000000   6718.099750     69.200000      3.000000        2.700000   \n",
       "max       24.000000  99000.000000    297.500000      6.000000        5.500000   \n",
       "\n",
       "       floors_total   living_area         floor  kitchen_area       balcony  \\\n",
       "count  23158.000000  21321.000000  23158.000000  21149.000000  23158.000000   \n",
       "mean      10.651783     33.751545      5.862942     10.456190      0.589343   \n",
       "std        6.560951     18.659314      4.859884      5.581132      0.958135   \n",
       "min        1.000000      2.000000      1.000000      1.300000      0.000000   \n",
       "25%        5.000000     18.600000      2.000000      7.000000      0.000000   \n",
       "50%        9.000000     30.000000      4.000000      9.100000      0.000000   \n",
       "75%       16.000000     42.100000      8.000000     12.000000      1.000000   \n",
       "max       36.000000    250.000000     33.000000    107.000000      5.000000   \n",
       "\n",
       "       airports_nearest  cityCenters_nearest  parks_around3000  parks_nearest  \\\n",
       "count      17744.000000         17765.000000      23158.000000    7869.000000   \n",
       "mean       28847.390442         14255.769209          0.465627     490.948786   \n",
       "std        12654.825281          8620.245709          0.744287     343.147032   \n",
       "min            0.000000           181.000000          0.000000       1.000000   \n",
       "25%        18551.000000          9356.000000          0.000000     288.000000   \n",
       "50%        26822.000000         13138.000000          0.000000     454.000000   \n",
       "75%        37354.250000         16300.000000          1.000000     613.000000   \n",
       "max        84869.000000         65968.000000          3.000000    3190.000000   \n",
       "\n",
       "       ponds_around3000  ponds_nearest  days_exposition  \n",
       "count      23158.000000    8857.000000     23158.000000  \n",
       "mean           0.587313     519.829965       169.612359  \n",
       "std            0.881818     278.091635       206.658397  \n",
       "min            0.000000      13.000000         1.000000  \n",
       "25%            0.000000     295.000000        45.000000  \n",
       "50%            0.000000     504.000000        95.000000  \n",
       "75%            1.000000     733.000000       199.000000  \n",
       "max            3.000000    1344.000000      1580.000000  "
      ]
     },
     "execution_count": 58,
     "metadata": {},
     "output_type": "execute_result"
    }
   ],
   "source": [
    "data = data.loc[(data['floors_total']<=37)]\n",
    "data.describe() #проверяем"
   ]
  },
  {
   "cell_type": "markdown",
   "metadata": {},
   "source": [
    "**Жилая площадь**"
   ]
  },
  {
   "cell_type": "markdown",
   "metadata": {},
   "source": [
    "Посмотрим на диаграмму размаха в столбце *living_area*."
   ]
  },
  {
   "cell_type": "code",
   "execution_count": 59,
   "metadata": {},
   "outputs": [
    {
     "data": {
      "text/plain": [
       "<function matplotlib.pyplot.show(close=None, block=None)>"
      ]
     },
     "execution_count": 59,
     "metadata": {},
     "output_type": "execute_result"
    },
    {
     "data": {
      "image/png": "[encoded data removed]",
      "text/plain": [
       "<Figure size 432x288 with 1 Axes>"
      ]
     },
     "metadata": {
      "needs_background": "light"
     },
     "output_type": "display_data"
    }
   ],
   "source": [
    "data.boxplot('living_area')\n",
    "plt.show"
   ]
  },
  {
   "cell_type": "markdown",
   "metadata": {},
   "source": [
    "По таблице видно, что минимальное значение в 2 кв.м., при у словии что минимальная общая площадь в таблице 12 кв.м., судя по актуальным объявлениям, при площади в 12 кв.м. - жилая площадь составляет от 6-8 кв.м. "
   ]
  },
  {
   "cell_type": "code",
   "execution_count": 60,
   "metadata": {},
   "outputs": [
    {
     "data": {
      "text/plain": [
       "4"
      ]
     },
     "execution_count": 60,
     "metadata": {},
     "output_type": "execute_result"
    }
   ],
   "source": [
    "len(data.query('living_area < 6')) # gосмотрим сколько объявленияй меньше 6 кв.м."
   ]
  },
  {
   "cell_type": "code",
   "execution_count": 61,
   "metadata": {},
   "outputs": [
    {
     "data": {
      "text/plain": [
       "6"
      ]
     },
     "execution_count": 61,
     "metadata": {},
     "output_type": "execute_result"
    }
   ],
   "source": [
    "len(data.query('living_area < 8')) # gосмотрим сколько объявленияй меньше 8 кв.м."
   ]
  },
  {
   "cell_type": "markdown",
   "metadata": {},
   "source": [
    "Удаляем объявления с минимальными значениями, также можно удалим строку со значение в 250 кв.м. так как оно единственное и превышает основную массу на 50 кв.м., что странно, учитывая данные по общей площади, где квартир с площадью от 150 кв.м. до 300 кв.м. довольно много, это можно объяснить тем, что в жилую площадь не входят кухня, гардеробные и санузлы, которые могут отнимать достаточно большое  количество площади."
   ]
  },
  {
   "cell_type": "code",
   "execution_count": 62,
   "metadata": {},
   "outputs": [
    {
     "data": {
      "text/html": [
       "<div>\n",
       "<style scoped>\n",
       "    .dataframe tbody tr th:only-of-type {\n",
       "        vertical-align: middle;\n",
       "    }\n",
       "\n",
       "    .dataframe tbody tr th {\n",
       "        vertical-align: top;\n",
       "    }\n",
       "\n",
       "    .dataframe thead th {\n",
       "        text-align: right;\n",
       "    }\n",
       "</style>\n",
       "<table border=\"1\" class=\"dataframe\">\n",
       "  <thead>\n",
       "    <tr style=\"text-align: right;\">\n",
       "      <th></th>\n",
       "      <th>total_images</th>\n",
       "      <th>last_price</th>\n",
       "      <th>total_area</th>\n",
       "      <th>rooms</th>\n",
       "      <th>ceiling_height</th>\n",
       "      <th>floors_total</th>\n",
       "      <th>living_area</th>\n",
       "      <th>floor</th>\n",
       "      <th>kitchen_area</th>\n",
       "      <th>balcony</th>\n",
       "      <th>airports_nearest</th>\n",
       "      <th>cityCenters_nearest</th>\n",
       "      <th>parks_around3000</th>\n",
       "      <th>parks_nearest</th>\n",
       "      <th>ponds_around3000</th>\n",
       "      <th>ponds_nearest</th>\n",
       "      <th>days_exposition</th>\n",
       "    </tr>\n",
       "  </thead>\n",
       "  <tbody>\n",
       "    <tr>\n",
       "      <th>count</th>\n",
       "      <td>23149.000000</td>\n",
       "      <td>23149.000000</td>\n",
       "      <td>23149.000000</td>\n",
       "      <td>23149.000000</td>\n",
       "      <td>23149.000000</td>\n",
       "      <td>23149.000000</td>\n",
       "      <td>21312.000000</td>\n",
       "      <td>23149.000000</td>\n",
       "      <td>21140.000000</td>\n",
       "      <td>23149.000000</td>\n",
       "      <td>17735.000000</td>\n",
       "      <td>17756.000000</td>\n",
       "      <td>23149.000000</td>\n",
       "      <td>7862.000000</td>\n",
       "      <td>23149.000000</td>\n",
       "      <td>8853.000000</td>\n",
       "      <td>23149.000000</td>\n",
       "    </tr>\n",
       "    <tr>\n",
       "      <th>mean</th>\n",
       "      <td>9.853039</td>\n",
       "      <td>6139.085761</td>\n",
       "      <td>59.116575</td>\n",
       "      <td>2.058231</td>\n",
       "      <td>2.694700</td>\n",
       "      <td>10.651734</td>\n",
       "      <td>33.752101</td>\n",
       "      <td>5.862154</td>\n",
       "      <td>10.452657</td>\n",
       "      <td>0.589529</td>\n",
       "      <td>28849.514576</td>\n",
       "      <td>14258.553841</td>\n",
       "      <td>0.465420</td>\n",
       "      <td>491.030145</td>\n",
       "      <td>0.587196</td>\n",
       "      <td>519.817689</td>\n",
       "      <td>169.628148</td>\n",
       "    </tr>\n",
       "    <tr>\n",
       "      <th>std</th>\n",
       "      <td>5.613533</td>\n",
       "      <td>5949.985806</td>\n",
       "      <td>28.850313</td>\n",
       "      <td>0.984446</td>\n",
       "      <td>0.212008</td>\n",
       "      <td>6.561371</td>\n",
       "      <td>18.596121</td>\n",
       "      <td>4.858803</td>\n",
       "      <td>5.576846</td>\n",
       "      <td>0.958255</td>\n",
       "      <td>12656.277770</td>\n",
       "      <td>8621.287874</td>\n",
       "      <td>0.744241</td>\n",
       "      <td>343.251881</td>\n",
       "      <td>0.881654</td>\n",
       "      <td>278.000361</td>\n",
       "      <td>206.691562</td>\n",
       "    </tr>\n",
       "    <tr>\n",
       "      <th>min</th>\n",
       "      <td>0.000000</td>\n",
       "      <td>430.000000</td>\n",
       "      <td>12.000000</td>\n",
       "      <td>1.000000</td>\n",
       "      <td>2.500000</td>\n",
       "      <td>1.000000</td>\n",
       "      <td>8.300000</td>\n",
       "      <td>1.000000</td>\n",
       "      <td>1.300000</td>\n",
       "      <td>0.000000</td>\n",
       "      <td>0.000000</td>\n",
       "      <td>181.000000</td>\n",
       "      <td>0.000000</td>\n",
       "      <td>1.000000</td>\n",
       "      <td>0.000000</td>\n",
       "      <td>13.000000</td>\n",
       "      <td>1.000000</td>\n",
       "    </tr>\n",
       "    <tr>\n",
       "      <th>25%</th>\n",
       "      <td>6.000000</td>\n",
       "      <td>3450.000000</td>\n",
       "      <td>40.000000</td>\n",
       "      <td>1.000000</td>\n",
       "      <td>2.600000</td>\n",
       "      <td>5.000000</td>\n",
       "      <td>18.700000</td>\n",
       "      <td>2.000000</td>\n",
       "      <td>7.000000</td>\n",
       "      <td>0.000000</td>\n",
       "      <td>18551.000000</td>\n",
       "      <td>9360.000000</td>\n",
       "      <td>0.000000</td>\n",
       "      <td>288.000000</td>\n",
       "      <td>0.000000</td>\n",
       "      <td>295.000000</td>\n",
       "      <td>45.000000</td>\n",
       "    </tr>\n",
       "    <tr>\n",
       "      <th>50%</th>\n",
       "      <td>9.000000</td>\n",
       "      <td>4650.000000</td>\n",
       "      <td>52.000000</td>\n",
       "      <td>2.000000</td>\n",
       "      <td>2.650000</td>\n",
       "      <td>9.000000</td>\n",
       "      <td>30.000000</td>\n",
       "      <td>4.000000</td>\n",
       "      <td>9.095000</td>\n",
       "      <td>0.000000</td>\n",
       "      <td>26819.000000</td>\n",
       "      <td>13140.500000</td>\n",
       "      <td>0.000000</td>\n",
       "      <td>454.500000</td>\n",
       "      <td>0.000000</td>\n",
       "      <td>504.000000</td>\n",
       "      <td>95.000000</td>\n",
       "    </tr>\n",
       "    <tr>\n",
       "      <th>75%</th>\n",
       "      <td>14.000000</td>\n",
       "      <td>6712.399000</td>\n",
       "      <td>69.200000</td>\n",
       "      <td>3.000000</td>\n",
       "      <td>2.700000</td>\n",
       "      <td>16.000000</td>\n",
       "      <td>42.100000</td>\n",
       "      <td>8.000000</td>\n",
       "      <td>12.000000</td>\n",
       "      <td>1.000000</td>\n",
       "      <td>37364.000000</td>\n",
       "      <td>16309.000000</td>\n",
       "      <td>1.000000</td>\n",
       "      <td>613.000000</td>\n",
       "      <td>1.000000</td>\n",
       "      <td>733.000000</td>\n",
       "      <td>199.000000</td>\n",
       "    </tr>\n",
       "    <tr>\n",
       "      <th>max</th>\n",
       "      <td>24.000000</td>\n",
       "      <td>99000.000000</td>\n",
       "      <td>297.500000</td>\n",
       "      <td>6.000000</td>\n",
       "      <td>5.500000</td>\n",
       "      <td>36.000000</td>\n",
       "      <td>200.000000</td>\n",
       "      <td>33.000000</td>\n",
       "      <td>107.000000</td>\n",
       "      <td>5.000000</td>\n",
       "      <td>84869.000000</td>\n",
       "      <td>65968.000000</td>\n",
       "      <td>3.000000</td>\n",
       "      <td>3190.000000</td>\n",
       "      <td>3.000000</td>\n",
       "      <td>1344.000000</td>\n",
       "      <td>1580.000000</td>\n",
       "    </tr>\n",
       "  </tbody>\n",
       "</table>\n",
       "</div>"
      ],
      "text/plain": [
       "       total_images    last_price    total_area         rooms  ceiling_height  \\\n",
       "count  23149.000000  23149.000000  23149.000000  23149.000000    23149.000000   \n",
       "mean       9.853039   6139.085761     59.116575      2.058231        2.694700   \n",
       "std        5.613533   5949.985806     28.850313      0.984446        0.212008   \n",
       "min        0.000000    430.000000     12.000000      1.000000        2.500000   \n",
       "25%        6.000000   3450.000000     40.000000      1.000000        2.600000   \n",
       "50%        9.000000   4650.000000     52.000000      2.000000        2.650000   \n",
       "75%       14.000000   6712.399000     69.200000      3.000000        2.700000   \n",
       "max       24.000000  99000.000000    297.500000      6.000000        5.500000   \n",
       "\n",
       "       floors_total   living_area         floor  kitchen_area       balcony  \\\n",
       "count  23149.000000  21312.000000  23149.000000  21140.000000  23149.000000   \n",
       "mean      10.651734     33.752101      5.862154     10.452657      0.589529   \n",
       "std        6.561371     18.596121      4.858803      5.576846      0.958255   \n",
       "min        1.000000      8.300000      1.000000      1.300000      0.000000   \n",
       "25%        5.000000     18.700000      2.000000      7.000000      0.000000   \n",
       "50%        9.000000     30.000000      4.000000      9.095000      0.000000   \n",
       "75%       16.000000     42.100000      8.000000     12.000000      1.000000   \n",
       "max       36.000000    200.000000     33.000000    107.000000      5.000000   \n",
       "\n",
       "       airports_nearest  cityCenters_nearest  parks_around3000  parks_nearest  \\\n",
       "count      17735.000000         17756.000000      23149.000000    7862.000000   \n",
       "mean       28849.514576         14258.553841          0.465420     491.030145   \n",
       "std        12656.277770          8621.287874          0.744241     343.251881   \n",
       "min            0.000000           181.000000          0.000000       1.000000   \n",
       "25%        18551.000000          9360.000000          0.000000     288.000000   \n",
       "50%        26819.000000         13140.500000          0.000000     454.500000   \n",
       "75%        37364.000000         16309.000000          1.000000     613.000000   \n",
       "max        84869.000000         65968.000000          3.000000    3190.000000   \n",
       "\n",
       "       ponds_around3000  ponds_nearest  days_exposition  \n",
       "count      23149.000000    8853.000000     23149.000000  \n",
       "mean           0.587196     519.817689       169.628148  \n",
       "std            0.881654     278.000361       206.691562  \n",
       "min            0.000000      13.000000         1.000000  \n",
       "25%            0.000000     295.000000        45.000000  \n",
       "50%            0.000000     504.000000        95.000000  \n",
       "75%            1.000000     733.000000       199.000000  \n",
       "max            3.000000    1344.000000      1580.000000  "
      ]
     },
     "execution_count": 62,
     "metadata": {},
     "output_type": "execute_result"
    }
   ],
   "source": [
    "data = data.loc[(data['living_area']>8) | (data['living_area'].isna())]\n",
    "data = data.loc[(data['living_area']<=200) | (data['living_area'].isna())]\n",
    "data.describe() #проверяем"
   ]
  },
  {
   "cell_type": "markdown",
   "metadata": {},
   "source": [
    "**Этаж**"
   ]
  },
  {
   "cell_type": "markdown",
   "metadata": {},
   "source": [
    "Посмотрим на диаграмму размаха в столбце *floor*."
   ]
  },
  {
   "cell_type": "code",
   "execution_count": 63,
   "metadata": {},
   "outputs": [
    {
     "data": {
      "text/plain": [
       "<function matplotlib.pyplot.show(close=None, block=None)>"
      ]
     },
     "execution_count": 63,
     "metadata": {},
     "output_type": "execute_result"
    },
    {
     "data": {
      "image/png": "[encoded data removed]",
      "text/plain": [
       "<Figure size 432x288 with 1 Axes>"
      ]
     },
     "metadata": {
      "needs_background": "light"
     },
     "output_type": "display_data"
    }
   ],
   "source": [
    "data.boxplot('floor')\n",
    "plt.show"
   ]
  },
  {
   "cell_type": "markdown",
   "metadata": {},
   "source": [
    "Судя по таблице и диаграмме размаха никаких выбивающихся значений нет. Естественно, что выбросы находятся на более высоких этажах, так как их меньше в принципе."
   ]
  },
  {
   "cell_type": "markdown",
   "metadata": {},
   "source": [
    "**Площадь кухни**"
   ]
  },
  {
   "cell_type": "markdown",
   "metadata": {},
   "source": [
    "Изучим данные в столбце *kitchen_area*."
   ]
  },
  {
   "cell_type": "code",
   "execution_count": 64,
   "metadata": {
    "scrolled": false
   },
   "outputs": [
    {
     "data": {
      "text/plain": [
       "<function matplotlib.pyplot.show(close=None, block=None)>"
      ]
     },
     "execution_count": 64,
     "metadata": {},
     "output_type": "execute_result"
    },
    {
     "data": {
      "image/png": "[encoded data removed]",
      "text/plain": [
       "<Figure size 432x288 with 1 Axes>"
      ]
     },
     "metadata": {
      "needs_background": "light"
     },
     "output_type": "display_data"
    }
   ],
   "source": [
    "data.boxplot('kitchen_area')\n",
    "plt.show"
   ]
  },
  {
   "cell_type": "markdown",
   "metadata": {},
   "source": [
    "Площадь кухни больше 70 кв.м. встречается всего в нескольких объявлениях, можем удалить эти строки."
   ]
  },
  {
   "cell_type": "code",
   "execution_count": 65,
   "metadata": {},
   "outputs": [],
   "source": [
    "data = data.loc[(data['kitchen_area']<70) | (data['kitchen_area'].isna())]"
   ]
  },
  {
   "cell_type": "markdown",
   "metadata": {},
   "source": [
    "Проверим минимальные значения, в таблице видно, что самая маленькая по площади кухня - 1,3 кв.м., нужно посмотреть много ли таких значений, посмотрим количество строк с кухнями меньше 2 кв.м."
   ]
  },
  {
   "cell_type": "code",
   "execution_count": 66,
   "metadata": {},
   "outputs": [
    {
     "data": {
      "text/plain": [
       "1"
      ]
     },
     "execution_count": 66,
     "metadata": {},
     "output_type": "execute_result"
    }
   ],
   "source": [
    "len(data.query('kitchen_area < 2'))"
   ]
  },
  {
   "cell_type": "code",
   "execution_count": 67,
   "metadata": {},
   "outputs": [
    {
     "data": {
      "text/html": [
       "<div>\n",
       "<style scoped>\n",
       "    .dataframe tbody tr th:only-of-type {\n",
       "        vertical-align: middle;\n",
       "    }\n",
       "\n",
       "    .dataframe tbody tr th {\n",
       "        vertical-align: top;\n",
       "    }\n",
       "\n",
       "    .dataframe thead th {\n",
       "        text-align: right;\n",
       "    }\n",
       "</style>\n",
       "<table border=\"1\" class=\"dataframe\">\n",
       "  <thead>\n",
       "    <tr style=\"text-align: right;\">\n",
       "      <th></th>\n",
       "      <th>total_images</th>\n",
       "      <th>last_price</th>\n",
       "      <th>total_area</th>\n",
       "      <th>first_day_exposition</th>\n",
       "      <th>rooms</th>\n",
       "      <th>ceiling_height</th>\n",
       "      <th>floors_total</th>\n",
       "      <th>living_area</th>\n",
       "      <th>floor</th>\n",
       "      <th>is_apartment</th>\n",
       "      <th>...</th>\n",
       "      <th>balcony</th>\n",
       "      <th>locality_name</th>\n",
       "      <th>airports_nearest</th>\n",
       "      <th>cityCenters_nearest</th>\n",
       "      <th>parks_around3000</th>\n",
       "      <th>parks_nearest</th>\n",
       "      <th>ponds_around3000</th>\n",
       "      <th>ponds_nearest</th>\n",
       "      <th>days_exposition</th>\n",
       "      <th>locality_name_category</th>\n",
       "    </tr>\n",
       "  </thead>\n",
       "  <tbody>\n",
       "    <tr>\n",
       "      <th>20217</th>\n",
       "      <td>7</td>\n",
       "      <td>4250.0</td>\n",
       "      <td>28.5</td>\n",
       "      <td>2019-05-01</td>\n",
       "      <td>1</td>\n",
       "      <td>2.8</td>\n",
       "      <td>14.0</td>\n",
       "      <td>19.5</td>\n",
       "      <td>10</td>\n",
       "      <td>False</td>\n",
       "      <td>...</td>\n",
       "      <td>0</td>\n",
       "      <td>Санкт-Петербург</td>\n",
       "      <td>37199.0</td>\n",
       "      <td>12721.0</td>\n",
       "      <td>0</td>\n",
       "      <td>NaN</td>\n",
       "      <td>0</td>\n",
       "      <td>NaN</td>\n",
       "      <td>95.0</td>\n",
       "      <td>None</td>\n",
       "    </tr>\n",
       "  </tbody>\n",
       "</table>\n",
       "<p>1 rows × 23 columns</p>\n",
       "</div>"
      ],
      "text/plain": [
       "       total_images  last_price  total_area first_day_exposition  rooms  \\\n",
       "20217             7      4250.0        28.5           2019-05-01      1   \n",
       "\n",
       "       ceiling_height  floors_total  living_area  floor  is_apartment  ...  \\\n",
       "20217             2.8          14.0         19.5     10         False  ...   \n",
       "\n",
       "       balcony    locality_name  airports_nearest  cityCenters_nearest  \\\n",
       "20217        0  Санкт-Петербург           37199.0              12721.0   \n",
       "\n",
       "      parks_around3000  parks_nearest  ponds_around3000  ponds_nearest  \\\n",
       "20217                0            NaN                 0            NaN   \n",
       "\n",
       "       days_exposition  locality_name_category  \n",
       "20217             95.0                    None  \n",
       "\n",
       "[1 rows x 23 columns]"
      ]
     },
     "execution_count": 67,
     "metadata": {},
     "output_type": "execute_result"
    }
   ],
   "source": [
    "data.query('kitchen_area < 2') # посмотрим на эту строку"
   ]
  },
  {
   "cell_type": "markdown",
   "metadata": {},
   "source": [
    "Так как это не апартаменты и не студия - странно что кухня настолько маленькая при общей площади в 28 кв.м., возможно ошибка в данных, удаляем эту строку."
   ]
  },
  {
   "cell_type": "code",
   "execution_count": 68,
   "metadata": {},
   "outputs": [
    {
     "data": {
      "text/html": [
       "<div>\n",
       "<style scoped>\n",
       "    .dataframe tbody tr th:only-of-type {\n",
       "        vertical-align: middle;\n",
       "    }\n",
       "\n",
       "    .dataframe tbody tr th {\n",
       "        vertical-align: top;\n",
       "    }\n",
       "\n",
       "    .dataframe thead th {\n",
       "        text-align: right;\n",
       "    }\n",
       "</style>\n",
       "<table border=\"1\" class=\"dataframe\">\n",
       "  <thead>\n",
       "    <tr style=\"text-align: right;\">\n",
       "      <th></th>\n",
       "      <th>total_images</th>\n",
       "      <th>last_price</th>\n",
       "      <th>total_area</th>\n",
       "      <th>rooms</th>\n",
       "      <th>ceiling_height</th>\n",
       "      <th>floors_total</th>\n",
       "      <th>living_area</th>\n",
       "      <th>floor</th>\n",
       "      <th>kitchen_area</th>\n",
       "      <th>balcony</th>\n",
       "      <th>airports_nearest</th>\n",
       "      <th>cityCenters_nearest</th>\n",
       "      <th>parks_around3000</th>\n",
       "      <th>parks_nearest</th>\n",
       "      <th>ponds_around3000</th>\n",
       "      <th>ponds_nearest</th>\n",
       "      <th>days_exposition</th>\n",
       "    </tr>\n",
       "  </thead>\n",
       "  <tbody>\n",
       "    <tr>\n",
       "      <th>count</th>\n",
       "      <td>23132.000000</td>\n",
       "      <td>23132.000000</td>\n",
       "      <td>23132.000000</td>\n",
       "      <td>23132.000000</td>\n",
       "      <td>23132.000000</td>\n",
       "      <td>23132.000000</td>\n",
       "      <td>21295.000000</td>\n",
       "      <td>23132.000000</td>\n",
       "      <td>21123.000000</td>\n",
       "      <td>23132.000000</td>\n",
       "      <td>17718.000000</td>\n",
       "      <td>17739.000000</td>\n",
       "      <td>23132.000000</td>\n",
       "      <td>7854.000000</td>\n",
       "      <td>23132.000000</td>\n",
       "      <td>8842.000000</td>\n",
       "      <td>23132.000000</td>\n",
       "    </tr>\n",
       "    <tr>\n",
       "      <th>mean</th>\n",
       "      <td>9.853147</td>\n",
       "      <td>6119.825427</td>\n",
       "      <td>59.074676</td>\n",
       "      <td>2.058101</td>\n",
       "      <td>2.694575</td>\n",
       "      <td>10.653164</td>\n",
       "      <td>33.737797</td>\n",
       "      <td>5.862269</td>\n",
       "      <td>10.423414</td>\n",
       "      <td>0.589746</td>\n",
       "      <td>28853.842194</td>\n",
       "      <td>14264.652066</td>\n",
       "      <td>0.465200</td>\n",
       "      <td>491.022791</td>\n",
       "      <td>0.586720</td>\n",
       "      <td>519.963583</td>\n",
       "      <td>169.606173</td>\n",
       "    </tr>\n",
       "    <tr>\n",
       "      <th>std</th>\n",
       "      <td>5.612939</td>\n",
       "      <td>5839.270893</td>\n",
       "      <td>28.713403</td>\n",
       "      <td>0.984290</td>\n",
       "      <td>0.211782</td>\n",
       "      <td>6.561760</td>\n",
       "      <td>18.563228</td>\n",
       "      <td>4.859094</td>\n",
       "      <td>5.344224</td>\n",
       "      <td>0.958223</td>\n",
       "      <td>12659.148061</td>\n",
       "      <td>8621.673748</td>\n",
       "      <td>0.744091</td>\n",
       "      <td>342.757233</td>\n",
       "      <td>0.881237</td>\n",
       "      <td>277.926213</td>\n",
       "      <td>206.642919</td>\n",
       "    </tr>\n",
       "    <tr>\n",
       "      <th>min</th>\n",
       "      <td>0.000000</td>\n",
       "      <td>430.000000</td>\n",
       "      <td>12.000000</td>\n",
       "      <td>1.000000</td>\n",
       "      <td>2.500000</td>\n",
       "      <td>1.000000</td>\n",
       "      <td>8.300000</td>\n",
       "      <td>1.000000</td>\n",
       "      <td>2.300000</td>\n",
       "      <td>0.000000</td>\n",
       "      <td>0.000000</td>\n",
       "      <td>181.000000</td>\n",
       "      <td>0.000000</td>\n",
       "      <td>1.000000</td>\n",
       "      <td>0.000000</td>\n",
       "      <td>13.000000</td>\n",
       "      <td>1.000000</td>\n",
       "    </tr>\n",
       "    <tr>\n",
       "      <th>25%</th>\n",
       "      <td>6.000000</td>\n",
       "      <td>3450.000000</td>\n",
       "      <td>40.000000</td>\n",
       "      <td>1.000000</td>\n",
       "      <td>2.600000</td>\n",
       "      <td>5.000000</td>\n",
       "      <td>18.700000</td>\n",
       "      <td>2.000000</td>\n",
       "      <td>7.000000</td>\n",
       "      <td>0.000000</td>\n",
       "      <td>18551.000000</td>\n",
       "      <td>9378.000000</td>\n",
       "      <td>0.000000</td>\n",
       "      <td>288.000000</td>\n",
       "      <td>0.000000</td>\n",
       "      <td>295.250000</td>\n",
       "      <td>45.000000</td>\n",
       "    </tr>\n",
       "    <tr>\n",
       "      <th>50%</th>\n",
       "      <td>9.000000</td>\n",
       "      <td>4650.000000</td>\n",
       "      <td>52.000000</td>\n",
       "      <td>2.000000</td>\n",
       "      <td>2.650000</td>\n",
       "      <td>9.000000</td>\n",
       "      <td>30.000000</td>\n",
       "      <td>4.000000</td>\n",
       "      <td>9.090000</td>\n",
       "      <td>0.000000</td>\n",
       "      <td>26831.000000</td>\n",
       "      <td>13142.000000</td>\n",
       "      <td>0.000000</td>\n",
       "      <td>455.000000</td>\n",
       "      <td>0.000000</td>\n",
       "      <td>504.000000</td>\n",
       "      <td>95.000000</td>\n",
       "    </tr>\n",
       "    <tr>\n",
       "      <th>75%</th>\n",
       "      <td>14.000000</td>\n",
       "      <td>6700.000000</td>\n",
       "      <td>69.200000</td>\n",
       "      <td>3.000000</td>\n",
       "      <td>2.700000</td>\n",
       "      <td>16.000000</td>\n",
       "      <td>42.100000</td>\n",
       "      <td>8.000000</td>\n",
       "      <td>12.000000</td>\n",
       "      <td>1.000000</td>\n",
       "      <td>37364.000000</td>\n",
       "      <td>16316.000000</td>\n",
       "      <td>1.000000</td>\n",
       "      <td>613.000000</td>\n",
       "      <td>1.000000</td>\n",
       "      <td>733.000000</td>\n",
       "      <td>199.000000</td>\n",
       "    </tr>\n",
       "    <tr>\n",
       "      <th>max</th>\n",
       "      <td>24.000000</td>\n",
       "      <td>99000.000000</td>\n",
       "      <td>297.500000</td>\n",
       "      <td>6.000000</td>\n",
       "      <td>5.500000</td>\n",
       "      <td>36.000000</td>\n",
       "      <td>200.000000</td>\n",
       "      <td>33.000000</td>\n",
       "      <td>65.000000</td>\n",
       "      <td>5.000000</td>\n",
       "      <td>84869.000000</td>\n",
       "      <td>65968.000000</td>\n",
       "      <td>3.000000</td>\n",
       "      <td>3190.000000</td>\n",
       "      <td>3.000000</td>\n",
       "      <td>1344.000000</td>\n",
       "      <td>1580.000000</td>\n",
       "    </tr>\n",
       "  </tbody>\n",
       "</table>\n",
       "</div>"
      ],
      "text/plain": [
       "       total_images    last_price    total_area         rooms  ceiling_height  \\\n",
       "count  23132.000000  23132.000000  23132.000000  23132.000000    23132.000000   \n",
       "mean       9.853147   6119.825427     59.074676      2.058101        2.694575   \n",
       "std        5.612939   5839.270893     28.713403      0.984290        0.211782   \n",
       "min        0.000000    430.000000     12.000000      1.000000        2.500000   \n",
       "25%        6.000000   3450.000000     40.000000      1.000000        2.600000   \n",
       "50%        9.000000   4650.000000     52.000000      2.000000        2.650000   \n",
       "75%       14.000000   6700.000000     69.200000      3.000000        2.700000   \n",
       "max       24.000000  99000.000000    297.500000      6.000000        5.500000   \n",
       "\n",
       "       floors_total   living_area         floor  kitchen_area       balcony  \\\n",
       "count  23132.000000  21295.000000  23132.000000  21123.000000  23132.000000   \n",
       "mean      10.653164     33.737797      5.862269     10.423414      0.589746   \n",
       "std        6.561760     18.563228      4.859094      5.344224      0.958223   \n",
       "min        1.000000      8.300000      1.000000      2.300000      0.000000   \n",
       "25%        5.000000     18.700000      2.000000      7.000000      0.000000   \n",
       "50%        9.000000     30.000000      4.000000      9.090000      0.000000   \n",
       "75%       16.000000     42.100000      8.000000     12.000000      1.000000   \n",
       "max       36.000000    200.000000     33.000000     65.000000      5.000000   \n",
       "\n",
       "       airports_nearest  cityCenters_nearest  parks_around3000  parks_nearest  \\\n",
       "count      17718.000000         17739.000000      23132.000000    7854.000000   \n",
       "mean       28853.842194         14264.652066          0.465200     491.022791   \n",
       "std        12659.148061          8621.673748          0.744091     342.757233   \n",
       "min            0.000000           181.000000          0.000000       1.000000   \n",
       "25%        18551.000000          9378.000000          0.000000     288.000000   \n",
       "50%        26831.000000         13142.000000          0.000000     455.000000   \n",
       "75%        37364.000000         16316.000000          1.000000     613.000000   \n",
       "max        84869.000000         65968.000000          3.000000    3190.000000   \n",
       "\n",
       "       ponds_around3000  ponds_nearest  days_exposition  \n",
       "count      23132.000000    8842.000000     23132.000000  \n",
       "mean           0.586720     519.963583       169.606173  \n",
       "std            0.881237     277.926213       206.642919  \n",
       "min            0.000000      13.000000         1.000000  \n",
       "25%            0.000000     295.250000        45.000000  \n",
       "50%            0.000000     504.000000        95.000000  \n",
       "75%            1.000000     733.000000       199.000000  \n",
       "max            3.000000    1344.000000      1580.000000  "
      ]
     },
     "execution_count": 68,
     "metadata": {},
     "output_type": "execute_result"
    }
   ],
   "source": [
    "data = data.loc[(data['kitchen_area']>2) | (data['kitchen_area'].isna())]\n",
    "data.describe() #проверяем"
   ]
  },
  {
   "cell_type": "markdown",
   "metadata": {},
   "source": [
    "**Число балконов**"
   ]
  },
  {
   "cell_type": "markdown",
   "metadata": {},
   "source": [
    "Посмотрим на диаграмму размаха в столбце *balcony*."
   ]
  },
  {
   "cell_type": "code",
   "execution_count": 69,
   "metadata": {
    "scrolled": false
   },
   "outputs": [
    {
     "data": {
      "text/plain": [
       "<function matplotlib.pyplot.show(close=None, block=None)>"
      ]
     },
     "execution_count": 69,
     "metadata": {},
     "output_type": "execute_result"
    },
    {
     "data": {
      "image/png": "[encoded data removed]",
      "text/plain": [
       "<Figure size 432x288 with 1 Axes>"
      ]
     },
     "metadata": {
      "needs_background": "light"
     },
     "output_type": "display_data"
    }
   ],
   "source": [
    "data.boxplot('balcony')\n",
    "plt.show"
   ]
  },
  {
   "cell_type": "markdown",
   "metadata": {},
   "source": [
    "Больше двух балконов встречается редко, но такоевполне реально в больших квартирах, а также в планировках старого фонда встречаются квартиры с эркерами, на каждую грань которого выходят отдельные балконы, также в новостройках угловые квартиры часто предполагают несколько балконов. На всякий случай посмотрим сколько строк с пятью балконами."
   ]
  },
  {
   "cell_type": "code",
   "execution_count": 70,
   "metadata": {},
   "outputs": [
    {
     "data": {
      "text/plain": [
       "296"
      ]
     },
     "execution_count": 70,
     "metadata": {},
     "output_type": "execute_result"
    }
   ],
   "source": [
    "len(data.query('balcony == 5'))"
   ]
  },
  {
   "cell_type": "markdown",
   "metadata": {},
   "source": [
    "Объявлений с квартирами, где балконов пять штук - не единичны, также как и с балконами с меньшим количеством, отсюда следует, что это не редкое явление в объявлениях."
   ]
  },
  {
   "cell_type": "markdown",
   "metadata": {},
   "source": [
    "**Расстоние до ближашего аэропорта**"
   ]
  },
  {
   "cell_type": "markdown",
   "metadata": {},
   "source": [
    "Посмотрим на диаграмму размаха в столбце *airports_nearest*."
   ]
  },
  {
   "cell_type": "code",
   "execution_count": 71,
   "metadata": {},
   "outputs": [
    {
     "data": {
      "text/plain": [
       "<function matplotlib.pyplot.show(close=None, block=None)>"
      ]
     },
     "execution_count": 71,
     "metadata": {},
     "output_type": "execute_result"
    },
    {
     "data": {
      "image/png": "[encoded data removed]",
      "text/plain": [
       "<Figure size 432x288 with 1 Axes>"
      ]
     },
     "metadata": {
      "needs_background": "light"
     },
     "output_type": "display_data"
    }
   ],
   "source": [
    "data.boxplot('airports_nearest')\n",
    "plt.show"
   ]
  },
  {
   "cell_type": "code",
   "execution_count": 72,
   "metadata": {},
   "outputs": [
    {
     "data": {
      "text/plain": [
       "(60000.0, 90000.0)"
      ]
     },
     "execution_count": 72,
     "metadata": {},
     "output_type": "execute_result"
    },
    {
     "data": {
      "image/png": "[encoded data removed]",
      "text/plain": [
       "<Figure size 432x288 with 1 Axes>"
      ]
     },
     "metadata": {
      "needs_background": "light"
     },
     "output_type": "display_data"
    }
   ],
   "source": [
    "data.boxplot('airports_nearest') \n",
    "plt.ylim(60000, 90000) #увеличим масштаб в верхних границах графика"
   ]
  },
  {
   "cell_type": "markdown",
   "metadata": {},
   "source": [
    "Уберём выбросы больше 75000 м"
   ]
  },
  {
   "cell_type": "code",
   "execution_count": 73,
   "metadata": {},
   "outputs": [],
   "source": [
    "data = data.loc[(data['airports_nearest']<75000) | (data['airports_nearest'].isna())] "
   ]
  },
  {
   "cell_type": "markdown",
   "metadata": {},
   "source": [
    "Также интересуют нулевые значения, так как не может быть, чтобы до аэропорта было 0 м, возможно это техническая ошибка."
   ]
  },
  {
   "cell_type": "code",
   "execution_count": 74,
   "metadata": {},
   "outputs": [
    {
     "data": {
      "text/plain": [
       "1"
      ]
     },
     "execution_count": 74,
     "metadata": {},
     "output_type": "execute_result"
    }
   ],
   "source": [
    "len(data.query('airports_nearest == 0'))"
   ]
  },
  {
   "cell_type": "code",
   "execution_count": 75,
   "metadata": {
    "scrolled": true
   },
   "outputs": [
    {
     "data": {
      "text/html": [
       "<div>\n",
       "<style scoped>\n",
       "    .dataframe tbody tr th:only-of-type {\n",
       "        vertical-align: middle;\n",
       "    }\n",
       "\n",
       "    .dataframe tbody tr th {\n",
       "        vertical-align: top;\n",
       "    }\n",
       "\n",
       "    .dataframe thead th {\n",
       "        text-align: right;\n",
       "    }\n",
       "</style>\n",
       "<table border=\"1\" class=\"dataframe\">\n",
       "  <thead>\n",
       "    <tr style=\"text-align: right;\">\n",
       "      <th></th>\n",
       "      <th>total_images</th>\n",
       "      <th>last_price</th>\n",
       "      <th>total_area</th>\n",
       "      <th>first_day_exposition</th>\n",
       "      <th>rooms</th>\n",
       "      <th>ceiling_height</th>\n",
       "      <th>floors_total</th>\n",
       "      <th>living_area</th>\n",
       "      <th>floor</th>\n",
       "      <th>is_apartment</th>\n",
       "      <th>...</th>\n",
       "      <th>balcony</th>\n",
       "      <th>locality_name</th>\n",
       "      <th>airports_nearest</th>\n",
       "      <th>cityCenters_nearest</th>\n",
       "      <th>parks_around3000</th>\n",
       "      <th>parks_nearest</th>\n",
       "      <th>ponds_around3000</th>\n",
       "      <th>ponds_nearest</th>\n",
       "      <th>days_exposition</th>\n",
       "      <th>locality_name_category</th>\n",
       "    </tr>\n",
       "  </thead>\n",
       "  <tbody>\n",
       "    <tr>\n",
       "      <th>21085</th>\n",
       "      <td>0</td>\n",
       "      <td>7000.0</td>\n",
       "      <td>34.7</td>\n",
       "      <td>2018-09-23</td>\n",
       "      <td>1</td>\n",
       "      <td>2.7</td>\n",
       "      <td>9.0</td>\n",
       "      <td>19.8</td>\n",
       "      <td>3</td>\n",
       "      <td>False</td>\n",
       "      <td>...</td>\n",
       "      <td>2</td>\n",
       "      <td>Санкт-Петербург</td>\n",
       "      <td>0.0</td>\n",
       "      <td>22801.0</td>\n",
       "      <td>0</td>\n",
       "      <td>NaN</td>\n",
       "      <td>0</td>\n",
       "      <td>NaN</td>\n",
       "      <td>60.0</td>\n",
       "      <td>None</td>\n",
       "    </tr>\n",
       "  </tbody>\n",
       "</table>\n",
       "<p>1 rows × 23 columns</p>\n",
       "</div>"
      ],
      "text/plain": [
       "       total_images  last_price  total_area first_day_exposition  rooms  \\\n",
       "21085             0      7000.0        34.7           2018-09-23      1   \n",
       "\n",
       "       ceiling_height  floors_total  living_area  floor  is_apartment  ...  \\\n",
       "21085             2.7           9.0         19.8      3         False  ...   \n",
       "\n",
       "       balcony    locality_name  airports_nearest  cityCenters_nearest  \\\n",
       "21085        2  Санкт-Петербург               0.0              22801.0   \n",
       "\n",
       "      parks_around3000  parks_nearest  ponds_around3000  ponds_nearest  \\\n",
       "21085                0            NaN                 0            NaN   \n",
       "\n",
       "       days_exposition  locality_name_category  \n",
       "21085             60.0                    None  \n",
       "\n",
       "[1 rows x 23 columns]"
      ]
     },
     "execution_count": 75,
     "metadata": {},
     "output_type": "execute_result"
    }
   ],
   "source": [
    "data.query('airports_nearest == 0') # посмотрим на эту строку"
   ]
  },
  {
   "cell_type": "markdown",
   "metadata": {},
   "source": [
    "Так как рядом с аэропортом судя по картам в основном пятиэтажные дома, и даже если адрес объявления рядом с аэропортом - девять этажей всего - это уже достаточно далеко от аэропорта, значит объявление скорее всего неккоректное, удаляем."
   ]
  },
  {
   "cell_type": "code",
   "execution_count": 76,
   "metadata": {},
   "outputs": [
    {
     "data": {
      "text/html": [
       "<div>\n",
       "<style scoped>\n",
       "    .dataframe tbody tr th:only-of-type {\n",
       "        vertical-align: middle;\n",
       "    }\n",
       "\n",
       "    .dataframe tbody tr th {\n",
       "        vertical-align: top;\n",
       "    }\n",
       "\n",
       "    .dataframe thead th {\n",
       "        text-align: right;\n",
       "    }\n",
       "</style>\n",
       "<table border=\"1\" class=\"dataframe\">\n",
       "  <thead>\n",
       "    <tr style=\"text-align: right;\">\n",
       "      <th></th>\n",
       "      <th>total_images</th>\n",
       "      <th>last_price</th>\n",
       "      <th>total_area</th>\n",
       "      <th>rooms</th>\n",
       "      <th>ceiling_height</th>\n",
       "      <th>floors_total</th>\n",
       "      <th>living_area</th>\n",
       "      <th>floor</th>\n",
       "      <th>kitchen_area</th>\n",
       "      <th>balcony</th>\n",
       "      <th>airports_nearest</th>\n",
       "      <th>cityCenters_nearest</th>\n",
       "      <th>parks_around3000</th>\n",
       "      <th>parks_nearest</th>\n",
       "      <th>ponds_around3000</th>\n",
       "      <th>ponds_nearest</th>\n",
       "      <th>days_exposition</th>\n",
       "    </tr>\n",
       "  </thead>\n",
       "  <tbody>\n",
       "    <tr>\n",
       "      <th>count</th>\n",
       "      <td>23122.000000</td>\n",
       "      <td>23122.000000</td>\n",
       "      <td>23122.000000</td>\n",
       "      <td>23122.000000</td>\n",
       "      <td>23122.000000</td>\n",
       "      <td>23122.000000</td>\n",
       "      <td>21285.000000</td>\n",
       "      <td>23122.000000</td>\n",
       "      <td>21113.000000</td>\n",
       "      <td>23122.000000</td>\n",
       "      <td>17708.000000</td>\n",
       "      <td>17729.000000</td>\n",
       "      <td>23122.000000</td>\n",
       "      <td>7854.000000</td>\n",
       "      <td>23122.000000</td>\n",
       "      <td>8841.000000</td>\n",
       "      <td>23122.000000</td>\n",
       "    </tr>\n",
       "    <tr>\n",
       "      <th>mean</th>\n",
       "      <td>9.853040</td>\n",
       "      <td>6120.834563</td>\n",
       "      <td>59.080370</td>\n",
       "      <td>2.058126</td>\n",
       "      <td>2.694638</td>\n",
       "      <td>10.655869</td>\n",
       "      <td>33.740408</td>\n",
       "      <td>5.863896</td>\n",
       "      <td>10.425296</td>\n",
       "      <td>0.589698</td>\n",
       "      <td>28828.387734</td>\n",
       "      <td>14239.307632</td>\n",
       "      <td>0.465401</td>\n",
       "      <td>491.022791</td>\n",
       "      <td>0.586930</td>\n",
       "      <td>519.983147</td>\n",
       "      <td>169.543162</td>\n",
       "    </tr>\n",
       "    <tr>\n",
       "      <th>std</th>\n",
       "      <td>5.612614</td>\n",
       "      <td>5840.279942</td>\n",
       "      <td>28.717559</td>\n",
       "      <td>0.984370</td>\n",
       "      <td>0.211802</td>\n",
       "      <td>6.561789</td>\n",
       "      <td>18.566205</td>\n",
       "      <td>4.859475</td>\n",
       "      <td>5.344737</td>\n",
       "      <td>0.958335</td>\n",
       "      <td>12603.523343</td>\n",
       "      <td>8552.657094</td>\n",
       "      <td>0.744189</td>\n",
       "      <td>342.757233</td>\n",
       "      <td>0.881347</td>\n",
       "      <td>277.935843</td>\n",
       "      <td>206.491536</td>\n",
       "    </tr>\n",
       "    <tr>\n",
       "      <th>min</th>\n",
       "      <td>0.000000</td>\n",
       "      <td>430.000000</td>\n",
       "      <td>12.000000</td>\n",
       "      <td>1.000000</td>\n",
       "      <td>2.500000</td>\n",
       "      <td>1.000000</td>\n",
       "      <td>8.300000</td>\n",
       "      <td>1.000000</td>\n",
       "      <td>2.300000</td>\n",
       "      <td>0.000000</td>\n",
       "      <td>6450.000000</td>\n",
       "      <td>181.000000</td>\n",
       "      <td>0.000000</td>\n",
       "      <td>1.000000</td>\n",
       "      <td>0.000000</td>\n",
       "      <td>13.000000</td>\n",
       "      <td>1.000000</td>\n",
       "    </tr>\n",
       "    <tr>\n",
       "      <th>25%</th>\n",
       "      <td>6.000000</td>\n",
       "      <td>3450.000000</td>\n",
       "      <td>40.000000</td>\n",
       "      <td>1.000000</td>\n",
       "      <td>2.600000</td>\n",
       "      <td>5.000000</td>\n",
       "      <td>18.700000</td>\n",
       "      <td>2.000000</td>\n",
       "      <td>7.000000</td>\n",
       "      <td>0.000000</td>\n",
       "      <td>18551.000000</td>\n",
       "      <td>9365.000000</td>\n",
       "      <td>0.000000</td>\n",
       "      <td>288.000000</td>\n",
       "      <td>0.000000</td>\n",
       "      <td>295.000000</td>\n",
       "      <td>45.000000</td>\n",
       "    </tr>\n",
       "    <tr>\n",
       "      <th>50%</th>\n",
       "      <td>9.000000</td>\n",
       "      <td>4650.000000</td>\n",
       "      <td>52.000000</td>\n",
       "      <td>2.000000</td>\n",
       "      <td>2.650000</td>\n",
       "      <td>9.000000</td>\n",
       "      <td>30.000000</td>\n",
       "      <td>4.000000</td>\n",
       "      <td>9.100000</td>\n",
       "      <td>0.000000</td>\n",
       "      <td>26817.000000</td>\n",
       "      <td>13140.000000</td>\n",
       "      <td>0.000000</td>\n",
       "      <td>455.000000</td>\n",
       "      <td>0.000000</td>\n",
       "      <td>504.000000</td>\n",
       "      <td>95.000000</td>\n",
       "    </tr>\n",
       "    <tr>\n",
       "      <th>75%</th>\n",
       "      <td>14.000000</td>\n",
       "      <td>6700.000000</td>\n",
       "      <td>69.200000</td>\n",
       "      <td>3.000000</td>\n",
       "      <td>2.700000</td>\n",
       "      <td>16.000000</td>\n",
       "      <td>42.100000</td>\n",
       "      <td>8.000000</td>\n",
       "      <td>12.000000</td>\n",
       "      <td>1.000000</td>\n",
       "      <td>37348.750000</td>\n",
       "      <td>16299.000000</td>\n",
       "      <td>1.000000</td>\n",
       "      <td>613.000000</td>\n",
       "      <td>1.000000</td>\n",
       "      <td>733.000000</td>\n",
       "      <td>199.000000</td>\n",
       "    </tr>\n",
       "    <tr>\n",
       "      <th>max</th>\n",
       "      <td>24.000000</td>\n",
       "      <td>99000.000000</td>\n",
       "      <td>297.500000</td>\n",
       "      <td>6.000000</td>\n",
       "      <td>5.500000</td>\n",
       "      <td>36.000000</td>\n",
       "      <td>200.000000</td>\n",
       "      <td>33.000000</td>\n",
       "      <td>65.000000</td>\n",
       "      <td>5.000000</td>\n",
       "      <td>73827.000000</td>\n",
       "      <td>61495.000000</td>\n",
       "      <td>3.000000</td>\n",
       "      <td>3190.000000</td>\n",
       "      <td>3.000000</td>\n",
       "      <td>1344.000000</td>\n",
       "      <td>1580.000000</td>\n",
       "    </tr>\n",
       "  </tbody>\n",
       "</table>\n",
       "</div>"
      ],
      "text/plain": [
       "       total_images    last_price    total_area         rooms  ceiling_height  \\\n",
       "count  23122.000000  23122.000000  23122.000000  23122.000000    23122.000000   \n",
       "mean       9.853040   6120.834563     59.080370      2.058126        2.694638   \n",
       "std        5.612614   5840.279942     28.717559      0.984370        0.211802   \n",
       "min        0.000000    430.000000     12.000000      1.000000        2.500000   \n",
       "25%        6.000000   3450.000000     40.000000      1.000000        2.600000   \n",
       "50%        9.000000   4650.000000     52.000000      2.000000        2.650000   \n",
       "75%       14.000000   6700.000000     69.200000      3.000000        2.700000   \n",
       "max       24.000000  99000.000000    297.500000      6.000000        5.500000   \n",
       "\n",
       "       floors_total   living_area         floor  kitchen_area       balcony  \\\n",
       "count  23122.000000  21285.000000  23122.000000  21113.000000  23122.000000   \n",
       "mean      10.655869     33.740408      5.863896     10.425296      0.589698   \n",
       "std        6.561789     18.566205      4.859475      5.344737      0.958335   \n",
       "min        1.000000      8.300000      1.000000      2.300000      0.000000   \n",
       "25%        5.000000     18.700000      2.000000      7.000000      0.000000   \n",
       "50%        9.000000     30.000000      4.000000      9.100000      0.000000   \n",
       "75%       16.000000     42.100000      8.000000     12.000000      1.000000   \n",
       "max       36.000000    200.000000     33.000000     65.000000      5.000000   \n",
       "\n",
       "       airports_nearest  cityCenters_nearest  parks_around3000  parks_nearest  \\\n",
       "count      17708.000000         17729.000000      23122.000000    7854.000000   \n",
       "mean       28828.387734         14239.307632          0.465401     491.022791   \n",
       "std        12603.523343          8552.657094          0.744189     342.757233   \n",
       "min         6450.000000           181.000000          0.000000       1.000000   \n",
       "25%        18551.000000          9365.000000          0.000000     288.000000   \n",
       "50%        26817.000000         13140.000000          0.000000     455.000000   \n",
       "75%        37348.750000         16299.000000          1.000000     613.000000   \n",
       "max        73827.000000         61495.000000          3.000000    3190.000000   \n",
       "\n",
       "       ponds_around3000  ponds_nearest  days_exposition  \n",
       "count      23122.000000    8841.000000     23122.000000  \n",
       "mean           0.586930     519.983147       169.543162  \n",
       "std            0.881347     277.935843       206.491536  \n",
       "min            0.000000      13.000000         1.000000  \n",
       "25%            0.000000     295.000000        45.000000  \n",
       "50%            0.000000     504.000000        95.000000  \n",
       "75%            1.000000     733.000000       199.000000  \n",
       "max            3.000000    1344.000000      1580.000000  "
      ]
     },
     "execution_count": 76,
     "metadata": {},
     "output_type": "execute_result"
    }
   ],
   "source": [
    "data = data.loc[(data['airports_nearest']!=0) | (data['airports_nearest'].isna())] \n",
    "data.describe() #проверяем"
   ]
  },
  {
   "cell_type": "markdown",
   "metadata": {},
   "source": [
    "**Расстоние до центра города**"
   ]
  },
  {
   "cell_type": "markdown",
   "metadata": {},
   "source": [
    "Изучим диаграмму размаха по столбцу *cityCenters_nearest*."
   ]
  },
  {
   "cell_type": "code",
   "execution_count": 77,
   "metadata": {},
   "outputs": [
    {
     "data": {
      "text/plain": [
       "<function matplotlib.pyplot.show(close=None, block=None)>"
      ]
     },
     "execution_count": 77,
     "metadata": {},
     "output_type": "execute_result"
    },
    {
     "data": {
      "image/png": "[encoded data removed]",
      "text/plain": [
       "<Figure size 432x288 with 1 Axes>"
      ]
     },
     "metadata": {
      "needs_background": "light"
     },
     "output_type": "display_data"
    }
   ],
   "source": [
    "data.boxplot('cityCenters_nearest')\n",
    "plt.show"
   ]
  },
  {
   "cell_type": "code",
   "execution_count": 78,
   "metadata": {},
   "outputs": [
    {
     "data": {
      "text/plain": [
       "(35000.0, 65000.0)"
      ]
     },
     "execution_count": 78,
     "metadata": {},
     "output_type": "execute_result"
    },
    {
     "data": {
      "image/png": "[encoded data removed]",
      "text/plain": [
       "<Figure size 432x288 with 1 Axes>"
      ]
     },
     "metadata": {
      "needs_background": "light"
     },
     "output_type": "display_data"
    }
   ],
   "source": [
    "data.boxplot('cityCenters_nearest') \n",
    "plt.ylim(35000, 65000) #увеличим масштаб в верхних границах графика"
   ]
  },
  {
   "cell_type": "markdown",
   "metadata": {},
   "source": [
    "Удалим выбросы больше 55000 м, так как сони единичны."
   ]
  },
  {
   "cell_type": "code",
   "execution_count": 79,
   "metadata": {
    "scrolled": true
   },
   "outputs": [
    {
     "data": {
      "text/html": [
       "<div>\n",
       "<style scoped>\n",
       "    .dataframe tbody tr th:only-of-type {\n",
       "        vertical-align: middle;\n",
       "    }\n",
       "\n",
       "    .dataframe tbody tr th {\n",
       "        vertical-align: top;\n",
       "    }\n",
       "\n",
       "    .dataframe thead th {\n",
       "        text-align: right;\n",
       "    }\n",
       "</style>\n",
       "<table border=\"1\" class=\"dataframe\">\n",
       "  <thead>\n",
       "    <tr style=\"text-align: right;\">\n",
       "      <th></th>\n",
       "      <th>total_images</th>\n",
       "      <th>last_price</th>\n",
       "      <th>total_area</th>\n",
       "      <th>rooms</th>\n",
       "      <th>ceiling_height</th>\n",
       "      <th>floors_total</th>\n",
       "      <th>living_area</th>\n",
       "      <th>floor</th>\n",
       "      <th>kitchen_area</th>\n",
       "      <th>balcony</th>\n",
       "      <th>airports_nearest</th>\n",
       "      <th>cityCenters_nearest</th>\n",
       "      <th>parks_around3000</th>\n",
       "      <th>parks_nearest</th>\n",
       "      <th>ponds_around3000</th>\n",
       "      <th>ponds_nearest</th>\n",
       "      <th>days_exposition</th>\n",
       "    </tr>\n",
       "  </thead>\n",
       "  <tbody>\n",
       "    <tr>\n",
       "      <th>count</th>\n",
       "      <td>23119.000000</td>\n",
       "      <td>23119.000000</td>\n",
       "      <td>23119.000000</td>\n",
       "      <td>23119.000000</td>\n",
       "      <td>23119.000000</td>\n",
       "      <td>23119.000000</td>\n",
       "      <td>21282.000000</td>\n",
       "      <td>23119.000000</td>\n",
       "      <td>21110.000000</td>\n",
       "      <td>23119.000000</td>\n",
       "      <td>17705.000000</td>\n",
       "      <td>17726.000000</td>\n",
       "      <td>23119.000000</td>\n",
       "      <td>7851.000000</td>\n",
       "      <td>23119.000000</td>\n",
       "      <td>8840.000000</td>\n",
       "      <td>23119.000000</td>\n",
       "    </tr>\n",
       "    <tr>\n",
       "      <th>mean</th>\n",
       "      <td>9.853411</td>\n",
       "      <td>6121.228720</td>\n",
       "      <td>59.082984</td>\n",
       "      <td>2.058221</td>\n",
       "      <td>2.694648</td>\n",
       "      <td>10.656862</td>\n",
       "      <td>33.742021</td>\n",
       "      <td>5.864397</td>\n",
       "      <td>10.425768</td>\n",
       "      <td>0.589775</td>\n",
       "      <td>28822.956171</td>\n",
       "      <td>14231.519519</td>\n",
       "      <td>0.465202</td>\n",
       "      <td>491.160999</td>\n",
       "      <td>0.586963</td>\n",
       "      <td>519.966063</td>\n",
       "      <td>169.547385</td>\n",
       "    </tr>\n",
       "    <tr>\n",
       "      <th>std</th>\n",
       "      <td>5.612552</td>\n",
       "      <td>5840.545172</td>\n",
       "      <td>28.718288</td>\n",
       "      <td>0.984384</td>\n",
       "      <td>0.211814</td>\n",
       "      <td>6.561616</td>\n",
       "      <td>18.566901</td>\n",
       "      <td>4.859582</td>\n",
       "      <td>5.344958</td>\n",
       "      <td>0.958374</td>\n",
       "      <td>12597.193851</td>\n",
       "      <td>8532.390412</td>\n",
       "      <td>0.743974</td>\n",
       "      <td>342.745730</td>\n",
       "      <td>0.881383</td>\n",
       "      <td>277.946923</td>\n",
       "      <td>206.502142</td>\n",
       "    </tr>\n",
       "    <tr>\n",
       "      <th>min</th>\n",
       "      <td>0.000000</td>\n",
       "      <td>430.000000</td>\n",
       "      <td>12.000000</td>\n",
       "      <td>1.000000</td>\n",
       "      <td>2.500000</td>\n",
       "      <td>1.000000</td>\n",
       "      <td>8.300000</td>\n",
       "      <td>1.000000</td>\n",
       "      <td>2.300000</td>\n",
       "      <td>0.000000</td>\n",
       "      <td>6450.000000</td>\n",
       "      <td>181.000000</td>\n",
       "      <td>0.000000</td>\n",
       "      <td>1.000000</td>\n",
       "      <td>0.000000</td>\n",
       "      <td>13.000000</td>\n",
       "      <td>1.000000</td>\n",
       "    </tr>\n",
       "    <tr>\n",
       "      <th>25%</th>\n",
       "      <td>6.000000</td>\n",
       "      <td>3450.000000</td>\n",
       "      <td>40.000000</td>\n",
       "      <td>1.000000</td>\n",
       "      <td>2.600000</td>\n",
       "      <td>5.000000</td>\n",
       "      <td>18.700000</td>\n",
       "      <td>2.000000</td>\n",
       "      <td>7.000000</td>\n",
       "      <td>0.000000</td>\n",
       "      <td>18551.000000</td>\n",
       "      <td>9364.250000</td>\n",
       "      <td>0.000000</td>\n",
       "      <td>288.000000</td>\n",
       "      <td>0.000000</td>\n",
       "      <td>295.000000</td>\n",
       "      <td>45.000000</td>\n",
       "    </tr>\n",
       "    <tr>\n",
       "      <th>50%</th>\n",
       "      <td>9.000000</td>\n",
       "      <td>4650.000000</td>\n",
       "      <td>52.000000</td>\n",
       "      <td>2.000000</td>\n",
       "      <td>2.650000</td>\n",
       "      <td>9.000000</td>\n",
       "      <td>30.000000</td>\n",
       "      <td>4.000000</td>\n",
       "      <td>9.100000</td>\n",
       "      <td>0.000000</td>\n",
       "      <td>26815.000000</td>\n",
       "      <td>13138.000000</td>\n",
       "      <td>0.000000</td>\n",
       "      <td>455.000000</td>\n",
       "      <td>0.000000</td>\n",
       "      <td>504.000000</td>\n",
       "      <td>95.000000</td>\n",
       "    </tr>\n",
       "    <tr>\n",
       "      <th>75%</th>\n",
       "      <td>14.000000</td>\n",
       "      <td>6700.000000</td>\n",
       "      <td>69.200000</td>\n",
       "      <td>3.000000</td>\n",
       "      <td>2.700000</td>\n",
       "      <td>16.000000</td>\n",
       "      <td>42.100000</td>\n",
       "      <td>8.000000</td>\n",
       "      <td>12.000000</td>\n",
       "      <td>1.000000</td>\n",
       "      <td>37347.000000</td>\n",
       "      <td>16298.000000</td>\n",
       "      <td>1.000000</td>\n",
       "      <td>613.000000</td>\n",
       "      <td>1.000000</td>\n",
       "      <td>733.000000</td>\n",
       "      <td>199.000000</td>\n",
       "    </tr>\n",
       "    <tr>\n",
       "      <th>max</th>\n",
       "      <td>24.000000</td>\n",
       "      <td>99000.000000</td>\n",
       "      <td>297.500000</td>\n",
       "      <td>6.000000</td>\n",
       "      <td>5.500000</td>\n",
       "      <td>36.000000</td>\n",
       "      <td>200.000000</td>\n",
       "      <td>33.000000</td>\n",
       "      <td>65.000000</td>\n",
       "      <td>5.000000</td>\n",
       "      <td>73827.000000</td>\n",
       "      <td>54926.000000</td>\n",
       "      <td>3.000000</td>\n",
       "      <td>3190.000000</td>\n",
       "      <td>3.000000</td>\n",
       "      <td>1344.000000</td>\n",
       "      <td>1580.000000</td>\n",
       "    </tr>\n",
       "  </tbody>\n",
       "</table>\n",
       "</div>"
      ],
      "text/plain": [
       "       total_images    last_price    total_area         rooms  ceiling_height  \\\n",
       "count  23119.000000  23119.000000  23119.000000  23119.000000    23119.000000   \n",
       "mean       9.853411   6121.228720     59.082984      2.058221        2.694648   \n",
       "std        5.612552   5840.545172     28.718288      0.984384        0.211814   \n",
       "min        0.000000    430.000000     12.000000      1.000000        2.500000   \n",
       "25%        6.000000   3450.000000     40.000000      1.000000        2.600000   \n",
       "50%        9.000000   4650.000000     52.000000      2.000000        2.650000   \n",
       "75%       14.000000   6700.000000     69.200000      3.000000        2.700000   \n",
       "max       24.000000  99000.000000    297.500000      6.000000        5.500000   \n",
       "\n",
       "       floors_total   living_area         floor  kitchen_area       balcony  \\\n",
       "count  23119.000000  21282.000000  23119.000000  21110.000000  23119.000000   \n",
       "mean      10.656862     33.742021      5.864397     10.425768      0.589775   \n",
       "std        6.561616     18.566901      4.859582      5.344958      0.958374   \n",
       "min        1.000000      8.300000      1.000000      2.300000      0.000000   \n",
       "25%        5.000000     18.700000      2.000000      7.000000      0.000000   \n",
       "50%        9.000000     30.000000      4.000000      9.100000      0.000000   \n",
       "75%       16.000000     42.100000      8.000000     12.000000      1.000000   \n",
       "max       36.000000    200.000000     33.000000     65.000000      5.000000   \n",
       "\n",
       "       airports_nearest  cityCenters_nearest  parks_around3000  parks_nearest  \\\n",
       "count      17705.000000         17726.000000      23119.000000    7851.000000   \n",
       "mean       28822.956171         14231.519519          0.465202     491.160999   \n",
       "std        12597.193851          8532.390412          0.743974     342.745730   \n",
       "min         6450.000000           181.000000          0.000000       1.000000   \n",
       "25%        18551.000000          9364.250000          0.000000     288.000000   \n",
       "50%        26815.000000         13138.000000          0.000000     455.000000   \n",
       "75%        37347.000000         16298.000000          1.000000     613.000000   \n",
       "max        73827.000000         54926.000000          3.000000    3190.000000   \n",
       "\n",
       "       ponds_around3000  ponds_nearest  days_exposition  \n",
       "count      23119.000000    8840.000000     23119.000000  \n",
       "mean           0.586963     519.966063       169.547385  \n",
       "std            0.881383     277.946923       206.502142  \n",
       "min            0.000000      13.000000         1.000000  \n",
       "25%            0.000000     295.000000        45.000000  \n",
       "50%            0.000000     504.000000        95.000000  \n",
       "75%            1.000000     733.000000       199.000000  \n",
       "max            3.000000    1344.000000      1580.000000  "
      ]
     },
     "execution_count": 79,
     "metadata": {},
     "output_type": "execute_result"
    }
   ],
   "source": [
    "data = data.loc[(data['cityCenters_nearest']<=55000) | (data['cityCenters_nearest'].isna())] \n",
    "data.describe() #проверяем"
   ]
  },
  {
   "cell_type": "markdown",
   "metadata": {},
   "source": [
    "**Число парков в радиусе 3 км**"
   ]
  },
  {
   "cell_type": "markdown",
   "metadata": {},
   "source": [
    "Создадим и изучим диаграмму размаха по столбцу *parks_around3000*."
   ]
  },
  {
   "cell_type": "code",
   "execution_count": 80,
   "metadata": {},
   "outputs": [
    {
     "data": {
      "text/plain": [
       "<function matplotlib.pyplot.show(close=None, block=None)>"
      ]
     },
     "execution_count": 80,
     "metadata": {},
     "output_type": "execute_result"
    },
    {
     "data": {
      "image/png": "[encoded data removed]",
      "text/plain": [
       "<Figure size 432x288 with 1 Axes>"
      ]
     },
     "metadata": {
      "needs_background": "light"
     },
     "output_type": "display_data"
    }
   ],
   "source": [
    "data.boxplot('parks_around3000')\n",
    "plt.show"
   ]
  },
  {
   "cell_type": "markdown",
   "metadata": {},
   "source": [
    "Посмотрим, сколько объявлений с 3 парками на расстоянии 3 км."
   ]
  },
  {
   "cell_type": "code",
   "execution_count": 81,
   "metadata": {},
   "outputs": [
    {
     "data": {
      "text/plain": [
       "614"
      ]
     },
     "execution_count": 81,
     "metadata": {},
     "output_type": "execute_result"
    }
   ],
   "source": [
    "len(data.query('parks_around3000 == 3'))"
   ]
  },
  {
   "cell_type": "markdown",
   "metadata": {},
   "source": [
    "Так как выброс не единичен не будем избавлтся от этих объявлений, к тому же вполне реально, что в радиусе 3 км могут распологаться несколько парков."
   ]
  },
  {
   "cell_type": "markdown",
   "metadata": {},
   "source": [
    "**Растояние до ближайшего парка**"
   ]
  },
  {
   "cell_type": "markdown",
   "metadata": {},
   "source": [
    "Посмотрим на данные диаграммы размаха по столбцу *parks_nearest*."
   ]
  },
  {
   "cell_type": "code",
   "execution_count": 82,
   "metadata": {},
   "outputs": [
    {
     "data": {
      "text/plain": [
       "<function matplotlib.pyplot.show(close=None, block=None)>"
      ]
     },
     "execution_count": 82,
     "metadata": {},
     "output_type": "execute_result"
    },
    {
     "data": {
      "image/png": "[encoded data removed]",
      "text/plain": [
       "<Figure size 432x288 with 1 Axes>"
      ]
     },
     "metadata": {
      "needs_background": "light"
     },
     "output_type": "display_data"
    }
   ],
   "source": [
    "data.boxplot('parks_nearest')\n",
    "plt.show"
   ]
  },
  {
   "cell_type": "markdown",
   "metadata": {},
   "source": [
    "Данные в верхних границах хоть и далеко растягиваются но выглядят равномерными, посмотрим на количество объявлений с расстоянием до 15 м, что кажется реалистичным, даже если парк у дома."
   ]
  },
  {
   "cell_type": "code",
   "execution_count": 83,
   "metadata": {},
   "outputs": [
    {
     "data": {
      "text/plain": [
       "26"
      ]
     },
     "execution_count": 83,
     "metadata": {},
     "output_type": "execute_result"
    }
   ],
   "source": [
    "len(data.query('parks_nearest < 15'))"
   ]
  },
  {
   "cell_type": "markdown",
   "metadata": {},
   "source": [
    "Таких значений немного, удаляем."
   ]
  },
  {
   "cell_type": "code",
   "execution_count": 84,
   "metadata": {},
   "outputs": [
    {
     "data": {
      "text/html": [
       "<div>\n",
       "<style scoped>\n",
       "    .dataframe tbody tr th:only-of-type {\n",
       "        vertical-align: middle;\n",
       "    }\n",
       "\n",
       "    .dataframe tbody tr th {\n",
       "        vertical-align: top;\n",
       "    }\n",
       "\n",
       "    .dataframe thead th {\n",
       "        text-align: right;\n",
       "    }\n",
       "</style>\n",
       "<table border=\"1\" class=\"dataframe\">\n",
       "  <thead>\n",
       "    <tr style=\"text-align: right;\">\n",
       "      <th></th>\n",
       "      <th>total_images</th>\n",
       "      <th>last_price</th>\n",
       "      <th>total_area</th>\n",
       "      <th>rooms</th>\n",
       "      <th>ceiling_height</th>\n",
       "      <th>floors_total</th>\n",
       "      <th>living_area</th>\n",
       "      <th>floor</th>\n",
       "      <th>kitchen_area</th>\n",
       "      <th>balcony</th>\n",
       "      <th>airports_nearest</th>\n",
       "      <th>cityCenters_nearest</th>\n",
       "      <th>parks_around3000</th>\n",
       "      <th>parks_nearest</th>\n",
       "      <th>ponds_around3000</th>\n",
       "      <th>ponds_nearest</th>\n",
       "      <th>days_exposition</th>\n",
       "    </tr>\n",
       "  </thead>\n",
       "  <tbody>\n",
       "    <tr>\n",
       "      <th>count</th>\n",
       "      <td>23088.000000</td>\n",
       "      <td>23088.000000</td>\n",
       "      <td>23088.000000</td>\n",
       "      <td>23088.000000</td>\n",
       "      <td>23088.000000</td>\n",
       "      <td>23088.000000</td>\n",
       "      <td>21254.000000</td>\n",
       "      <td>23088.000000</td>\n",
       "      <td>21082.000000</td>\n",
       "      <td>23088.000000</td>\n",
       "      <td>17674.000000</td>\n",
       "      <td>17695.000000</td>\n",
       "      <td>23088.000000</td>\n",
       "      <td>7820.000000</td>\n",
       "      <td>23088.000000</td>\n",
       "      <td>8825.000000</td>\n",
       "      <td>23088.000000</td>\n",
       "    </tr>\n",
       "    <tr>\n",
       "      <th>mean</th>\n",
       "      <td>9.853820</td>\n",
       "      <td>6122.346028</td>\n",
       "      <td>59.094473</td>\n",
       "      <td>2.058559</td>\n",
       "      <td>2.694712</td>\n",
       "      <td>10.660690</td>\n",
       "      <td>33.747871</td>\n",
       "      <td>5.866597</td>\n",
       "      <td>10.428753</td>\n",
       "      <td>0.589960</td>\n",
       "      <td>28814.182698</td>\n",
       "      <td>14224.929528</td>\n",
       "      <td>0.463704</td>\n",
       "      <td>493.064962</td>\n",
       "      <td>0.586409</td>\n",
       "      <td>520.171898</td>\n",
       "      <td>169.574021</td>\n",
       "    </tr>\n",
       "    <tr>\n",
       "      <th>std</th>\n",
       "      <td>5.612992</td>\n",
       "      <td>5843.682339</td>\n",
       "      <td>28.728986</td>\n",
       "      <td>0.984676</td>\n",
       "      <td>0.211834</td>\n",
       "      <td>6.564182</td>\n",
       "      <td>18.574612</td>\n",
       "      <td>4.861361</td>\n",
       "      <td>5.347148</td>\n",
       "      <td>0.958649</td>\n",
       "      <td>12592.214609</td>\n",
       "      <td>8521.102920</td>\n",
       "      <td>0.742896</td>\n",
       "      <td>342.084996</td>\n",
       "      <td>0.880714</td>\n",
       "      <td>277.970632</td>\n",
       "      <td>206.574058</td>\n",
       "    </tr>\n",
       "    <tr>\n",
       "      <th>min</th>\n",
       "      <td>0.000000</td>\n",
       "      <td>430.000000</td>\n",
       "      <td>12.000000</td>\n",
       "      <td>1.000000</td>\n",
       "      <td>2.500000</td>\n",
       "      <td>1.000000</td>\n",
       "      <td>8.300000</td>\n",
       "      <td>1.000000</td>\n",
       "      <td>2.300000</td>\n",
       "      <td>0.000000</td>\n",
       "      <td>6450.000000</td>\n",
       "      <td>181.000000</td>\n",
       "      <td>0.000000</td>\n",
       "      <td>16.000000</td>\n",
       "      <td>0.000000</td>\n",
       "      <td>13.000000</td>\n",
       "      <td>1.000000</td>\n",
       "    </tr>\n",
       "    <tr>\n",
       "      <th>25%</th>\n",
       "      <td>6.000000</td>\n",
       "      <td>3450.000000</td>\n",
       "      <td>40.060000</td>\n",
       "      <td>1.000000</td>\n",
       "      <td>2.600000</td>\n",
       "      <td>5.000000</td>\n",
       "      <td>18.700000</td>\n",
       "      <td>2.000000</td>\n",
       "      <td>7.000000</td>\n",
       "      <td>0.000000</td>\n",
       "      <td>18546.500000</td>\n",
       "      <td>9364.500000</td>\n",
       "      <td>0.000000</td>\n",
       "      <td>289.000000</td>\n",
       "      <td>0.000000</td>\n",
       "      <td>296.000000</td>\n",
       "      <td>45.000000</td>\n",
       "    </tr>\n",
       "    <tr>\n",
       "      <th>50%</th>\n",
       "      <td>9.000000</td>\n",
       "      <td>4650.000000</td>\n",
       "      <td>52.000000</td>\n",
       "      <td>2.000000</td>\n",
       "      <td>2.650000</td>\n",
       "      <td>9.000000</td>\n",
       "      <td>30.000000</td>\n",
       "      <td>4.000000</td>\n",
       "      <td>9.100000</td>\n",
       "      <td>0.000000</td>\n",
       "      <td>26801.000000</td>\n",
       "      <td>13142.000000</td>\n",
       "      <td>0.000000</td>\n",
       "      <td>456.000000</td>\n",
       "      <td>0.000000</td>\n",
       "      <td>504.000000</td>\n",
       "      <td>95.000000</td>\n",
       "    </tr>\n",
       "    <tr>\n",
       "      <th>75%</th>\n",
       "      <td>14.000000</td>\n",
       "      <td>6703.099750</td>\n",
       "      <td>69.200000</td>\n",
       "      <td>3.000000</td>\n",
       "      <td>2.700000</td>\n",
       "      <td>16.000000</td>\n",
       "      <td>42.100000</td>\n",
       "      <td>8.000000</td>\n",
       "      <td>12.000000</td>\n",
       "      <td>1.000000</td>\n",
       "      <td>37324.250000</td>\n",
       "      <td>16296.000000</td>\n",
       "      <td>1.000000</td>\n",
       "      <td>613.000000</td>\n",
       "      <td>1.000000</td>\n",
       "      <td>733.000000</td>\n",
       "      <td>199.000000</td>\n",
       "    </tr>\n",
       "    <tr>\n",
       "      <th>max</th>\n",
       "      <td>24.000000</td>\n",
       "      <td>99000.000000</td>\n",
       "      <td>297.500000</td>\n",
       "      <td>6.000000</td>\n",
       "      <td>5.500000</td>\n",
       "      <td>36.000000</td>\n",
       "      <td>200.000000</td>\n",
       "      <td>33.000000</td>\n",
       "      <td>65.000000</td>\n",
       "      <td>5.000000</td>\n",
       "      <td>73827.000000</td>\n",
       "      <td>54926.000000</td>\n",
       "      <td>3.000000</td>\n",
       "      <td>3190.000000</td>\n",
       "      <td>3.000000</td>\n",
       "      <td>1344.000000</td>\n",
       "      <td>1580.000000</td>\n",
       "    </tr>\n",
       "  </tbody>\n",
       "</table>\n",
       "</div>"
      ],
      "text/plain": [
       "       total_images    last_price    total_area         rooms  ceiling_height  \\\n",
       "count  23088.000000  23088.000000  23088.000000  23088.000000    23088.000000   \n",
       "mean       9.853820   6122.346028     59.094473      2.058559        2.694712   \n",
       "std        5.612992   5843.682339     28.728986      0.984676        0.211834   \n",
       "min        0.000000    430.000000     12.000000      1.000000        2.500000   \n",
       "25%        6.000000   3450.000000     40.060000      1.000000        2.600000   \n",
       "50%        9.000000   4650.000000     52.000000      2.000000        2.650000   \n",
       "75%       14.000000   6703.099750     69.200000      3.000000        2.700000   \n",
       "max       24.000000  99000.000000    297.500000      6.000000        5.500000   \n",
       "\n",
       "       floors_total   living_area         floor  kitchen_area       balcony  \\\n",
       "count  23088.000000  21254.000000  23088.000000  21082.000000  23088.000000   \n",
       "mean      10.660690     33.747871      5.866597     10.428753      0.589960   \n",
       "std        6.564182     18.574612      4.861361      5.347148      0.958649   \n",
       "min        1.000000      8.300000      1.000000      2.300000      0.000000   \n",
       "25%        5.000000     18.700000      2.000000      7.000000      0.000000   \n",
       "50%        9.000000     30.000000      4.000000      9.100000      0.000000   \n",
       "75%       16.000000     42.100000      8.000000     12.000000      1.000000   \n",
       "max       36.000000    200.000000     33.000000     65.000000      5.000000   \n",
       "\n",
       "       airports_nearest  cityCenters_nearest  parks_around3000  parks_nearest  \\\n",
       "count      17674.000000         17695.000000      23088.000000    7820.000000   \n",
       "mean       28814.182698         14224.929528          0.463704     493.064962   \n",
       "std        12592.214609          8521.102920          0.742896     342.084996   \n",
       "min         6450.000000           181.000000          0.000000      16.000000   \n",
       "25%        18546.500000          9364.500000          0.000000     289.000000   \n",
       "50%        26801.000000         13142.000000          0.000000     456.000000   \n",
       "75%        37324.250000         16296.000000          1.000000     613.000000   \n",
       "max        73827.000000         54926.000000          3.000000    3190.000000   \n",
       "\n",
       "       ponds_around3000  ponds_nearest  days_exposition  \n",
       "count      23088.000000    8825.000000     23088.000000  \n",
       "mean           0.586409     520.171898       169.574021  \n",
       "std            0.880714     277.970632       206.574058  \n",
       "min            0.000000      13.000000         1.000000  \n",
       "25%            0.000000     296.000000        45.000000  \n",
       "50%            0.000000     504.000000        95.000000  \n",
       "75%            1.000000     733.000000       199.000000  \n",
       "max            3.000000    1344.000000      1580.000000  "
      ]
     },
     "execution_count": 84,
     "metadata": {},
     "output_type": "execute_result"
    }
   ],
   "source": [
    "data = data.loc[(data['parks_nearest']>15) | (data['parks_nearest'].isna())] \n",
    "data.describe() #проверяем"
   ]
  },
  {
   "cell_type": "markdown",
   "metadata": {},
   "source": [
    "**Число водоёмов в радиусе 3 км**"
   ]
  },
  {
   "cell_type": "markdown",
   "metadata": {},
   "source": [
    "Посмотрим на диаграмму размаха по столбцу *ponds_around3000*."
   ]
  },
  {
   "cell_type": "code",
   "execution_count": 85,
   "metadata": {},
   "outputs": [
    {
     "data": {
      "text/plain": [
       "<function matplotlib.pyplot.show(close=None, block=None)>"
      ]
     },
     "execution_count": 85,
     "metadata": {},
     "output_type": "execute_result"
    },
    {
     "data": {
      "image/png": "[encoded data removed]",
      "text/plain": [
       "<Figure size 432x288 with 1 Axes>"
      ]
     },
     "metadata": {
      "needs_background": "light"
     },
     "output_type": "display_data"
    }
   ],
   "source": [
    "data.boxplot('ponds_around3000')\n",
    "plt.show"
   ]
  },
  {
   "cell_type": "markdown",
   "metadata": {},
   "source": [
    "Проверим, сколько объявлений с тремя водоёмами в радиусе 3 км."
   ]
  },
  {
   "cell_type": "code",
   "execution_count": 86,
   "metadata": {},
   "outputs": [
    {
     "data": {
      "text/plain": [
       "1440"
      ]
     },
     "execution_count": 86,
     "metadata": {},
     "output_type": "execute_result"
    }
   ],
   "source": [
    "len(data.query('ponds_around3000 == 3'))"
   ]
  },
  {
   "cell_type": "markdown",
   "metadata": {},
   "source": [
    "Такие данные не являются единичными, оставим их нетронутыми."
   ]
  },
  {
   "cell_type": "markdown",
   "metadata": {},
   "source": [
    "**Расстояние до ближайшего водоёма**"
   ]
  },
  {
   "cell_type": "markdown",
   "metadata": {},
   "source": [
    "Проверим значения по диаграмме размаха в столбце *ponds_nearest*."
   ]
  },
  {
   "cell_type": "code",
   "execution_count": 87,
   "metadata": {},
   "outputs": [
    {
     "data": {
      "text/plain": [
       "<function matplotlib.pyplot.show(close=None, block=None)>"
      ]
     },
     "execution_count": 87,
     "metadata": {},
     "output_type": "execute_result"
    },
    {
     "data": {
      "image/png": "[encoded data removed]",
      "text/plain": [
       "<Figure size 432x288 with 1 Axes>"
      ]
     },
     "metadata": {
      "needs_background": "light"
     },
     "output_type": "display_data"
    }
   ],
   "source": [
    "data.boxplot('ponds_nearest')\n",
    "plt.show"
   ]
  },
  {
   "cell_type": "markdown",
   "metadata": {},
   "source": [
    "На графике и в таблице нет выбивающихся значений. Отсавляем как есть."
   ]
  },
  {
   "cell_type": "markdown",
   "metadata": {},
   "source": [
    "**Сколько дней было размещено объявление**"
   ]
  },
  {
   "cell_type": "markdown",
   "metadata": {},
   "source": [
    "Проверим распределение данных на диаграмме размаха по столбцу *days_exposition*."
   ]
  },
  {
   "cell_type": "code",
   "execution_count": 88,
   "metadata": {},
   "outputs": [
    {
     "data": {
      "text/plain": [
       "<function matplotlib.pyplot.show(close=None, block=None)>"
      ]
     },
     "execution_count": 88,
     "metadata": {},
     "output_type": "execute_result"
    },
    {
     "data": {
      "image/png": "[encoded data removed]",
      "text/plain": [
       "<Figure size 432x288 with 1 Axes>"
      ]
     },
     "metadata": {
      "needs_background": "light"
     },
     "output_type": "display_data"
    }
   ],
   "source": [
    "data.boxplot('days_exposition')\n",
    "plt.show"
   ]
  },
  {
   "cell_type": "code",
   "execution_count": 89,
   "metadata": {},
   "outputs": [
    {
     "data": {
      "text/plain": [
       "(1200.0, 1600.0)"
      ]
     },
     "execution_count": 89,
     "metadata": {},
     "output_type": "execute_result"
    },
    {
     "data": {
      "image/png": "[encoded data removed]",
      "text/plain": [
       "<Figure size 432x288 with 1 Axes>"
      ]
     },
     "metadata": {
      "needs_background": "light"
     },
     "output_type": "display_data"
    }
   ],
   "source": [
    "data.boxplot('days_exposition') \n",
    "plt.ylim(1200, 1600) #увеличим масштаб в верхних границах графика"
   ]
  },
  {
   "cell_type": "markdown",
   "metadata": {},
   "source": [
    "Удалим строки с объявлениями, которые висели более 1400 дней, так как это совсем редкие случаи."
   ]
  },
  {
   "cell_type": "code",
   "execution_count": 90,
   "metadata": {},
   "outputs": [],
   "source": [
    "data = data.loc[(data['days_exposition']<1400) | (data['days_exposition'].isna())] "
   ]
  },
  {
   "cell_type": "markdown",
   "metadata": {},
   "source": [
    "Теперь посмотрим минимальные значения, выясним сколько объявлений, которые висели до трех дней включительно."
   ]
  },
  {
   "cell_type": "code",
   "execution_count": 91,
   "metadata": {},
   "outputs": [
    {
     "data": {
      "text/plain": [
       "4"
      ]
     },
     "execution_count": 91,
     "metadata": {},
     "output_type": "execute_result"
    }
   ],
   "source": [
    "len(data.query('days_exposition <= 3'))"
   ]
  },
  {
   "cell_type": "markdown",
   "metadata": {},
   "source": [
    "Всего четыре объявления - это единичные случаи, удаляем их."
   ]
  },
  {
   "cell_type": "code",
   "execution_count": 92,
   "metadata": {
    "scrolled": true
   },
   "outputs": [
    {
     "data": {
      "text/html": [
       "<div>\n",
       "<style scoped>\n",
       "    .dataframe tbody tr th:only-of-type {\n",
       "        vertical-align: middle;\n",
       "    }\n",
       "\n",
       "    .dataframe tbody tr th {\n",
       "        vertical-align: top;\n",
       "    }\n",
       "\n",
       "    .dataframe thead th {\n",
       "        text-align: right;\n",
       "    }\n",
       "</style>\n",
       "<table border=\"1\" class=\"dataframe\">\n",
       "  <thead>\n",
       "    <tr style=\"text-align: right;\">\n",
       "      <th></th>\n",
       "      <th>total_images</th>\n",
       "      <th>last_price</th>\n",
       "      <th>total_area</th>\n",
       "      <th>rooms</th>\n",
       "      <th>ceiling_height</th>\n",
       "      <th>floors_total</th>\n",
       "      <th>living_area</th>\n",
       "      <th>floor</th>\n",
       "      <th>kitchen_area</th>\n",
       "      <th>balcony</th>\n",
       "      <th>airports_nearest</th>\n",
       "      <th>cityCenters_nearest</th>\n",
       "      <th>parks_around3000</th>\n",
       "      <th>parks_nearest</th>\n",
       "      <th>ponds_around3000</th>\n",
       "      <th>ponds_nearest</th>\n",
       "      <th>days_exposition</th>\n",
       "    </tr>\n",
       "  </thead>\n",
       "  <tbody>\n",
       "    <tr>\n",
       "      <th>count</th>\n",
       "      <td>23065.000000</td>\n",
       "      <td>23065.000000</td>\n",
       "      <td>23065.000000</td>\n",
       "      <td>23065.000000</td>\n",
       "      <td>23065.000000</td>\n",
       "      <td>23065.000000</td>\n",
       "      <td>21233.000000</td>\n",
       "      <td>23065.000000</td>\n",
       "      <td>21061.000000</td>\n",
       "      <td>23065.000000</td>\n",
       "      <td>17653.000000</td>\n",
       "      <td>17674.000000</td>\n",
       "      <td>23065.000000</td>\n",
       "      <td>7807.000000</td>\n",
       "      <td>23065.000000</td>\n",
       "      <td>8814.000000</td>\n",
       "      <td>23065.000000</td>\n",
       "    </tr>\n",
       "    <tr>\n",
       "      <th>mean</th>\n",
       "      <td>9.855799</td>\n",
       "      <td>6118.400011</td>\n",
       "      <td>59.073396</td>\n",
       "      <td>2.058140</td>\n",
       "      <td>2.694597</td>\n",
       "      <td>10.663516</td>\n",
       "      <td>33.736156</td>\n",
       "      <td>5.868762</td>\n",
       "      <td>10.425224</td>\n",
       "      <td>0.590028</td>\n",
       "      <td>28814.951963</td>\n",
       "      <td>14225.841858</td>\n",
       "      <td>0.463299</td>\n",
       "      <td>492.979121</td>\n",
       "      <td>0.585996</td>\n",
       "      <td>520.239959</td>\n",
       "      <td>168.523434</td>\n",
       "    </tr>\n",
       "    <tr>\n",
       "      <th>std</th>\n",
       "      <td>5.611931</td>\n",
       "      <td>5840.803480</td>\n",
       "      <td>28.703539</td>\n",
       "      <td>0.984599</td>\n",
       "      <td>0.211806</td>\n",
       "      <td>6.564885</td>\n",
       "      <td>18.563942</td>\n",
       "      <td>4.862726</td>\n",
       "      <td>5.341834</td>\n",
       "      <td>0.958724</td>\n",
       "      <td>12592.130157</td>\n",
       "      <td>8518.731845</td>\n",
       "      <td>0.742554</td>\n",
       "      <td>341.768624</td>\n",
       "      <td>0.880220</td>\n",
       "      <td>278.083664</td>\n",
       "      <td>203.204563</td>\n",
       "    </tr>\n",
       "    <tr>\n",
       "      <th>min</th>\n",
       "      <td>0.000000</td>\n",
       "      <td>430.000000</td>\n",
       "      <td>12.000000</td>\n",
       "      <td>1.000000</td>\n",
       "      <td>2.500000</td>\n",
       "      <td>1.000000</td>\n",
       "      <td>8.300000</td>\n",
       "      <td>1.000000</td>\n",
       "      <td>2.300000</td>\n",
       "      <td>0.000000</td>\n",
       "      <td>6450.000000</td>\n",
       "      <td>181.000000</td>\n",
       "      <td>0.000000</td>\n",
       "      <td>16.000000</td>\n",
       "      <td>0.000000</td>\n",
       "      <td>13.000000</td>\n",
       "      <td>3.000000</td>\n",
       "    </tr>\n",
       "    <tr>\n",
       "      <th>25%</th>\n",
       "      <td>6.000000</td>\n",
       "      <td>3450.000000</td>\n",
       "      <td>40.000000</td>\n",
       "      <td>1.000000</td>\n",
       "      <td>2.600000</td>\n",
       "      <td>5.000000</td>\n",
       "      <td>18.610000</td>\n",
       "      <td>2.000000</td>\n",
       "      <td>7.000000</td>\n",
       "      <td>0.000000</td>\n",
       "      <td>18545.000000</td>\n",
       "      <td>9375.250000</td>\n",
       "      <td>0.000000</td>\n",
       "      <td>289.000000</td>\n",
       "      <td>0.000000</td>\n",
       "      <td>295.250000</td>\n",
       "      <td>45.000000</td>\n",
       "    </tr>\n",
       "    <tr>\n",
       "      <th>50%</th>\n",
       "      <td>9.000000</td>\n",
       "      <td>4650.000000</td>\n",
       "      <td>52.000000</td>\n",
       "      <td>2.000000</td>\n",
       "      <td>2.650000</td>\n",
       "      <td>9.000000</td>\n",
       "      <td>30.000000</td>\n",
       "      <td>4.000000</td>\n",
       "      <td>9.100000</td>\n",
       "      <td>0.000000</td>\n",
       "      <td>26805.000000</td>\n",
       "      <td>13144.000000</td>\n",
       "      <td>0.000000</td>\n",
       "      <td>456.000000</td>\n",
       "      <td>0.000000</td>\n",
       "      <td>504.500000</td>\n",
       "      <td>95.000000</td>\n",
       "    </tr>\n",
       "    <tr>\n",
       "      <th>75%</th>\n",
       "      <td>14.000000</td>\n",
       "      <td>6700.000000</td>\n",
       "      <td>69.200000</td>\n",
       "      <td>3.000000</td>\n",
       "      <td>2.700000</td>\n",
       "      <td>16.000000</td>\n",
       "      <td>42.100000</td>\n",
       "      <td>8.000000</td>\n",
       "      <td>12.000000</td>\n",
       "      <td>1.000000</td>\n",
       "      <td>37313.000000</td>\n",
       "      <td>16296.000000</td>\n",
       "      <td>1.000000</td>\n",
       "      <td>613.000000</td>\n",
       "      <td>1.000000</td>\n",
       "      <td>733.000000</td>\n",
       "      <td>199.000000</td>\n",
       "    </tr>\n",
       "    <tr>\n",
       "      <th>max</th>\n",
       "      <td>24.000000</td>\n",
       "      <td>99000.000000</td>\n",
       "      <td>297.500000</td>\n",
       "      <td>6.000000</td>\n",
       "      <td>5.500000</td>\n",
       "      <td>36.000000</td>\n",
       "      <td>200.000000</td>\n",
       "      <td>33.000000</td>\n",
       "      <td>65.000000</td>\n",
       "      <td>5.000000</td>\n",
       "      <td>73827.000000</td>\n",
       "      <td>54926.000000</td>\n",
       "      <td>3.000000</td>\n",
       "      <td>3190.000000</td>\n",
       "      <td>3.000000</td>\n",
       "      <td>1344.000000</td>\n",
       "      <td>1396.000000</td>\n",
       "    </tr>\n",
       "  </tbody>\n",
       "</table>\n",
       "</div>"
      ],
      "text/plain": [
       "       total_images    last_price    total_area         rooms  ceiling_height  \\\n",
       "count  23065.000000  23065.000000  23065.000000  23065.000000    23065.000000   \n",
       "mean       9.855799   6118.400011     59.073396      2.058140        2.694597   \n",
       "std        5.611931   5840.803480     28.703539      0.984599        0.211806   \n",
       "min        0.000000    430.000000     12.000000      1.000000        2.500000   \n",
       "25%        6.000000   3450.000000     40.000000      1.000000        2.600000   \n",
       "50%        9.000000   4650.000000     52.000000      2.000000        2.650000   \n",
       "75%       14.000000   6700.000000     69.200000      3.000000        2.700000   \n",
       "max       24.000000  99000.000000    297.500000      6.000000        5.500000   \n",
       "\n",
       "       floors_total   living_area         floor  kitchen_area       balcony  \\\n",
       "count  23065.000000  21233.000000  23065.000000  21061.000000  23065.000000   \n",
       "mean      10.663516     33.736156      5.868762     10.425224      0.590028   \n",
       "std        6.564885     18.563942      4.862726      5.341834      0.958724   \n",
       "min        1.000000      8.300000      1.000000      2.300000      0.000000   \n",
       "25%        5.000000     18.610000      2.000000      7.000000      0.000000   \n",
       "50%        9.000000     30.000000      4.000000      9.100000      0.000000   \n",
       "75%       16.000000     42.100000      8.000000     12.000000      1.000000   \n",
       "max       36.000000    200.000000     33.000000     65.000000      5.000000   \n",
       "\n",
       "       airports_nearest  cityCenters_nearest  parks_around3000  parks_nearest  \\\n",
       "count      17653.000000         17674.000000      23065.000000    7807.000000   \n",
       "mean       28814.951963         14225.841858          0.463299     492.979121   \n",
       "std        12592.130157          8518.731845          0.742554     341.768624   \n",
       "min         6450.000000           181.000000          0.000000      16.000000   \n",
       "25%        18545.000000          9375.250000          0.000000     289.000000   \n",
       "50%        26805.000000         13144.000000          0.000000     456.000000   \n",
       "75%        37313.000000         16296.000000          1.000000     613.000000   \n",
       "max        73827.000000         54926.000000          3.000000    3190.000000   \n",
       "\n",
       "       ponds_around3000  ponds_nearest  days_exposition  \n",
       "count      23065.000000    8814.000000     23065.000000  \n",
       "mean           0.585996     520.239959       168.523434  \n",
       "std            0.880220     278.083664       203.204563  \n",
       "min            0.000000      13.000000         3.000000  \n",
       "25%            0.000000     295.250000        45.000000  \n",
       "50%            0.000000     504.500000        95.000000  \n",
       "75%            1.000000     733.000000       199.000000  \n",
       "max            3.000000    1344.000000      1396.000000  "
      ]
     },
     "execution_count": 92,
     "metadata": {},
     "output_type": "execute_result"
    }
   ],
   "source": [
    "data = data.loc[(data['days_exposition']>3) | (data['days_exposition'].isna())]\n",
    "data.describe() #проверяем"
   ]
  },
  {
   "cell_type": "markdown",
   "metadata": {},
   "source": [
    "Таким образом мы за весь цикл обработки удалили около 2% данных."
   ]
  },
  {
   "cell_type": "markdown",
   "metadata": {},
   "source": [
    "<div class=\"alert alert-success\">\n",
    "<h2> Комментарий ревьюера V1<a class=\"tocSkip\"> </h2>\n",
    "\n",
    "<b>Все отлично!👍:</b> Абсолютно верно проанализировала и обработала аномальные значения и выбросы. Молодец, что смотришь на статистики с помощью describe(), а также используешь boxplots."
   ]
  },
  {
   "cell_type": "markdown",
   "metadata": {},
   "source": [
    "### Посчитайте и добавьте в таблицу новые столбцы"
   ]
  },
  {
   "cell_type": "markdown",
   "metadata": {},
   "source": [
    "- Цена одного квадратного метра:"
   ]
  },
  {
   "cell_type": "code",
   "execution_count": 93,
   "metadata": {},
   "outputs": [],
   "source": [
    "data['square_meter_price'] = data['last_price'] / data['total_area']"
   ]
  },
  {
   "cell_type": "markdown",
   "metadata": {},
   "source": [
    "- День публикации объявления:"
   ]
  },
  {
   "cell_type": "code",
   "execution_count": 94,
   "metadata": {},
   "outputs": [],
   "source": [
    "data['week_day_exposition'] = data['first_day_exposition'].dt.weekday"
   ]
  },
  {
   "cell_type": "markdown",
   "metadata": {},
   "source": [
    "- Месяц публикации объвления:"
   ]
  },
  {
   "cell_type": "code",
   "execution_count": 95,
   "metadata": {},
   "outputs": [],
   "source": [
    "data['month_exposition'] = data['first_day_exposition'].dt.month"
   ]
  },
  {
   "cell_type": "markdown",
   "metadata": {},
   "source": [
    "- Год публикации объявления:"
   ]
  },
  {
   "cell_type": "code",
   "execution_count": 96,
   "metadata": {},
   "outputs": [],
   "source": [
    "data['year_exposition'] = data['first_day_exposition'].dt.year"
   ]
  },
  {
   "cell_type": "markdown",
   "metadata": {},
   "source": [
    "- Тип этажа квартиры:"
   ]
  },
  {
   "cell_type": "code",
   "execution_count": 97,
   "metadata": {},
   "outputs": [],
   "source": [
    "data['floor'] = data['floor'].astype('float')"
   ]
  },
  {
   "cell_type": "code",
   "execution_count": 98,
   "metadata": {},
   "outputs": [],
   "source": [
    "def floor_category(row):\n",
    "    floors_total = row['floors_total']\n",
    "    floor = row['floor']\n",
    "    if floor == 1:\n",
    "        return 'первый'\n",
    "    elif floor == floors_total:\n",
    "        return 'последний'\n",
    "    elif 1 < floor < floors_total:\n",
    "        return 'другой'"
   ]
  },
  {
   "cell_type": "code",
   "execution_count": 99,
   "metadata": {},
   "outputs": [],
   "source": [
    "data['floor_category'] = data.apply(floor_category, axis = 1)"
   ]
  },
  {
   "cell_type": "markdown",
   "metadata": {},
   "source": [
    "- Расстоние до центра города в км:"
   ]
  },
  {
   "cell_type": "code",
   "execution_count": 100,
   "metadata": {},
   "outputs": [],
   "source": [
    "data['cityCenters_nearest_km'] = data['cityCenters_nearest'] // 1000"
   ]
  },
  {
   "cell_type": "markdown",
   "metadata": {},
   "source": [
    "<div class=\"alert alert-success\">\n",
    "<h2> Комментарий ревьюера V1<a class=\"tocSkip\"> </h2>\n",
    "\n",
    "<b>Все отлично!👍:</b> Новые столбцы создала правильно, использовала только подходящие методы."
   ]
  },
  {
   "cell_type": "markdown",
   "metadata": {},
   "source": [
    "### Проведите исследовательский анализ данных"
   ]
  },
  {
   "cell_type": "markdown",
   "metadata": {},
   "source": [
    "**Изучим каждый блок данных в отдельности.**"
   ]
  },
  {
   "cell_type": "markdown",
   "metadata": {},
   "source": [
    "- Общая площадь:"
   ]
  },
  {
   "cell_type": "code",
   "execution_count": 101,
   "metadata": {},
   "outputs": [
    {
     "data": {
      "image/png": "[encoded data removed]",
      "text/plain": [
       "<Figure size 432x288 with 1 Axes>"
      ]
     },
     "metadata": {
      "needs_background": "light"
     },
     "output_type": "display_data"
    }
   ],
   "source": [
    "data['total_area'].hist(bins=30);"
   ]
  },
  {
   "cell_type": "markdown",
   "metadata": {},
   "source": [
    "По гистограмме видно, что большее количетво квартир в диапазоне от 30 кв.м. до 50 кв.м., по графику мы видим тяготеющее кнормальному распределение, квартиры с очень маленькой площадью или очень большой площадью встречаются в объявлениях реже."
   ]
  },
  {
   "cell_type": "markdown",
   "metadata": {},
   "source": [
    "- Жилая площадь:"
   ]
  },
  {
   "cell_type": "code",
   "execution_count": 102,
   "metadata": {},
   "outputs": [
    {
     "data": {
      "image/png": "[encoded data removed]",
      "text/plain": [
       "<Figure size 432x288 with 1 Axes>"
      ]
     },
     "metadata": {
      "needs_background": "light"
     },
     "output_type": "display_data"
    }
   ],
   "source": [
    "data['living_area'].hist(bins=20);"
   ]
  },
  {
   "cell_type": "markdown",
   "metadata": {},
   "source": [
    "Как и на пролом графике, распределение Пуассона мтремящееся к нормальному, большее количество объявлений сконцентрированно в диапазоне до 35 кв.м., и чем больше жилая площадь, тем меньше объявлений."
   ]
  },
  {
   "cell_type": "markdown",
   "metadata": {},
   "source": [
    "- Площадь кухни:"
   ]
  },
  {
   "cell_type": "code",
   "execution_count": 103,
   "metadata": {
    "scrolled": false
   },
   "outputs": [
    {
     "data": {
      "image/png": "[encoded data removed]",
      "text/plain": [
       "<Figure size 432x288 with 1 Axes>"
      ]
     },
     "metadata": {
      "needs_background": "light"
     },
     "output_type": "display_data"
    }
   ],
   "source": [
    "data['kitchen_area'].hist(bins=30);"
   ]
  },
  {
   "cell_type": "markdown",
   "metadata": {},
   "source": [
    "В гистограмме видно, небольшое количество объявлений с небольшой площадью квартиры и с увеличением площади уменьшается количество объявлений, болшее количество объявлений представленно с площадью кухни до 10 кв.м."
   ]
  },
  {
   "cell_type": "markdown",
   "metadata": {},
   "source": [
    "- Цена объекта:"
   ]
  },
  {
   "cell_type": "code",
   "execution_count": 104,
   "metadata": {},
   "outputs": [
    {
     "data": {
      "image/png": "[encoded data removed]",
      "text/plain": [
       "<Figure size 432x288 with 1 Axes>"
      ]
     },
     "metadata": {
      "needs_background": "light"
     },
     "output_type": "display_data"
    }
   ],
   "source": [
    "data['last_price'].hist(bins=50);"
   ]
  },
  {
   "cell_type": "markdown",
   "metadata": {},
   "source": [
    "В ценах присутствует большой разброс, это связано с существенной разницей стоимости квартир в зависимости от района и населённого пункта, больше всего объявлений в диапазоне до 10 млн."
   ]
  },
  {
   "cell_type": "markdown",
   "metadata": {},
   "source": [
    "- Количество комнат:"
   ]
  },
  {
   "cell_type": "code",
   "execution_count": 105,
   "metadata": {},
   "outputs": [
    {
     "data": {
      "image/png": "[encoded data removed]",
      "text/plain": [
       "<Figure size 432x288 with 1 Axes>"
      ]
     },
     "metadata": {
      "needs_background": "light"
     },
     "output_type": "display_data"
    }
   ],
   "source": [
    "data['rooms'].hist(bins=6);"
   ]
  },
  {
   "cell_type": "markdown",
   "metadata": {},
   "source": [
    "Больше всего в продаже квартир с одной и двумя комнатами."
   ]
  },
  {
   "cell_type": "markdown",
   "metadata": {},
   "source": [
    "- Высота потолков:"
   ]
  },
  {
   "cell_type": "code",
   "execution_count": 106,
   "metadata": {},
   "outputs": [
    {
     "data": {
      "image/png": "[encoded data removed]",
      "text/plain": [
       "<Figure size 432x288 with 1 Axes>"
      ]
     },
     "metadata": {
      "needs_background": "light"
     },
     "output_type": "display_data"
    }
   ],
   "source": [
    "data['ceiling_height'].hist();"
   ]
  },
  {
   "cell_type": "markdown",
   "metadata": {},
   "source": [
    "В большинстве объявлений фигруриуют квартиры с потолками 2.5-2.7 м, что явлется минимальным стандартом для квартир в РФ."
   ]
  },
  {
   "cell_type": "markdown",
   "metadata": {},
   "source": [
    "- Этаж квартиры:"
   ]
  },
  {
   "cell_type": "code",
   "execution_count": 107,
   "metadata": {},
   "outputs": [
    {
     "data": {
      "image/png": "[encoded data removed]",
      "text/plain": [
       "<Figure size 432x288 with 1 Axes>"
      ]
     },
     "metadata": {
      "needs_background": "light"
     },
     "output_type": "display_data"
    }
   ],
   "source": [
    "data['floor'].hist();"
   ]
  },
  {
   "cell_type": "markdown",
   "metadata": {},
   "source": [
    "Большее количество объявлений включает в себя квартиры с 1 по 4 этаж, чем выше этаж - тем меньше объявлений."
   ]
  },
  {
   "cell_type": "markdown",
   "metadata": {},
   "source": [
    "- Тип этажа квартиры:"
   ]
  },
  {
   "cell_type": "code",
   "execution_count": 108,
   "metadata": {},
   "outputs": [
    {
     "data": {
      "image/png": "[encoded data removed]",
      "text/plain": [
       "<Figure size 432x288 with 1 Axes>"
      ]
     },
     "metadata": {
      "needs_background": "light"
     },
     "output_type": "display_data"
    }
   ],
   "source": [
    "data['floor_category'].hist(bins=3);"
   ]
  },
  {
   "cell_type": "markdown",
   "metadata": {},
   "source": [
    "В объявлениях больше всего квартир не на первом и не на последнем этаже."
   ]
  },
  {
   "cell_type": "markdown",
   "metadata": {},
   "source": [
    "- Общее количество этажей в доме:"
   ]
  },
  {
   "cell_type": "code",
   "execution_count": 109,
   "metadata": {},
   "outputs": [
    {
     "data": {
      "image/png": "[encoded data removed]",
      "text/plain": [
       "<Figure size 432x288 with 1 Axes>"
      ]
     },
     "metadata": {
      "needs_background": "light"
     },
     "output_type": "display_data"
    }
   ],
   "source": [
    "data['floors_total'].hist(bins=10);"
   ]
  },
  {
   "cell_type": "markdown",
   "metadata": {},
   "source": [
    "Присутствует неравномерное распределение по этажам домов, основная масса объявлений содержит в себе квартиры, находящиеся в домах ниже 12 этажей."
   ]
  },
  {
   "cell_type": "markdown",
   "metadata": {},
   "source": [
    "- Расстояние до центра города в метрах:"
   ]
  },
  {
   "cell_type": "code",
   "execution_count": 110,
   "metadata": {},
   "outputs": [
    {
     "data": {
      "image/png": "[encoded data removed]",
      "text/plain": [
       "<Figure size 432x288 with 1 Axes>"
      ]
     },
     "metadata": {
      "needs_background": "light"
     },
     "output_type": "display_data"
    }
   ],
   "source": [
    "data['cityCenters_nearest'].hist();"
   ]
  },
  {
   "cell_type": "markdown",
   "metadata": {},
   "source": [
    "Большая часть квартир в объявлениях находится в зоне от 10 км до 15 км от центра города. Более 20 км от центра встречаются значительно реже."
   ]
  },
  {
   "cell_type": "markdown",
   "metadata": {},
   "source": [
    "- Расстояние до ближайшего аэропорта:"
   ]
  },
  {
   "cell_type": "code",
   "execution_count": 111,
   "metadata": {},
   "outputs": [
    {
     "data": {
      "image/png": "[encoded data removed]",
      "text/plain": [
       "<Figure size 432x288 with 1 Axes>"
      ]
     },
     "metadata": {
      "needs_background": "light"
     },
     "output_type": "display_data"
    }
   ],
   "source": [
    "data['airports_nearest'].hist();"
   ]
  },
  {
   "cell_type": "markdown",
   "metadata": {},
   "source": [
    "По расстоянию до аэропорта нет явновыраженных пиков. Объявлений, где расстояние более 50 км встречаются реже остальных."
   ]
  },
  {
   "cell_type": "markdown",
   "metadata": {},
   "source": [
    "- Расстояние до ближайшего парка:"
   ]
  },
  {
   "cell_type": "code",
   "execution_count": 112,
   "metadata": {},
   "outputs": [
    {
     "data": {
      "image/png": "[encoded data removed]",
      "text/plain": [
       "<Figure size 432x288 with 1 Axes>"
      ]
     },
     "metadata": {
      "needs_background": "light"
     },
     "output_type": "display_data"
    }
   ],
   "source": [
    "data['parks_nearest'].hist();"
   ]
  },
  {
   "cell_type": "markdown",
   "metadata": {},
   "source": [
    "Среди объявлений, где указано расстояние до ближайшего парка большая часть приходится на расстояние до 1 км."
   ]
  },
  {
   "cell_type": "markdown",
   "metadata": {},
   "source": [
    "- День и месяц публикации объявления:"
   ]
  },
  {
   "cell_type": "code",
   "execution_count": 113,
   "metadata": {
    "scrolled": false
   },
   "outputs": [
    {
     "data": {
      "image/png": "[encoded data removed]",
      "text/plain": [
       "<Figure size 432x288 with 1 Axes>"
      ]
     },
     "metadata": {
      "needs_background": "light"
     },
     "output_type": "display_data"
    }
   ],
   "source": [
    "data['week_day_exposition'].hist(bins=7);"
   ]
  },
  {
   "cell_type": "markdown",
   "metadata": {},
   "source": [
    "В выходные дни публикуется меньшее количество объявлений, чем в будние."
   ]
  },
  {
   "cell_type": "code",
   "execution_count": 114,
   "metadata": {},
   "outputs": [
    {
     "data": {
      "image/png": "[encoded data removed]",
      "text/plain": [
       "<Figure size 432x288 with 1 Axes>"
      ]
     },
     "metadata": {
      "needs_background": "light"
     },
     "output_type": "display_data"
    }
   ],
   "source": [
    "data['month_exposition'].hist(bins=12);"
   ]
  },
  {
   "cell_type": "markdown",
   "metadata": {},
   "source": [
    "Меньше всего объявлений опубликовано в январе, мае и декабре, возможно это также связано с большим количеством праздничных выходных в эти месяцы. Также есть просадка в летние месяцы. Самые активные месяцы для публикаций: февраль, март, апрель и ноябрь."
   ]
  },
  {
   "cell_type": "markdown",
   "metadata": {},
   "source": [
    "<div class=\"alert alert-warning\">\n",
    "<h2> Комментарий ревьюера V1<a class=\"tocSkip\"> </h2>\n",
    "\n",
    "<b>Некоторые замечания и рекомендации💡:</b> Стоит всегда более подробно проводить анализ случайных величин. Можно рассмотреть статистики, построить диаграмму размаха, как ты это делала при обработке выбросов. Детальнее описать статистики, в них может встретиться интересная особенность. Гистограммы распределения стоит подробнее строить, подбирать оптимальные параметры bins, range, например для высоты потолков, чтобы посмотреть на точную картину распределения."
   ]
  },
  {
   "cell_type": "markdown",
   "metadata": {},
   "source": [
    "**Посмотрим как быстро продавались квартиры.**"
   ]
  },
  {
   "cell_type": "code",
   "execution_count": 115,
   "metadata": {},
   "outputs": [
    {
     "data": {
      "image/png": "[encoded data removed]",
      "text/plain": [
       "<Figure size 432x288 with 1 Axes>"
      ]
     },
     "metadata": {
      "needs_background": "light"
     },
     "output_type": "display_data"
    }
   ],
   "source": [
    "data['days_exposition'].hist(bins=100);"
   ]
  },
  {
   "cell_type": "code",
   "execution_count": 116,
   "metadata": {},
   "outputs": [
    {
     "data": {
      "image/png": "[encoded data removed]",
      "text/plain": [
       "<Figure size 432x288 with 1 Axes>"
      ]
     },
     "metadata": {
      "needs_background": "light"
     },
     "output_type": "display_data"
    }
   ],
   "source": [
    "data['days_exposition'].hist(bins=100, range=(0,200)); # посмотрим поближе на пики до 200 дней"
   ]
  },
  {
   "cell_type": "code",
   "execution_count": 117,
   "metadata": {},
   "outputs": [
    {
     "data": {
      "text/plain": [
       "168.52343377411663"
      ]
     },
     "execution_count": 117,
     "metadata": {},
     "output_type": "execute_result"
    }
   ],
   "source": [
    "data['days_exposition'].mean()"
   ]
  },
  {
   "cell_type": "code",
   "execution_count": 118,
   "metadata": {},
   "outputs": [
    {
     "data": {
      "text/plain": [
       "95.0"
      ]
     },
     "execution_count": 118,
     "metadata": {},
     "output_type": "execute_result"
    }
   ],
   "source": [
    "data['days_exposition'].median()"
   ]
  },
  {
   "cell_type": "markdown",
   "metadata": {},
   "source": [
    "В данных присутствует несколько явных пиков, которые соответствуют срокам бесплатного размещения объявлений (45, 60 и 90 дней).\n",
    "75% объявлений снимаются через 200 дней после публикации, будем считать, что публикации более 200 дней - необычно долгие. До 45 дней снимаются 25% объявлений, будем считать, что меньше этогосрока - необычно быстрые."
   ]
  },
  {
   "cell_type": "markdown",
   "metadata": {},
   "source": [
    "<div class=\"alert alert-success\">\n",
    "<h2> Комментарий ревьюера V1<a class=\"tocSkip\"> </h2>\n",
    "\n",
    "<b>Все отлично!👍:</b> Все так, средний срок продажи почти полгода, а 50% квартир продается в срок до 3 месяцев."
   ]
  },
  {
   "cell_type": "markdown",
   "metadata": {},
   "source": [
    "**Факторы, которые больше всего влияют на общую (полную) стоимость объекта.**"
   ]
  },
  {
   "cell_type": "markdown",
   "metadata": {},
   "source": [
    "Построим графики и изучим корреляцию между различными данными."
   ]
  },
  {
   "cell_type": "code",
   "execution_count": 119,
   "metadata": {},
   "outputs": [
    {
     "data": {
      "image/png": "[encoded data removed]",
      "text/plain": [
       "<Figure size 432x288 with 1 Axes>"
      ]
     },
     "metadata": {
      "needs_background": "light"
     },
     "output_type": "display_data"
    }
   ],
   "source": [
    "data.plot(x='last_price', y='total_area', kind='scatter', alpha=0.01); #корреляция между общей площадью и ценой"
   ]
  },
  {
   "cell_type": "code",
   "execution_count": 120,
   "metadata": {},
   "outputs": [
    {
     "data": {
      "text/plain": [
       "0.7521008275941758"
      ]
     },
     "execution_count": 120,
     "metadata": {},
     "output_type": "execute_result"
    }
   ],
   "source": [
    "data['last_price'].corr(data['total_area'])"
   ]
  },
  {
   "cell_type": "markdown",
   "metadata": {},
   "source": [
    "График показвает, что чем больше площадь, тем выше цена."
   ]
  },
  {
   "cell_type": "code",
   "execution_count": 121,
   "metadata": {},
   "outputs": [
    {
     "data": {
      "image/png": "[encoded data removed]",
      "text/plain": [
       "<Figure size 432x288 with 1 Axes>"
      ]
     },
     "metadata": {
      "needs_background": "light"
     },
     "output_type": "display_data"
    }
   ],
   "source": [
    "data.plot(x='last_price', y='living_area', kind='scatter', alpha=0.01); #корреляция между жилой площадью и ценой"
   ]
  },
  {
   "cell_type": "code",
   "execution_count": 122,
   "metadata": {},
   "outputs": [
    {
     "data": {
      "text/plain": [
       "0.6565929640716957"
      ]
     },
     "execution_count": 122,
     "metadata": {},
     "output_type": "execute_result"
    }
   ],
   "source": [
    "data['last_price'].corr(data['living_area'])"
   ]
  },
  {
   "cell_type": "markdown",
   "metadata": {},
   "source": [
    "То же показывает график с жилой площадью, чем больше жилая площадь, тем больше цена."
   ]
  },
  {
   "cell_type": "code",
   "execution_count": 123,
   "metadata": {},
   "outputs": [
    {
     "data": {
      "image/png": "[encoded data removed]",
      "text/plain": [
       "<Figure size 432x288 with 1 Axes>"
      ]
     },
     "metadata": {
      "needs_background": "light"
     },
     "output_type": "display_data"
    }
   ],
   "source": [
    "data.plot(x='last_price', y='kitchen_area', kind='scatter', alpha=0.01); #корреляция между площадью кухни и ценой"
   ]
  },
  {
   "cell_type": "code",
   "execution_count": 124,
   "metadata": {},
   "outputs": [
    {
     "data": {
      "text/plain": [
       "0.5629034771317548"
      ]
     },
     "execution_count": 124,
     "metadata": {},
     "output_type": "execute_result"
    }
   ],
   "source": [
    "data['last_price'].corr(data['kitchen_area'])"
   ]
  },
  {
   "cell_type": "markdown",
   "metadata": {},
   "source": [
    "На графике видно множество ровных значений, скорее всего в объявлениях часто округляют площадь кухонь.\n",
    "Площадь кухни меньше коррелирует с ценой, чем общая и жилая, но тем не менее корреляция присутствует."
   ]
  },
  {
   "cell_type": "markdown",
   "metadata": {},
   "source": [
    "<div class=\"alert alert-success\">\n",
    "<h2> Комментарий ревьюера V1<a class=\"tocSkip\"> </h2>\n",
    "\n",
    "<b>Все отлично!👍:</b> Замечательно проанализировала зависимость цены от площадей, все выводы верные."
   ]
  },
  {
   "cell_type": "code",
   "execution_count": 125,
   "metadata": {},
   "outputs": [
    {
     "data": {
      "image/png": "[encoded data removed]",
      "text/plain": [
       "<Figure size 432x288 with 1 Axes>"
      ]
     },
     "metadata": {
      "needs_background": "light"
     },
     "output_type": "display_data"
    }
   ],
   "source": [
    "#создадим сводную таблицу для данных по количеству комнат и посмотрим на значение медианы последней цены по каждой категории\n",
    "#корреляция между количеством комнат и ценой\n",
    "rooms_pivot_median = data.pivot_table(index='rooms', values='last_price', aggfunc='median').plot()"
   ]
  },
  {
   "cell_type": "markdown",
   "metadata": {},
   "source": [
    "<div class=\"alert alert-block alert-danger\">\n",
    "<h2> Комментарий ревьюера V1<a class=\"tocSkip\"></h2>\n",
    "\n",
    "\n",
    "<b>На доработку🤔:</b>\n",
    "Попробуй использовать другой тип диаграммы для количества комнат и всех остальных категориальных случайных величин ниже. Здесь больше подошли бы столбчатые или линейные диаграммы, также я бы поменял оси местами, на оси абсцисс чтобы были категории, а на оси ординат значения средних или медианных стоимостей квартир (как ты это сделала для типа этажей ниже). Текущая диаграмма может натолкнуть на неправильные выводы, по ней нельзя понять сколько объявлений в каждой категории, какая средняя цена квартир, можно увидеть только распределение и выбросы в категориях."
   ]
  },
  {
   "cell_type": "markdown",
   "metadata": {},
   "source": [
    "<div style=\"background-color:black; color:#ffffff; text-align:center; padding:2%\">\n",
    "    \n",
    "**Дарья:** Использовала другой метод, используя линейную диаграмму и сводную таблицу для медианных значений каждой категории."
   ]
  },
  {
   "cell_type": "markdown",
   "metadata": {},
   "source": [
    "Чем больше комнат, тем выше цена, косвенно это также связано с площадью квартир."
   ]
  },
  {
   "cell_type": "code",
   "execution_count": 126,
   "metadata": {
    "scrolled": false
   },
   "outputs": [
    {
     "data": {
      "image/png": "[encoded data removed]",
      "text/plain": [
       "<Figure size 432x288 with 1 Axes>"
      ]
     },
     "metadata": {
      "needs_background": "light"
     },
     "output_type": "display_data"
    }
   ],
   "source": [
    "# создадим сводную таблицу для данных по типам этажей и посмотрим на значение медианы последней цены по каждой категории\n",
    "# корреляция между типом этажа и ценой\n",
    "floor_pivot_median = data.pivot_table(index='floor_category', values='last_price', aggfunc='median').plot()\n"
   ]
  },
  {
   "cell_type": "markdown",
   "metadata": {},
   "source": [
    "Меньше всего стоимость квартир на первом этаже, больше всего у квартир которые находятся не на первом и не на последнем этаже."
   ]
  },
  {
   "cell_type": "code",
   "execution_count": 127,
   "metadata": {},
   "outputs": [
    {
     "data": {
      "image/png": "[encoded data removed]",
      "text/plain": [
       "<Figure size 432x288 with 1 Axes>"
      ]
     },
     "metadata": {
      "needs_background": "light"
     },
     "output_type": "display_data"
    }
   ],
   "source": [
    "#создадим сводную таблицу для данных по дню недели и посмотрим на значение медианы последней цены по каждой категории\n",
    "#корреляция между днём недели размещения и ценой\n",
    "rooms_pivot_median = data.pivot_table(index='week_day_exposition', values='last_price', aggfunc='median').plot()"
   ]
  },
  {
   "cell_type": "markdown",
   "metadata": {},
   "source": [
    "День недели размещения объявления также коррелирует со стоимостью квартир, во вторник и среду публикуются квартиры с большей соимостью, в субботу и воскресенье квартиры, цены на которые ниже. Возможно это связано с тем, что дорогие квартиры активнее продают через агенства, и объявления публикуются в рабочее время, а менее дороги квартиры продаются собственниками самостоятельно в свободное от работы время."
   ]
  },
  {
   "cell_type": "code",
   "execution_count": 128,
   "metadata": {},
   "outputs": [
    {
     "data": {
      "image/png": "[encoded data removed]",
      "text/plain": [
       "<Figure size 432x288 with 1 Axes>"
      ]
     },
     "metadata": {
      "needs_background": "light"
     },
     "output_type": "display_data"
    }
   ],
   "source": [
    "#создадим сводную таблицу для данных по месяцу размещения и посмотрим на значение медианы последней цены по каждой категории\n",
    "#корреляция между месяцем размещения и ценой\n",
    "rooms_pivot_median = data.pivot_table(index='month_exposition', values='last_price', aggfunc='median').plot()"
   ]
  },
  {
   "cell_type": "markdown",
   "metadata": {},
   "source": [
    "Квартиры с большей стоимостью публикуются в апреле, с меньшей стоимостью мае и июне."
   ]
  },
  {
   "cell_type": "code",
   "execution_count": 129,
   "metadata": {},
   "outputs": [
    {
     "data": {
      "image/png": "[encoded data removed]",
      "text/plain": [
       "<Figure size 432x288 with 1 Axes>"
      ]
     },
     "metadata": {
      "needs_background": "light"
     },
     "output_type": "display_data"
    }
   ],
   "source": [
    "#создадим сводную таблицу для данных по году размещения и посмотрим на значение медианы последней цены по каждой категории\n",
    "#корреляция между годом размещения и ценой\n",
    "rooms_pivot_median = data.pivot_table(index='year_exposition', values='last_price', aggfunc='median').plot()"
   ]
  },
  {
   "cell_type": "markdown",
   "metadata": {},
   "source": [
    "Самые большие цены на недвижимость были в 2014 г., до 2016 г. цены снижались и после начали расти. Рост между 2018 г. и 2019 г. сильнее, чем до этого."
   ]
  },
  {
   "cell_type": "markdown",
   "metadata": {},
   "source": [
    "<div class=\"alert alert-block alert-danger\">\n",
    "<h2> Комментарий ревьюера V1<a class=\"tocSkip\"></h2>\n",
    "\n",
    "\n",
    "<b>На доработку🤔:</b>\n",
    "Посмотри на зависимость цены от категориальных величин еще раз, когда перестроишь графики. Также нельзя делать вывод о зависимости только по коэффициенту корреляции Пирсона. У него есть ряд ограничений, он показывает только линейную зависимость, на него влияют выбросы, могут влиять третьи скрытые переменные, случайные величины должны быть распределены определенным образом, подходит ли он для категориальных случайных величин?"
   ]
  },
  {
   "cell_type": "markdown",
   "metadata": {},
   "source": [
    "<div style=\"background-color:black; color:#ffffff; text-align:center; padding:2%\">\n",
    "    \n",
    "**Дарья:** Использовав другой метод стало понятно, что выводы были неправильные, исправила ✍️"
   ]
  },
  {
   "cell_type": "markdown",
   "metadata": {},
   "source": [
    "<div class=\"alert alert-success\">\n",
    "<h2> Комментарий ревьюера V2<a class=\"tocSkip\"> </h2>\n",
    "\n",
    "<b>Все отлично!👍:</b> Абсолютно верно все скорректировала, видно, что цена больше всего зависит от параметров площади, количества комнат."
   ]
  },
  {
   "cell_type": "markdown",
   "metadata": {},
   "source": [
    "**Посчитаем среднюю цену одного квадратного метра в 10 населённых пунктах с наибольшим числом объявлений.**"
   ]
  },
  {
   "cell_type": "code",
   "execution_count": 130,
   "metadata": {},
   "outputs": [
    {
     "data": {
      "text/html": [
       "<div>\n",
       "<style scoped>\n",
       "    .dataframe tbody tr th:only-of-type {\n",
       "        vertical-align: middle;\n",
       "    }\n",
       "\n",
       "    .dataframe tbody tr th {\n",
       "        vertical-align: top;\n",
       "    }\n",
       "\n",
       "    .dataframe thead th {\n",
       "        text-align: right;\n",
       "    }\n",
       "</style>\n",
       "<table border=\"1\" class=\"dataframe\">\n",
       "  <thead>\n",
       "    <tr style=\"text-align: right;\">\n",
       "      <th></th>\n",
       "      <th>locality_name</th>\n",
       "      <th>count</th>\n",
       "      <th>mean</th>\n",
       "    </tr>\n",
       "  </thead>\n",
       "  <tbody>\n",
       "    <tr>\n",
       "      <th>219</th>\n",
       "      <td>Санкт-Петербург</td>\n",
       "      <td>15270</td>\n",
       "      <td>113.282595</td>\n",
       "    </tr>\n",
       "    <tr>\n",
       "      <th>143</th>\n",
       "      <td>Мурино</td>\n",
       "      <td>559</td>\n",
       "      <td>85.469355</td>\n",
       "    </tr>\n",
       "    <tr>\n",
       "      <th>105</th>\n",
       "      <td>Кудрово</td>\n",
       "      <td>446</td>\n",
       "      <td>94.970239</td>\n",
       "    </tr>\n",
       "    <tr>\n",
       "      <th>292</th>\n",
       "      <td>Шушары</td>\n",
       "      <td>435</td>\n",
       "      <td>78.277936</td>\n",
       "    </tr>\n",
       "    <tr>\n",
       "      <th>35</th>\n",
       "      <td>Всеволожск</td>\n",
       "      <td>390</td>\n",
       "      <td>68.700205</td>\n",
       "    </tr>\n",
       "    <tr>\n",
       "      <th>198</th>\n",
       "      <td>Пушкин</td>\n",
       "      <td>358</td>\n",
       "      <td>103.404726</td>\n",
       "    </tr>\n",
       "    <tr>\n",
       "      <th>89</th>\n",
       "      <td>Колпино</td>\n",
       "      <td>336</td>\n",
       "      <td>75.352476</td>\n",
       "    </tr>\n",
       "    <tr>\n",
       "      <th>167</th>\n",
       "      <td>Парголово</td>\n",
       "      <td>320</td>\n",
       "      <td>90.406049</td>\n",
       "    </tr>\n",
       "    <tr>\n",
       "      <th>43</th>\n",
       "      <td>Гатчина</td>\n",
       "      <td>306</td>\n",
       "      <td>68.752942</td>\n",
       "    </tr>\n",
       "    <tr>\n",
       "      <th>36</th>\n",
       "      <td>Выборг</td>\n",
       "      <td>235</td>\n",
       "      <td>58.238143</td>\n",
       "    </tr>\n",
       "  </tbody>\n",
       "</table>\n",
       "</div>"
      ],
      "text/plain": [
       "       locality_name  count        mean\n",
       "219  Санкт-Петербург  15270  113.282595\n",
       "143           Мурино    559   85.469355\n",
       "105          Кудрово    446   94.970239\n",
       "292           Шушары    435   78.277936\n",
       "35        Всеволожск    390   68.700205\n",
       "198           Пушкин    358  103.404726\n",
       "89           Колпино    336   75.352476\n",
       "167        Парголово    320   90.406049\n",
       "43           Гатчина    306   68.752942\n",
       "36            Выборг    235   58.238143"
      ]
     },
     "execution_count": 130,
     "metadata": {},
     "output_type": "execute_result"
    }
   ],
   "source": [
    "# создадим сводную таблицу, сгруппировав данные по названию населённых пунктав и посчитав средеюю цену за кв.м.\n",
    "locality_name_top_10 = (\n",
    "    data.pivot_table(index=['locality_name'], values='square_meter_price', aggfunc=['count', 'mean'])\n",
    "    .reset_index()\n",
    ")\n",
    "locality_name_top_10.columns = ['locality_name', 'count', 'mean']\n",
    "locality_name_top_10 = locality_name_top_10.sort_values('count', ascending=False).head(10)\n",
    "locality_name_top_10"
   ]
  },
  {
   "cell_type": "code",
   "execution_count": 131,
   "metadata": {},
   "outputs": [
    {
     "data": {
      "text/html": [
       "<div>\n",
       "<style scoped>\n",
       "    .dataframe tbody tr th:only-of-type {\n",
       "        vertical-align: middle;\n",
       "    }\n",
       "\n",
       "    .dataframe tbody tr th {\n",
       "        vertical-align: top;\n",
       "    }\n",
       "\n",
       "    .dataframe thead th {\n",
       "        text-align: right;\n",
       "    }\n",
       "</style>\n",
       "<table border=\"1\" class=\"dataframe\">\n",
       "  <thead>\n",
       "    <tr style=\"text-align: right;\">\n",
       "      <th></th>\n",
       "      <th>locality_name</th>\n",
       "      <th>count</th>\n",
       "      <th>mean</th>\n",
       "    </tr>\n",
       "  </thead>\n",
       "  <tbody>\n",
       "    <tr>\n",
       "      <th>219</th>\n",
       "      <td>Санкт-Петербург</td>\n",
       "      <td>15270</td>\n",
       "      <td>113.282595</td>\n",
       "    </tr>\n",
       "  </tbody>\n",
       "</table>\n",
       "</div>"
      ],
      "text/plain": [
       "       locality_name  count        mean\n",
       "219  Санкт-Петербург  15270  113.282595"
      ]
     },
     "execution_count": 131,
     "metadata": {},
     "output_type": "execute_result"
    }
   ],
   "source": [
    "max_price = locality_name_top_10[locality_name_top_10['mean'] == locality_name_top_10['mean'].max()]\n",
    "max_price\n",
    "#самая высокая стоимость"
   ]
  },
  {
   "cell_type": "code",
   "execution_count": 132,
   "metadata": {
    "scrolled": true
   },
   "outputs": [
    {
     "data": {
      "text/html": [
       "<div>\n",
       "<style scoped>\n",
       "    .dataframe tbody tr th:only-of-type {\n",
       "        vertical-align: middle;\n",
       "    }\n",
       "\n",
       "    .dataframe tbody tr th {\n",
       "        vertical-align: top;\n",
       "    }\n",
       "\n",
       "    .dataframe thead th {\n",
       "        text-align: right;\n",
       "    }\n",
       "</style>\n",
       "<table border=\"1\" class=\"dataframe\">\n",
       "  <thead>\n",
       "    <tr style=\"text-align: right;\">\n",
       "      <th></th>\n",
       "      <th>locality_name</th>\n",
       "      <th>count</th>\n",
       "      <th>mean</th>\n",
       "    </tr>\n",
       "  </thead>\n",
       "  <tbody>\n",
       "    <tr>\n",
       "      <th>36</th>\n",
       "      <td>Выборг</td>\n",
       "      <td>235</td>\n",
       "      <td>58.238143</td>\n",
       "    </tr>\n",
       "  </tbody>\n",
       "</table>\n",
       "</div>"
      ],
      "text/plain": [
       "   locality_name  count       mean\n",
       "36        Выборг    235  58.238143"
      ]
     },
     "execution_count": 132,
     "metadata": {},
     "output_type": "execute_result"
    }
   ],
   "source": [
    "min_price = locality_name_top_10[locality_name_top_10['mean'] == locality_name_top_10['mean'].min()]\n",
    "min_price\n",
    "#самая низкая стоимость"
   ]
  },
  {
   "cell_type": "markdown",
   "metadata": {},
   "source": [
    "Самая большая средняя стоимость на квадратный метр в Санкт-Петербурге, самая маленькая и Топ-10 по кличеству объявлений - в Выборге."
   ]
  },
  {
   "cell_type": "markdown",
   "metadata": {},
   "source": [
    "<div class=\"alert alert-success\">\n",
    "<h2> Комментарий ревьюера V1<a class=\"tocSkip\"> </h2>\n",
    "\n",
    "<b>Все отлично!👍:</b> Абсолютно верный вывод!"
   ]
  },
  {
   "cell_type": "markdown",
   "metadata": {},
   "source": [
    "**Выделим квартиры в Санкт-Петербурге и вычислим среднюю цену каждого километра от центра города.**"
   ]
  },
  {
   "cell_type": "code",
   "execution_count": 134,
   "metadata": {},
   "outputs": [
    {
     "data": {
      "image/png": "[encoded data removed]",
      "text/plain": [
       "<Figure size 432x288 with 1 Axes>"
      ]
     },
     "metadata": {
      "needs_background": "light"
     },
     "output_type": "display_data"
    }
   ],
   "source": [
    "spb_price_km = data[data['locality_name'] == 'Санкт-Петербург'] # создадим датафрейм с объвлениями по СПб\n",
    "spb_price_km = (\n",
    "    spb_price_km.pivot_table(index=['cityCenters_nearest_km'], values='last_price', aggfunc='mean')\n",
    ")\n",
    "spb_price_km.plot();"
   ]
  },
  {
   "cell_type": "markdown",
   "metadata": {},
   "source": [
    "Заметна тенденция на увеличение стоимости кв.м. с уменьшением расстояния до центра города, есть несколько резко выбивающихся значений (3 км, 20 км и 27 км), но это может быть связано с другими преимуществами некоторых жилых районов. Самый большой разрыв между 6 км и 9 км, цена ниже практически в 2 раза."
   ]
  },
  {
   "cell_type": "markdown",
   "metadata": {},
   "source": [
    "<div class=\"alert alert-block alert-danger\">\n",
    "<h2> Комментарий ревьюера V1<a class=\"tocSkip\"></h2>\n",
    "\n",
    "\n",
    "<b>На доработку🤔:</b>\n",
    "В этом пункте нужно рассмотреть зависимость от общей цены квартир, а не от цены за метр квадратный.\n",
    "\n",
    "Также построй график, старайся всегда строить графики, они легче поддаются анализу."
   ]
  },
  {
   "cell_type": "markdown",
   "metadata": {},
   "source": [
    "<div style=\"background-color:black; color:#ffffff; text-align:center; padding:2%\">\n",
    "    \n",
    "**Дарья:** Исправила, спасибо ✍️"
   ]
  },
  {
   "cell_type": "markdown",
   "metadata": {},
   "source": [
    "<div class=\"alert alert-success\">\n",
    "<h2> Комментарий ревьюера V2<a class=\"tocSkip\"> </h2>\n",
    "\n",
    "<b>Все отлично!👍:</b> Все так, прослеживается общая тенденция снижения стоимости квартир при удалении от центра."
   ]
  },
  {
   "cell_type": "markdown",
   "metadata": {},
   "source": [
    "### Общий вывод"
   ]
  },
  {
   "cell_type": "markdown",
   "metadata": {},
   "source": [
    "**На основе данных сервиса Яндекс.Недвижимость был проведён исследовательский анализ данных.**"
   ]
  },
  {
   "cell_type": "markdown",
   "metadata": {},
   "source": [
    "**Цель исследования:** выполнить предобработку данных, изучит и их и найти интересные особенности и зависимости, которые существуют на рынке недвижимости."
   ]
  },
  {
   "cell_type": "markdown",
   "metadata": {},
   "source": [
    "- Особенности обявлений:\n",
    "\n",
    "По основным характеристика больше всего в объявлениях квартиры в диапазоне от 30 кв.м. до 50 кв.м., стоимостью до 10 млн. с одной или двумя комнатами, с потолками 2.5-2.7 м.\n",
    "\n",
    "Большее количество объявлений включает в себя квартиры с 1 по 4 этаж, чем выше этаж - тем меньше объявлений.\n",
    "\n",
    "В объявлениях больше всего квартир не на первом и не на последнем этаже, а также большая часть квартир распологается в домах ниже 12 этажей.\n",
    "\n",
    "В основном квартиры находятся зоне от 10 км до 15 км от центра города. Более 20 км от центра встречаются значительно реже.\n",
    "Объявления, где расстояние более 50 км до аэропорта встречаются реже остальных.\n",
    "\n",
    "Среди объявлений, где указано расстояние до ближайшего парка большая часть приходится на расстояние до 1 км."
   ]
  },
  {
   "cell_type": "markdown",
   "metadata": {},
   "source": [
    "- Особенности публикаций:\n",
    "\n",
    "В выходные дни публикуется меньшее количество объявлений, чем в будние.\n",
    "\n",
    "Самые активные месяцы для публикаций: февраль, март, апрель и ноябрь. Меньше всего объявлений опубликовано в январе, мае и декабре, возможно это также связано с большим количеством праздничных выходных в эти месяцы.\n",
    "\n",
    "Большое количество объявлений снимаются после окончани бесплатного размещения объявлений (45, 60 и 90 дней). Публикации более 200 дней - необычно долгие. До 45 дней - необычно быстрые.\n"
   ]
  },
  {
   "cell_type": "markdown",
   "metadata": {},
   "source": [
    "- Зависимость стоимости на квартиру от других факторов:\n",
    "\n",
    "В основном цена недвижимости зависит от площади, как общей, так и жилой, на стоимость влияет также влияет количество комнат, что косвенно связанно с площадью.\n",
    "\n",
    "Этаж на котором распологается квартира также имеет значение, большую стоимость имеют квартиры, располагающиеся не на первом и не на последнем этаже.\n",
    "\n",
    "Цена в Санкт-Петербурге зависит от удалённости от центра города, чем ближе к центру - тем больше цена.\n",
    "\n",
    "Самая большая средняя стоимость на квадратный метр в Санкт-Петербурге, самая маленькая и Топ-10 по кличеству объявлений - в Выборге.\n",
    "\n",
    "Дата публикации влияет на цену, с 2016 г. цены на недвижимость растут. Квартиры с большей стоимостью публикуются в апреле, с меньшей стоимостью мае и июне. По дням недели присутствуют такие закономерности: во вторник и среду публикуются квартиры с большей соимостью, в субботу и воскресенье квартиры, цены на которые ниже."
   ]
  },
  {
   "cell_type": "markdown",
   "metadata": {},
   "source": [
    "<div class=\"alert alert-warning\">\n",
    "<h2> Комментарий ревьюера V1<a class=\"tocSkip\"> </h2>\n",
    "\n",
    "<b>Некоторые замечания и рекомендации💡:</b> В итоговом выводе нужно достаточно подробно написать основные пункты выявленных зависимостей. Стоит доработать вывод с учетом моих комментариев по ходу работы. В итоговом выводе также старайся оставлять рекомендации для последующих шагов. Например рекомендации, что можно обработать и проанализировать другие признаки, на что твоим коллегам стоить обратить внимание."
   ]
  },
  {
   "cell_type": "markdown",
   "metadata": {},
   "source": [
    "<div class=\"alert alert-success\">\n",
    "<h2> Комментарий ревьюера V2<a class=\"tocSkip\"> </h2>\n",
    "\n",
    "<b>Все отлично!👍:</b> Отличный вывод, все четко, понятно и структурировано. Вывод в полной мере отражает существующие зависимости, и по нему можно принимать дальнейшие решения.\n",
    "</div>"
   ]
  },
  {
   "cell_type": "markdown",
   "metadata": {},
   "source": [
    "**Чек-лист готовности проекта**\n",
    "\n",
    "Поставьте 'x' в выполненных пунктах. Далее нажмите Shift+Enter."
   ]
  },
  {
   "cell_type": "markdown",
   "metadata": {},
   "source": [
    "- [x]  открыт файл\n",
    "- [x]  файлы изучены (выведены первые строки, метод `info()`, гистограммы и т.д.)\n",
    "- [x]  определены пропущенные значения\n",
    "- [x]  заполнены пропущенные значения там, где это возможно\n",
    "- [x]  есть пояснение, какие пропущенные значения обнаружены\n",
    "- [x]  изменены типы данных\n",
    "- [x]  есть пояснение, в каких столбцах изменены типы и почему\n",
    "- [x]  устранены неявные дубликаты в названиях населённых пунктов\n",
    "- [x]  устранены редкие и выбивающиеся значения (аномалии) во всех столбцах\n",
    "- [x]  посчитано и добавлено в таблицу: цена одного квадратного метра\n",
    "- [x]  посчитано и добавлено в таблицу: день публикации объявления (0 - понедельник, 1 - вторник и т.д.)\n",
    "- [x]  посчитано и добавлено в таблицу: месяц публикации объявления\n",
    "- [x]  посчитано и добавлено в таблицу: год публикации объявления\n",
    "- [x]  посчитано и добавлено в таблицу: тип этажа квартиры (значения — «первый», «последний», «другой»)\n",
    "- [x]  посчитано и добавлено в таблицу: расстояние в км до центра города\n",
    "- [x]  изучены и описаны следующие параметры:\n",
    "        - общая площадь;\n",
    "        - жилая площадь;\n",
    "        - площадь кухни;\n",
    "        - цена объекта;\n",
    "        - количество комнат;\n",
    "        - высота потолков;\n",
    "        - этаж квартиры;\n",
    "        - тип этажа квартиры («первый», «последний», «другой»);\n",
    "        - общее количество этажей в доме;\n",
    "        - расстояние до центра города в метрах;\n",
    "        - расстояние до ближайшего аэропорта;\n",
    "        - расстояние до ближайшего парка;\n",
    "        - день и месяц публикации объявления\n",
    "- [x]  построены гистограммы для каждого параметра\n",
    "- [x]  выполнено задание: \"Изучите, как быстро продавались квартиры (столбец days_exposition). Этот параметр показывает, сколько дней «висело» каждое объявление.\n",
    "    - Постройте гистограмму.\n",
    "    - Посчитайте среднее и медиану.\n",
    "    - В ячейке типа markdown опишите, сколько обычно занимает продажа. Какие продажи можно считать быстрыми, а какие — необычно долгими?\"\n",
    "- [x]  выполнено задание: \"Какие факторы больше всего влияют на общую (полную) стоимость объекта? Постройте графики, которые покажут зависимость цены от указанных ниже параметров. Для подготовки данных перед визуализацией вы можете использовать сводные таблицы.\"\n",
    "        - общей площади;\n",
    "        - жилой площади;\n",
    "        - площади кухни;\n",
    "        - количество комнат;\n",
    "        - типа этажа, на котором расположена квартира (первый, последний, другой);\n",
    "        - даты размещения (день недели, месяц, год);\n",
    "- [x]  выполнено задание: \"Посчитайте среднюю цену одного квадратного метра в 10 населённых пунктах с наибольшим числом объявлений. Выделите населённые пункты с самой высокой и низкой стоимостью квадратного метра. Эти данные можно найти по имени в столбце `locality_name`.\"\n",
    "- [x]  выполнено задание: \"Ранее вы посчитали расстояние до центра в километрах. Теперь выделите квартиры в Санкт-Петербурге с помощью столбца `locality_name` и вычислите среднюю цену каждого километра. Опишите, как стоимость объектов зависит от расстояния до центра города.\"\n",
    "- [x]  в каждом этапе есть промежуточные выводы\n",
    "- [x]  есть общий вывод"
   ]
  },
  {
   "cell_type": "markdown",
   "metadata": {},
   "source": [
    "<div style=\"border:solid Chocolate 2px; padding: 40px\">\n",
    "\n",
    "**Общий вывод по проекту**\n",
    "\n",
    "Спасибо за твой проект! Я уверен, что ты приложила все усилия, чтобы сделать этот проект. Это видно по твоей работе, а сформулированные выводы отражают, насколько успешно ты осваиваешь материал.\n",
    "\n",
    "**Отмечу отдельные положительные моменты проекта🙂**:\n",
    "\n",
    "* Ты полностью следовала всем этапам выполнения задания и справилась почти со всем. Хорошая работа!\n",
    "* Отдельно выделю некоторые выводы, которые ты смогла сформулировать абсолютно точно!\n",
    "* У тебя опрятный и читаемый код. Возможно это звучит банально, однако при работе с чужим кодом это крайне важно)\n",
    "\n",
    "\n",
    "**На что стоит обратить внимание🤓**:\n",
    "\n",
    "* Важно доработать итоговый вывод.\n",
    "* Нужно корректно обработать все признаки.\n",
    "* Еще раз рассмотри зависимость цены от категориальных случайных величин.\n",
    "* Остальные рекомендации ты найдешь в моих комментариях!\n",
    "\n",
    "\n",
    "**Желаю удачи и жду твой проект на повторное ревью!**😉"
   ]
  },
  {
   "cell_type": "markdown",
   "metadata": {},
   "source": [
    "<div style=\"background-color:black; color:#ffffff; text-align:center; padding:2%\">\n",
    "    \n",
    "**Дарья:** Спасибо большое! 🙂"
   ]
  },
  {
   "cell_type": "markdown",
   "metadata": {},
   "source": [
    "<div style=\"border:solid Chocolate 2px; padding: 40px\">\n",
    "\n",
    "Ты отлично справилась с данной работой! Видно, как ты успешно осваиваешь материал, применяешь полученные знания на практике. Мне было очень приятно проверять твою работу, надеюсь, мои комментарии и советы были для тебя полезными.\n",
    "\n",
    "**Желаю удачи в последующем обучении и исследованиях!**😉"
   ]
  },
  {
   "cell_type": "code",
   "execution_count": null,
   "metadata": {},
   "outputs": [],
   "source": []
  }
 ],
 "metadata": {
  "ExecuteTimeLog": [
   {
    "duration": 1080,
    "start_time": "2023-05-10T18:14:08.697Z"
   },
   {
    "duration": 0,
    "start_time": "2023-05-10T18:14:09.782Z"
   },
   {
    "duration": 0,
    "start_time": "2023-05-10T18:14:09.783Z"
   },
   {
    "duration": 0,
    "start_time": "2023-05-10T18:14:09.784Z"
   },
   {
    "duration": 0,
    "start_time": "2023-05-10T18:14:09.785Z"
   },
   {
    "duration": 0,
    "start_time": "2023-05-10T18:14:09.786Z"
   },
   {
    "duration": 1,
    "start_time": "2023-05-10T18:14:09.786Z"
   },
   {
    "duration": 1,
    "start_time": "2023-05-10T18:14:09.787Z"
   },
   {
    "duration": 0,
    "start_time": "2023-05-10T18:14:09.789Z"
   },
   {
    "duration": 0,
    "start_time": "2023-05-10T18:14:09.789Z"
   },
   {
    "duration": 0,
    "start_time": "2023-05-10T18:14:09.791Z"
   },
   {
    "duration": 0,
    "start_time": "2023-05-10T18:14:09.792Z"
   },
   {
    "duration": 0,
    "start_time": "2023-05-10T18:14:09.793Z"
   },
   {
    "duration": 0,
    "start_time": "2023-05-10T18:14:09.794Z"
   },
   {
    "duration": 0,
    "start_time": "2023-05-10T18:14:09.795Z"
   },
   {
    "duration": 0,
    "start_time": "2023-05-10T18:14:09.817Z"
   },
   {
    "duration": 0,
    "start_time": "2023-05-10T18:14:09.818Z"
   },
   {
    "duration": 0,
    "start_time": "2023-05-10T18:14:09.820Z"
   },
   {
    "duration": 0,
    "start_time": "2023-05-10T18:14:09.821Z"
   },
   {
    "duration": 0,
    "start_time": "2023-05-10T18:14:09.822Z"
   },
   {
    "duration": 0,
    "start_time": "2023-05-10T18:14:09.823Z"
   },
   {
    "duration": 0,
    "start_time": "2023-05-10T18:14:09.825Z"
   },
   {
    "duration": 0,
    "start_time": "2023-05-10T18:14:09.826Z"
   },
   {
    "duration": 0,
    "start_time": "2023-05-10T18:14:09.827Z"
   },
   {
    "duration": 0,
    "start_time": "2023-05-10T18:14:09.828Z"
   },
   {
    "duration": 0,
    "start_time": "2023-05-10T18:14:09.829Z"
   },
   {
    "duration": 0,
    "start_time": "2023-05-10T18:14:09.830Z"
   },
   {
    "duration": 1,
    "start_time": "2023-05-10T18:14:09.831Z"
   },
   {
    "duration": 0,
    "start_time": "2023-05-10T18:14:09.833Z"
   },
   {
    "duration": 0,
    "start_time": "2023-05-10T18:14:09.834Z"
   },
   {
    "duration": 0,
    "start_time": "2023-05-10T18:14:09.836Z"
   },
   {
    "duration": 0,
    "start_time": "2023-05-10T18:14:09.838Z"
   },
   {
    "duration": 0,
    "start_time": "2023-05-10T18:14:09.839Z"
   },
   {
    "duration": 1,
    "start_time": "2023-05-10T18:14:09.840Z"
   },
   {
    "duration": 0,
    "start_time": "2023-05-10T18:14:09.842Z"
   },
   {
    "duration": 0,
    "start_time": "2023-05-10T18:14:09.843Z"
   },
   {
    "duration": 1,
    "start_time": "2023-05-10T18:14:09.844Z"
   },
   {
    "duration": 0,
    "start_time": "2023-05-10T18:14:09.846Z"
   },
   {
    "duration": 0,
    "start_time": "2023-05-10T18:14:09.847Z"
   },
   {
    "duration": 0,
    "start_time": "2023-05-10T18:14:09.848Z"
   },
   {
    "duration": 0,
    "start_time": "2023-05-10T18:14:09.849Z"
   },
   {
    "duration": 0,
    "start_time": "2023-05-10T18:14:09.850Z"
   },
   {
    "duration": 0,
    "start_time": "2023-05-10T18:14:09.851Z"
   },
   {
    "duration": 0,
    "start_time": "2023-05-10T18:14:09.852Z"
   },
   {
    "duration": 0,
    "start_time": "2023-05-10T18:14:09.853Z"
   },
   {
    "duration": 0,
    "start_time": "2023-05-10T18:14:09.855Z"
   },
   {
    "duration": 0,
    "start_time": "2023-05-10T18:14:09.918Z"
   },
   {
    "duration": 0,
    "start_time": "2023-05-10T18:14:09.919Z"
   },
   {
    "duration": 0,
    "start_time": "2023-05-10T18:14:09.920Z"
   },
   {
    "duration": 0,
    "start_time": "2023-05-10T18:14:09.921Z"
   },
   {
    "duration": 0,
    "start_time": "2023-05-10T18:14:09.923Z"
   },
   {
    "duration": 0,
    "start_time": "2023-05-10T18:14:09.923Z"
   },
   {
    "duration": 0,
    "start_time": "2023-05-10T18:14:09.924Z"
   },
   {
    "duration": 0,
    "start_time": "2023-05-10T18:14:09.926Z"
   },
   {
    "duration": 0,
    "start_time": "2023-05-10T18:14:09.927Z"
   },
   {
    "duration": 0,
    "start_time": "2023-05-10T18:14:09.929Z"
   },
   {
    "duration": 0,
    "start_time": "2023-05-10T18:14:09.930Z"
   },
   {
    "duration": 0,
    "start_time": "2023-05-10T18:14:09.932Z"
   },
   {
    "duration": 0,
    "start_time": "2023-05-10T18:14:09.938Z"
   },
   {
    "duration": 0,
    "start_time": "2023-05-10T18:14:09.940Z"
   },
   {
    "duration": 0,
    "start_time": "2023-05-10T18:14:09.941Z"
   },
   {
    "duration": 0,
    "start_time": "2023-05-10T18:14:09.942Z"
   },
   {
    "duration": 0,
    "start_time": "2023-05-10T18:14:09.944Z"
   },
   {
    "duration": 0,
    "start_time": "2023-05-10T18:14:09.945Z"
   },
   {
    "duration": 0,
    "start_time": "2023-05-10T18:14:09.947Z"
   },
   {
    "duration": 0,
    "start_time": "2023-05-10T18:14:09.948Z"
   },
   {
    "duration": 0,
    "start_time": "2023-05-10T18:14:09.949Z"
   },
   {
    "duration": 0,
    "start_time": "2023-05-10T18:14:09.951Z"
   },
   {
    "duration": 0,
    "start_time": "2023-05-10T18:14:09.951Z"
   },
   {
    "duration": 0,
    "start_time": "2023-05-10T18:14:09.952Z"
   },
   {
    "duration": 0,
    "start_time": "2023-05-10T18:14:09.953Z"
   },
   {
    "duration": 0,
    "start_time": "2023-05-10T18:14:09.954Z"
   },
   {
    "duration": 0,
    "start_time": "2023-05-10T18:14:09.954Z"
   },
   {
    "duration": 0,
    "start_time": "2023-05-10T18:14:09.955Z"
   },
   {
    "duration": 0,
    "start_time": "2023-05-10T18:14:09.960Z"
   },
   {
    "duration": 0,
    "start_time": "2023-05-10T18:14:10.018Z"
   },
   {
    "duration": 0,
    "start_time": "2023-05-10T18:14:10.020Z"
   },
   {
    "duration": 0,
    "start_time": "2023-05-10T18:14:10.022Z"
   },
   {
    "duration": 0,
    "start_time": "2023-05-10T18:14:10.023Z"
   },
   {
    "duration": 0,
    "start_time": "2023-05-10T18:14:10.025Z"
   },
   {
    "duration": 0,
    "start_time": "2023-05-10T18:14:10.026Z"
   },
   {
    "duration": 0,
    "start_time": "2023-05-10T18:14:10.026Z"
   },
   {
    "duration": 0,
    "start_time": "2023-05-10T18:14:10.028Z"
   },
   {
    "duration": 0,
    "start_time": "2023-05-10T18:14:10.029Z"
   },
   {
    "duration": 0,
    "start_time": "2023-05-10T18:14:10.030Z"
   },
   {
    "duration": 0,
    "start_time": "2023-05-10T18:14:10.031Z"
   },
   {
    "duration": 0,
    "start_time": "2023-05-10T18:14:10.032Z"
   },
   {
    "duration": 0,
    "start_time": "2023-05-10T18:14:10.033Z"
   },
   {
    "duration": 0,
    "start_time": "2023-05-10T18:14:10.034Z"
   },
   {
    "duration": 0,
    "start_time": "2023-05-10T18:14:10.035Z"
   },
   {
    "duration": 0,
    "start_time": "2023-05-10T18:14:10.036Z"
   },
   {
    "duration": 0,
    "start_time": "2023-05-10T18:14:10.037Z"
   },
   {
    "duration": 0,
    "start_time": "2023-05-10T18:14:10.038Z"
   },
   {
    "duration": 0,
    "start_time": "2023-05-10T18:14:10.039Z"
   },
   {
    "duration": 0,
    "start_time": "2023-05-10T18:14:10.041Z"
   },
   {
    "duration": 0,
    "start_time": "2023-05-10T18:14:10.042Z"
   },
   {
    "duration": 0,
    "start_time": "2023-05-10T18:14:10.043Z"
   },
   {
    "duration": 0,
    "start_time": "2023-05-10T18:14:10.045Z"
   },
   {
    "duration": 0,
    "start_time": "2023-05-10T18:14:10.046Z"
   },
   {
    "duration": 0,
    "start_time": "2023-05-10T18:14:10.047Z"
   },
   {
    "duration": 0,
    "start_time": "2023-05-10T18:14:10.048Z"
   },
   {
    "duration": 0,
    "start_time": "2023-05-10T18:14:10.049Z"
   },
   {
    "duration": 0,
    "start_time": "2023-05-10T18:14:10.050Z"
   },
   {
    "duration": 0,
    "start_time": "2023-05-10T18:14:10.051Z"
   },
   {
    "duration": 0,
    "start_time": "2023-05-10T18:14:10.052Z"
   },
   {
    "duration": 0,
    "start_time": "2023-05-10T18:14:10.053Z"
   },
   {
    "duration": 0,
    "start_time": "2023-05-10T18:14:10.054Z"
   },
   {
    "duration": 0,
    "start_time": "2023-05-10T18:14:10.055Z"
   },
   {
    "duration": 0,
    "start_time": "2023-05-10T18:14:10.118Z"
   },
   {
    "duration": 0,
    "start_time": "2023-05-10T18:14:10.120Z"
   },
   {
    "duration": 0,
    "start_time": "2023-05-10T18:14:10.121Z"
   },
   {
    "duration": 0,
    "start_time": "2023-05-10T18:14:10.123Z"
   },
   {
    "duration": 0,
    "start_time": "2023-05-10T18:14:10.124Z"
   },
   {
    "duration": 0,
    "start_time": "2023-05-10T18:14:10.126Z"
   },
   {
    "duration": 0,
    "start_time": "2023-05-10T18:14:10.128Z"
   },
   {
    "duration": 0,
    "start_time": "2023-05-10T18:14:10.129Z"
   },
   {
    "duration": 0,
    "start_time": "2023-05-10T18:14:10.130Z"
   },
   {
    "duration": 0,
    "start_time": "2023-05-10T18:14:10.132Z"
   },
   {
    "duration": 0,
    "start_time": "2023-05-10T18:14:10.133Z"
   },
   {
    "duration": 1,
    "start_time": "2023-05-10T18:14:10.134Z"
   },
   {
    "duration": 0,
    "start_time": "2023-05-10T18:14:10.136Z"
   },
   {
    "duration": 0,
    "start_time": "2023-05-10T18:14:10.137Z"
   },
   {
    "duration": 0,
    "start_time": "2023-05-10T18:14:10.139Z"
   },
   {
    "duration": 0,
    "start_time": "2023-05-10T18:14:10.140Z"
   },
   {
    "duration": 0,
    "start_time": "2023-05-10T18:14:10.141Z"
   },
   {
    "duration": 0,
    "start_time": "2023-05-10T18:14:10.142Z"
   },
   {
    "duration": 0,
    "start_time": "2023-05-10T18:14:10.144Z"
   },
   {
    "duration": 0,
    "start_time": "2023-05-10T18:14:10.145Z"
   },
   {
    "duration": 0,
    "start_time": "2023-05-10T18:14:10.147Z"
   },
   {
    "duration": 0,
    "start_time": "2023-05-10T18:14:10.148Z"
   },
   {
    "duration": 0,
    "start_time": "2023-05-10T18:14:10.149Z"
   },
   {
    "duration": 0,
    "start_time": "2023-05-10T18:14:10.150Z"
   },
   {
    "duration": 0,
    "start_time": "2023-05-10T18:14:10.152Z"
   },
   {
    "duration": 0,
    "start_time": "2023-05-10T18:14:10.153Z"
   },
   {
    "duration": 0,
    "start_time": "2023-05-10T18:14:10.154Z"
   },
   {
    "duration": 0,
    "start_time": "2023-05-10T18:14:10.155Z"
   },
   {
    "duration": 0,
    "start_time": "2023-05-10T18:14:10.218Z"
   },
   {
    "duration": 978,
    "start_time": "2023-05-11T10:36:19.945Z"
   },
   {
    "duration": 76,
    "start_time": "2023-05-11T10:36:20.926Z"
   },
   {
    "duration": 1998,
    "start_time": "2023-05-11T10:36:21.004Z"
   },
   {
    "duration": 10,
    "start_time": "2023-05-11T10:36:23.004Z"
   },
   {
    "duration": 10,
    "start_time": "2023-05-11T10:36:23.016Z"
   },
   {
    "duration": 1267,
    "start_time": "2023-05-11T10:36:23.028Z"
   },
   {
    "duration": 11,
    "start_time": "2023-05-11T10:36:24.297Z"
   },
   {
    "duration": 19,
    "start_time": "2023-05-11T10:36:24.310Z"
   },
   {
    "duration": 6,
    "start_time": "2023-05-11T10:36:24.330Z"
   },
   {
    "duration": 4,
    "start_time": "2023-05-11T10:36:24.338Z"
   },
   {
    "duration": 9,
    "start_time": "2023-05-11T10:36:24.344Z"
   },
   {
    "duration": 17,
    "start_time": "2023-05-11T10:36:24.356Z"
   },
   {
    "duration": 14,
    "start_time": "2023-05-11T10:36:24.375Z"
   },
   {
    "duration": 7,
    "start_time": "2023-05-11T10:36:24.393Z"
   },
   {
    "duration": 7,
    "start_time": "2023-05-11T10:36:24.401Z"
   },
   {
    "duration": 6,
    "start_time": "2023-05-11T10:36:24.409Z"
   },
   {
    "duration": 5,
    "start_time": "2023-05-11T10:36:24.417Z"
   },
   {
    "duration": 4,
    "start_time": "2023-05-11T10:36:24.424Z"
   },
   {
    "duration": 33,
    "start_time": "2023-05-11T10:36:24.429Z"
   },
   {
    "duration": 5,
    "start_time": "2023-05-11T10:36:24.464Z"
   },
   {
    "duration": 13,
    "start_time": "2023-05-11T10:36:24.471Z"
   },
   {
    "duration": 10,
    "start_time": "2023-05-11T10:36:24.485Z"
   },
   {
    "duration": 59,
    "start_time": "2023-05-11T10:36:24.497Z"
   },
   {
    "duration": 7,
    "start_time": "2023-05-11T10:36:24.557Z"
   },
   {
    "duration": 5,
    "start_time": "2023-05-11T10:36:24.565Z"
   },
   {
    "duration": 13,
    "start_time": "2023-05-11T10:36:24.572Z"
   },
   {
    "duration": 55,
    "start_time": "2023-05-11T10:36:24.586Z"
   },
   {
    "duration": 79,
    "start_time": "2023-05-11T10:36:24.643Z"
   },
   {
    "duration": 107,
    "start_time": "2023-05-11T10:36:24.724Z"
   },
   {
    "duration": 24,
    "start_time": "2023-05-11T10:36:24.832Z"
   },
   {
    "duration": 6,
    "start_time": "2023-05-11T10:36:24.858Z"
   },
   {
    "duration": 65,
    "start_time": "2023-05-11T10:36:24.866Z"
   },
   {
    "duration": 166,
    "start_time": "2023-05-11T10:36:24.933Z"
   },
   {
    "duration": 144,
    "start_time": "2023-05-11T10:36:25.101Z"
   },
   {
    "duration": 150,
    "start_time": "2023-05-11T10:36:25.247Z"
   },
   {
    "duration": 9,
    "start_time": "2023-05-11T10:36:25.399Z"
   },
   {
    "duration": 17,
    "start_time": "2023-05-11T10:36:25.409Z"
   },
   {
    "duration": 153,
    "start_time": "2023-05-11T10:36:25.428Z"
   },
   {
    "duration": 10,
    "start_time": "2023-05-11T10:36:25.583Z"
   },
   {
    "duration": 10,
    "start_time": "2023-05-11T10:36:25.595Z"
   },
   {
    "duration": 109,
    "start_time": "2023-05-11T10:36:25.611Z"
   },
   {
    "duration": 159,
    "start_time": "2023-05-11T10:36:25.722Z"
   },
   {
    "duration": 246,
    "start_time": "2023-05-11T10:36:25.884Z"
   },
   {
    "duration": 9,
    "start_time": "2023-05-11T10:36:26.131Z"
   },
   {
    "duration": 75,
    "start_time": "2023-05-11T10:36:26.157Z"
   },
   {
    "duration": 141,
    "start_time": "2023-05-11T10:36:26.233Z"
   },
   {
    "duration": 6,
    "start_time": "2023-05-11T10:36:26.376Z"
   },
   {
    "duration": 9,
    "start_time": "2023-05-11T10:36:26.383Z"
   },
   {
    "duration": 8,
    "start_time": "2023-05-11T10:36:26.394Z"
   },
   {
    "duration": 8,
    "start_time": "2023-05-11T10:36:26.403Z"
   },
   {
    "duration": 102,
    "start_time": "2023-05-11T10:36:26.412Z"
   },
   {
    "duration": 115,
    "start_time": "2023-05-11T10:36:26.516Z"
   },
   {
    "duration": 7,
    "start_time": "2023-05-11T10:36:26.633Z"
   },
   {
    "duration": 8,
    "start_time": "2023-05-11T10:36:26.656Z"
   },
   {
    "duration": 138,
    "start_time": "2023-05-11T10:36:26.666Z"
   },
   {
    "duration": 86,
    "start_time": "2023-05-11T10:36:26.806Z"
   },
   {
    "duration": 130,
    "start_time": "2023-05-11T10:36:26.894Z"
   },
   {
    "duration": 86,
    "start_time": "2023-05-11T10:36:27.026Z"
   },
   {
    "duration": 119,
    "start_time": "2023-05-11T10:36:27.113Z"
   },
   {
    "duration": 7,
    "start_time": "2023-05-11T10:36:27.233Z"
   },
   {
    "duration": 19,
    "start_time": "2023-05-11T10:36:27.241Z"
   },
   {
    "duration": 89,
    "start_time": "2023-05-11T10:36:27.261Z"
   },
   {
    "duration": 119,
    "start_time": "2023-05-11T10:36:27.352Z"
   },
   {
    "duration": 120,
    "start_time": "2023-05-11T10:36:27.473Z"
   },
   {
    "duration": 6,
    "start_time": "2023-05-11T10:36:27.595Z"
   },
   {
    "duration": 8,
    "start_time": "2023-05-11T10:36:27.603Z"
   },
   {
    "duration": 43,
    "start_time": "2023-05-11T10:36:27.613Z"
   },
   {
    "duration": 75,
    "start_time": "2023-05-11T10:36:27.657Z"
   },
   {
    "duration": 128,
    "start_time": "2023-05-11T10:36:27.734Z"
   },
   {
    "duration": 7,
    "start_time": "2023-05-11T10:36:27.864Z"
   },
   {
    "duration": 127,
    "start_time": "2023-05-11T10:36:27.873Z"
   },
   {
    "duration": 115,
    "start_time": "2023-05-11T10:36:28.002Z"
   },
   {
    "duration": 7,
    "start_time": "2023-05-11T10:36:28.119Z"
   },
   {
    "duration": 28,
    "start_time": "2023-05-11T10:36:28.128Z"
   },
   {
    "duration": 27,
    "start_time": "2023-05-11T10:36:28.158Z"
   },
   {
    "duration": 155,
    "start_time": "2023-05-11T10:36:28.187Z"
   },
   {
    "duration": 131,
    "start_time": "2023-05-11T10:36:28.343Z"
   },
   {
    "duration": 141,
    "start_time": "2023-05-11T10:36:28.476Z"
   },
   {
    "duration": 82,
    "start_time": "2023-05-11T10:36:28.618Z"
   },
   {
    "duration": 134,
    "start_time": "2023-05-11T10:36:28.701Z"
   },
   {
    "duration": 8,
    "start_time": "2023-05-11T10:36:28.837Z"
   },
   {
    "duration": 127,
    "start_time": "2023-05-11T10:36:28.856Z"
   },
   {
    "duration": 7,
    "start_time": "2023-05-11T10:36:28.985Z"
   },
   {
    "duration": 98,
    "start_time": "2023-05-11T10:36:28.994Z"
   },
   {
    "duration": 131,
    "start_time": "2023-05-11T10:36:29.094Z"
   },
   {
    "duration": 8,
    "start_time": "2023-05-11T10:36:29.227Z"
   },
   {
    "duration": 131,
    "start_time": "2023-05-11T10:36:29.236Z"
   },
   {
    "duration": 133,
    "start_time": "2023-05-11T10:36:29.369Z"
   },
   {
    "duration": 120,
    "start_time": "2023-05-11T10:36:29.503Z"
   },
   {
    "duration": 5,
    "start_time": "2023-05-11T10:36:29.625Z"
   },
   {
    "duration": 7,
    "start_time": "2023-05-11T10:36:29.632Z"
   },
   {
    "duration": 79,
    "start_time": "2023-05-11T10:36:29.640Z"
   },
   {
    "duration": 4,
    "start_time": "2023-05-11T10:36:29.720Z"
   },
   {
    "duration": 8,
    "start_time": "2023-05-11T10:36:29.725Z"
   },
   {
    "duration": 21,
    "start_time": "2023-05-11T10:36:29.735Z"
   },
   {
    "duration": 6,
    "start_time": "2023-05-11T10:36:29.757Z"
   },
   {
    "duration": 4,
    "start_time": "2023-05-11T10:36:29.764Z"
   },
   {
    "duration": 7,
    "start_time": "2023-05-11T10:36:29.769Z"
   },
   {
    "duration": 277,
    "start_time": "2023-05-11T10:36:29.778Z"
   },
   {
    "duration": 5,
    "start_time": "2023-05-11T10:36:30.057Z"
   },
   {
    "duration": 213,
    "start_time": "2023-05-11T10:36:30.063Z"
   },
   {
    "duration": 139,
    "start_time": "2023-05-11T10:36:30.277Z"
   },
   {
    "duration": 145,
    "start_time": "2023-05-11T10:36:30.418Z"
   },
   {
    "duration": 193,
    "start_time": "2023-05-11T10:36:30.565Z"
   },
   {
    "duration": 125,
    "start_time": "2023-05-11T10:36:30.759Z"
   },
   {
    "duration": 137,
    "start_time": "2023-05-11T10:36:30.886Z"
   },
   {
    "duration": 124,
    "start_time": "2023-05-11T10:36:31.025Z"
   },
   {
    "duration": 110,
    "start_time": "2023-05-11T10:36:31.156Z"
   },
   {
    "duration": 136,
    "start_time": "2023-05-11T10:36:31.268Z"
   },
   {
    "duration": 132,
    "start_time": "2023-05-11T10:36:31.406Z"
   },
   {
    "duration": 134,
    "start_time": "2023-05-11T10:36:31.540Z"
   },
   {
    "duration": 223,
    "start_time": "2023-05-11T10:36:31.676Z"
   },
   {
    "duration": 138,
    "start_time": "2023-05-11T10:36:31.901Z"
   },
   {
    "duration": 136,
    "start_time": "2023-05-11T10:36:32.040Z"
   },
   {
    "duration": 256,
    "start_time": "2023-05-11T10:36:32.178Z"
   },
   {
    "duration": 241,
    "start_time": "2023-05-11T10:36:32.436Z"
   },
   {
    "duration": 4,
    "start_time": "2023-05-11T10:36:32.679Z"
   },
   {
    "duration": 20,
    "start_time": "2023-05-11T10:36:32.684Z"
   },
   {
    "duration": 197,
    "start_time": "2023-05-11T10:36:32.706Z"
   },
   {
    "duration": 5,
    "start_time": "2023-05-11T10:36:32.905Z"
   },
   {
    "duration": 177,
    "start_time": "2023-05-11T10:36:32.912Z"
   },
   {
    "duration": 5,
    "start_time": "2023-05-11T10:36:33.097Z"
   },
   {
    "duration": 179,
    "start_time": "2023-05-11T10:36:33.104Z"
   },
   {
    "duration": 5,
    "start_time": "2023-05-11T10:36:33.285Z"
   },
   {
    "duration": 184,
    "start_time": "2023-05-11T10:36:33.291Z"
   },
   {
    "duration": 5,
    "start_time": "2023-05-11T10:36:33.476Z"
   },
   {
    "duration": 197,
    "start_time": "2023-05-11T10:36:33.483Z"
   },
   {
    "duration": 170,
    "start_time": "2023-05-11T10:36:33.682Z"
   },
   {
    "duration": 5,
    "start_time": "2023-05-11T10:36:33.856Z"
   },
   {
    "duration": 163,
    "start_time": "2023-05-11T10:36:33.862Z"
   },
   {
    "duration": 5,
    "start_time": "2023-05-11T10:36:34.026Z"
   },
   {
    "duration": 210,
    "start_time": "2023-05-11T10:36:34.033Z"
   },
   {
    "duration": 12,
    "start_time": "2023-05-11T10:36:34.245Z"
   },
   {
    "duration": 28,
    "start_time": "2023-05-11T10:36:34.258Z"
   },
   {
    "duration": 9,
    "start_time": "2023-05-11T10:36:34.287Z"
   },
   {
    "duration": 9,
    "start_time": "2023-05-11T10:36:34.298Z"
   },
   {
    "duration": 23,
    "start_time": "2023-05-11T10:36:34.309Z"
   },
   {
    "duration": 105,
    "start_time": "2023-05-11T10:56:53.170Z"
   },
   {
    "duration": 62,
    "start_time": "2023-05-13T12:56:00.592Z"
   },
   {
    "duration": 899,
    "start_time": "2023-05-13T12:56:36.483Z"
   },
   {
    "duration": 95,
    "start_time": "2023-05-13T12:56:42.045Z"
   },
   {
    "duration": 1837,
    "start_time": "2023-05-13T12:56:45.758Z"
   },
   {
    "duration": 9,
    "start_time": "2023-05-13T12:56:53.219Z"
   },
   {
    "duration": 6,
    "start_time": "2023-05-13T12:56:57.406Z"
   },
   {
    "duration": 7,
    "start_time": "2023-05-13T12:57:01.947Z"
   },
   {
    "duration": 4,
    "start_time": "2023-05-13T12:58:57.190Z"
   },
   {
    "duration": 11,
    "start_time": "2023-05-13T12:59:18.759Z"
   },
   {
    "duration": 11,
    "start_time": "2023-05-13T12:59:36.030Z"
   },
   {
    "duration": 15,
    "start_time": "2023-05-13T13:00:50.490Z"
   },
   {
    "duration": 13,
    "start_time": "2023-05-13T13:01:05.251Z"
   },
   {
    "duration": 9,
    "start_time": "2023-05-13T13:01:29.086Z"
   },
   {
    "duration": 8,
    "start_time": "2023-05-13T13:03:59.710Z"
   },
   {
    "duration": 12,
    "start_time": "2023-05-13T13:04:01.262Z"
   },
   {
    "duration": 3,
    "start_time": "2023-05-13T13:04:02.913Z"
   },
   {
    "duration": 6,
    "start_time": "2023-05-13T13:04:04.088Z"
   },
   {
    "duration": 4,
    "start_time": "2023-05-13T13:04:04.862Z"
   },
   {
    "duration": 3,
    "start_time": "2023-05-13T13:04:05.394Z"
   },
   {
    "duration": 5,
    "start_time": "2023-05-13T13:04:05.847Z"
   },
   {
    "duration": 22,
    "start_time": "2023-05-13T13:04:07.554Z"
   },
   {
    "duration": 8,
    "start_time": "2023-05-13T13:04:09.403Z"
   },
   {
    "duration": 4,
    "start_time": "2023-05-13T13:04:10.345Z"
   },
   {
    "duration": 4,
    "start_time": "2023-05-13T13:04:11.124Z"
   },
   {
    "duration": 4,
    "start_time": "2023-05-13T13:04:11.739Z"
   },
   {
    "duration": 4,
    "start_time": "2023-05-13T13:04:12.421Z"
   },
   {
    "duration": 13,
    "start_time": "2023-05-13T13:04:13.194Z"
   },
   {
    "duration": 7,
    "start_time": "2023-05-13T13:04:15.072Z"
   },
   {
    "duration": 8,
    "start_time": "2023-05-13T13:04:15.450Z"
   },
   {
    "duration": 10,
    "start_time": "2023-05-13T13:04:16.420Z"
   },
   {
    "duration": 52,
    "start_time": "2023-05-13T13:04:17.151Z"
   },
   {
    "duration": 8,
    "start_time": "2023-05-13T13:04:17.492Z"
   },
   {
    "duration": 3,
    "start_time": "2023-05-13T13:04:18.212Z"
   },
   {
    "duration": 8,
    "start_time": "2023-05-13T13:04:18.955Z"
   },
   {
    "duration": 62,
    "start_time": "2023-05-13T13:04:19.461Z"
   },
   {
    "duration": 92,
    "start_time": "2023-05-13T13:04:23.911Z"
   },
   {
    "duration": 102,
    "start_time": "2023-05-13T13:04:26.414Z"
   },
   {
    "duration": 9,
    "start_time": "2023-05-13T13:04:27.464Z"
   },
   {
    "duration": 6,
    "start_time": "2023-05-13T13:04:28.024Z"
   },
   {
    "duration": 69,
    "start_time": "2023-05-13T13:04:29.848Z"
   },
   {
    "duration": 120,
    "start_time": "2023-05-13T13:04:30.500Z"
   },
   {
    "duration": 109,
    "start_time": "2023-05-13T13:04:31.985Z"
   },
   {
    "duration": 110,
    "start_time": "2023-05-13T13:04:32.655Z"
   },
   {
    "duration": 10,
    "start_time": "2023-05-13T13:04:33.962Z"
   },
   {
    "duration": 7,
    "start_time": "2023-05-13T13:04:34.575Z"
   },
   {
    "duration": 109,
    "start_time": "2023-05-13T13:04:36.016Z"
   },
   {
    "duration": 7,
    "start_time": "2023-05-13T13:04:37.681Z"
   },
   {
    "duration": 9,
    "start_time": "2023-05-13T13:04:42.191Z"
   },
   {
    "duration": 156,
    "start_time": "2023-05-13T13:04:44.569Z"
   },
   {
    "duration": 104,
    "start_time": "2023-05-13T13:05:12.921Z"
   },
   {
    "duration": 115,
    "start_time": "2023-05-13T13:05:14.568Z"
   },
   {
    "duration": 8,
    "start_time": "2023-05-13T13:05:15.080Z"
   },
   {
    "duration": 76,
    "start_time": "2023-05-13T13:05:16.383Z"
   },
   {
    "duration": 114,
    "start_time": "2023-05-13T13:05:17.966Z"
   },
   {
    "duration": 6,
    "start_time": "2023-05-13T13:05:19.286Z"
   },
   {
    "duration": 8,
    "start_time": "2023-05-13T13:05:19.830Z"
   },
   {
    "duration": 7,
    "start_time": "2023-05-13T13:05:20.326Z"
   },
   {
    "duration": 7,
    "start_time": "2023-05-13T13:05:21.248Z"
   },
   {
    "duration": 68,
    "start_time": "2023-05-13T13:05:22.591Z"
   },
   {
    "duration": 117,
    "start_time": "2023-05-13T13:05:24.853Z"
   },
   {
    "duration": 7,
    "start_time": "2023-05-13T13:05:25.945Z"
   },
   {
    "duration": 9,
    "start_time": "2023-05-13T13:05:27.074Z"
   },
   {
    "duration": 131,
    "start_time": "2023-05-13T13:05:28.238Z"
   },
   {
    "duration": 84,
    "start_time": "2023-05-13T13:05:29.483Z"
   },
   {
    "duration": 115,
    "start_time": "2023-05-13T13:05:38.648Z"
   },
   {
    "duration": 66,
    "start_time": "2023-05-13T13:05:51.545Z"
   },
   {
    "duration": 122,
    "start_time": "2023-05-13T13:07:40.770Z"
   },
   {
    "duration": 7,
    "start_time": "2023-05-13T13:07:53.769Z"
   },
   {
    "duration": 7,
    "start_time": "2023-05-13T13:07:55.525Z"
   },
   {
    "duration": 74,
    "start_time": "2023-05-13T13:08:10.734Z"
   },
   {
    "duration": 101,
    "start_time": "2023-05-13T13:08:16.508Z"
   },
   {
    "duration": 101,
    "start_time": "2023-05-13T13:08:19.919Z"
   },
   {
    "duration": 8,
    "start_time": "2023-05-13T13:08:22.347Z"
   },
   {
    "duration": 10,
    "start_time": "2023-05-13T13:08:24.206Z"
   },
   {
    "duration": 26,
    "start_time": "2023-05-13T13:08:25.606Z"
   },
   {
    "duration": 69,
    "start_time": "2023-05-13T13:08:28.402Z"
   },
   {
    "duration": 113,
    "start_time": "2023-05-13T13:08:31.498Z"
   },
   {
    "duration": 7,
    "start_time": "2023-05-13T13:08:34.820Z"
   },
   {
    "duration": 91,
    "start_time": "2023-05-13T13:08:42.701Z"
   },
   {
    "duration": 184,
    "start_time": "2023-05-13T13:08:44.003Z"
   },
   {
    "duration": 6,
    "start_time": "2023-05-13T13:08:46.364Z"
   },
   {
    "duration": 8,
    "start_time": "2023-05-13T13:08:49.149Z"
   },
   {
    "duration": 22,
    "start_time": "2023-05-13T13:08:50.542Z"
   },
   {
    "duration": 70,
    "start_time": "2023-05-13T13:09:00.047Z"
   },
   {
    "duration": 107,
    "start_time": "2023-05-13T13:09:21.475Z"
   },
   {
    "duration": 101,
    "start_time": "2023-05-13T13:09:22.006Z"
   },
   {
    "duration": 67,
    "start_time": "2023-05-13T13:09:23.726Z"
   },
   {
    "duration": 106,
    "start_time": "2023-05-13T13:09:26.873Z"
   },
   {
    "duration": 8,
    "start_time": "2023-05-13T13:09:28.665Z"
   },
   {
    "duration": 106,
    "start_time": "2023-05-13T13:09:31.798Z"
   },
   {
    "duration": 7,
    "start_time": "2023-05-13T13:09:33.271Z"
   },
   {
    "duration": 65,
    "start_time": "2023-05-13T13:09:34.454Z"
   },
   {
    "duration": 117,
    "start_time": "2023-05-13T13:09:36.495Z"
   },
   {
    "duration": 8,
    "start_time": "2023-05-13T13:09:37.693Z"
   },
   {
    "duration": 103,
    "start_time": "2023-05-13T13:09:39.651Z"
   },
   {
    "duration": 118,
    "start_time": "2023-05-13T13:09:42.060Z"
   },
   {
    "duration": 115,
    "start_time": "2023-05-13T13:09:42.776Z"
   },
   {
    "duration": 6,
    "start_time": "2023-05-13T13:09:45.160Z"
   },
   {
    "duration": 8,
    "start_time": "2023-05-13T13:09:47.005Z"
   },
   {
    "duration": 67,
    "start_time": "2023-05-13T13:09:50.314Z"
   },
   {
    "duration": 4,
    "start_time": "2023-05-13T13:11:56.710Z"
   },
   {
    "duration": 6,
    "start_time": "2023-05-13T13:11:57.160Z"
   },
   {
    "duration": 5,
    "start_time": "2023-05-13T13:11:57.961Z"
   },
   {
    "duration": 6,
    "start_time": "2023-05-13T13:11:58.657Z"
   },
   {
    "duration": 5,
    "start_time": "2023-05-13T13:11:59.464Z"
   },
   {
    "duration": 3,
    "start_time": "2023-05-13T13:11:59.971Z"
   },
   {
    "duration": 342,
    "start_time": "2023-05-13T13:12:00.619Z"
   },
   {
    "duration": 5,
    "start_time": "2023-05-13T13:12:02.105Z"
   },
   {
    "duration": 138,
    "start_time": "2023-05-13T13:12:04.314Z"
   },
   {
    "duration": 147,
    "start_time": "2023-05-13T13:12:06.113Z"
   },
   {
    "duration": 137,
    "start_time": "2023-05-13T13:12:07.854Z"
   },
   {
    "duration": 193,
    "start_time": "2023-05-13T13:12:09.370Z"
   },
   {
    "duration": 116,
    "start_time": "2023-05-13T13:12:11.498Z"
   },
   {
    "duration": 129,
    "start_time": "2023-05-13T13:12:13.162Z"
   },
   {
    "duration": 117,
    "start_time": "2023-05-13T13:12:14.666Z"
   },
   {
    "duration": 103,
    "start_time": "2023-05-13T13:12:16.102Z"
   },
   {
    "duration": 124,
    "start_time": "2023-05-13T13:12:17.512Z"
   },
   {
    "duration": 117,
    "start_time": "2023-05-13T13:12:19.013Z"
   },
   {
    "duration": 195,
    "start_time": "2023-05-13T13:12:20.352Z"
   },
   {
    "duration": 131,
    "start_time": "2023-05-13T13:12:21.651Z"
   },
   {
    "duration": 121,
    "start_time": "2023-05-13T13:12:22.951Z"
   },
   {
    "duration": 158,
    "start_time": "2023-05-13T13:12:23.994Z"
   },
   {
    "duration": 226,
    "start_time": "2023-05-13T13:12:41.851Z"
   },
   {
    "duration": 222,
    "start_time": "2023-05-13T13:12:43.111Z"
   },
   {
    "duration": 5,
    "start_time": "2023-05-13T13:12:43.670Z"
   },
   {
    "duration": 6,
    "start_time": "2023-05-13T13:12:44.257Z"
   },
   {
    "duration": 175,
    "start_time": "2023-05-13T13:13:19.605Z"
   },
   {
    "duration": 5,
    "start_time": "2023-05-13T13:13:20.506Z"
   },
   {
    "duration": 179,
    "start_time": "2023-05-13T13:13:21.650Z"
   },
   {
    "duration": 6,
    "start_time": "2023-05-13T13:13:22.395Z"
   },
   {
    "duration": 185,
    "start_time": "2023-05-13T13:13:23.859Z"
   },
   {
    "duration": 6,
    "start_time": "2023-05-13T13:13:24.499Z"
   },
   {
    "duration": 234,
    "start_time": "2023-05-13T13:13:30.253Z"
   },
   {
    "duration": 402,
    "start_time": "2023-05-13T13:17:03.397Z"
   },
   {
    "duration": 148,
    "start_time": "2023-05-13T13:18:27.593Z"
   },
   {
    "duration": 40,
    "start_time": "2023-05-13T13:20:17.474Z"
   },
   {
    "duration": 42,
    "start_time": "2023-05-13T13:20:45.456Z"
   },
   {
    "duration": 139,
    "start_time": "2023-05-13T13:21:18.221Z"
   },
   {
    "duration": 129,
    "start_time": "2023-05-13T13:22:39.063Z"
   },
   {
    "duration": 174,
    "start_time": "2023-05-13T13:23:57.404Z"
   },
   {
    "duration": 72,
    "start_time": "2023-05-13T13:25:17.205Z"
   },
   {
    "duration": 285,
    "start_time": "2023-05-13T13:25:48.556Z"
   },
   {
    "duration": 126,
    "start_time": "2023-05-13T13:25:53.706Z"
   },
   {
    "duration": 161,
    "start_time": "2023-05-13T13:33:03.531Z"
   },
   {
    "duration": 115,
    "start_time": "2023-05-13T13:34:47.210Z"
   },
   {
    "duration": 132,
    "start_time": "2023-05-13T13:36:14.747Z"
   },
   {
    "duration": 12,
    "start_time": "2023-05-13T13:38:36.592Z"
   },
   {
    "duration": 192,
    "start_time": "2023-05-13T13:38:48.647Z"
   },
   {
    "duration": 22,
    "start_time": "2023-05-13T13:44:32.747Z"
   },
   {
    "duration": 9,
    "start_time": "2023-05-13T13:44:33.245Z"
   },
   {
    "duration": 7,
    "start_time": "2023-05-13T13:44:33.966Z"
   },
   {
    "duration": 18,
    "start_time": "2023-05-13T13:44:36.996Z"
   },
   {
    "duration": 20,
    "start_time": "2023-05-13T13:45:48.641Z"
   },
   {
    "duration": 169,
    "start_time": "2023-05-13T13:45:56.752Z"
   },
   {
    "duration": 21,
    "start_time": "2023-05-13T13:48:58.794Z"
   },
   {
    "duration": 143,
    "start_time": "2023-05-13T13:49:04.895Z"
   },
   {
    "duration": 60,
    "start_time": "2023-05-13T13:49:38.479Z"
   },
   {
    "duration": 157,
    "start_time": "2023-05-13T13:49:49.444Z"
   },
   {
    "duration": 19,
    "start_time": "2023-05-13T13:51:17.654Z"
   },
   {
    "duration": 176,
    "start_time": "2023-05-13T13:51:43.954Z"
   },
   {
    "duration": 19,
    "start_time": "2023-05-13T13:52:41.544Z"
   },
   {
    "duration": 155,
    "start_time": "2023-05-13T13:53:55.776Z"
   },
   {
    "duration": 692,
    "start_time": "2023-05-13T13:59:37.209Z"
   },
   {
    "duration": 84,
    "start_time": "2023-05-13T13:59:37.903Z"
   },
   {
    "duration": 2062,
    "start_time": "2023-05-13T13:59:37.988Z"
   },
   {
    "duration": 9,
    "start_time": "2023-05-13T13:59:40.052Z"
   },
   {
    "duration": 5,
    "start_time": "2023-05-13T13:59:40.062Z"
   },
   {
    "duration": 9,
    "start_time": "2023-05-13T13:59:40.068Z"
   },
   {
    "duration": 15,
    "start_time": "2023-05-13T13:59:40.079Z"
   },
   {
    "duration": 3,
    "start_time": "2023-05-13T13:59:40.095Z"
   },
   {
    "duration": 5,
    "start_time": "2023-05-13T13:59:40.100Z"
   },
   {
    "duration": 3,
    "start_time": "2023-05-13T13:59:40.108Z"
   },
   {
    "duration": 3,
    "start_time": "2023-05-13T13:59:40.113Z"
   },
   {
    "duration": 5,
    "start_time": "2023-05-13T13:59:40.117Z"
   },
   {
    "duration": 23,
    "start_time": "2023-05-13T13:59:40.123Z"
   },
   {
    "duration": 29,
    "start_time": "2023-05-13T13:59:40.147Z"
   },
   {
    "duration": 11,
    "start_time": "2023-05-13T13:59:40.182Z"
   },
   {
    "duration": 6,
    "start_time": "2023-05-13T13:59:40.194Z"
   },
   {
    "duration": 4,
    "start_time": "2023-05-13T13:59:40.202Z"
   },
   {
    "duration": 4,
    "start_time": "2023-05-13T13:59:40.207Z"
   },
   {
    "duration": 13,
    "start_time": "2023-05-13T13:59:40.212Z"
   },
   {
    "duration": 5,
    "start_time": "2023-05-13T13:59:40.227Z"
   },
   {
    "duration": 8,
    "start_time": "2023-05-13T13:59:40.234Z"
   },
   {
    "duration": 35,
    "start_time": "2023-05-13T13:59:40.244Z"
   },
   {
    "duration": 48,
    "start_time": "2023-05-13T13:59:40.280Z"
   },
   {
    "duration": 9,
    "start_time": "2023-05-13T13:59:40.329Z"
   },
   {
    "duration": 3,
    "start_time": "2023-05-13T13:59:40.340Z"
   },
   {
    "duration": 30,
    "start_time": "2023-05-13T13:59:40.345Z"
   },
   {
    "duration": 54,
    "start_time": "2023-05-13T13:59:40.378Z"
   },
   {
    "duration": 89,
    "start_time": "2023-05-13T13:59:40.436Z"
   },
   {
    "duration": 113,
    "start_time": "2023-05-13T13:59:40.527Z"
   },
   {
    "duration": 7,
    "start_time": "2023-05-13T13:59:40.642Z"
   },
   {
    "duration": 6,
    "start_time": "2023-05-13T13:59:40.651Z"
   },
   {
    "duration": 85,
    "start_time": "2023-05-13T13:59:40.659Z"
   },
   {
    "duration": 149,
    "start_time": "2023-05-13T13:59:40.745Z"
   },
   {
    "duration": 126,
    "start_time": "2023-05-13T13:59:40.895Z"
   },
   {
    "duration": 140,
    "start_time": "2023-05-13T13:59:41.023Z"
   },
   {
    "duration": 18,
    "start_time": "2023-05-13T13:59:41.165Z"
   },
   {
    "duration": 10,
    "start_time": "2023-05-13T13:59:41.186Z"
   },
   {
    "duration": 130,
    "start_time": "2023-05-13T13:59:41.198Z"
   },
   {
    "duration": 7,
    "start_time": "2023-05-13T13:59:41.330Z"
   },
   {
    "duration": 7,
    "start_time": "2023-05-13T13:59:41.338Z"
   },
   {
    "duration": 93,
    "start_time": "2023-05-13T13:59:41.346Z"
   },
   {
    "duration": 120,
    "start_time": "2023-05-13T13:59:41.440Z"
   },
   {
    "duration": 216,
    "start_time": "2023-05-13T13:59:41.562Z"
   },
   {
    "duration": 11,
    "start_time": "2023-05-13T13:59:41.780Z"
   },
   {
    "duration": 83,
    "start_time": "2023-05-13T13:59:41.792Z"
   },
   {
    "duration": 130,
    "start_time": "2023-05-13T13:59:41.877Z"
   },
   {
    "duration": 6,
    "start_time": "2023-05-13T13:59:42.009Z"
   },
   {
    "duration": 9,
    "start_time": "2023-05-13T13:59:42.017Z"
   },
   {
    "duration": 18,
    "start_time": "2023-05-13T13:59:42.027Z"
   },
   {
    "duration": 21,
    "start_time": "2023-05-13T13:59:42.046Z"
   },
   {
    "duration": 72,
    "start_time": "2023-05-13T13:59:42.068Z"
   },
   {
    "duration": 116,
    "start_time": "2023-05-13T13:59:42.141Z"
   },
   {
    "duration": 17,
    "start_time": "2023-05-13T13:59:42.258Z"
   },
   {
    "duration": 9,
    "start_time": "2023-05-13T13:59:42.276Z"
   },
   {
    "duration": 144,
    "start_time": "2023-05-13T13:59:42.287Z"
   },
   {
    "duration": 86,
    "start_time": "2023-05-13T13:59:42.432Z"
   },
   {
    "duration": 119,
    "start_time": "2023-05-13T13:59:42.519Z"
   },
   {
    "duration": 83,
    "start_time": "2023-05-13T13:59:42.639Z"
   },
   {
    "duration": 112,
    "start_time": "2023-05-13T13:59:42.724Z"
   },
   {
    "duration": 6,
    "start_time": "2023-05-13T13:59:42.838Z"
   },
   {
    "duration": 6,
    "start_time": "2023-05-13T13:59:42.846Z"
   },
   {
    "duration": 88,
    "start_time": "2023-05-13T13:59:42.854Z"
   },
   {
    "duration": 115,
    "start_time": "2023-05-13T13:59:42.944Z"
   },
   {
    "duration": 131,
    "start_time": "2023-05-13T13:59:43.061Z"
   },
   {
    "duration": 12,
    "start_time": "2023-05-13T13:59:43.194Z"
   },
   {
    "duration": 9,
    "start_time": "2023-05-13T13:59:43.208Z"
   },
   {
    "duration": 21,
    "start_time": "2023-05-13T13:59:43.218Z"
   },
   {
    "duration": 90,
    "start_time": "2023-05-13T13:59:43.241Z"
   },
   {
    "duration": 119,
    "start_time": "2023-05-13T13:59:43.332Z"
   },
   {
    "duration": 6,
    "start_time": "2023-05-13T13:59:43.453Z"
   },
   {
    "duration": 166,
    "start_time": "2023-05-13T13:59:43.461Z"
   },
   {
    "duration": 126,
    "start_time": "2023-05-13T13:59:43.629Z"
   },
   {
    "duration": 7,
    "start_time": "2023-05-13T13:59:43.757Z"
   },
   {
    "duration": 17,
    "start_time": "2023-05-13T13:59:43.765Z"
   },
   {
    "duration": 27,
    "start_time": "2023-05-13T13:59:43.784Z"
   },
   {
    "duration": 179,
    "start_time": "2023-05-13T13:59:43.812Z"
   },
   {
    "duration": 154,
    "start_time": "2023-05-13T13:59:43.993Z"
   },
   {
    "duration": 146,
    "start_time": "2023-05-13T13:59:44.148Z"
   },
   {
    "duration": 66,
    "start_time": "2023-05-13T13:59:44.297Z"
   },
   {
    "duration": 122,
    "start_time": "2023-05-13T13:59:44.375Z"
   },
   {
    "duration": 8,
    "start_time": "2023-05-13T13:59:44.499Z"
   },
   {
    "duration": 117,
    "start_time": "2023-05-13T13:59:44.513Z"
   },
   {
    "duration": 6,
    "start_time": "2023-05-13T13:59:44.632Z"
   },
   {
    "duration": 82,
    "start_time": "2023-05-13T13:59:44.639Z"
   },
   {
    "duration": 121,
    "start_time": "2023-05-13T13:59:44.723Z"
   },
   {
    "duration": 8,
    "start_time": "2023-05-13T13:59:44.846Z"
   },
   {
    "duration": 130,
    "start_time": "2023-05-13T13:59:44.856Z"
   },
   {
    "duration": 138,
    "start_time": "2023-05-13T13:59:44.988Z"
   },
   {
    "duration": 133,
    "start_time": "2023-05-13T13:59:45.128Z"
   },
   {
    "duration": 17,
    "start_time": "2023-05-13T13:59:45.262Z"
   },
   {
    "duration": 10,
    "start_time": "2023-05-13T13:59:45.281Z"
   },
   {
    "duration": 62,
    "start_time": "2023-05-13T13:59:45.292Z"
   },
   {
    "duration": 21,
    "start_time": "2023-05-13T13:59:45.355Z"
   },
   {
    "duration": 5,
    "start_time": "2023-05-13T13:59:45.377Z"
   },
   {
    "duration": 8,
    "start_time": "2023-05-13T13:59:45.383Z"
   },
   {
    "duration": 4,
    "start_time": "2023-05-13T13:59:45.393Z"
   },
   {
    "duration": 3,
    "start_time": "2023-05-13T13:59:45.399Z"
   },
   {
    "duration": 7,
    "start_time": "2023-05-13T13:59:45.403Z"
   },
   {
    "duration": 301,
    "start_time": "2023-05-13T13:59:45.411Z"
   },
   {
    "duration": 4,
    "start_time": "2023-05-13T13:59:45.714Z"
   },
   {
    "duration": 224,
    "start_time": "2023-05-13T13:59:45.719Z"
   },
   {
    "duration": 149,
    "start_time": "2023-05-13T13:59:45.945Z"
   },
   {
    "duration": 142,
    "start_time": "2023-05-13T13:59:46.096Z"
   },
   {
    "duration": 187,
    "start_time": "2023-05-13T13:59:46.240Z"
   },
   {
    "duration": 124,
    "start_time": "2023-05-13T13:59:46.428Z"
   },
   {
    "duration": 144,
    "start_time": "2023-05-13T13:59:46.553Z"
   },
   {
    "duration": 127,
    "start_time": "2023-05-13T13:59:46.699Z"
   },
   {
    "duration": 126,
    "start_time": "2023-05-13T13:59:46.828Z"
   },
   {
    "duration": 141,
    "start_time": "2023-05-13T13:59:46.956Z"
   },
   {
    "duration": 136,
    "start_time": "2023-05-13T13:59:47.100Z"
   },
   {
    "duration": 137,
    "start_time": "2023-05-13T13:59:47.238Z"
   },
   {
    "duration": 219,
    "start_time": "2023-05-13T13:59:47.377Z"
   },
   {
    "duration": 150,
    "start_time": "2023-05-13T13:59:47.597Z"
   },
   {
    "duration": 129,
    "start_time": "2023-05-13T13:59:47.748Z"
   },
   {
    "duration": 251,
    "start_time": "2023-05-13T13:59:47.879Z"
   },
   {
    "duration": 229,
    "start_time": "2023-05-13T13:59:48.132Z"
   },
   {
    "duration": 13,
    "start_time": "2023-05-13T13:59:48.363Z"
   },
   {
    "duration": 7,
    "start_time": "2023-05-13T13:59:48.378Z"
   },
   {
    "duration": 191,
    "start_time": "2023-05-13T13:59:48.387Z"
   },
   {
    "duration": 7,
    "start_time": "2023-05-13T13:59:48.580Z"
   },
   {
    "duration": 176,
    "start_time": "2023-05-13T13:59:48.590Z"
   },
   {
    "duration": 12,
    "start_time": "2023-05-13T13:59:48.767Z"
   },
   {
    "duration": 177,
    "start_time": "2023-05-13T13:59:48.782Z"
   },
   {
    "duration": 6,
    "start_time": "2023-05-13T13:59:48.960Z"
   },
   {
    "duration": 138,
    "start_time": "2023-05-13T13:59:48.979Z"
   },
   {
    "duration": 196,
    "start_time": "2023-05-13T13:59:49.119Z"
   },
   {
    "duration": 153,
    "start_time": "2023-05-13T13:59:49.317Z"
   },
   {
    "duration": 154,
    "start_time": "2023-05-13T13:59:49.472Z"
   },
   {
    "duration": 162,
    "start_time": "2023-05-13T13:59:49.627Z"
   },
   {
    "duration": 24,
    "start_time": "2023-05-13T13:59:49.791Z"
   },
   {
    "duration": 8,
    "start_time": "2023-05-13T13:59:49.816Z"
   },
   {
    "duration": 8,
    "start_time": "2023-05-13T13:59:49.825Z"
   },
   {
    "duration": 166,
    "start_time": "2023-05-13T13:59:49.835Z"
   },
   {
    "duration": 156,
    "start_time": "2023-05-13T14:00:24.966Z"
   }
  ],
  "kernelspec": {
   "display_name": "Python 3 (ipykernel)",
   "language": "python",
   "name": "python3"
  },
  "language_info": {
   "codemirror_mode": {
    "name": "ipython",
    "version": 3
   },
   "file_extension": ".py",
   "mimetype": "text/x-python",
   "name": "python",
   "nbconvert_exporter": "python",
   "pygments_lexer": "ipython3",
   "version": "3.9.5"
  },
  "toc": {
   "base_numbering": 1,
   "nav_menu": {},
   "number_sections": true,
   "sideBar": true,
   "skip_h1_title": true,
   "title_cell": "Table of Contents",
   "title_sidebar": "Contents",
   "toc_cell": false,
   "toc_position": {},
   "toc_section_display": true,
   "toc_window_display": true
  }
 },
 "nbformat": 4,
 "nbformat_minor": 2
}
