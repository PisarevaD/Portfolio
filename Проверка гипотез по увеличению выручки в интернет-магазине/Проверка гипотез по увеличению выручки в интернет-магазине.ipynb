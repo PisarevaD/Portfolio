{
 "cells": [
  {
   "cell_type": "markdown",
   "metadata": {},
   "source": [
    "# Проверка гипотез по увеличению выручки в интернет-магазине"
   ]
  },
  {
   "cell_type": "markdown",
   "metadata": {},
   "source": [
    "В нашем распоряжении список гипотез для увеличения выручки крупного интернет-магазина. Мы приоритизируем гипотезы и запустим A/B-тест, проанализируем результаты."
   ]
  },
  {
   "cell_type": "code",
   "execution_count": 1,
   "metadata": {},
   "outputs": [],
   "source": [
    "#импортируем библиотеки\n",
    "import pandas as pd\n",
    "import scipy.stats as stats\n",
    "import datetime as dt\n",
    "import numpy as np\n",
    "import matplotlib.pyplot as plt\n",
    "import seaborn as sns"
   ]
  },
  {
   "cell_type": "markdown",
   "metadata": {},
   "source": [
    "## Приоритизация гипотез"
   ]
  },
  {
   "cell_type": "markdown",
   "metadata": {},
   "source": [
    "Загрузим данные, где представлены 9 гипотез по увеличению выручки интернет-магазина с указанными параметрами Reach, Impact, Confidence, Effort."
   ]
  },
  {
   "cell_type": "code",
   "execution_count": 2,
   "metadata": {},
   "outputs": [
    {
     "data": {
      "text/html": [
       "<div>\n",
       "<style scoped>\n",
       "    .dataframe tbody tr th:only-of-type {\n",
       "        vertical-align: middle;\n",
       "    }\n",
       "\n",
       "    .dataframe tbody tr th {\n",
       "        vertical-align: top;\n",
       "    }\n",
       "\n",
       "    .dataframe thead th {\n",
       "        text-align: right;\n",
       "    }\n",
       "</style>\n",
       "<table border=\"1\" class=\"dataframe\">\n",
       "  <thead>\n",
       "    <tr style=\"text-align: right;\">\n",
       "      <th></th>\n",
       "      <th>Hypothesis</th>\n",
       "      <th>Reach</th>\n",
       "      <th>Impact</th>\n",
       "      <th>Confidence</th>\n",
       "      <th>Efforts</th>\n",
       "    </tr>\n",
       "  </thead>\n",
       "  <tbody>\n",
       "    <tr>\n",
       "      <th>0</th>\n",
       "      <td>Добавить два новых канала привлечения трафика,...</td>\n",
       "      <td>3</td>\n",
       "      <td>10</td>\n",
       "      <td>8</td>\n",
       "      <td>6</td>\n",
       "    </tr>\n",
       "    <tr>\n",
       "      <th>1</th>\n",
       "      <td>Запустить собственную службу доставки, что сок...</td>\n",
       "      <td>2</td>\n",
       "      <td>5</td>\n",
       "      <td>4</td>\n",
       "      <td>10</td>\n",
       "    </tr>\n",
       "    <tr>\n",
       "      <th>2</th>\n",
       "      <td>Добавить блоки рекомендаций товаров на сайт ин...</td>\n",
       "      <td>8</td>\n",
       "      <td>3</td>\n",
       "      <td>7</td>\n",
       "      <td>3</td>\n",
       "    </tr>\n",
       "    <tr>\n",
       "      <th>3</th>\n",
       "      <td>Изменить структура категорий, что увеличит кон...</td>\n",
       "      <td>8</td>\n",
       "      <td>3</td>\n",
       "      <td>3</td>\n",
       "      <td>8</td>\n",
       "    </tr>\n",
       "    <tr>\n",
       "      <th>4</th>\n",
       "      <td>Изменить цвет фона главной страницы, чтобы уве...</td>\n",
       "      <td>3</td>\n",
       "      <td>1</td>\n",
       "      <td>1</td>\n",
       "      <td>1</td>\n",
       "    </tr>\n",
       "    <tr>\n",
       "      <th>5</th>\n",
       "      <td>Добавить страницу отзывов клиентов о магазине,...</td>\n",
       "      <td>3</td>\n",
       "      <td>2</td>\n",
       "      <td>2</td>\n",
       "      <td>3</td>\n",
       "    </tr>\n",
       "    <tr>\n",
       "      <th>6</th>\n",
       "      <td>Показать на главной странице баннеры с актуаль...</td>\n",
       "      <td>5</td>\n",
       "      <td>3</td>\n",
       "      <td>8</td>\n",
       "      <td>3</td>\n",
       "    </tr>\n",
       "    <tr>\n",
       "      <th>7</th>\n",
       "      <td>Добавить форму подписки на все основные страни...</td>\n",
       "      <td>10</td>\n",
       "      <td>7</td>\n",
       "      <td>8</td>\n",
       "      <td>5</td>\n",
       "    </tr>\n",
       "    <tr>\n",
       "      <th>8</th>\n",
       "      <td>Запустить акцию, дающую скидку на товар в день...</td>\n",
       "      <td>1</td>\n",
       "      <td>9</td>\n",
       "      <td>9</td>\n",
       "      <td>5</td>\n",
       "    </tr>\n",
       "  </tbody>\n",
       "</table>\n",
       "</div>"
      ],
      "text/plain": [
       "                                          Hypothesis  Reach  Impact  \\\n",
       "0  Добавить два новых канала привлечения трафика,...      3      10   \n",
       "1  Запустить собственную службу доставки, что сок...      2       5   \n",
       "2  Добавить блоки рекомендаций товаров на сайт ин...      8       3   \n",
       "3  Изменить структура категорий, что увеличит кон...      8       3   \n",
       "4  Изменить цвет фона главной страницы, чтобы уве...      3       1   \n",
       "5  Добавить страницу отзывов клиентов о магазине,...      3       2   \n",
       "6  Показать на главной странице баннеры с актуаль...      5       3   \n",
       "7  Добавить форму подписки на все основные страни...     10       7   \n",
       "8  Запустить акцию, дающую скидку на товар в день...      1       9   \n",
       "\n",
       "   Confidence  Efforts  \n",
       "0           8        6  \n",
       "1           4       10  \n",
       "2           7        3  \n",
       "3           3        8  \n",
       "4           1        1  \n",
       "5           2        3  \n",
       "6           8        3  \n",
       "7           8        5  \n",
       "8           9        5  "
      ]
     },
     "execution_count": 2,
     "metadata": {},
     "output_type": "execute_result"
    }
   ],
   "source": [
    "#загружаем датасет\n",
    "hypothesis = pd.read_csv('/datasets/hypothesis.csv')\n",
    "#выведем данные\n",
    "hypothesis"
   ]
  },
  {
   "cell_type": "code",
   "execution_count": 3,
   "metadata": {},
   "outputs": [
    {
     "data": {
      "text/plain": [
       "array(['Добавить два новых канала привлечения трафика, что позволит привлекать на 30% больше пользователей',\n",
       "       'Запустить собственную службу доставки, что сократит срок доставки заказов',\n",
       "       'Добавить блоки рекомендаций товаров на сайт интернет магазина, чтобы повысить конверсию и средний чек заказа',\n",
       "       'Изменить структура категорий, что увеличит конверсию, т.к. пользователи быстрее найдут нужный товар',\n",
       "       'Изменить цвет фона главной страницы, чтобы увеличить вовлеченность пользователей',\n",
       "       'Добавить страницу отзывов клиентов о магазине, что позволит увеличить количество заказов',\n",
       "       'Показать на главной странице баннеры с актуальными акциями и распродажами, чтобы увеличить конверсию',\n",
       "       'Добавить форму подписки на все основные страницы, чтобы собрать базу клиентов для email-рассылок',\n",
       "       'Запустить акцию, дающую скидку на товар в день рождения'],\n",
       "      dtype=object)"
      ]
     },
     "execution_count": 3,
     "metadata": {},
     "output_type": "execute_result"
    }
   ],
   "source": [
    "#посмотрим какие гипотезы были представлены\n",
    "hypothesis['Hypothesis'].unique()"
   ]
  },
  {
   "cell_type": "markdown",
   "metadata": {},
   "source": [
    "### ICE"
   ]
  },
  {
   "cell_type": "markdown",
   "metadata": {},
   "source": [
    "Применим фреймворк ICE для приоритизации гипотез"
   ]
  },
  {
   "cell_type": "code",
   "execution_count": 4,
   "metadata": {
    "scrolled": true
   },
   "outputs": [
    {
     "data": {
      "text/html": [
       "<div>\n",
       "<style scoped>\n",
       "    .dataframe tbody tr th:only-of-type {\n",
       "        vertical-align: middle;\n",
       "    }\n",
       "\n",
       "    .dataframe tbody tr th {\n",
       "        vertical-align: top;\n",
       "    }\n",
       "\n",
       "    .dataframe thead th {\n",
       "        text-align: right;\n",
       "    }\n",
       "</style>\n",
       "<table border=\"1\" class=\"dataframe\">\n",
       "  <thead>\n",
       "    <tr style=\"text-align: right;\">\n",
       "      <th></th>\n",
       "      <th>Hypothesis</th>\n",
       "      <th>ICE</th>\n",
       "    </tr>\n",
       "  </thead>\n",
       "  <tbody>\n",
       "    <tr>\n",
       "      <th>8</th>\n",
       "      <td>Запустить акцию, дающую скидку на товар в день...</td>\n",
       "      <td>16.20</td>\n",
       "    </tr>\n",
       "    <tr>\n",
       "      <th>0</th>\n",
       "      <td>Добавить два новых канала привлечения трафика,...</td>\n",
       "      <td>13.33</td>\n",
       "    </tr>\n",
       "    <tr>\n",
       "      <th>7</th>\n",
       "      <td>Добавить форму подписки на все основные страни...</td>\n",
       "      <td>11.20</td>\n",
       "    </tr>\n",
       "    <tr>\n",
       "      <th>6</th>\n",
       "      <td>Показать на главной странице баннеры с актуаль...</td>\n",
       "      <td>8.00</td>\n",
       "    </tr>\n",
       "    <tr>\n",
       "      <th>2</th>\n",
       "      <td>Добавить блоки рекомендаций товаров на сайт ин...</td>\n",
       "      <td>7.00</td>\n",
       "    </tr>\n",
       "    <tr>\n",
       "      <th>1</th>\n",
       "      <td>Запустить собственную службу доставки, что сок...</td>\n",
       "      <td>2.00</td>\n",
       "    </tr>\n",
       "    <tr>\n",
       "      <th>5</th>\n",
       "      <td>Добавить страницу отзывов клиентов о магазине,...</td>\n",
       "      <td>1.33</td>\n",
       "    </tr>\n",
       "    <tr>\n",
       "      <th>3</th>\n",
       "      <td>Изменить структура категорий, что увеличит кон...</td>\n",
       "      <td>1.12</td>\n",
       "    </tr>\n",
       "    <tr>\n",
       "      <th>4</th>\n",
       "      <td>Изменить цвет фона главной страницы, чтобы уве...</td>\n",
       "      <td>1.00</td>\n",
       "    </tr>\n",
       "  </tbody>\n",
       "</table>\n",
       "</div>"
      ],
      "text/plain": [
       "                                          Hypothesis    ICE\n",
       "8  Запустить акцию, дающую скидку на товар в день...  16.20\n",
       "0  Добавить два новых канала привлечения трафика,...  13.33\n",
       "7  Добавить форму подписки на все основные страни...  11.20\n",
       "6  Показать на главной странице баннеры с актуаль...   8.00\n",
       "2  Добавить блоки рекомендаций товаров на сайт ин...   7.00\n",
       "1  Запустить собственную службу доставки, что сок...   2.00\n",
       "5  Добавить страницу отзывов клиентов о магазине,...   1.33\n",
       "3  Изменить структура категорий, что увеличит кон...   1.12\n",
       "4  Изменить цвет фона главной страницы, чтобы уве...   1.00"
      ]
     },
     "execution_count": 4,
     "metadata": {},
     "output_type": "execute_result"
    }
   ],
   "source": [
    "hypothesis['ICE'] = round(((hypothesis['Impact'] * hypothesis['Confidence']) / hypothesis['Efforts']), 2)\n",
    "hypothesis[['Hypothesis', 'ICE']].sort_values(by='ICE', ascending=False)"
   ]
  },
  {
   "cell_type": "markdown",
   "metadata": {},
   "source": [
    "По методу ICE SCORE самой приоритетной гипотезой является запуск акции, которая даёт скидку на товар в день рождения"
   ]
  },
  {
   "cell_type": "markdown",
   "metadata": {},
   "source": [
    "### RICE"
   ]
  },
  {
   "cell_type": "markdown",
   "metadata": {},
   "source": [
    "Применим фреймворк RICE для приоритизации гипотез"
   ]
  },
  {
   "cell_type": "code",
   "execution_count": 5,
   "metadata": {},
   "outputs": [
    {
     "data": {
      "text/html": [
       "<div>\n",
       "<style scoped>\n",
       "    .dataframe tbody tr th:only-of-type {\n",
       "        vertical-align: middle;\n",
       "    }\n",
       "\n",
       "    .dataframe tbody tr th {\n",
       "        vertical-align: top;\n",
       "    }\n",
       "\n",
       "    .dataframe thead th {\n",
       "        text-align: right;\n",
       "    }\n",
       "</style>\n",
       "<table border=\"1\" class=\"dataframe\">\n",
       "  <thead>\n",
       "    <tr style=\"text-align: right;\">\n",
       "      <th></th>\n",
       "      <th>Hypothesis</th>\n",
       "      <th>RICE</th>\n",
       "    </tr>\n",
       "  </thead>\n",
       "  <tbody>\n",
       "    <tr>\n",
       "      <th>7</th>\n",
       "      <td>Добавить форму подписки на все основные страни...</td>\n",
       "      <td>112.0</td>\n",
       "    </tr>\n",
       "    <tr>\n",
       "      <th>2</th>\n",
       "      <td>Добавить блоки рекомендаций товаров на сайт ин...</td>\n",
       "      <td>56.0</td>\n",
       "    </tr>\n",
       "    <tr>\n",
       "      <th>0</th>\n",
       "      <td>Добавить два новых канала привлечения трафика,...</td>\n",
       "      <td>40.0</td>\n",
       "    </tr>\n",
       "    <tr>\n",
       "      <th>6</th>\n",
       "      <td>Показать на главной странице баннеры с актуаль...</td>\n",
       "      <td>40.0</td>\n",
       "    </tr>\n",
       "    <tr>\n",
       "      <th>8</th>\n",
       "      <td>Запустить акцию, дающую скидку на товар в день...</td>\n",
       "      <td>16.2</td>\n",
       "    </tr>\n",
       "    <tr>\n",
       "      <th>3</th>\n",
       "      <td>Изменить структура категорий, что увеличит кон...</td>\n",
       "      <td>9.0</td>\n",
       "    </tr>\n",
       "    <tr>\n",
       "      <th>1</th>\n",
       "      <td>Запустить собственную службу доставки, что сок...</td>\n",
       "      <td>4.0</td>\n",
       "    </tr>\n",
       "    <tr>\n",
       "      <th>5</th>\n",
       "      <td>Добавить страницу отзывов клиентов о магазине,...</td>\n",
       "      <td>4.0</td>\n",
       "    </tr>\n",
       "    <tr>\n",
       "      <th>4</th>\n",
       "      <td>Изменить цвет фона главной страницы, чтобы уве...</td>\n",
       "      <td>3.0</td>\n",
       "    </tr>\n",
       "  </tbody>\n",
       "</table>\n",
       "</div>"
      ],
      "text/plain": [
       "                                          Hypothesis   RICE\n",
       "7  Добавить форму подписки на все основные страни...  112.0\n",
       "2  Добавить блоки рекомендаций товаров на сайт ин...   56.0\n",
       "0  Добавить два новых канала привлечения трафика,...   40.0\n",
       "6  Показать на главной странице баннеры с актуаль...   40.0\n",
       "8  Запустить акцию, дающую скидку на товар в день...   16.2\n",
       "3  Изменить структура категорий, что увеличит кон...    9.0\n",
       "1  Запустить собственную службу доставки, что сок...    4.0\n",
       "5  Добавить страницу отзывов клиентов о магазине,...    4.0\n",
       "4  Изменить цвет фона главной страницы, чтобы уве...    3.0"
      ]
     },
     "execution_count": 5,
     "metadata": {},
     "output_type": "execute_result"
    }
   ],
   "source": [
    "hypothesis['RICE'] = (hypothesis['Reach'] * hypothesis['Impact'] * hypothesis['Confidence']) / hypothesis['Efforts']\n",
    "hypothesis[['Hypothesis', 'RICE']].sort_values(by='RICE', ascending=False)"
   ]
  },
  {
   "cell_type": "markdown",
   "metadata": {},
   "source": [
    "По методу RICE SCORE самой приоритетной гипотезой является добавление формы подписки на все основные страницы, чтобы собрать базу клиентов для email-рассылок."
   ]
  },
  {
   "cell_type": "markdown",
   "metadata": {},
   "source": [
    "При использовании метода RICE SCORE добавляется параметр Reach, который отражает охват пользователей, которых затронут изменения. По стоимости обе гипотезы имеют одинаковую оценку, при этом охват добавления формы будет значительно выше, чем запуск акции, и не смотря на то, что влияние изменения и уверенность в этом изменении ниже, они всё равно имеют досточно высокие показатели."
   ]
  },
  {
   "cell_type": "markdown",
   "metadata": {},
   "source": [
    "## Анализ A/B-теста"
   ]
  },
  {
   "cell_type": "markdown",
   "metadata": {},
   "source": [
    "Загрузим данные по проведённому A/B-тесту и изучим их."
   ]
  },
  {
   "cell_type": "code",
   "execution_count": 6,
   "metadata": {},
   "outputs": [
    {
     "data": {
      "text/html": [
       "<div>\n",
       "<style scoped>\n",
       "    .dataframe tbody tr th:only-of-type {\n",
       "        vertical-align: middle;\n",
       "    }\n",
       "\n",
       "    .dataframe tbody tr th {\n",
       "        vertical-align: top;\n",
       "    }\n",
       "\n",
       "    .dataframe thead th {\n",
       "        text-align: right;\n",
       "    }\n",
       "</style>\n",
       "<table border=\"1\" class=\"dataframe\">\n",
       "  <thead>\n",
       "    <tr style=\"text-align: right;\">\n",
       "      <th></th>\n",
       "      <th>transactionId</th>\n",
       "      <th>visitorId</th>\n",
       "      <th>date</th>\n",
       "      <th>revenue</th>\n",
       "      <th>group</th>\n",
       "    </tr>\n",
       "  </thead>\n",
       "  <tbody>\n",
       "    <tr>\n",
       "      <th>0</th>\n",
       "      <td>3667963787</td>\n",
       "      <td>3312258926</td>\n",
       "      <td>2019-08-15</td>\n",
       "      <td>1650</td>\n",
       "      <td>B</td>\n",
       "    </tr>\n",
       "    <tr>\n",
       "      <th>1</th>\n",
       "      <td>2804400009</td>\n",
       "      <td>3642806036</td>\n",
       "      <td>2019-08-15</td>\n",
       "      <td>730</td>\n",
       "      <td>B</td>\n",
       "    </tr>\n",
       "    <tr>\n",
       "      <th>2</th>\n",
       "      <td>2961555356</td>\n",
       "      <td>4069496402</td>\n",
       "      <td>2019-08-15</td>\n",
       "      <td>400</td>\n",
       "      <td>A</td>\n",
       "    </tr>\n",
       "    <tr>\n",
       "      <th>3</th>\n",
       "      <td>3797467345</td>\n",
       "      <td>1196621759</td>\n",
       "      <td>2019-08-15</td>\n",
       "      <td>9759</td>\n",
       "      <td>B</td>\n",
       "    </tr>\n",
       "    <tr>\n",
       "      <th>4</th>\n",
       "      <td>2282983706</td>\n",
       "      <td>2322279887</td>\n",
       "      <td>2019-08-15</td>\n",
       "      <td>2308</td>\n",
       "      <td>B</td>\n",
       "    </tr>\n",
       "  </tbody>\n",
       "</table>\n",
       "</div>"
      ],
      "text/plain": [
       "   transactionId   visitorId       date  revenue group\n",
       "0     3667963787  3312258926 2019-08-15     1650     B\n",
       "1     2804400009  3642806036 2019-08-15      730     B\n",
       "2     2961555356  4069496402 2019-08-15      400     A\n",
       "3     3797467345  1196621759 2019-08-15     9759     B\n",
       "4     2282983706  2322279887 2019-08-15     2308     B"
      ]
     },
     "execution_count": 6,
     "metadata": {},
     "output_type": "execute_result"
    }
   ],
   "source": [
    "orders = pd.read_csv('/datasets/orders.csv')\n",
    "orders['date'] = orders['date'].map(\n",
    "    lambda x: dt.datetime.strptime(x, '%Y-%m-%d')\n",
    ")\n",
    "orders.head()"
   ]
  },
  {
   "cell_type": "code",
   "execution_count": 7,
   "metadata": {},
   "outputs": [
    {
     "data": {
      "text/html": [
       "<div>\n",
       "<style scoped>\n",
       "    .dataframe tbody tr th:only-of-type {\n",
       "        vertical-align: middle;\n",
       "    }\n",
       "\n",
       "    .dataframe tbody tr th {\n",
       "        vertical-align: top;\n",
       "    }\n",
       "\n",
       "    .dataframe thead th {\n",
       "        text-align: right;\n",
       "    }\n",
       "</style>\n",
       "<table border=\"1\" class=\"dataframe\">\n",
       "  <thead>\n",
       "    <tr style=\"text-align: right;\">\n",
       "      <th></th>\n",
       "      <th>date</th>\n",
       "      <th>group</th>\n",
       "      <th>visitors</th>\n",
       "    </tr>\n",
       "  </thead>\n",
       "  <tbody>\n",
       "    <tr>\n",
       "      <th>0</th>\n",
       "      <td>2019-08-01</td>\n",
       "      <td>A</td>\n",
       "      <td>719</td>\n",
       "    </tr>\n",
       "    <tr>\n",
       "      <th>1</th>\n",
       "      <td>2019-08-02</td>\n",
       "      <td>A</td>\n",
       "      <td>619</td>\n",
       "    </tr>\n",
       "    <tr>\n",
       "      <th>2</th>\n",
       "      <td>2019-08-03</td>\n",
       "      <td>A</td>\n",
       "      <td>507</td>\n",
       "    </tr>\n",
       "    <tr>\n",
       "      <th>3</th>\n",
       "      <td>2019-08-04</td>\n",
       "      <td>A</td>\n",
       "      <td>717</td>\n",
       "    </tr>\n",
       "    <tr>\n",
       "      <th>4</th>\n",
       "      <td>2019-08-05</td>\n",
       "      <td>A</td>\n",
       "      <td>756</td>\n",
       "    </tr>\n",
       "  </tbody>\n",
       "</table>\n",
       "</div>"
      ],
      "text/plain": [
       "        date group  visitors\n",
       "0 2019-08-01     A       719\n",
       "1 2019-08-02     A       619\n",
       "2 2019-08-03     A       507\n",
       "3 2019-08-04     A       717\n",
       "4 2019-08-05     A       756"
      ]
     },
     "execution_count": 7,
     "metadata": {},
     "output_type": "execute_result"
    }
   ],
   "source": [
    "visitors = pd.read_csv('/datasets/visitors.csv')\n",
    "visitors['date'] = visitors['date'].map(\n",
    "    lambda x: dt.datetime.strptime(x, '%Y-%m-%d')\n",
    ")\n",
    "visitors.head()"
   ]
  },
  {
   "cell_type": "code",
   "execution_count": 8,
   "metadata": {},
   "outputs": [],
   "source": [
    "# создаем массив уникальных пар значений дат и групп теста\n",
    "datesGroups = orders[['date','group']].drop_duplicates() "
   ]
  },
  {
   "cell_type": "code",
   "execution_count": 9,
   "metadata": {},
   "outputs": [],
   "source": [
    "#соберём агрегированные кумулятивные по дням данные о заказах\n",
    "ordersAggregated = datesGroups.apply(lambda x: orders[np.logical_and(orders['date'] <= x['date'], orders['group'] == x['group'])]\\\n",
    ".agg({'date' : 'max', 'group' : 'max', 'transactionId' : 'nunique', 'visitorId' : 'nunique', 'revenue' : 'sum'}), axis=1).sort_values(by=['date','group'])"
   ]
  },
  {
   "cell_type": "code",
   "execution_count": 10,
   "metadata": {},
   "outputs": [],
   "source": [
    "#получим агрегированные кумулятивные по дням данные о посетителях\n",
    "visitorsAggregated = datesGroups.apply(lambda x: visitors[np.logical_and(visitors['date'] <= x['date'], visitors['group'] == x['group'])].agg({'date' : 'max', 'group' : 'max', 'visitors' : 'sum'}), axis=1).sort_values(by=['date','group']) "
   ]
  },
  {
   "cell_type": "code",
   "execution_count": 11,
   "metadata": {},
   "outputs": [
    {
     "data": {
      "text/html": [
       "<div>\n",
       "<style scoped>\n",
       "    .dataframe tbody tr th:only-of-type {\n",
       "        vertical-align: middle;\n",
       "    }\n",
       "\n",
       "    .dataframe tbody tr th {\n",
       "        vertical-align: top;\n",
       "    }\n",
       "\n",
       "    .dataframe thead th {\n",
       "        text-align: right;\n",
       "    }\n",
       "</style>\n",
       "<table border=\"1\" class=\"dataframe\">\n",
       "  <thead>\n",
       "    <tr style=\"text-align: right;\">\n",
       "      <th></th>\n",
       "      <th>date</th>\n",
       "      <th>group</th>\n",
       "      <th>orders</th>\n",
       "      <th>buyers</th>\n",
       "      <th>revenue</th>\n",
       "      <th>visitors</th>\n",
       "    </tr>\n",
       "  </thead>\n",
       "  <tbody>\n",
       "    <tr>\n",
       "      <th>0</th>\n",
       "      <td>2019-08-01</td>\n",
       "      <td>A</td>\n",
       "      <td>24</td>\n",
       "      <td>20</td>\n",
       "      <td>148579</td>\n",
       "      <td>719</td>\n",
       "    </tr>\n",
       "    <tr>\n",
       "      <th>1</th>\n",
       "      <td>2019-08-01</td>\n",
       "      <td>B</td>\n",
       "      <td>21</td>\n",
       "      <td>20</td>\n",
       "      <td>101217</td>\n",
       "      <td>713</td>\n",
       "    </tr>\n",
       "    <tr>\n",
       "      <th>2</th>\n",
       "      <td>2019-08-02</td>\n",
       "      <td>A</td>\n",
       "      <td>44</td>\n",
       "      <td>38</td>\n",
       "      <td>242401</td>\n",
       "      <td>1338</td>\n",
       "    </tr>\n",
       "    <tr>\n",
       "      <th>3</th>\n",
       "      <td>2019-08-02</td>\n",
       "      <td>B</td>\n",
       "      <td>45</td>\n",
       "      <td>43</td>\n",
       "      <td>266748</td>\n",
       "      <td>1294</td>\n",
       "    </tr>\n",
       "    <tr>\n",
       "      <th>4</th>\n",
       "      <td>2019-08-03</td>\n",
       "      <td>A</td>\n",
       "      <td>68</td>\n",
       "      <td>62</td>\n",
       "      <td>354874</td>\n",
       "      <td>1845</td>\n",
       "    </tr>\n",
       "  </tbody>\n",
       "</table>\n",
       "</div>"
      ],
      "text/plain": [
       "        date group  orders  buyers  revenue  visitors\n",
       "0 2019-08-01     A      24      20   148579       719\n",
       "1 2019-08-01     B      21      20   101217       713\n",
       "2 2019-08-02     A      44      38   242401      1338\n",
       "3 2019-08-02     B      45      43   266748      1294\n",
       "4 2019-08-03     A      68      62   354874      1845"
      ]
     },
     "execution_count": 11,
     "metadata": {},
     "output_type": "execute_result"
    }
   ],
   "source": [
    "# создаем массив уникальных пар значений дат и групп теста\n",
    "datesGroups = orders[['date','group']].drop_duplicates()\n",
    "\n",
    "# получаем агрегированные кумулятивные по дням данные о заказах \n",
    "ordersAggregated = datesGroups.apply(lambda x: orders[np.logical_and(orders['date'] <= x['date'], orders['group'] == x['group'])].agg({'date' : 'max', 'group' : 'max', 'transactionId' : 'nunique', 'visitorId' : 'nunique', 'revenue' : 'sum'}), axis=1).sort_values(by=['date','group'])\n",
    "\n",
    "# получаем агрегированные кумулятивные по дням данные о посетителях интернет-магазина \n",
    "visitorsAggregated = datesGroups.apply(lambda x: visitors[np.logical_and(visitors['date'] <= x['date'], visitors['group'] == x['group'])].agg({'date' : 'max', 'group' : 'max', 'visitors' : 'sum'}), axis=1).sort_values(by=['date','group'])\n",
    "\n",
    "# объединяем кумулятивные данные в одной таблице и присваиваем ее столбцам понятные названия\n",
    "cumulativeData = ordersAggregated.merge(visitorsAggregated, left_on=['date', 'group'], right_on=['date', 'group'])\n",
    "cumulativeData.columns = ['date', 'group', 'orders', 'buyers', 'revenue', 'visitors']\n",
    "\n",
    "cumulativeData.head(5)"
   ]
  },
  {
   "cell_type": "code",
   "execution_count": 12,
   "metadata": {},
   "outputs": [
    {
     "data": {
      "text/plain": [
       "58"
      ]
     },
     "execution_count": 12,
     "metadata": {},
     "output_type": "execute_result"
    }
   ],
   "source": [
    "# разделим заказы по группам\n",
    "group_a = orders.query('group == \"A\"') \n",
    "group_b = orders.query('group == \"B\"') \n",
    "  \n",
    "# проверяем, есть ли пользователи, которые попали в обе группы \n",
    "group_intersections = list(np.intersect1d(group_a['visitorId'], group_b['visitorId']))\n",
    "len(group_intersections)"
   ]
  },
  {
   "cell_type": "markdown",
   "metadata": {},
   "source": [
    "58 пользователей есть в обеих группах, уберём их из записей"
   ]
  },
  {
   "cell_type": "code",
   "execution_count": 13,
   "metadata": {},
   "outputs": [],
   "source": [
    "# удаляем пользователей, которые попали в обе группы\n",
    "orders = orders.query('visitorId not in @group_intersections')"
   ]
  },
  {
   "cell_type": "markdown",
   "metadata": {},
   "source": [
    "### Построим график кумулятивной выручки по группам"
   ]
  },
  {
   "cell_type": "code",
   "execution_count": 14,
   "metadata": {},
   "outputs": [],
   "source": [
    "#размер графиков\n",
    "#размер графиков\n",
    "sns.set(rc={'figure.figsize':(20,10)})"
   ]
  },
  {
   "cell_type": "code",
   "execution_count": 15,
   "metadata": {},
   "outputs": [
    {
     "data": {
      "text/plain": [
       "<matplotlib.legend.Legend at 0x7efe4a6c8c10>"
      ]
     },
     "execution_count": 15,
     "metadata": {},
     "output_type": "execute_result"
    },
    {
     "data": {
      "image/png": "[encoded data removed]",
      "text/plain": [
       "<Figure size 1440x720 with 1 Axes>"
      ]
     },
     "metadata": {},
     "output_type": "display_data"
    }
   ],
   "source": [
    "# датафрейм с кумулятивным количеством заказов и кумулятивной выручкой по дням в группе А\n",
    "cumulativeRevenueA = cumulativeData[cumulativeData['group']=='A'][['date','revenue', 'orders']]\n",
    "\n",
    "# датафрейм с кумулятивным количеством заказов и кумулятивной выручкой по дням в группе B\n",
    "cumulativeRevenueB = cumulativeData[cumulativeData['group']=='B'][['date','revenue', 'orders']]\n",
    "\n",
    "# Строим график выручки группы А\n",
    "plt.plot(cumulativeRevenueA['date'], cumulativeRevenueA['revenue'], label='A')\n",
    "\n",
    "# Строим график выручки группы B\n",
    "plt.plot(cumulativeRevenueB['date'], cumulativeRevenueB['revenue'], label='B')\n",
    "\n",
    "\n",
    "plt.title('График кумулятивной выручки по группам')\n",
    "plt.xlabel('Дата')\n",
    "plt.ylabel('Выручка')\n",
    "plt.legend() "
   ]
  },
  {
   "cell_type": "markdown",
   "metadata": {},
   "source": [
    "Выручка в обеих группахвыручка увеличивается на протяжении всего теста. В обеих группах есть скачки в нескольких точках, однако у группы В в одной из точек присутствует очень резки рост, который может свидетельствовать об увеличении количества заказов или о крупном заказе."
   ]
  },
  {
   "cell_type": "markdown",
   "metadata": {},
   "source": [
    "### Построим график кумулятивного среднего чека по группам"
   ]
  },
  {
   "cell_type": "code",
   "execution_count": 16,
   "metadata": {},
   "outputs": [
    {
     "data": {
      "text/plain": [
       "<matplotlib.legend.Legend at 0x7efe42691730>"
      ]
     },
     "execution_count": 16,
     "metadata": {},
     "output_type": "execute_result"
    },
    {
     "data": {
      "image/png": "[encoded data removed]",
      "text/plain": [
       "<Figure size 1440x720 with 1 Axes>"
      ]
     },
     "metadata": {},
     "output_type": "display_data"
    }
   ],
   "source": [
    "plt.plot(cumulativeRevenueA['date'], cumulativeRevenueA['revenue']/cumulativeRevenueA['orders'], label='A')\n",
    "plt.plot(cumulativeRevenueB['date'], cumulativeRevenueB['revenue']/cumulativeRevenueB['orders'], label='B')\n",
    "\n",
    "plt.title('График кумулятивного среднего чека по группам')\n",
    "plt.xlabel('Дата')\n",
    "plt.ylabel('Средний чек')\n",
    "plt.legend() "
   ]
  },
  {
   "cell_type": "markdown",
   "metadata": {},
   "source": [
    "Средний чек группы А увличивается, а группы В падает, обе группы не пришли к реальному среднему чеку, возможно не достаточно времени. Также средний чек группы В по графику значительно выше, чем средний чек группы А. "
   ]
  },
  {
   "cell_type": "markdown",
   "metadata": {},
   "source": [
    "### Построим график относительного изменения кумулятивного среднего чека группы B к группе A"
   ]
  },
  {
   "cell_type": "code",
   "execution_count": 17,
   "metadata": {},
   "outputs": [
    {
     "data": {
      "text/plain": [
       "Text(0.5, 1.0, 'График относительного изменения кумулятивного среднего чека группы B к группе A')"
      ]
     },
     "execution_count": 17,
     "metadata": {},
     "output_type": "execute_result"
    },
    {
     "data": {
      "image/png": "[encoded data removed]",
      "text/plain": [
       "<Figure size 1440x720 with 1 Axes>"
      ]
     },
     "metadata": {},
     "output_type": "display_data"
    }
   ],
   "source": [
    "# собираем данные в одном датафрейме\n",
    "mergedCumulativeRevenue = cumulativeRevenueA.merge(cumulativeRevenueB, left_on='date', right_on='date', how='left', suffixes=['A', 'B'])\n",
    "\n",
    "# cтроим отношение средних чеков\n",
    "plt.plot(mergedCumulativeRevenue['date'], (mergedCumulativeRevenue['revenueB']/mergedCumulativeRevenue['ordersB'])/(mergedCumulativeRevenue['revenueA']/mergedCumulativeRevenue['ordersA'])-1)\n",
    "\n",
    "# добавляем ось X\n",
    "plt.axhline(y=0, color='black', linestyle='--') \n",
    "\n",
    "plt.title('График относительного изменения кумулятивного среднего чека группы B к группе A')"
   ]
  },
  {
   "cell_type": "markdown",
   "metadata": {},
   "source": [
    "График различия имеет резкие скачки, что говорит нам о выбросах. Но почти за весь период проведения теста средний чек группы В выше, чем средний чек группы А."
   ]
  },
  {
   "cell_type": "markdown",
   "metadata": {},
   "source": [
    "### Построим график кумулятивного среднего количества заказов на посетителя по группам"
   ]
  },
  {
   "cell_type": "code",
   "execution_count": 18,
   "metadata": {},
   "outputs": [
    {
     "data": {
      "text/plain": [
       "<matplotlib.legend.Legend at 0x7efe425cee20>"
      ]
     },
     "execution_count": 18,
     "metadata": {},
     "output_type": "execute_result"
    },
    {
     "data": {
      "image/png": "[encoded data removed]",
      "text/plain": [
       "<Figure size 1440x720 with 1 Axes>"
      ]
     },
     "metadata": {},
     "output_type": "display_data"
    }
   ],
   "source": [
    "# считаем кумулятивную конверсию\n",
    "cumulativeData['conversion'] = cumulativeData['orders']/cumulativeData['visitors']\n",
    "\n",
    "# отделяем данные по группе A\n",
    "cumulativeDataA = cumulativeData[cumulativeData['group']=='A']\n",
    "\n",
    "# отделяем данные по группе B\n",
    "cumulativeDataB = cumulativeData[cumulativeData['group']=='B']\n",
    "\n",
    "# строим графики\n",
    "plt.plot(cumulativeDataA['date'], cumulativeDataA['conversion'], label='A')\n",
    "plt.plot(cumulativeDataB['date'], cumulativeDataB['conversion'], label='B')\n",
    "\n",
    "\n",
    "plt.title('График кумулятивного среднего количества заказов на посетителя по группам')\n",
    "plt.xlabel('Дата')\n",
    "plt.ylabel('Средние количество заказов на посетителя')\n",
    "plt.legend()\n"
   ]
  },
  {
   "cell_type": "markdown",
   "metadata": {},
   "source": [
    "Группа В показывает большее комулятивное среднее количества заказов на поситителя, чем группа А. Но графики не равномерны и не зафиксировались к концу теста, так же присутствуют резкие скачки в обеих группах, возможно дело в аномалиях."
   ]
  },
  {
   "cell_type": "markdown",
   "metadata": {},
   "source": [
    "### Построим график относительного изменения кумулятивного среднего количества заказов на посетителя группы B к группе A"
   ]
  },
  {
   "cell_type": "code",
   "execution_count": 19,
   "metadata": {},
   "outputs": [
    {
     "data": {
      "text/plain": [
       "<matplotlib.lines.Line2D at 0x7efe4256aa30>"
      ]
     },
     "execution_count": 19,
     "metadata": {},
     "output_type": "execute_result"
    },
    {
     "data": {
      "image/png": "[encoded data removed]",
      "text/plain": [
       "<Figure size 1440x720 with 1 Axes>"
      ]
     },
     "metadata": {},
     "output_type": "display_data"
    }
   ],
   "source": [
    "mergedCumulativeConversions = cumulativeDataA[['date','conversion']].merge(cumulativeDataB[['date','conversion']], left_on='date', right_on='date', how='left', suffixes=['A', 'B'])\n",
    "\n",
    "plt.plot(mergedCumulativeConversions['date'], mergedCumulativeConversions['conversionB']/mergedCumulativeConversions['conversionA']-1, label=\"Относительный прирост конверсии группы B относительно группы A\")\n",
    "\n",
    "plt.title('График относительного изменения кумулятивного среднего количества заказов на посетителя группы B к группе A')\n",
    "plt.legend()\n",
    "\n",
    "plt.axhline(y=0, color='black', linestyle='--')\n",
    "plt.axhline(y=-0.1, color='grey', linestyle='--')"
   ]
  },
  {
   "cell_type": "markdown",
   "metadata": {},
   "source": [
    "Уже с первых дней с начала теста группа B значительно выше группы A. Но отношение конверсии ещё не установилось, нельзя делать выводы исходя из этих данных, в первую очередб необходимо проанализировать аномалии."
   ]
  },
  {
   "cell_type": "markdown",
   "metadata": {},
   "source": [
    "### Построим точечный график количества заказов по пользователям"
   ]
  },
  {
   "cell_type": "code",
   "execution_count": 20,
   "metadata": {},
   "outputs": [
    {
     "data": {
      "text/plain": [
       "Text(0.5, 1.0, 'Точечный график количества заказов по пользователям')"
      ]
     },
     "execution_count": 20,
     "metadata": {},
     "output_type": "execute_result"
    },
    {
     "data": {
      "image/png": "[encoded data removed]",
      "text/plain": [
       "<Figure size 1440x720 with 1 Axes>"
      ]
     },
     "metadata": {},
     "output_type": "display_data"
    }
   ],
   "source": [
    "orders_agg = (\n",
    "    orders.groupby('visitorId', as_index=False)\n",
    "    .agg({'transactionId': 'nunique'})\n",
    ")\n",
    "\n",
    "orders_agg.columns = ['userId', 'orders']\n",
    "\n",
    "x_values = pd.Series(range(0,len(orders_agg)))\n",
    "plt.scatter(x_values, orders_agg['orders'])\n",
    "plt.title('Точечный график количества заказов по пользователям')"
   ]
  },
  {
   "cell_type": "markdown",
   "metadata": {},
   "source": [
    "По точечному графику видно, что в основном пользователи оформляли заказы 1 раз, также есть небольшое количество пользователей с 2 и 3 заказами, проверим какой процент этих пользователей."
   ]
  },
  {
   "cell_type": "markdown",
   "metadata": {},
   "source": [
    "### Посчитаем 95-й и 99-й перцентили количества заказов на пользователя"
   ]
  },
  {
   "cell_type": "code",
   "execution_count": 21,
   "metadata": {},
   "outputs": [
    {
     "data": {
      "text/plain": [
       "array([1., 2.])"
      ]
     },
     "execution_count": 21,
     "metadata": {},
     "output_type": "execute_result"
    }
   ],
   "source": [
    "np.percentile(orders_agg['orders'], [95, 99])"
   ]
  },
  {
   "cell_type": "markdown",
   "metadata": {},
   "source": [
    "Не более 5% пользователей оформляли более 1 заказа, не более 1% пользователей оформляли более 2 заказов. Примем за аномальных пользователей тех, кто оформил заказ более одного раза, так мы отсечём 5% пользователей."
   ]
  },
  {
   "cell_type": "markdown",
   "metadata": {},
   "source": [
    "### Построим точечный график стоимостей заказов"
   ]
  },
  {
   "cell_type": "code",
   "execution_count": 22,
   "metadata": {},
   "outputs": [
    {
     "data": {
      "text/plain": [
       "Text(0.5, 1.0, 'Точечный график стоимстей заказов')"
      ]
     },
     "execution_count": 22,
     "metadata": {},
     "output_type": "execute_result"
    },
    {
     "data": {
      "image/png": "[encoded data removed]",
      "text/plain": [
       "<Figure size 1440x720 with 1 Axes>"
      ]
     },
     "metadata": {},
     "output_type": "display_data"
    }
   ],
   "source": [
    "x_values = pd.Series(range(0, len(orders['revenue'])))\n",
    "plt.scatter(x_values, orders['revenue'])\n",
    "plt.title('Точечный график стоимстей заказов')"
   ]
  },
  {
   "cell_type": "markdown",
   "metadata": {},
   "source": [
    "Есть как минимум два явных выброса, один из которых очень сильно превышает основную массу заказов."
   ]
  },
  {
   "cell_type": "code",
   "execution_count": 23,
   "metadata": {},
   "outputs": [
    {
     "data": {
      "text/plain": [
       "(0.0, 100000.0)"
      ]
     },
     "execution_count": 23,
     "metadata": {},
     "output_type": "execute_result"
    },
    {
     "data": {
      "image/png": "[encoded data removed]",
      "text/plain": [
       "<Figure size 1440x720 with 1 Axes>"
      ]
     },
     "metadata": {},
     "output_type": "display_data"
    }
   ],
   "source": [
    "#посмотрим подробнее значения от 0 до 100000\n",
    "plt.scatter(x_values, orders['revenue'])\n",
    "plt.ylim(0, 100000)"
   ]
  },
  {
   "cell_type": "markdown",
   "metadata": {},
   "source": [
    "### Посчитем 95-й и 99-й перцентили стоимости заказов"
   ]
  },
  {
   "cell_type": "code",
   "execution_count": 24,
   "metadata": {},
   "outputs": [
    {
     "data": {
      "text/plain": [
       "array([26785., 53904.])"
      ]
     },
     "execution_count": 24,
     "metadata": {},
     "output_type": "execute_result"
    }
   ],
   "source": [
    "np.percentile(orders['revenue'], [95, 99])"
   ]
  },
  {
   "cell_type": "markdown",
   "metadata": {},
   "source": [
    "Не более 5% заказов на сумму выше 26785, не более 1% заказов на сумму выше 53904. Примем за аномальные те заказы, сумма которых превышает 53904,на графике в районе этого значения в основновном единичные заказы, так мы исключим 1% заказов."
   ]
  },
  {
   "cell_type": "markdown",
   "metadata": {},
   "source": [
    "### Посчитаем статистическую значимость различий в среднем количестве заказов на посетителя между группами по «сырым» данным"
   ]
  },
  {
   "cell_type": "markdown",
   "metadata": {},
   "source": [
    "Нулевая гипотеза: статистически значимых отличий в среднем числе заказов между группами нет\n",
    "\n",
    "Альтернативная гипотеза: есть статистически значимые отличия в среднем числе заказов между группами\n",
    "\n",
    "Уровень статистической значимости: 0.05"
   ]
  },
  {
   "cell_type": "code",
   "execution_count": 25,
   "metadata": {},
   "outputs": [
    {
     "name": "stdout",
     "output_type": "stream",
     "text": [
      "p-value: 0.011\n",
      "Относительный прирост конверсии группы B по отношению к группе A: 0.160\n"
     ]
    }
   ],
   "source": [
    "ordersByUsersA = (\n",
    "    orders[orders['group'] == 'A']\n",
    "    .groupby('visitorId', as_index=False)\n",
    "    .agg({'transactionId': pd.Series.nunique})\n",
    ")\n",
    "ordersByUsersA.columns = ['userId', 'orders']\n",
    "\n",
    "ordersByUsersB = (\n",
    "    orders[orders['group'] == 'B']\n",
    "    .groupby('visitorId', as_index=False)\n",
    "    .agg({'transactionId': pd.Series.nunique})\n",
    ")\n",
    "ordersByUsersB.columns = ['userId', 'orders']\n",
    "\n",
    "sampleA = pd.concat(\n",
    "    [\n",
    "        ordersByUsersA['orders'],\n",
    "        pd.Series(\n",
    "            0,\n",
    "            index=np.arange(\n",
    "                cumulativeData[cumulativeData['group'] == 'A']['visitors'].max() - len(ordersByUsersA['orders'])\n",
    "            ),\n",
    "            name='orders',\n",
    "        ),\n",
    "    ],\n",
    "    axis=0,\n",
    ")\n",
    "\n",
    "sampleB = pd.concat(\n",
    "    [\n",
    "        ordersByUsersB['orders'],\n",
    "        pd.Series(\n",
    "            0,\n",
    "            index=np.arange(\n",
    "                cumulativeData[cumulativeData['group'] == 'B']['visitors'].max() - len(ordersByUsersB['orders'])\n",
    "            ),\n",
    "            name='orders',\n",
    "        ),\n",
    "    ],\n",
    "    axis=0,\n",
    ")\n",
    "\n",
    "print('p-value:', \"{0:.3f}\".format(stats.mannwhitneyu(sampleA, sampleB)[1]))\n",
    "\n",
    "print('Относительный прирост конверсии группы B по отношению к группе A:', \"{0:.3f}\".format(sampleB.mean() / sampleA.mean() - 1))"
   ]
  },
  {
   "cell_type": "markdown",
   "metadata": {},
   "source": [
    "p-value: 0.011, меньше статистической значимости, значит нулевую гипотезу отвергаем. Различия в среднем количестве заказов между группами есть.\n",
    "Относительны прирост группы В составляет 16%."
   ]
  },
  {
   "cell_type": "markdown",
   "metadata": {},
   "source": [
    "### Посчитаем статистическую значимость различий в среднем чеке заказа между группами по «сырым» данным"
   ]
  },
  {
   "cell_type": "markdown",
   "metadata": {},
   "source": [
    "Нулевая гипотеза: статистически значимых отличий в среднем чеке заказа между группами нет\n",
    "\n",
    "Альтернативная гипотеза: есть статистически значимые отличия в среднем чеке заказа между группами\n",
    "\n",
    "Уровень статистической значимости: 0.05"
   ]
  },
  {
   "cell_type": "code",
   "execution_count": 26,
   "metadata": {},
   "outputs": [
    {
     "name": "stdout",
     "output_type": "stream",
     "text": [
      "p-value: 0.829\n",
      "Относительный прирост конверсии группы B по отношению к группе A: 0.287\n"
     ]
    }
   ],
   "source": [
    "print('p-value:', '{0:.3f}'.format(stats.mannwhitneyu(orders[orders['group']=='A']['revenue'], orders[orders['group']=='B']['revenue'])[1]))\n",
    "print('Относительный прирост конверсии группы B по отношению к группе A:', '{0:.3f}'.format(orders[orders['group']=='B']['revenue'].mean()/orders[orders['group']=='A']['revenue'].mean()-1)) "
   ]
  },
  {
   "cell_type": "markdown",
   "metadata": {},
   "source": [
    "p-value: 0.829, больше статистической значимости, значит нулевую гипотезу не отвергаем. Различий в среднем чеке заказа между группами нет. Относительны прирост группы В составляет 28,7%."
   ]
  },
  {
   "cell_type": "markdown",
   "metadata": {},
   "source": [
    "### Посчитаем статистическую значимость различий в среднем количестве заказов на посетителя между группами по «очищенным» данным"
   ]
  },
  {
   "cell_type": "markdown",
   "metadata": {},
   "source": [
    "Сначала уберём из данных выбросы и аномалии."
   ]
  },
  {
   "cell_type": "code",
   "execution_count": 27,
   "metadata": {},
   "outputs": [],
   "source": [
    "usersWithManyOrders = pd.concat(\n",
    "    [\n",
    "        ordersByUsersA[ordersByUsersA['orders'] > np.percentile(orders_agg['orders'], 95)]['userId'],\n",
    "        ordersByUsersB[ordersByUsersB['orders'] > np.percentile(orders_agg['orders'], 95)]['userId'],\n",
    "    ],\n",
    "    axis=0,\n",
    ")\n",
    "usersWithExpensiveOrders = orders[orders['revenue'] > np.percentile(orders['revenue'], 99)]['visitorId']\n",
    "abnormalUsers = (\n",
    "    pd.concat([usersWithManyOrders, usersWithExpensiveOrders], axis=0)\n",
    "    .drop_duplicates()\n",
    "    .sort_values()\n",
    ")"
   ]
  },
  {
   "cell_type": "markdown",
   "metadata": {},
   "source": [
    "Нулевая гипотеза: статистически значимых отличий в среднем числе заказов между группами нет\n",
    "\n",
    "Альтернативная гипотеза: есть статистически значимые отличия в среднем числе заказов между группами\n",
    "\n",
    "Уровень статистической значимости: 0.05"
   ]
  },
  {
   "cell_type": "code",
   "execution_count": 28,
   "metadata": {},
   "outputs": [
    {
     "name": "stdout",
     "output_type": "stream",
     "text": [
      "p-value: 0.008\n",
      "Относительный прирост конверсии группы B по отношению к группе A: 0.188\n"
     ]
    }
   ],
   "source": [
    "sampleAFiltered = pd.concat(\n",
    "    [\n",
    "        ordersByUsersA[\n",
    "            np.logical_not(ordersByUsersA['userId'].isin(abnormalUsers))\n",
    "        ]['orders'],\n",
    "        pd.Series(\n",
    "            0,\n",
    "            index=np.arange(\n",
    "                cumulativeData[cumulativeData['group'] == 'A']['visitors'].max() - len(ordersByUsersA['orders'])\n",
    "            ),\n",
    "            name='orders',\n",
    "        ),\n",
    "    ],\n",
    "    axis=0,\n",
    ")\n",
    "\n",
    "sampleBFiltered = pd.concat(\n",
    "    [\n",
    "        ordersByUsersB[\n",
    "            np.logical_not(ordersByUsersB['userId'].isin(abnormalUsers))\n",
    "        ]['orders'],\n",
    "        pd.Series(\n",
    "            0,\n",
    "            index=np.arange(\n",
    "                cumulativeData[cumulativeData['group'] == 'B']['visitors'].max() - len(ordersByUsersB['orders'])\n",
    "            ),\n",
    "            name='orders',\n",
    "        ),\n",
    "    ],\n",
    "    axis=0,\n",
    ") \n",
    "\n",
    "print('p-value:', '{0:.3f}'.format(stats.mannwhitneyu(sampleAFiltered, sampleBFiltered)[1]))\n",
    "print('Относительный прирост конверсии группы B по отношению к группе A:', '{0:.3f}'.format(sampleBFiltered.mean()/sampleAFiltered.mean()-1)) "
   ]
  },
  {
   "cell_type": "markdown",
   "metadata": {},
   "source": [
    "p-value: 0.008, меньше статистической значимости, значит нулевую гипотезу отвергаем. Различия в среднем количестве заказов между группами есть. Относительны прирост группы В составляет 18,8%.\n",
    "\n",
    "Результаты по среднему количеству заказов практически не изменились."
   ]
  },
  {
   "cell_type": "markdown",
   "metadata": {},
   "source": [
    "### Посчитаем статистическую значимость различий в среднем чеке заказа между группами по «очищенным» данным"
   ]
  },
  {
   "cell_type": "markdown",
   "metadata": {},
   "source": [
    "Нулевая гипотеза: статистически значимых отличий в среднем чеке заказа между группами нет\n",
    "\n",
    "Альтернативная гипотеза: есть статистически значимые отличия в среднем чеке заказа между группами\n",
    "\n",
    "Уровень статистической значимости: 0.05"
   ]
  },
  {
   "cell_type": "code",
   "execution_count": 29,
   "metadata": {},
   "outputs": [
    {
     "name": "stdout",
     "output_type": "stream",
     "text": [
      "p-value: 0.969\n",
      "Относительный прирост конверсии группы B по отношению к группе A: 0.002\n"
     ]
    }
   ],
   "source": [
    "print(\n",
    "    'p-value:', '{0:.3f}'.format(\n",
    "        stats.mannwhitneyu(\n",
    "            orders[\n",
    "                np.logical_and(\n",
    "                    orders['group'] == 'A',\n",
    "                    np.logical_not(orders['visitorId'].isin(abnormalUsers)),\n",
    "                )\n",
    "            ]['revenue'],\n",
    "            orders[\n",
    "                np.logical_and(\n",
    "                    orders['group'] == 'B',\n",
    "                    np.logical_not(orders['visitorId'].isin(abnormalUsers)),\n",
    "                )\n",
    "            ]['revenue'],\n",
    "        )[1]\n",
    "    )\n",
    ")\n",
    "\n",
    "print(\n",
    "    'Относительный прирост конверсии группы B по отношению к группе A:', \"{0:.3f}\".format(\n",
    "        orders[\n",
    "            np.logical_and(\n",
    "                orders['group'] == 'B',\n",
    "                np.logical_not(orders['visitorId'].isin(abnormalUsers)),\n",
    "            )\n",
    "        ]['revenue'].mean()\n",
    "        / orders[\n",
    "            np.logical_and(\n",
    "                orders['group'] == 'A',\n",
    "                np.logical_not(orders['visitorId'].isin(abnormalUsers)),\n",
    "            )\n",
    "        ]['revenue'].mean()\n",
    "        - 1\n",
    "    )\n",
    ") "
   ]
  },
  {
   "cell_type": "markdown",
   "metadata": {},
   "source": [
    "p-value: 0.969, больше статистической значимости, значит нулевую гипотезу не отвергаем. Различий в среднем чеке заказа между группами нет. Относительны прирост группы В составляет 2%.\n",
    "\n",
    "p-value после очистки данных увеличился, при этом относительный прирост группы B сократился с 25% до 2%."
   ]
  },
  {
   "cell_type": "markdown",
   "metadata": {},
   "source": [
    "## Выводы"
   ]
  },
  {
   "cell_type": "markdown",
   "metadata": {},
   "source": [
    "Мы приоритизировали гипотезы для увелечения выручки, выдвинутые совместно с отделом маркетинга. Для этого мы использовали фреймворки ICE и RICE, в первом случае самой перспективной оказалась гипотеза запуска акции, которая даёт скидку на товар в день рождения, но во втором случае, с учётом количества охваченных пользователей лидером стала гипотеза по добавлению формы подписки на все основные страницы, чтобы собрать базу клиентов для email-рассылок.\n",
    "\n",
    "При проведении А/В-теста были обнаружены такие особенности:\n",
    "\n",
    "- Нет статистически значимого различия по среднему чеку между группами ни по «сырым», ни по данным после фильтрации аномалий;\n",
    "\n",
    "- Статистически значимые различия наблюдаются по среднему количеству заказов между группами и по «сырым», и по данным после фильтрации аномалий. В группе В средний прирост количества заказов после фильтрации составляет 18.8%;\n",
    "\n",
    "- График различия среднего количества заказов между группами сообщает, что результаты группы B выше группы A;\n",
    "\n",
    "- График различия среднего чека практически на протяжении всего теста у группы В выше, чем у группы А.\n",
    "\n",
    "Исходя из обнаруженных фактов, тест следует остановить и зафиксировать победу группы В."
   ]
  }
 ],
 "metadata": {
  "ExecuteTimeLog": [
   {
    "duration": 411,
    "start_time": "2023-07-21T11:27:31.154Z"
   },
   {
    "duration": 70,
    "start_time": "2023-07-21T11:30:09.738Z"
   },
   {
    "duration": 38,
    "start_time": "2023-07-21T11:30:44.242Z"
   },
   {
    "duration": 31,
    "start_time": "2023-07-21T11:30:59.318Z"
   },
   {
    "duration": 31,
    "start_time": "2023-07-21T11:31:06.288Z"
   },
   {
    "duration": 31,
    "start_time": "2023-07-21T11:31:55.786Z"
   },
   {
    "duration": 13,
    "start_time": "2023-07-21T11:37:47.366Z"
   },
   {
    "duration": 11,
    "start_time": "2023-07-21T11:38:03.556Z"
   },
   {
    "duration": 28,
    "start_time": "2023-07-21T11:51:51.801Z"
   },
   {
    "duration": 28,
    "start_time": "2023-07-21T11:52:43.719Z"
   },
   {
    "duration": 28,
    "start_time": "2023-07-21T11:53:37.556Z"
   },
   {
    "duration": 31,
    "start_time": "2023-07-21T11:53:48.382Z"
   },
   {
    "duration": 5,
    "start_time": "2023-07-21T11:54:18.005Z"
   },
   {
    "duration": 361,
    "start_time": "2023-07-21T11:56:07.465Z"
   },
   {
    "duration": 38,
    "start_time": "2023-07-21T11:56:07.828Z"
   },
   {
    "duration": 5,
    "start_time": "2023-07-21T11:56:07.867Z"
   },
   {
    "duration": 16,
    "start_time": "2023-07-21T11:56:07.873Z"
   },
   {
    "duration": 11,
    "start_time": "2023-07-21T11:57:53.783Z"
   },
   {
    "duration": 86,
    "start_time": "2023-07-21T12:21:27.971Z"
   },
   {
    "duration": 66,
    "start_time": "2023-07-21T12:22:01.745Z"
   },
   {
    "duration": 31,
    "start_time": "2023-07-21T12:22:18.800Z"
   },
   {
    "duration": 898,
    "start_time": "2023-07-21T12:24:12.698Z"
   },
   {
    "duration": 40,
    "start_time": "2023-07-21T12:24:13.598Z"
   },
   {
    "duration": 4,
    "start_time": "2023-07-21T12:24:13.641Z"
   },
   {
    "duration": 33,
    "start_time": "2023-07-21T12:24:13.648Z"
   },
   {
    "duration": 15,
    "start_time": "2023-07-21T12:24:13.683Z"
   },
   {
    "duration": 48,
    "start_time": "2023-07-21T12:24:13.699Z"
   },
   {
    "duration": 20,
    "start_time": "2023-07-21T12:24:13.749Z"
   },
   {
    "duration": 64,
    "start_time": "2023-07-21T12:31:43.044Z"
   },
   {
    "duration": 565,
    "start_time": "2023-07-21T12:32:03.837Z"
   },
   {
    "duration": 30,
    "start_time": "2023-07-21T12:32:14.558Z"
   },
   {
    "duration": 469,
    "start_time": "2023-07-21T12:32:53.124Z"
   },
   {
    "duration": 33,
    "start_time": "2023-07-21T12:33:15.207Z"
   },
   {
    "duration": 6,
    "start_time": "2023-07-21T12:34:14.978Z"
   },
   {
    "duration": 25,
    "start_time": "2023-07-21T12:35:14.363Z"
   },
   {
    "duration": 168,
    "start_time": "2023-07-21T12:36:19.191Z"
   },
   {
    "duration": 156,
    "start_time": "2023-07-21T12:42:35.981Z"
   },
   {
    "duration": 868,
    "start_time": "2023-07-21T12:42:44.000Z"
   },
   {
    "duration": 39,
    "start_time": "2023-07-21T12:42:44.870Z"
   },
   {
    "duration": 5,
    "start_time": "2023-07-21T12:42:44.910Z"
   },
   {
    "duration": 31,
    "start_time": "2023-07-21T12:42:44.916Z"
   },
   {
    "duration": 18,
    "start_time": "2023-07-21T12:42:44.950Z"
   },
   {
    "duration": 67,
    "start_time": "2023-07-21T12:42:44.970Z"
   },
   {
    "duration": 22,
    "start_time": "2023-07-21T12:42:45.039Z"
   },
   {
    "duration": 8,
    "start_time": "2023-07-21T12:42:45.062Z"
   },
   {
    "duration": 181,
    "start_time": "2023-07-21T12:42:45.072Z"
   },
   {
    "duration": 140,
    "start_time": "2023-07-21T12:43:49.494Z"
   },
   {
    "duration": 288,
    "start_time": "2023-07-21T12:45:07.509Z"
   },
   {
    "duration": 1261,
    "start_time": "2023-07-21T12:45:42.496Z"
   },
   {
    "duration": 104,
    "start_time": "2023-07-21T12:45:43.759Z"
   },
   {
    "duration": 5,
    "start_time": "2023-07-21T12:45:43.865Z"
   },
   {
    "duration": 32,
    "start_time": "2023-07-21T12:45:43.873Z"
   },
   {
    "duration": 20,
    "start_time": "2023-07-21T12:45:43.907Z"
   },
   {
    "duration": 85,
    "start_time": "2023-07-21T12:45:43.929Z"
   },
   {
    "duration": 22,
    "start_time": "2023-07-21T12:45:44.016Z"
   },
   {
    "duration": 54,
    "start_time": "2023-07-21T12:45:44.039Z"
   },
   {
    "duration": 199,
    "start_time": "2023-07-21T12:45:44.094Z"
   },
   {
    "duration": 135,
    "start_time": "2023-07-21T12:45:44.295Z"
   },
   {
    "duration": 308,
    "start_time": "2023-07-21T12:45:44.432Z"
   },
   {
    "duration": 350,
    "start_time": "2023-07-21T12:46:09.566Z"
   },
   {
    "duration": 180,
    "start_time": "2023-07-21T13:11:11.174Z"
   },
   {
    "duration": 322,
    "start_time": "2023-07-21T13:18:40.724Z"
   },
   {
    "duration": 198,
    "start_time": "2023-07-21T13:24:25.082Z"
   },
   {
    "duration": 323,
    "start_time": "2023-07-21T13:33:39.768Z"
   },
   {
    "duration": 138,
    "start_time": "2023-07-21T13:40:38.129Z"
   },
   {
    "duration": 135,
    "start_time": "2023-07-21T13:43:29.110Z"
   },
   {
    "duration": 8,
    "start_time": "2023-07-21T14:14:27.940Z"
   },
   {
    "duration": 120,
    "start_time": "2023-07-21T14:15:15.335Z"
   },
   {
    "duration": 1096,
    "start_time": "2023-07-21T14:17:24.396Z"
   },
   {
    "duration": 97,
    "start_time": "2023-07-21T14:17:25.494Z"
   },
   {
    "duration": 5,
    "start_time": "2023-07-21T14:17:25.593Z"
   },
   {
    "duration": 65,
    "start_time": "2023-07-21T14:17:25.600Z"
   },
   {
    "duration": 37,
    "start_time": "2023-07-21T14:17:25.668Z"
   },
   {
    "duration": 99,
    "start_time": "2023-07-21T14:17:25.708Z"
   },
   {
    "duration": 23,
    "start_time": "2023-07-21T14:17:25.809Z"
   },
   {
    "duration": 71,
    "start_time": "2023-07-21T14:17:25.834Z"
   },
   {
    "duration": 234,
    "start_time": "2023-07-21T14:17:25.907Z"
   },
   {
    "duration": 158,
    "start_time": "2023-07-21T14:17:26.144Z"
   },
   {
    "duration": 344,
    "start_time": "2023-07-21T14:17:26.304Z"
   },
   {
    "duration": 319,
    "start_time": "2023-07-21T14:17:26.650Z"
   },
   {
    "duration": 204,
    "start_time": "2023-07-21T14:17:26.970Z"
   },
   {
    "duration": 341,
    "start_time": "2023-07-21T14:17:27.177Z"
   },
   {
    "duration": 245,
    "start_time": "2023-07-21T14:17:27.520Z"
   },
   {
    "duration": 376,
    "start_time": "2023-07-21T14:17:27.767Z"
   },
   {
    "duration": 161,
    "start_time": "2023-07-21T14:17:28.146Z"
   },
   {
    "duration": 6,
    "start_time": "2023-07-21T14:18:23.150Z"
   },
   {
    "duration": 132,
    "start_time": "2023-07-21T14:30:56.156Z"
   },
   {
    "duration": 6,
    "start_time": "2023-07-21T14:35:47.050Z"
   },
   {
    "duration": 140,
    "start_time": "2023-07-21T14:45:16.373Z"
   },
   {
    "duration": 171,
    "start_time": "2023-07-21T14:45:25.597Z"
   },
   {
    "duration": 197,
    "start_time": "2023-07-21T14:45:31.893Z"
   },
   {
    "duration": 230,
    "start_time": "2023-07-21T14:52:57.659Z"
   },
   {
    "duration": 1100,
    "start_time": "2023-07-21T14:54:13.464Z"
   },
   {
    "duration": 88,
    "start_time": "2023-07-21T14:54:14.566Z"
   },
   {
    "duration": 4,
    "start_time": "2023-07-21T14:54:14.656Z"
   },
   {
    "duration": 26,
    "start_time": "2023-07-21T14:54:14.662Z"
   },
   {
    "duration": 19,
    "start_time": "2023-07-21T14:54:14.689Z"
   },
   {
    "duration": 74,
    "start_time": "2023-07-21T14:54:14.709Z"
   },
   {
    "duration": 21,
    "start_time": "2023-07-21T14:54:14.785Z"
   },
   {
    "duration": 44,
    "start_time": "2023-07-21T14:54:14.808Z"
   },
   {
    "duration": 201,
    "start_time": "2023-07-21T14:54:14.853Z"
   },
   {
    "duration": 126,
    "start_time": "2023-07-21T14:54:15.057Z"
   },
   {
    "duration": 278,
    "start_time": "2023-07-21T14:54:15.185Z"
   },
   {
    "duration": 263,
    "start_time": "2023-07-21T14:54:15.464Z"
   },
   {
    "duration": 187,
    "start_time": "2023-07-21T14:54:15.729Z"
   },
   {
    "duration": 274,
    "start_time": "2023-07-21T14:54:15.918Z"
   },
   {
    "duration": 200,
    "start_time": "2023-07-21T14:54:16.194Z"
   },
   {
    "duration": 328,
    "start_time": "2023-07-21T14:54:16.396Z"
   },
   {
    "duration": 127,
    "start_time": "2023-07-21T14:54:16.726Z"
   },
   {
    "duration": 5,
    "start_time": "2023-07-21T14:54:16.855Z"
   },
   {
    "duration": 152,
    "start_time": "2023-07-21T14:54:16.861Z"
   },
   {
    "duration": 168,
    "start_time": "2023-07-21T14:54:17.015Z"
   },
   {
    "duration": 5,
    "start_time": "2023-07-21T14:54:17.185Z"
   },
   {
    "duration": 160,
    "start_time": "2023-07-21T14:57:54.498Z"
   },
   {
    "duration": 115,
    "start_time": "2023-07-21T14:57:59.753Z"
   },
   {
    "duration": 163,
    "start_time": "2023-07-21T15:06:53.199Z"
   },
   {
    "duration": 12,
    "start_time": "2023-07-21T15:14:29.873Z"
   },
   {
    "duration": 1784,
    "start_time": "2023-07-21T15:19:52.062Z"
   },
   {
    "duration": 8,
    "start_time": "2023-07-21T15:20:24.536Z"
   },
   {
    "duration": 9,
    "start_time": "2023-07-21T15:21:34.266Z"
   },
   {
    "duration": 23,
    "start_time": "2023-07-21T15:21:50.288Z"
   },
   {
    "duration": 19,
    "start_time": "2023-07-21T15:24:39.291Z"
   },
   {
    "duration": 1121,
    "start_time": "2023-07-21T16:05:49.775Z"
   },
   {
    "duration": 93,
    "start_time": "2023-07-21T16:05:50.898Z"
   },
   {
    "duration": 4,
    "start_time": "2023-07-21T16:05:50.993Z"
   },
   {
    "duration": 46,
    "start_time": "2023-07-21T16:05:50.999Z"
   },
   {
    "duration": 33,
    "start_time": "2023-07-21T16:05:51.047Z"
   },
   {
    "duration": 55,
    "start_time": "2023-07-21T16:05:51.081Z"
   },
   {
    "duration": 21,
    "start_time": "2023-07-21T16:05:51.138Z"
   },
   {
    "duration": 9,
    "start_time": "2023-07-21T16:05:51.161Z"
   },
   {
    "duration": 207,
    "start_time": "2023-07-21T16:05:51.172Z"
   },
   {
    "duration": 126,
    "start_time": "2023-07-21T16:05:51.382Z"
   },
   {
    "duration": 306,
    "start_time": "2023-07-21T16:05:51.514Z"
   },
   {
    "duration": 271,
    "start_time": "2023-07-21T16:05:51.822Z"
   },
   {
    "duration": 189,
    "start_time": "2023-07-21T16:05:52.094Z"
   },
   {
    "duration": 314,
    "start_time": "2023-07-21T16:05:52.285Z"
   },
   {
    "duration": 214,
    "start_time": "2023-07-21T16:05:52.601Z"
   },
   {
    "duration": 318,
    "start_time": "2023-07-21T16:05:52.817Z"
   },
   {
    "duration": 135,
    "start_time": "2023-07-21T16:05:53.137Z"
   },
   {
    "duration": 5,
    "start_time": "2023-07-21T16:05:53.273Z"
   },
   {
    "duration": 150,
    "start_time": "2023-07-21T16:05:53.280Z"
   },
   {
    "duration": 138,
    "start_time": "2023-07-21T16:05:53.432Z"
   },
   {
    "duration": 4,
    "start_time": "2023-07-21T16:05:53.572Z"
   },
   {
    "duration": 193,
    "start_time": "2023-07-21T16:05:53.578Z"
   },
   {
    "duration": 11,
    "start_time": "2023-07-21T16:05:53.772Z"
   },
   {
    "duration": 8,
    "start_time": "2023-07-21T16:05:53.785Z"
   },
   {
    "duration": 27,
    "start_time": "2023-07-21T16:05:53.795Z"
   },
   {
    "duration": 49,
    "start_time": "2023-07-21T16:05:53.823Z"
   },
   {
    "duration": 16,
    "start_time": "2023-07-21T16:05:53.874Z"
   },
   {
    "duration": 1118,
    "start_time": "2023-07-21T16:13:24.504Z"
   },
   {
    "duration": 98,
    "start_time": "2023-07-21T16:13:25.624Z"
   },
   {
    "duration": 5,
    "start_time": "2023-07-21T16:13:25.724Z"
   },
   {
    "duration": 48,
    "start_time": "2023-07-21T16:13:25.731Z"
   },
   {
    "duration": 34,
    "start_time": "2023-07-21T16:13:25.781Z"
   },
   {
    "duration": 92,
    "start_time": "2023-07-21T16:13:25.817Z"
   },
   {
    "duration": 24,
    "start_time": "2023-07-21T16:13:25.910Z"
   },
   {
    "duration": 24,
    "start_time": "2023-07-21T16:13:25.936Z"
   },
   {
    "duration": 209,
    "start_time": "2023-07-21T16:13:25.962Z"
   },
   {
    "duration": 146,
    "start_time": "2023-07-21T16:13:26.174Z"
   },
   {
    "duration": 299,
    "start_time": "2023-07-21T16:13:26.322Z"
   },
   {
    "duration": 280,
    "start_time": "2023-07-21T16:13:26.623Z"
   },
   {
    "duration": 206,
    "start_time": "2023-07-21T16:13:26.904Z"
   },
   {
    "duration": 290,
    "start_time": "2023-07-21T16:13:27.113Z"
   },
   {
    "duration": 216,
    "start_time": "2023-07-21T16:13:27.412Z"
   },
   {
    "duration": 312,
    "start_time": "2023-07-21T16:13:27.630Z"
   },
   {
    "duration": 135,
    "start_time": "2023-07-21T16:13:27.944Z"
   },
   {
    "duration": 6,
    "start_time": "2023-07-21T16:13:28.081Z"
   },
   {
    "duration": 181,
    "start_time": "2023-07-21T16:13:28.090Z"
   },
   {
    "duration": 140,
    "start_time": "2023-07-21T16:13:28.273Z"
   },
   {
    "duration": 6,
    "start_time": "2023-07-21T16:13:28.415Z"
   },
   {
    "duration": 214,
    "start_time": "2023-07-21T16:13:28.422Z"
   },
   {
    "duration": 12,
    "start_time": "2023-07-21T16:13:28.638Z"
   },
   {
    "duration": 35,
    "start_time": "2023-07-21T16:13:28.652Z"
   },
   {
    "duration": 29,
    "start_time": "2023-07-21T16:13:28.688Z"
   },
   {
    "duration": 43,
    "start_time": "2023-07-21T16:13:28.719Z"
   },
   {
    "duration": 13,
    "start_time": "2023-07-21T16:13:28.764Z"
   },
   {
    "duration": 12,
    "start_time": "2023-07-21T17:11:12.994Z"
   },
   {
    "duration": 1107,
    "start_time": "2023-07-21T17:11:52.108Z"
   },
   {
    "duration": 90,
    "start_time": "2023-07-21T17:11:53.743Z"
   },
   {
    "duration": 5,
    "start_time": "2023-07-21T17:11:54.191Z"
   },
   {
    "duration": 16,
    "start_time": "2023-07-21T17:11:56.631Z"
   },
   {
    "duration": 12,
    "start_time": "2023-07-21T17:15:32.545Z"
   },
   {
    "duration": 63,
    "start_time": "2023-07-21T17:15:36.610Z"
   },
   {
    "duration": 22,
    "start_time": "2023-07-21T17:15:36.985Z"
   },
   {
    "duration": 8,
    "start_time": "2023-07-21T17:15:38.311Z"
   },
   {
    "duration": 179,
    "start_time": "2023-07-21T17:15:38.609Z"
   },
   {
    "duration": 128,
    "start_time": "2023-07-21T17:15:39.047Z"
   },
   {
    "duration": 311,
    "start_time": "2023-07-21T17:15:40.829Z"
   },
   {
    "duration": 12,
    "start_time": "2023-07-21T17:17:55.773Z"
   },
   {
    "duration": 6,
    "start_time": "2023-07-21T17:19:38.872Z"
   },
   {
    "duration": 6,
    "start_time": "2023-07-21T17:20:28.765Z"
   },
   {
    "duration": 271,
    "start_time": "2023-07-21T17:21:57.325Z"
   },
   {
    "duration": 277,
    "start_time": "2023-07-21T17:23:09.662Z"
   },
   {
    "duration": 213,
    "start_time": "2023-07-21T17:23:45.379Z"
   },
   {
    "duration": 284,
    "start_time": "2023-07-21T17:24:40.208Z"
   },
   {
    "duration": 60,
    "start_time": "2023-07-21T17:25:10.053Z"
   },
   {
    "duration": 1160,
    "start_time": "2023-07-21T17:25:20.258Z"
   },
   {
    "duration": 36,
    "start_time": "2023-07-21T17:25:21.420Z"
   },
   {
    "duration": 5,
    "start_time": "2023-07-21T17:25:21.843Z"
   },
   {
    "duration": 16,
    "start_time": "2023-07-21T17:25:23.333Z"
   },
   {
    "duration": 12,
    "start_time": "2023-07-21T17:25:24.675Z"
   },
   {
    "duration": 62,
    "start_time": "2023-07-21T17:25:26.754Z"
   },
   {
    "duration": 22,
    "start_time": "2023-07-21T17:25:27.271Z"
   },
   {
    "duration": 6,
    "start_time": "2023-07-21T17:25:29.210Z"
   },
   {
    "duration": 190,
    "start_time": "2023-07-21T17:25:29.823Z"
   },
   {
    "duration": 122,
    "start_time": "2023-07-21T17:25:30.536Z"
   },
   {
    "duration": 298,
    "start_time": "2023-07-21T17:25:31.638Z"
   },
   {
    "duration": 8,
    "start_time": "2023-07-21T17:25:32.616Z"
   },
   {
    "duration": 5,
    "start_time": "2023-07-21T17:25:34.607Z"
   },
   {
    "duration": 284,
    "start_time": "2023-07-21T17:25:41.089Z"
   },
   {
    "duration": 394,
    "start_time": "2023-07-21T17:25:51.923Z"
   },
   {
    "duration": 3,
    "start_time": "2023-07-21T17:27:05.199Z"
   },
   {
    "duration": 4,
    "start_time": "2023-07-21T17:27:10.391Z"
   },
   {
    "duration": 1188,
    "start_time": "2023-07-21T17:27:25.517Z"
   },
   {
    "duration": 36,
    "start_time": "2023-07-21T17:27:26.707Z"
   },
   {
    "duration": 4,
    "start_time": "2023-07-21T17:27:26.744Z"
   },
   {
    "duration": 12,
    "start_time": "2023-07-21T17:27:27.757Z"
   },
   {
    "duration": 12,
    "start_time": "2023-07-21T17:27:29.272Z"
   },
   {
    "duration": 63,
    "start_time": "2023-07-21T17:27:31.108Z"
   },
   {
    "duration": 24,
    "start_time": "2023-07-21T17:27:31.597Z"
   },
   {
    "duration": 7,
    "start_time": "2023-07-21T17:27:32.223Z"
   },
   {
    "duration": 182,
    "start_time": "2023-07-21T17:27:32.451Z"
   },
   {
    "duration": 134,
    "start_time": "2023-07-21T17:27:33.151Z"
   },
   {
    "duration": 321,
    "start_time": "2023-07-21T17:27:33.416Z"
   },
   {
    "duration": 9,
    "start_time": "2023-07-21T17:27:33.740Z"
   },
   {
    "duration": 5,
    "start_time": "2023-07-21T17:27:34.054Z"
   },
   {
    "duration": 446,
    "start_time": "2023-07-21T17:27:35.435Z"
   },
   {
    "duration": 320,
    "start_time": "2023-07-21T17:28:12.688Z"
   },
   {
    "duration": 1236,
    "start_time": "2023-07-21T17:28:38.490Z"
   },
   {
    "duration": 38,
    "start_time": "2023-07-21T17:28:39.730Z"
   },
   {
    "duration": 41,
    "start_time": "2023-07-21T17:28:39.770Z"
   },
   {
    "duration": 17,
    "start_time": "2023-07-21T17:28:40.485Z"
   },
   {
    "duration": 16,
    "start_time": "2023-07-21T17:28:41.618Z"
   },
   {
    "duration": 64,
    "start_time": "2023-07-21T17:28:43.279Z"
   },
   {
    "duration": 23,
    "start_time": "2023-07-21T17:28:43.867Z"
   },
   {
    "duration": 7,
    "start_time": "2023-07-21T17:28:44.415Z"
   },
   {
    "duration": 173,
    "start_time": "2023-07-21T17:28:44.656Z"
   },
   {
    "duration": 129,
    "start_time": "2023-07-21T17:28:45.046Z"
   },
   {
    "duration": 293,
    "start_time": "2023-07-21T17:28:45.370Z"
   },
   {
    "duration": 11,
    "start_time": "2023-07-21T17:28:45.665Z"
   },
   {
    "duration": 6,
    "start_time": "2023-07-21T17:28:47.468Z"
   },
   {
    "duration": 3,
    "start_time": "2023-07-21T17:29:23.329Z"
   },
   {
    "duration": 441,
    "start_time": "2023-07-21T17:29:24.551Z"
   },
   {
    "duration": 385,
    "start_time": "2023-07-21T17:30:31.617Z"
   },
   {
    "duration": 436,
    "start_time": "2023-07-21T17:31:12.939Z"
   },
   {
    "duration": 457,
    "start_time": "2023-07-21T17:31:46.205Z"
   },
   {
    "duration": 423,
    "start_time": "2023-07-21T17:33:14.144Z"
   },
   {
    "duration": 444,
    "start_time": "2023-07-21T17:33:58.351Z"
   },
   {
    "duration": 217,
    "start_time": "2023-07-21T17:34:28.885Z"
   },
   {
    "duration": 6,
    "start_time": "2023-07-21T17:35:53.393Z"
   },
   {
    "duration": 231,
    "start_time": "2023-07-21T17:43:28.802Z"
   },
   {
    "duration": 311,
    "start_time": "2023-07-21T17:44:18.475Z"
   },
   {
    "duration": 213,
    "start_time": "2023-07-21T17:44:43.096Z"
   },
   {
    "duration": 5,
    "start_time": "2023-07-21T17:44:56.110Z"
   },
   {
    "duration": 181,
    "start_time": "2023-07-21T17:49:48.914Z"
   },
   {
    "duration": 11,
    "start_time": "2023-07-21T17:53:15.067Z"
   },
   {
    "duration": 132,
    "start_time": "2023-07-21T18:00:12.860Z"
   },
   {
    "duration": 11,
    "start_time": "2023-07-21T18:06:27.969Z"
   },
   {
    "duration": 13,
    "start_time": "2023-07-21T18:07:44.768Z"
   },
   {
    "duration": 24,
    "start_time": "2023-07-21T18:07:54.244Z"
   },
   {
    "duration": 30,
    "start_time": "2023-07-21T18:10:27.874Z"
   },
   {
    "duration": 43,
    "start_time": "2023-07-21T18:11:55.133Z"
   },
   {
    "duration": 16,
    "start_time": "2023-07-21T18:15:20.699Z"
   },
   {
    "duration": 15,
    "start_time": "2023-07-21T18:16:45.930Z"
   },
   {
    "duration": 1248,
    "start_time": "2023-07-21T18:19:56.051Z"
   },
   {
    "duration": 36,
    "start_time": "2023-07-21T18:19:57.302Z"
   },
   {
    "duration": 17,
    "start_time": "2023-07-21T18:19:57.340Z"
   },
   {
    "duration": 29,
    "start_time": "2023-07-21T18:19:57.359Z"
   },
   {
    "duration": 11,
    "start_time": "2023-07-21T18:19:57.390Z"
   },
   {
    "duration": 94,
    "start_time": "2023-07-21T18:19:57.403Z"
   },
   {
    "duration": 23,
    "start_time": "2023-07-21T18:19:57.499Z"
   },
   {
    "duration": 7,
    "start_time": "2023-07-21T18:19:57.524Z"
   },
   {
    "duration": 206,
    "start_time": "2023-07-21T18:19:57.533Z"
   },
   {
    "duration": 149,
    "start_time": "2023-07-21T18:19:57.742Z"
   },
   {
    "duration": 352,
    "start_time": "2023-07-21T18:19:57.893Z"
   },
   {
    "duration": 10,
    "start_time": "2023-07-21T18:19:58.247Z"
   },
   {
    "duration": 25,
    "start_time": "2023-07-21T18:19:58.258Z"
   },
   {
    "duration": 7,
    "start_time": "2023-07-21T18:19:58.285Z"
   },
   {
    "duration": 460,
    "start_time": "2023-07-21T18:19:58.293Z"
   },
   {
    "duration": 378,
    "start_time": "2023-07-21T18:19:58.755Z"
   },
   {
    "duration": 433,
    "start_time": "2023-07-21T18:19:59.135Z"
   },
   {
    "duration": 509,
    "start_time": "2023-07-21T18:19:59.570Z"
   },
   {
    "duration": 512,
    "start_time": "2023-07-21T18:20:00.081Z"
   },
   {
    "duration": 240,
    "start_time": "2023-07-21T18:20:00.595Z"
   },
   {
    "duration": 6,
    "start_time": "2023-07-21T18:20:00.837Z"
   },
   {
    "duration": 298,
    "start_time": "2023-07-21T18:20:00.844Z"
   },
   {
    "duration": 234,
    "start_time": "2023-07-21T18:20:01.143Z"
   },
   {
    "duration": 5,
    "start_time": "2023-07-21T18:20:01.379Z"
   },
   {
    "duration": 312,
    "start_time": "2023-07-21T18:20:01.386Z"
   },
   {
    "duration": 48,
    "start_time": "2023-07-21T18:20:01.700Z"
   },
   {
    "duration": 55,
    "start_time": "2023-07-21T18:20:01.750Z"
   },
   {
    "duration": 109,
    "start_time": "2023-07-21T18:20:01.808Z"
   },
   {
    "duration": 144,
    "start_time": "2023-07-21T18:20:01.919Z"
   }
  ],
  "kernelspec": {
   "display_name": "Python 3 (ipykernel)",
   "language": "python",
   "name": "python3"
  },
  "language_info": {
   "codemirror_mode": {
    "name": "ipython",
    "version": 3
   },
   "file_extension": ".py",
   "mimetype": "text/x-python",
   "name": "python",
   "nbconvert_exporter": "python",
   "pygments_lexer": "ipython3",
   "version": "3.9.13"
  },
  "toc": {
   "base_numbering": 1,
   "nav_menu": {},
   "number_sections": true,
   "sideBar": true,
   "skip_h1_title": true,
   "title_cell": "Table of Contents",
   "title_sidebar": "Contents",
   "toc_cell": false,
   "toc_position": {},
   "toc_section_display": true,
   "toc_window_display": false
  }
 },
 "nbformat": 4,
 "nbformat_minor": 2
}
