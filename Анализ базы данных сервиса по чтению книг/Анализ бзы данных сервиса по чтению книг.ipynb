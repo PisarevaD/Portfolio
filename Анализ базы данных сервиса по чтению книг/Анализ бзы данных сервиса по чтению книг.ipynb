{
 "cells": [
  {
   "cell_type": "markdown",
   "metadata": {
    "id": "lGfRoa-hM4eB"
   },
   "source": [
    "# Проект по SQL\n",
    "\n"
   ]
  },
  {
   "cell_type": "markdown",
   "metadata": {
    "id": "06aoC2_WNST4"
   },
   "source": [
    "Цель исследования: проанализировать базу данных сервиса для чтения книг по подписке. Исследуем данные и ответим на ключевые вопросы:\n",
    "- Сколько книг вышло после 1 января 2000 года;\n",
    "- Посчитаем количество обзоров и среднюю оценку для каждой книги;\n",
    "- Определим издательство, которое выпустило наибольшее число книг толще\n",
    "50 страниц — так вы исключите из анализа брошюры;\n",
    "- Определим автора с самой высокой средней оценкой книг (учитывать\n",
    "только книги с 50 и более оценками);\n",
    "- Посчитаем среднее количество обзоров от пользователей, которые поставили\n",
    "больше 48 оценок."
   ]
  },
  {
   "cell_type": "markdown",
   "metadata": {
    "id": "7oPzdIT_ORd-"
   },
   "source": [
    "## Знакомство с данными"
   ]
  },
  {
   "cell_type": "markdown",
   "metadata": {
    "id": "7XhOBzpPOVnv"
   },
   "source": [
    "Импортирем библиотеки и получим доступ к базе данных."
   ]
  },
  {
   "cell_type": "code",
   "execution_count": 1,
   "metadata": {},
   "outputs": [],
   "source": [
    "# импортируем библиотеки\n",
    "import pandas as pd\n",
    "import sqlalchemy as sa"
   ]
  },
  {
   "cell_type": "code",
   "execution_count": 2,
   "metadata": {
    "id": "b_q86iBJM1fu"
   },
   "outputs": [],
   "source": [
    "# устанавливаем параметры\n",
    "db_config = {\n",
    "    'user': 'praktikum_student', # имя пользователя\n",
    "    'pwd': 'Sdf4$2;d-d30pp', # пароль\n",
    "    'host': 'rc1b-wcoijxj3yxfsf3fs.mdb.yandexcloud.net',\n",
    "    'port': 6432, # порт подключения\n",
    "    'db': 'data-analyst-final-project-db' # название базы данных\n",
    "}\n",
    "connection_string = 'postgresql://{user}:{pwd}@{host}:{port}/{db}'.format(**db_config)\n",
    "\n",
    "# сохраняем коннектор\n",
    "engine = sa.create_engine(connection_string, connect_args={'sslmode':'require'})"
   ]
  },
  {
   "cell_type": "code",
   "execution_count": 3,
   "metadata": {},
   "outputs": [],
   "source": [
    "# чтобы выполнить SQL-запрос, пишем функцию с использованием Pandas\n",
    "def get_sql_data(query:str, engine:sa.engine.base.Engine=engine) -> pd.DataFrame:\n",
    "  '''Открываем соединение, получаем данные из sql, закрываем соединение'''\n",
    "  with engine.connect() as con:\n",
    "    return pd.read_sql(sql=sa.text(query), con = con)"
   ]
  },
  {
   "cell_type": "markdown",
   "metadata": {
    "id": "PtZZerGIPPHb"
   },
   "source": [
    "Выведем первые строки каждой таблицы и посчитаем строки в каждой из них"
   ]
  },
  {
   "cell_type": "markdown",
   "metadata": {
    "id": "2nAvUwqsRwpF"
   },
   "source": [
    "### books"
   ]
  },
  {
   "cell_type": "markdown",
   "metadata": {
    "id": "JW47Qtp2R10c"
   },
   "source": [
    "Таблица содержит данные о книгах"
   ]
  },
  {
   "cell_type": "code",
   "execution_count": 4,
   "metadata": {
    "colab": {
     "base_uri": "https://localhost:8080/",
     "height": 206
    },
    "id": "Py7sIzG7OkaS",
    "outputId": "ac503e09-f78f-49aa-95c2-970136c20489"
   },
   "outputs": [
    {
     "data": {
      "text/html": [
       "<div>\n",
       "<style scoped>\n",
       "    .dataframe tbody tr th:only-of-type {\n",
       "        vertical-align: middle;\n",
       "    }\n",
       "\n",
       "    .dataframe tbody tr th {\n",
       "        vertical-align: top;\n",
       "    }\n",
       "\n",
       "    .dataframe thead th {\n",
       "        text-align: right;\n",
       "    }\n",
       "</style>\n",
       "<table border=\"1\" class=\"dataframe\">\n",
       "  <thead>\n",
       "    <tr style=\"text-align: right;\">\n",
       "      <th></th>\n",
       "      <th>book_id</th>\n",
       "      <th>author_id</th>\n",
       "      <th>title</th>\n",
       "      <th>num_pages</th>\n",
       "      <th>publication_date</th>\n",
       "      <th>publisher_id</th>\n",
       "    </tr>\n",
       "  </thead>\n",
       "  <tbody>\n",
       "    <tr>\n",
       "      <th>0</th>\n",
       "      <td>1</td>\n",
       "      <td>546</td>\n",
       "      <td>'Salem's Lot</td>\n",
       "      <td>594</td>\n",
       "      <td>2005-11-01</td>\n",
       "      <td>93</td>\n",
       "    </tr>\n",
       "    <tr>\n",
       "      <th>1</th>\n",
       "      <td>2</td>\n",
       "      <td>465</td>\n",
       "      <td>1 000 Places to See Before You Die</td>\n",
       "      <td>992</td>\n",
       "      <td>2003-05-22</td>\n",
       "      <td>336</td>\n",
       "    </tr>\n",
       "    <tr>\n",
       "      <th>2</th>\n",
       "      <td>3</td>\n",
       "      <td>407</td>\n",
       "      <td>13 Little Blue Envelopes (Little Blue Envelope...</td>\n",
       "      <td>322</td>\n",
       "      <td>2010-12-21</td>\n",
       "      <td>135</td>\n",
       "    </tr>\n",
       "    <tr>\n",
       "      <th>3</th>\n",
       "      <td>4</td>\n",
       "      <td>82</td>\n",
       "      <td>1491: New Revelations of the Americas Before C...</td>\n",
       "      <td>541</td>\n",
       "      <td>2006-10-10</td>\n",
       "      <td>309</td>\n",
       "    </tr>\n",
       "    <tr>\n",
       "      <th>4</th>\n",
       "      <td>5</td>\n",
       "      <td>125</td>\n",
       "      <td>1776</td>\n",
       "      <td>386</td>\n",
       "      <td>2006-07-04</td>\n",
       "      <td>268</td>\n",
       "    </tr>\n",
       "  </tbody>\n",
       "</table>\n",
       "</div>"
      ],
      "text/plain": [
       "   book_id  author_id                                              title  \\\n",
       "0        1        546                                       'Salem's Lot   \n",
       "1        2        465                 1 000 Places to See Before You Die   \n",
       "2        3        407  13 Little Blue Envelopes (Little Blue Envelope...   \n",
       "3        4         82  1491: New Revelations of the Americas Before C...   \n",
       "4        5        125                                               1776   \n",
       "\n",
       "   num_pages publication_date  publisher_id  \n",
       "0        594       2005-11-01            93  \n",
       "1        992       2003-05-22           336  \n",
       "2        322       2010-12-21           135  \n",
       "3        541       2006-10-10           309  \n",
       "4        386       2006-07-04           268  "
      ]
     },
     "execution_count": 4,
     "metadata": {},
     "output_type": "execute_result"
    }
   ],
   "source": [
    "# формируем запрос и выводим данные\n",
    "query = '''\n",
    "\n",
    "SELECT *\n",
    "FROM books\n",
    "LIMIT 5\n",
    "\n",
    "'''\n",
    "get_sql_data(query)"
   ]
  },
  {
   "cell_type": "markdown",
   "metadata": {
    "id": "jMdFKqqrR74F"
   },
   "source": [
    "- book_id — идентификатор книги;\n",
    "- author_id — идентификатор автора;\n",
    "- title — название книги;\n",
    "- num_pages — количество страниц;\n",
    "- publication_date — дата публикации книги;\n",
    "- publisher_id — идентификатор издателя."
   ]
  },
  {
   "cell_type": "code",
   "execution_count": 5,
   "metadata": {
    "colab": {
     "base_uri": "https://localhost:8080/",
     "height": 81
    },
    "id": "djkzaeC6PH3z",
    "outputId": "cf625b59-9c5c-4363-e66c-a28c8cf2c244"
   },
   "outputs": [
    {
     "data": {
      "text/html": [
       "<div>\n",
       "<style scoped>\n",
       "    .dataframe tbody tr th:only-of-type {\n",
       "        vertical-align: middle;\n",
       "    }\n",
       "\n",
       "    .dataframe tbody tr th {\n",
       "        vertical-align: top;\n",
       "    }\n",
       "\n",
       "    .dataframe thead th {\n",
       "        text-align: right;\n",
       "    }\n",
       "</style>\n",
       "<table border=\"1\" class=\"dataframe\">\n",
       "  <thead>\n",
       "    <tr style=\"text-align: right;\">\n",
       "      <th></th>\n",
       "      <th>count</th>\n",
       "    </tr>\n",
       "  </thead>\n",
       "  <tbody>\n",
       "    <tr>\n",
       "      <th>0</th>\n",
       "      <td>1000</td>\n",
       "    </tr>\n",
       "  </tbody>\n",
       "</table>\n",
       "</div>"
      ],
      "text/plain": [
       "   count\n",
       "0   1000"
      ]
     },
     "execution_count": 5,
     "metadata": {},
     "output_type": "execute_result"
    }
   ],
   "source": [
    "query = '''\n",
    "\n",
    "SELECT COUNT(*)\n",
    "FROM books\n",
    "\n",
    "'''\n",
    "get_sql_data(query)"
   ]
  },
  {
   "cell_type": "markdown",
   "metadata": {
    "id": "4rRzGxHJRpfu"
   },
   "source": [
    "В таблице 1000 строк."
   ]
  },
  {
   "cell_type": "markdown",
   "metadata": {
    "id": "C_vawehjSVNu"
   },
   "source": [
    "### authors"
   ]
  },
  {
   "cell_type": "markdown",
   "metadata": {
    "id": "DeyQ6C00SX5A"
   },
   "source": [
    "Таблица содержит данные об авторах"
   ]
  },
  {
   "cell_type": "code",
   "execution_count": 6,
   "metadata": {
    "colab": {
     "base_uri": "https://localhost:8080/",
     "height": 206
    },
    "id": "q3gm5k-URgEY",
    "outputId": "75afdceb-005b-4d5d-d525-14b5e770f041"
   },
   "outputs": [
    {
     "data": {
      "text/html": [
       "<div>\n",
       "<style scoped>\n",
       "    .dataframe tbody tr th:only-of-type {\n",
       "        vertical-align: middle;\n",
       "    }\n",
       "\n",
       "    .dataframe tbody tr th {\n",
       "        vertical-align: top;\n",
       "    }\n",
       "\n",
       "    .dataframe thead th {\n",
       "        text-align: right;\n",
       "    }\n",
       "</style>\n",
       "<table border=\"1\" class=\"dataframe\">\n",
       "  <thead>\n",
       "    <tr style=\"text-align: right;\">\n",
       "      <th></th>\n",
       "      <th>author_id</th>\n",
       "      <th>author</th>\n",
       "    </tr>\n",
       "  </thead>\n",
       "  <tbody>\n",
       "    <tr>\n",
       "      <th>0</th>\n",
       "      <td>1</td>\n",
       "      <td>A.S. Byatt</td>\n",
       "    </tr>\n",
       "    <tr>\n",
       "      <th>1</th>\n",
       "      <td>2</td>\n",
       "      <td>Aesop/Laura Harris/Laura Gibbs</td>\n",
       "    </tr>\n",
       "    <tr>\n",
       "      <th>2</th>\n",
       "      <td>3</td>\n",
       "      <td>Agatha Christie</td>\n",
       "    </tr>\n",
       "    <tr>\n",
       "      <th>3</th>\n",
       "      <td>4</td>\n",
       "      <td>Alan Brennert</td>\n",
       "    </tr>\n",
       "    <tr>\n",
       "      <th>4</th>\n",
       "      <td>5</td>\n",
       "      <td>Alan Moore/David   Lloyd</td>\n",
       "    </tr>\n",
       "  </tbody>\n",
       "</table>\n",
       "</div>"
      ],
      "text/plain": [
       "   author_id                          author\n",
       "0          1                      A.S. Byatt\n",
       "1          2  Aesop/Laura Harris/Laura Gibbs\n",
       "2          3                 Agatha Christie\n",
       "3          4                   Alan Brennert\n",
       "4          5        Alan Moore/David   Lloyd"
      ]
     },
     "execution_count": 6,
     "metadata": {},
     "output_type": "execute_result"
    }
   ],
   "source": [
    "query = '''\n",
    "\n",
    "SELECT *\n",
    "FROM authors\n",
    "LIMIT 5\n",
    "\n",
    "'''\n",
    "get_sql_data(query)"
   ]
  },
  {
   "cell_type": "markdown",
   "metadata": {
    "id": "7kWfTXSeSmVr"
   },
   "source": [
    "- author_id — идентификатор автора;\n",
    "- author — имя автора."
   ]
  },
  {
   "cell_type": "code",
   "execution_count": 7,
   "metadata": {
    "colab": {
     "base_uri": "https://localhost:8080/",
     "height": 81
    },
    "id": "HqDx9na1SiXe",
    "outputId": "447f8d0b-5ab0-48a7-82c7-5a0939079bfa"
   },
   "outputs": [
    {
     "data": {
      "text/html": [
       "<div>\n",
       "<style scoped>\n",
       "    .dataframe tbody tr th:only-of-type {\n",
       "        vertical-align: middle;\n",
       "    }\n",
       "\n",
       "    .dataframe tbody tr th {\n",
       "        vertical-align: top;\n",
       "    }\n",
       "\n",
       "    .dataframe thead th {\n",
       "        text-align: right;\n",
       "    }\n",
       "</style>\n",
       "<table border=\"1\" class=\"dataframe\">\n",
       "  <thead>\n",
       "    <tr style=\"text-align: right;\">\n",
       "      <th></th>\n",
       "      <th>count</th>\n",
       "    </tr>\n",
       "  </thead>\n",
       "  <tbody>\n",
       "    <tr>\n",
       "      <th>0</th>\n",
       "      <td>636</td>\n",
       "    </tr>\n",
       "  </tbody>\n",
       "</table>\n",
       "</div>"
      ],
      "text/plain": [
       "   count\n",
       "0    636"
      ]
     },
     "execution_count": 7,
     "metadata": {},
     "output_type": "execute_result"
    }
   ],
   "source": [
    "query = '''\n",
    "\n",
    "SELECT COUNT(*)\n",
    "FROM authors\n",
    "\n",
    "'''\n",
    "get_sql_data(query)"
   ]
  },
  {
   "cell_type": "markdown",
   "metadata": {
    "id": "tINf_ZckSxvY"
   },
   "source": [
    "В таблице данные о 636 авторах"
   ]
  },
  {
   "cell_type": "markdown",
   "metadata": {
    "id": "5vngIGt5S3c5"
   },
   "source": [
    "### publishers"
   ]
  },
  {
   "cell_type": "markdown",
   "metadata": {
    "id": "NzxoWVktTFE-"
   },
   "source": [
    "Таблица содержит данные об издательствах"
   ]
  },
  {
   "cell_type": "code",
   "execution_count": 8,
   "metadata": {
    "colab": {
     "base_uri": "https://localhost:8080/",
     "height": 206
    },
    "id": "vl1uELSTSwiP",
    "outputId": "3686f72c-52f0-4d4f-f8d7-86990b9e23e4"
   },
   "outputs": [
    {
     "data": {
      "text/html": [
       "<div>\n",
       "<style scoped>\n",
       "    .dataframe tbody tr th:only-of-type {\n",
       "        vertical-align: middle;\n",
       "    }\n",
       "\n",
       "    .dataframe tbody tr th {\n",
       "        vertical-align: top;\n",
       "    }\n",
       "\n",
       "    .dataframe thead th {\n",
       "        text-align: right;\n",
       "    }\n",
       "</style>\n",
       "<table border=\"1\" class=\"dataframe\">\n",
       "  <thead>\n",
       "    <tr style=\"text-align: right;\">\n",
       "      <th></th>\n",
       "      <th>publisher_id</th>\n",
       "      <th>publisher</th>\n",
       "    </tr>\n",
       "  </thead>\n",
       "  <tbody>\n",
       "    <tr>\n",
       "      <th>0</th>\n",
       "      <td>1</td>\n",
       "      <td>Ace</td>\n",
       "    </tr>\n",
       "    <tr>\n",
       "      <th>1</th>\n",
       "      <td>2</td>\n",
       "      <td>Ace Book</td>\n",
       "    </tr>\n",
       "    <tr>\n",
       "      <th>2</th>\n",
       "      <td>3</td>\n",
       "      <td>Ace Books</td>\n",
       "    </tr>\n",
       "    <tr>\n",
       "      <th>3</th>\n",
       "      <td>4</td>\n",
       "      <td>Ace Hardcover</td>\n",
       "    </tr>\n",
       "    <tr>\n",
       "      <th>4</th>\n",
       "      <td>5</td>\n",
       "      <td>Addison Wesley Publishing Company</td>\n",
       "    </tr>\n",
       "  </tbody>\n",
       "</table>\n",
       "</div>"
      ],
      "text/plain": [
       "   publisher_id                          publisher\n",
       "0             1                                Ace\n",
       "1             2                           Ace Book\n",
       "2             3                          Ace Books\n",
       "3             4                      Ace Hardcover\n",
       "4             5  Addison Wesley Publishing Company"
      ]
     },
     "execution_count": 8,
     "metadata": {},
     "output_type": "execute_result"
    }
   ],
   "source": [
    "query = '''\n",
    "\n",
    "SELECT *\n",
    "FROM publishers\n",
    "LIMIT 5\n",
    "\n",
    "'''\n",
    "get_sql_data(query)"
   ]
  },
  {
   "cell_type": "markdown",
   "metadata": {
    "id": "3asGcrKaTU6w"
   },
   "source": [
    "- publisher_id — идентификатор издательства;\n",
    "- publisher — название издательства;"
   ]
  },
  {
   "cell_type": "code",
   "execution_count": 9,
   "metadata": {
    "colab": {
     "base_uri": "https://localhost:8080/",
     "height": 81
    },
    "id": "HEnEvsLKTQTw",
    "outputId": "5294b2a4-7690-4021-b8c6-7f5013665e4b"
   },
   "outputs": [
    {
     "data": {
      "text/html": [
       "<div>\n",
       "<style scoped>\n",
       "    .dataframe tbody tr th:only-of-type {\n",
       "        vertical-align: middle;\n",
       "    }\n",
       "\n",
       "    .dataframe tbody tr th {\n",
       "        vertical-align: top;\n",
       "    }\n",
       "\n",
       "    .dataframe thead th {\n",
       "        text-align: right;\n",
       "    }\n",
       "</style>\n",
       "<table border=\"1\" class=\"dataframe\">\n",
       "  <thead>\n",
       "    <tr style=\"text-align: right;\">\n",
       "      <th></th>\n",
       "      <th>count</th>\n",
       "    </tr>\n",
       "  </thead>\n",
       "  <tbody>\n",
       "    <tr>\n",
       "      <th>0</th>\n",
       "      <td>340</td>\n",
       "    </tr>\n",
       "  </tbody>\n",
       "</table>\n",
       "</div>"
      ],
      "text/plain": [
       "   count\n",
       "0    340"
      ]
     },
     "execution_count": 9,
     "metadata": {},
     "output_type": "execute_result"
    }
   ],
   "source": [
    "query = '''\n",
    "\n",
    "SELECT COUNT(*)\n",
    "FROM publishers\n",
    "\n",
    "'''\n",
    "get_sql_data(query)"
   ]
  },
  {
   "cell_type": "markdown",
   "metadata": {
    "id": "1NfmCaSPTcXn"
   },
   "source": [
    "В таблице записаны данные о 340 издательствах"
   ]
  },
  {
   "cell_type": "markdown",
   "metadata": {
    "id": "jzgQof_uTkjJ"
   },
   "source": [
    "### ratings"
   ]
  },
  {
   "cell_type": "markdown",
   "metadata": {
    "id": "WOxRghANTt7c"
   },
   "source": [
    "Таблица содержит данные о пользовательских оценках книг"
   ]
  },
  {
   "cell_type": "code",
   "execution_count": 10,
   "metadata": {
    "colab": {
     "base_uri": "https://localhost:8080/",
     "height": 206
    },
    "id": "c99rbIWnTbFR",
    "outputId": "50b46cd1-ad8e-4be7-a095-4e274f3e28bf"
   },
   "outputs": [
    {
     "data": {
      "text/html": [
       "<div>\n",
       "<style scoped>\n",
       "    .dataframe tbody tr th:only-of-type {\n",
       "        vertical-align: middle;\n",
       "    }\n",
       "\n",
       "    .dataframe tbody tr th {\n",
       "        vertical-align: top;\n",
       "    }\n",
       "\n",
       "    .dataframe thead th {\n",
       "        text-align: right;\n",
       "    }\n",
       "</style>\n",
       "<table border=\"1\" class=\"dataframe\">\n",
       "  <thead>\n",
       "    <tr style=\"text-align: right;\">\n",
       "      <th></th>\n",
       "      <th>rating_id</th>\n",
       "      <th>book_id</th>\n",
       "      <th>username</th>\n",
       "      <th>rating</th>\n",
       "    </tr>\n",
       "  </thead>\n",
       "  <tbody>\n",
       "    <tr>\n",
       "      <th>0</th>\n",
       "      <td>1</td>\n",
       "      <td>1</td>\n",
       "      <td>ryanfranco</td>\n",
       "      <td>4</td>\n",
       "    </tr>\n",
       "    <tr>\n",
       "      <th>1</th>\n",
       "      <td>2</td>\n",
       "      <td>1</td>\n",
       "      <td>grantpatricia</td>\n",
       "      <td>2</td>\n",
       "    </tr>\n",
       "    <tr>\n",
       "      <th>2</th>\n",
       "      <td>3</td>\n",
       "      <td>1</td>\n",
       "      <td>brandtandrea</td>\n",
       "      <td>5</td>\n",
       "    </tr>\n",
       "    <tr>\n",
       "      <th>3</th>\n",
       "      <td>4</td>\n",
       "      <td>2</td>\n",
       "      <td>lorichen</td>\n",
       "      <td>3</td>\n",
       "    </tr>\n",
       "    <tr>\n",
       "      <th>4</th>\n",
       "      <td>5</td>\n",
       "      <td>2</td>\n",
       "      <td>mariokeller</td>\n",
       "      <td>2</td>\n",
       "    </tr>\n",
       "  </tbody>\n",
       "</table>\n",
       "</div>"
      ],
      "text/plain": [
       "   rating_id  book_id       username  rating\n",
       "0          1        1     ryanfranco       4\n",
       "1          2        1  grantpatricia       2\n",
       "2          3        1   brandtandrea       5\n",
       "3          4        2       lorichen       3\n",
       "4          5        2    mariokeller       2"
      ]
     },
     "execution_count": 10,
     "metadata": {},
     "output_type": "execute_result"
    }
   ],
   "source": [
    "query = '''\n",
    "\n",
    "SELECT *\n",
    "FROM ratings\n",
    "LIMIT 5\n",
    "\n",
    "'''\n",
    "get_sql_data(query)"
   ]
  },
  {
   "cell_type": "markdown",
   "metadata": {
    "id": "rOeDuFzIUJys"
   },
   "source": [
    "- rating_id — идентификатор оценки;\n",
    "- book_id — идентификатор книги;\n",
    "- username — имя пользователя, оставившего оценку;\n",
    "- rating — оценка книги."
   ]
  },
  {
   "cell_type": "code",
   "execution_count": 11,
   "metadata": {
    "colab": {
     "base_uri": "https://localhost:8080/",
     "height": 81
    },
    "id": "nCwa9wR6UYZA",
    "outputId": "c1c5539d-8336-401b-bb1e-8d686ef259e6"
   },
   "outputs": [
    {
     "data": {
      "text/html": [
       "<div>\n",
       "<style scoped>\n",
       "    .dataframe tbody tr th:only-of-type {\n",
       "        vertical-align: middle;\n",
       "    }\n",
       "\n",
       "    .dataframe tbody tr th {\n",
       "        vertical-align: top;\n",
       "    }\n",
       "\n",
       "    .dataframe thead th {\n",
       "        text-align: right;\n",
       "    }\n",
       "</style>\n",
       "<table border=\"1\" class=\"dataframe\">\n",
       "  <thead>\n",
       "    <tr style=\"text-align: right;\">\n",
       "      <th></th>\n",
       "      <th>count</th>\n",
       "    </tr>\n",
       "  </thead>\n",
       "  <tbody>\n",
       "    <tr>\n",
       "      <th>0</th>\n",
       "      <td>6456</td>\n",
       "    </tr>\n",
       "  </tbody>\n",
       "</table>\n",
       "</div>"
      ],
      "text/plain": [
       "   count\n",
       "0   6456"
      ]
     },
     "execution_count": 11,
     "metadata": {},
     "output_type": "execute_result"
    }
   ],
   "source": [
    "query = '''\n",
    "\n",
    "SELECT\n",
    "COUNT(*)\n",
    "FROM ratings\n",
    "\n",
    "'''\n",
    "get_sql_data(query)"
   ]
  },
  {
   "cell_type": "markdown",
   "metadata": {
    "id": "pfW-7jOXUWv2"
   },
   "source": [
    "В таблице записано 6456 строк"
   ]
  },
  {
   "cell_type": "markdown",
   "metadata": {
    "id": "jgi2BQlxUggp"
   },
   "source": [
    "### reviews"
   ]
  },
  {
   "cell_type": "markdown",
   "metadata": {
    "id": "4zmFthveUmeh"
   },
   "source": [
    "Таблица содержит данные о пользовательских обзорах на книги"
   ]
  },
  {
   "cell_type": "code",
   "execution_count": 12,
   "metadata": {
    "colab": {
     "base_uri": "https://localhost:8080/",
     "height": 206
    },
    "id": "HlibmFPVUE85",
    "outputId": "30f8642c-fb13-4f72-f501-cdb6913d4beb"
   },
   "outputs": [
    {
     "data": {
      "text/html": [
       "<div>\n",
       "<style scoped>\n",
       "    .dataframe tbody tr th:only-of-type {\n",
       "        vertical-align: middle;\n",
       "    }\n",
       "\n",
       "    .dataframe tbody tr th {\n",
       "        vertical-align: top;\n",
       "    }\n",
       "\n",
       "    .dataframe thead th {\n",
       "        text-align: right;\n",
       "    }\n",
       "</style>\n",
       "<table border=\"1\" class=\"dataframe\">\n",
       "  <thead>\n",
       "    <tr style=\"text-align: right;\">\n",
       "      <th></th>\n",
       "      <th>review_id</th>\n",
       "      <th>book_id</th>\n",
       "      <th>username</th>\n",
       "      <th>text</th>\n",
       "    </tr>\n",
       "  </thead>\n",
       "  <tbody>\n",
       "    <tr>\n",
       "      <th>0</th>\n",
       "      <td>1</td>\n",
       "      <td>1</td>\n",
       "      <td>brandtandrea</td>\n",
       "      <td>Mention society tell send professor analysis. ...</td>\n",
       "    </tr>\n",
       "    <tr>\n",
       "      <th>1</th>\n",
       "      <td>2</td>\n",
       "      <td>1</td>\n",
       "      <td>ryanfranco</td>\n",
       "      <td>Foot glass pretty audience hit themselves. Amo...</td>\n",
       "    </tr>\n",
       "    <tr>\n",
       "      <th>2</th>\n",
       "      <td>3</td>\n",
       "      <td>2</td>\n",
       "      <td>lorichen</td>\n",
       "      <td>Listen treat keep worry. Miss husband tax but ...</td>\n",
       "    </tr>\n",
       "    <tr>\n",
       "      <th>3</th>\n",
       "      <td>4</td>\n",
       "      <td>3</td>\n",
       "      <td>johnsonamanda</td>\n",
       "      <td>Finally month interesting blue could nature cu...</td>\n",
       "    </tr>\n",
       "    <tr>\n",
       "      <th>4</th>\n",
       "      <td>5</td>\n",
       "      <td>3</td>\n",
       "      <td>scotttamara</td>\n",
       "      <td>Nation purpose heavy give wait song will. List...</td>\n",
       "    </tr>\n",
       "  </tbody>\n",
       "</table>\n",
       "</div>"
      ],
      "text/plain": [
       "   review_id  book_id       username  \\\n",
       "0          1        1   brandtandrea   \n",
       "1          2        1     ryanfranco   \n",
       "2          3        2       lorichen   \n",
       "3          4        3  johnsonamanda   \n",
       "4          5        3    scotttamara   \n",
       "\n",
       "                                                text  \n",
       "0  Mention society tell send professor analysis. ...  \n",
       "1  Foot glass pretty audience hit themselves. Amo...  \n",
       "2  Listen treat keep worry. Miss husband tax but ...  \n",
       "3  Finally month interesting blue could nature cu...  \n",
       "4  Nation purpose heavy give wait song will. List...  "
      ]
     },
     "execution_count": 12,
     "metadata": {},
     "output_type": "execute_result"
    }
   ],
   "source": [
    "query = '''\n",
    "\n",
    "SELECT *\n",
    "FROM reviews\n",
    "LIMIT 5\n",
    "\n",
    "'''\n",
    "get_sql_data(query)"
   ]
  },
  {
   "cell_type": "markdown",
   "metadata": {
    "id": "RYbl8vptUyhY"
   },
   "source": [
    "- review_id — идентификатор обзора;\n",
    "- book_id — идентификатор книги;\n",
    "- username — имя пользователя, написавшего обзор;\n",
    "- text — текст обзора."
   ]
  },
  {
   "cell_type": "code",
   "execution_count": 13,
   "metadata": {
    "colab": {
     "base_uri": "https://localhost:8080/",
     "height": 81
    },
    "id": "9DQYsI1OUvrt",
    "outputId": "67dbc8ab-cec5-41df-8868-5731558b20de"
   },
   "outputs": [
    {
     "data": {
      "text/html": [
       "<div>\n",
       "<style scoped>\n",
       "    .dataframe tbody tr th:only-of-type {\n",
       "        vertical-align: middle;\n",
       "    }\n",
       "\n",
       "    .dataframe tbody tr th {\n",
       "        vertical-align: top;\n",
       "    }\n",
       "\n",
       "    .dataframe thead th {\n",
       "        text-align: right;\n",
       "    }\n",
       "</style>\n",
       "<table border=\"1\" class=\"dataframe\">\n",
       "  <thead>\n",
       "    <tr style=\"text-align: right;\">\n",
       "      <th></th>\n",
       "      <th>count</th>\n",
       "    </tr>\n",
       "  </thead>\n",
       "  <tbody>\n",
       "    <tr>\n",
       "      <th>0</th>\n",
       "      <td>2793</td>\n",
       "    </tr>\n",
       "  </tbody>\n",
       "</table>\n",
       "</div>"
      ],
      "text/plain": [
       "   count\n",
       "0   2793"
      ]
     },
     "execution_count": 13,
     "metadata": {},
     "output_type": "execute_result"
    }
   ],
   "source": [
    "query = '''\n",
    "\n",
    "SELECT COUNT(*)\n",
    "FROM reviews\n",
    "\n",
    "'''\n",
    "get_sql_data(query)"
   ]
  },
  {
   "cell_type": "markdown",
   "metadata": {
    "id": "erRRDxkWVB1Q"
   },
   "source": [
    "В таблице сохранены данные о 2793 обзорах"
   ]
  },
  {
   "cell_type": "markdown",
   "metadata": {
    "id": "uzY5D87_VNdR"
   },
   "source": [
    "## Количество книг вышедших после 1 января 2000 года"
   ]
  },
  {
   "cell_type": "markdown",
   "metadata": {
    "id": "7zWH2eKFVYWt"
   },
   "source": [
    "Посчитаем, сколько книг вышло после 1 января 2000 года"
   ]
  },
  {
   "cell_type": "code",
   "execution_count": 14,
   "metadata": {
    "colab": {
     "base_uri": "https://localhost:8080/",
     "height": 81
    },
    "id": "rq5HZaudVAoG",
    "outputId": "25951c15-d039-4575-8441-c44f3f538a58"
   },
   "outputs": [
    {
     "data": {
      "text/html": [
       "<div>\n",
       "<style scoped>\n",
       "    .dataframe tbody tr th:only-of-type {\n",
       "        vertical-align: middle;\n",
       "    }\n",
       "\n",
       "    .dataframe tbody tr th {\n",
       "        vertical-align: top;\n",
       "    }\n",
       "\n",
       "    .dataframe thead th {\n",
       "        text-align: right;\n",
       "    }\n",
       "</style>\n",
       "<table border=\"1\" class=\"dataframe\">\n",
       "  <thead>\n",
       "    <tr style=\"text-align: right;\">\n",
       "      <th></th>\n",
       "      <th>count</th>\n",
       "    </tr>\n",
       "  </thead>\n",
       "  <tbody>\n",
       "    <tr>\n",
       "      <th>0</th>\n",
       "      <td>819</td>\n",
       "    </tr>\n",
       "  </tbody>\n",
       "</table>\n",
       "</div>"
      ],
      "text/plain": [
       "   count\n",
       "0    819"
      ]
     },
     "execution_count": 14,
     "metadata": {},
     "output_type": "execute_result"
    }
   ],
   "source": [
    "query = '''\n",
    "\n",
    "SELECT COUNT(*)\n",
    "FROM books\n",
    "WHERE publication_date > '2000-01-01';\n",
    "\n",
    "'''\n",
    "get_sql_data(query)"
   ]
  },
  {
   "cell_type": "markdown",
   "metadata": {
    "id": "X07c-zM_acsd"
   },
   "source": [
    "После 1 января 2000 года вышло 819 книг."
   ]
  },
  {
   "cell_type": "markdown",
   "metadata": {
    "id": "peuOcXFHdIA5"
   },
   "source": [
    "## Количество обзоров и средняя оценка книг"
   ]
  },
  {
   "cell_type": "markdown",
   "metadata": {
    "id": "yYx9BrZgdTFi"
   },
   "source": [
    "Для каждой книги посчитаем количество обзоров и среднюю оценку"
   ]
  },
  {
   "cell_type": "code",
   "execution_count": 15,
   "metadata": {
    "colab": {
     "base_uri": "https://localhost:8080/",
     "height": 424
    },
    "id": "7Brcp8p9dYH0",
    "outputId": "7906904f-e00f-4882-8fa7-bd3368f05309"
   },
   "outputs": [
    {
     "data": {
      "text/html": [
       "<div>\n",
       "<style scoped>\n",
       "    .dataframe tbody tr th:only-of-type {\n",
       "        vertical-align: middle;\n",
       "    }\n",
       "\n",
       "    .dataframe tbody tr th {\n",
       "        vertical-align: top;\n",
       "    }\n",
       "\n",
       "    .dataframe thead th {\n",
       "        text-align: right;\n",
       "    }\n",
       "</style>\n",
       "<table border=\"1\" class=\"dataframe\">\n",
       "  <thead>\n",
       "    <tr style=\"text-align: right;\">\n",
       "      <th></th>\n",
       "      <th>book_id</th>\n",
       "      <th>book_title</th>\n",
       "      <th>count_reviews</th>\n",
       "      <th>avg_rating</th>\n",
       "    </tr>\n",
       "  </thead>\n",
       "  <tbody>\n",
       "    <tr>\n",
       "      <th>0</th>\n",
       "      <td>86</td>\n",
       "      <td>Arrows of the Queen (Heralds of Valdemar  #1)</td>\n",
       "      <td>2</td>\n",
       "      <td>5.00</td>\n",
       "    </tr>\n",
       "    <tr>\n",
       "      <th>1</th>\n",
       "      <td>901</td>\n",
       "      <td>The Walking Dead  Book One (The Walking Dead #...</td>\n",
       "      <td>2</td>\n",
       "      <td>5.00</td>\n",
       "    </tr>\n",
       "    <tr>\n",
       "      <th>2</th>\n",
       "      <td>390</td>\n",
       "      <td>Light in August</td>\n",
       "      <td>2</td>\n",
       "      <td>5.00</td>\n",
       "    </tr>\n",
       "    <tr>\n",
       "      <th>3</th>\n",
       "      <td>972</td>\n",
       "      <td>Wherever You Go  There You Are: Mindfulness Me...</td>\n",
       "      <td>2</td>\n",
       "      <td>5.00</td>\n",
       "    </tr>\n",
       "    <tr>\n",
       "      <th>4</th>\n",
       "      <td>136</td>\n",
       "      <td>Captivating: Unveiling the Mystery of a Woman'...</td>\n",
       "      <td>2</td>\n",
       "      <td>5.00</td>\n",
       "    </tr>\n",
       "    <tr>\n",
       "      <th>...</th>\n",
       "      <td>...</td>\n",
       "      <td>...</td>\n",
       "      <td>...</td>\n",
       "      <td>...</td>\n",
       "    </tr>\n",
       "    <tr>\n",
       "      <th>995</th>\n",
       "      <td>915</td>\n",
       "      <td>The World Is Flat: A Brief History of the Twen...</td>\n",
       "      <td>3</td>\n",
       "      <td>2.25</td>\n",
       "    </tr>\n",
       "    <tr>\n",
       "      <th>996</th>\n",
       "      <td>316</td>\n",
       "      <td>His Excellency: George Washington</td>\n",
       "      <td>2</td>\n",
       "      <td>2.00</td>\n",
       "    </tr>\n",
       "    <tr>\n",
       "      <th>997</th>\n",
       "      <td>202</td>\n",
       "      <td>Drowning Ruth</td>\n",
       "      <td>3</td>\n",
       "      <td>2.00</td>\n",
       "    </tr>\n",
       "    <tr>\n",
       "      <th>998</th>\n",
       "      <td>371</td>\n",
       "      <td>Junky</td>\n",
       "      <td>2</td>\n",
       "      <td>2.00</td>\n",
       "    </tr>\n",
       "    <tr>\n",
       "      <th>999</th>\n",
       "      <td>303</td>\n",
       "      <td>Harvesting the Heart</td>\n",
       "      <td>2</td>\n",
       "      <td>1.50</td>\n",
       "    </tr>\n",
       "  </tbody>\n",
       "</table>\n",
       "<p>1000 rows × 4 columns</p>\n",
       "</div>"
      ],
      "text/plain": [
       "     book_id                                         book_title  \\\n",
       "0         86      Arrows of the Queen (Heralds of Valdemar  #1)   \n",
       "1        901  The Walking Dead  Book One (The Walking Dead #...   \n",
       "2        390                                    Light in August   \n",
       "3        972  Wherever You Go  There You Are: Mindfulness Me...   \n",
       "4        136  Captivating: Unveiling the Mystery of a Woman'...   \n",
       "..       ...                                                ...   \n",
       "995      915  The World Is Flat: A Brief History of the Twen...   \n",
       "996      316                  His Excellency: George Washington   \n",
       "997      202                                      Drowning Ruth   \n",
       "998      371                                              Junky   \n",
       "999      303                               Harvesting the Heart   \n",
       "\n",
       "     count_reviews  avg_rating  \n",
       "0                2        5.00  \n",
       "1                2        5.00  \n",
       "2                2        5.00  \n",
       "3                2        5.00  \n",
       "4                2        5.00  \n",
       "..             ...         ...  \n",
       "995              3        2.25  \n",
       "996              2        2.00  \n",
       "997              3        2.00  \n",
       "998              2        2.00  \n",
       "999              2        1.50  \n",
       "\n",
       "[1000 rows x 4 columns]"
      ]
     },
     "execution_count": 15,
     "metadata": {},
     "output_type": "execute_result"
    }
   ],
   "source": [
    "query = '''\n",
    "\n",
    "SELECT books.book_id AS book_id,\n",
    "       books.title AS book_title,\n",
    "       COUNT(DISTINCT reviews.review_id) AS count_reviews,\n",
    "       AVG(ratings.rating) AS avg_rating\n",
    "FROM books\n",
    "INNER JOIN ratings ON ratings.book_id = books.book_id\n",
    "LEFT JOIN reviews ON reviews.book_id = books.book_id\n",
    "GROUP BY books.title,\n",
    "         books.book_id\n",
    "ORDER BY avg_rating DESC;\n",
    "\n",
    "'''\n",
    "get_sql_data(query)"
   ]
  },
  {
   "cell_type": "code",
   "execution_count": 16,
   "metadata": {
    "colab": {
     "base_uri": "https://localhost:8080/",
     "height": 424
    },
    "id": "uVVzoqdAgtH6",
    "outputId": "e9110738-85be-4b80-c815-3c88fc23d20a"
   },
   "outputs": [
    {
     "data": {
      "text/html": [
       "<div>\n",
       "<style scoped>\n",
       "    .dataframe tbody tr th:only-of-type {\n",
       "        vertical-align: middle;\n",
       "    }\n",
       "\n",
       "    .dataframe tbody tr th {\n",
       "        vertical-align: top;\n",
       "    }\n",
       "\n",
       "    .dataframe thead th {\n",
       "        text-align: right;\n",
       "    }\n",
       "</style>\n",
       "<table border=\"1\" class=\"dataframe\">\n",
       "  <thead>\n",
       "    <tr style=\"text-align: right;\">\n",
       "      <th></th>\n",
       "      <th>book_id</th>\n",
       "      <th>book_title</th>\n",
       "      <th>count_reviews</th>\n",
       "      <th>avg_rating</th>\n",
       "    </tr>\n",
       "  </thead>\n",
       "  <tbody>\n",
       "    <tr>\n",
       "      <th>0</th>\n",
       "      <td>948</td>\n",
       "      <td>Twilight (Twilight  #1)</td>\n",
       "      <td>7</td>\n",
       "      <td>3.662500</td>\n",
       "    </tr>\n",
       "    <tr>\n",
       "      <th>1</th>\n",
       "      <td>963</td>\n",
       "      <td>Water for Elephants</td>\n",
       "      <td>6</td>\n",
       "      <td>3.977273</td>\n",
       "    </tr>\n",
       "    <tr>\n",
       "      <th>2</th>\n",
       "      <td>734</td>\n",
       "      <td>The Glass Castle</td>\n",
       "      <td>6</td>\n",
       "      <td>4.206897</td>\n",
       "    </tr>\n",
       "    <tr>\n",
       "      <th>3</th>\n",
       "      <td>302</td>\n",
       "      <td>Harry Potter and the Prisoner of Azkaban (Harr...</td>\n",
       "      <td>6</td>\n",
       "      <td>4.414634</td>\n",
       "    </tr>\n",
       "    <tr>\n",
       "      <th>4</th>\n",
       "      <td>695</td>\n",
       "      <td>The Curious Incident of the Dog in the Night-Time</td>\n",
       "      <td>6</td>\n",
       "      <td>4.081081</td>\n",
       "    </tr>\n",
       "    <tr>\n",
       "      <th>...</th>\n",
       "      <td>...</td>\n",
       "      <td>...</td>\n",
       "      <td>...</td>\n",
       "      <td>...</td>\n",
       "    </tr>\n",
       "    <tr>\n",
       "      <th>995</th>\n",
       "      <td>83</td>\n",
       "      <td>Anne Rice's The Vampire Lestat: A Graphic Novel</td>\n",
       "      <td>0</td>\n",
       "      <td>3.666667</td>\n",
       "    </tr>\n",
       "    <tr>\n",
       "      <th>996</th>\n",
       "      <td>808</td>\n",
       "      <td>The Natural Way to Draw</td>\n",
       "      <td>0</td>\n",
       "      <td>3.000000</td>\n",
       "    </tr>\n",
       "    <tr>\n",
       "      <th>997</th>\n",
       "      <td>672</td>\n",
       "      <td>The Cat in the Hat and Other Dr. Seuss Favorites</td>\n",
       "      <td>0</td>\n",
       "      <td>5.000000</td>\n",
       "    </tr>\n",
       "    <tr>\n",
       "      <th>998</th>\n",
       "      <td>221</td>\n",
       "      <td>Essential Tales and Poems</td>\n",
       "      <td>0</td>\n",
       "      <td>4.000000</td>\n",
       "    </tr>\n",
       "    <tr>\n",
       "      <th>999</th>\n",
       "      <td>191</td>\n",
       "      <td>Disney's Beauty and the Beast (A Little Golden...</td>\n",
       "      <td>0</td>\n",
       "      <td>4.000000</td>\n",
       "    </tr>\n",
       "  </tbody>\n",
       "</table>\n",
       "<p>1000 rows × 4 columns</p>\n",
       "</div>"
      ],
      "text/plain": [
       "     book_id                                         book_title  \\\n",
       "0        948                            Twilight (Twilight  #1)   \n",
       "1        963                                Water for Elephants   \n",
       "2        734                                   The Glass Castle   \n",
       "3        302  Harry Potter and the Prisoner of Azkaban (Harr...   \n",
       "4        695  The Curious Incident of the Dog in the Night-Time   \n",
       "..       ...                                                ...   \n",
       "995       83    Anne Rice's The Vampire Lestat: A Graphic Novel   \n",
       "996      808                            The Natural Way to Draw   \n",
       "997      672   The Cat in the Hat and Other Dr. Seuss Favorites   \n",
       "998      221                          Essential Tales and Poems   \n",
       "999      191  Disney's Beauty and the Beast (A Little Golden...   \n",
       "\n",
       "     count_reviews  avg_rating  \n",
       "0                7    3.662500  \n",
       "1                6    3.977273  \n",
       "2                6    4.206897  \n",
       "3                6    4.414634  \n",
       "4                6    4.081081  \n",
       "..             ...         ...  \n",
       "995              0    3.666667  \n",
       "996              0    3.000000  \n",
       "997              0    5.000000  \n",
       "998              0    4.000000  \n",
       "999              0    4.000000  \n",
       "\n",
       "[1000 rows x 4 columns]"
      ]
     },
     "execution_count": 16,
     "metadata": {},
     "output_type": "execute_result"
    }
   ],
   "source": [
    "query = '''\n",
    "\n",
    "SELECT books.book_id AS book_id,\n",
    "       books.title AS book_title,\n",
    "       COUNT(DISTINCT reviews.review_id) AS count_reviews,\n",
    "       AVG(ratings.rating) AS avg_rating\n",
    "FROM books\n",
    "INNER JOIN ratings ON ratings.book_id = books.book_id\n",
    "LEFT JOIN reviews ON reviews.book_id = books.book_id\n",
    "GROUP BY books.title,\n",
    "         books.book_id\n",
    "ORDER BY count_reviews DESC;\n",
    "\n",
    "'''\n",
    "get_sql_data(query)"
   ]
  },
  {
   "cell_type": "markdown",
   "metadata": {
    "id": "7vDMxbgLe2eX"
   },
   "source": [
    "Для каждой книги мы посчитали количество рецензий и среднюю пользовательскую оценку, большое количсевто книг с высоким рейтингом, самый низкий рейтинг у книги Джоди Пиколт: Забрать любовь.\n",
    "\n",
    "Самое большое количество обзоров на книгу Стефани Майер: Сумерки."
   ]
  },
  {
   "cell_type": "markdown",
   "metadata": {
    "id": "Nhkt-OTfhMLt"
   },
   "source": [
    "## Издательство, которое выпустило наибольшее число книг"
   ]
  },
  {
   "cell_type": "markdown",
   "metadata": {
    "id": "VBZhMd5ihRXn"
   },
   "source": [
    "Определим издательство, которое выпустило наибольшее число книг толще\n",
    "50 страниц (исключим из анализа брошюры)"
   ]
  },
  {
   "cell_type": "code",
   "execution_count": 17,
   "metadata": {
    "colab": {
     "base_uri": "https://localhost:8080/",
     "height": 81
    },
    "id": "WRB0adnJhP3n",
    "outputId": "59e492bd-4ab0-4459-d02d-3c137d3177a9"
   },
   "outputs": [
    {
     "data": {
      "text/html": [
       "<div>\n",
       "<style scoped>\n",
       "    .dataframe tbody tr th:only-of-type {\n",
       "        vertical-align: middle;\n",
       "    }\n",
       "\n",
       "    .dataframe tbody tr th {\n",
       "        vertical-align: top;\n",
       "    }\n",
       "\n",
       "    .dataframe thead th {\n",
       "        text-align: right;\n",
       "    }\n",
       "</style>\n",
       "<table border=\"1\" class=\"dataframe\">\n",
       "  <thead>\n",
       "    <tr style=\"text-align: right;\">\n",
       "      <th></th>\n",
       "      <th>publisher</th>\n",
       "      <th>count_books</th>\n",
       "    </tr>\n",
       "  </thead>\n",
       "  <tbody>\n",
       "    <tr>\n",
       "      <th>0</th>\n",
       "      <td>Penguin Books</td>\n",
       "      <td>42</td>\n",
       "    </tr>\n",
       "  </tbody>\n",
       "</table>\n",
       "</div>"
      ],
      "text/plain": [
       "       publisher  count_books\n",
       "0  Penguin Books           42"
      ]
     },
     "execution_count": 17,
     "metadata": {},
     "output_type": "execute_result"
    }
   ],
   "source": [
    "query = '''\n",
    "\n",
    "SELECT publishers.publisher,\n",
    "       COUNT(books.book_id) as count_books\n",
    "FROM publishers\n",
    "JOIN books ON publishers.publisher_id = books.publisher_id\n",
    "WHERE books.num_pages > 50\n",
    "GROUP BY publishers.publisher_id\n",
    "ORDER BY count_books DESC\n",
    "LIMIT 1;\n",
    "\n",
    "'''\n",
    "get_sql_data(query)"
   ]
  },
  {
   "cell_type": "markdown",
   "metadata": {
    "id": "z6GJxYjKiK8r"
   },
   "source": [
    "Издательство, которое выпустило самое большое количество книг: Penguin Books\t(42 книги более 50 страниц). Британское издательство, основанное в 1935 году в Лондоне."
   ]
  },
  {
   "cell_type": "markdown",
   "metadata": {
    "id": "UEwQBB2tbAnH"
   },
   "source": [
    "## Автор с самой высокой средней оценкой книг"
   ]
  },
  {
   "cell_type": "markdown",
   "metadata": {
    "id": "RG1raysibKbQ"
   },
   "source": [
    "Определим автора с самой высокой средней оценкой книг — учитываем\n",
    "только книги с 50 и более оценками."
   ]
  },
  {
   "cell_type": "code",
   "execution_count": 18,
   "metadata": {
    "colab": {
     "base_uri": "https://localhost:8080/",
     "height": 81
    },
    "id": "yQT4-mesVp-M",
    "outputId": "e0a86eac-5646-41ba-ca78-16325b1b3d22",
    "scrolled": false
   },
   "outputs": [
    {
     "data": {
      "text/html": [
       "<div>\n",
       "<style scoped>\n",
       "    .dataframe tbody tr th:only-of-type {\n",
       "        vertical-align: middle;\n",
       "    }\n",
       "\n",
       "    .dataframe tbody tr th {\n",
       "        vertical-align: top;\n",
       "    }\n",
       "\n",
       "    .dataframe thead th {\n",
       "        text-align: right;\n",
       "    }\n",
       "</style>\n",
       "<table border=\"1\" class=\"dataframe\">\n",
       "  <thead>\n",
       "    <tr style=\"text-align: right;\">\n",
       "      <th></th>\n",
       "      <th>author</th>\n",
       "      <th>avg_rate</th>\n",
       "    </tr>\n",
       "  </thead>\n",
       "  <tbody>\n",
       "    <tr>\n",
       "      <th>0</th>\n",
       "      <td>J.K. Rowling/Mary GrandPré</td>\n",
       "      <td>4.283844</td>\n",
       "    </tr>\n",
       "  </tbody>\n",
       "</table>\n",
       "</div>"
      ],
      "text/plain": [
       "                       author  avg_rate\n",
       "0  J.K. Rowling/Mary GrandPré  4.283844"
      ]
     },
     "execution_count": 18,
     "metadata": {},
     "output_type": "execute_result"
    }
   ],
   "source": [
    "query = '''\n",
    "\n",
    "SELECT a.author AS author,\n",
    "       AVG(a.avg_rate) AS avg_rate\n",
    "FROM (SELECT authors.author AS author,\n",
    "             b.book_id AS book_id,\n",
    "             AVG(r.rating) AS avg_rate,\n",
    "             COUNT(r.rating) AS count_rating\n",
    "      FROM authors\n",
    "      INNER JOIN books AS b ON b.author_id = authors.author_id\n",
    "      INNER JOIN ratings AS r ON r.book_id = b.book_id\n",
    "      GROUP BY authors.author,\n",
    "               b.book_id\n",
    "      HAVING COUNT(r.rating) >= 50) AS a\n",
    "GROUP BY author\n",
    "ORDER BY avg_rate DESC\n",
    "LIMIT 1;\n",
    "\n",
    "'''\n",
    "get_sql_data(query)"
   ]
  },
  {
   "cell_type": "markdown",
   "metadata": {
    "id": "oCTRTL1rllzP"
   },
   "source": [
    "Самый высокий рейтинг среди авторов с более чем 50 оценок - у британской писательницы Джоан Роулинг."
   ]
  },
  {
   "cell_type": "markdown",
   "metadata": {
    "id": "VBZQ9wOKmQof"
   },
   "source": [
    "## Среднее количество обзоров от пользователей"
   ]
  },
  {
   "cell_type": "markdown",
   "metadata": {
    "id": "ZXRr0nm-mWbD"
   },
   "source": [
    "Посчитаем среднее количество обзоров от пользователей, которые поставили\n",
    "больше 48 оценок.\n"
   ]
  },
  {
   "cell_type": "code",
   "execution_count": 19,
   "metadata": {
    "colab": {
     "base_uri": "https://localhost:8080/",
     "height": 81
    },
    "id": "J33bs_3Jjwci",
    "outputId": "a7fcf7ab-a20e-4964-9ddf-c4f52d07b0c1"
   },
   "outputs": [
    {
     "data": {
      "text/html": [
       "<div>\n",
       "<style scoped>\n",
       "    .dataframe tbody tr th:only-of-type {\n",
       "        vertical-align: middle;\n",
       "    }\n",
       "\n",
       "    .dataframe tbody tr th {\n",
       "        vertical-align: top;\n",
       "    }\n",
       "\n",
       "    .dataframe thead th {\n",
       "        text-align: right;\n",
       "    }\n",
       "</style>\n",
       "<table border=\"1\" class=\"dataframe\">\n",
       "  <thead>\n",
       "    <tr style=\"text-align: right;\">\n",
       "      <th></th>\n",
       "      <th>avg_review</th>\n",
       "    </tr>\n",
       "  </thead>\n",
       "  <tbody>\n",
       "    <tr>\n",
       "      <th>0</th>\n",
       "      <td>24.0</td>\n",
       "    </tr>\n",
       "  </tbody>\n",
       "</table>\n",
       "</div>"
      ],
      "text/plain": [
       "   avg_review\n",
       "0        24.0"
      ]
     },
     "execution_count": 19,
     "metadata": {},
     "output_type": "execute_result"
    }
   ],
   "source": [
    "query = '''\n",
    "\n",
    "SELECT AVG(review.review_cnt) AS avg_review\n",
    "FROM (SELECT COUNT(review_id) AS review_cnt\n",
    "      FROM reviews\n",
    "      WHERE username\n",
    "      IN (SELECT username\n",
    "          FROM ratings\n",
    "          GROUP BY username\n",
    "          HAVING\n",
    "          COUNT(ratings) > 48)\n",
    "          GROUP BY username) AS review;\n",
    "\n",
    "'''\n",
    "get_sql_data(query)"
   ]
  },
  {
   "cell_type": "markdown",
   "metadata": {
    "id": "GDOCEjPhnlWW"
   },
   "source": [
    "В среднем пользователи, которые поставили более 48 оценок оставляют 24 обзора."
   ]
  },
  {
   "cell_type": "markdown",
   "metadata": {
    "id": "4TmOetffoOAW"
   },
   "source": [
    " ## Вывод"
   ]
  },
  {
   "cell_type": "markdown",
   "metadata": {
    "id": "sc9fwZYLoTGO"
   },
   "source": [
    "Мы проанализировали базу данных сервиса для чтения книг по подписке.\n",
    "\n",
    "- После 1 января 2000 года вышло 819 книг;\n",
    "- Посчитали количество обзоров и среднюю оценку для каждой книги и определили, что самый низкий рейтинг у книги Джоди Пиколт: Забрать любовь,\n",
    "а самое большое количество обзоров на книгу Стефани Майер: Сумерки;\n",
    "- Издательство, которое выпустило наибольшее число книг толще 50 страниц — Penguin Books;\n",
    "- Автор с самой высокой средней оценкой книг, поличивший более 50 оценок - Джоан Роулинг;\n",
    "- Среднее количество обзоров от пользователей, которые поставили больше 48 оценок - 24."
   ]
  }
 ],
 "metadata": {
  "ExecuteTimeLog": [
   {
    "duration": 9714,
    "start_time": "2023-09-30T18:37:42.222Z"
   },
   {
    "duration": 260,
    "start_time": "2023-09-30T18:37:51.938Z"
   },
   {
    "duration": 51,
    "start_time": "2023-09-30T18:37:52.200Z"
   },
   {
    "duration": 250,
    "start_time": "2023-09-30T18:37:52.253Z"
   },
   {
    "duration": 51,
    "start_time": "2023-09-30T18:37:52.505Z"
   },
   {
    "duration": 53,
    "start_time": "2023-09-30T18:37:52.558Z"
   },
   {
    "duration": 65,
    "start_time": "2023-09-30T18:37:52.613Z"
   },
   {
    "duration": 54,
    "start_time": "2023-09-30T18:37:52.680Z"
   },
   {
    "duration": 52,
    "start_time": "2023-09-30T18:37:52.736Z"
   },
   {
    "duration": 85,
    "start_time": "2023-09-30T18:37:52.790Z"
   },
   {
    "duration": 104,
    "start_time": "2023-09-30T18:37:52.877Z"
   },
   {
    "duration": 58,
    "start_time": "2023-09-30T18:37:52.983Z"
   },
   {
    "duration": 50,
    "start_time": "2023-09-30T18:37:53.042Z"
   },
   {
    "duration": 89,
    "start_time": "2023-09-30T18:37:53.095Z"
   },
   {
    "duration": 78,
    "start_time": "2023-09-30T18:37:53.185Z"
   },
   {
    "duration": 52,
    "start_time": "2023-09-30T18:37:53.265Z"
   },
   {
    "duration": 56,
    "start_time": "2023-09-30T18:37:53.319Z"
   },
   {
    "duration": 54,
    "start_time": "2023-09-30T18:37:53.376Z"
   },
   {
    "duration": 129,
    "start_time": "2023-09-30T18:42:28.902Z"
   },
   {
    "duration": 90,
    "start_time": "2023-09-30T18:42:36.471Z"
   },
   {
    "duration": 607,
    "start_time": "2023-09-30T20:20:00.559Z"
   },
   {
    "duration": 15393,
    "start_time": "2023-09-30T20:20:01.169Z"
   },
   {
    "duration": 4,
    "start_time": "2023-09-30T20:20:16.564Z"
   },
   {
    "duration": 417,
    "start_time": "2023-09-30T20:20:16.570Z"
   },
   {
    "duration": 81,
    "start_time": "2023-09-30T20:20:16.990Z"
   },
   {
    "duration": 74,
    "start_time": "2023-09-30T20:20:17.073Z"
   },
   {
    "duration": 58,
    "start_time": "2023-09-30T20:20:17.155Z"
   },
   {
    "duration": 80,
    "start_time": "2023-09-30T20:20:17.214Z"
   },
   {
    "duration": 73,
    "start_time": "2023-09-30T20:20:17.295Z"
   },
   {
    "duration": 85,
    "start_time": "2023-09-30T20:20:17.371Z"
   },
   {
    "duration": 61,
    "start_time": "2023-09-30T20:20:17.458Z"
   },
   {
    "duration": 74,
    "start_time": "2023-09-30T20:20:17.523Z"
   },
   {
    "duration": 72,
    "start_time": "2023-09-30T20:20:17.599Z"
   },
   {
    "duration": 64,
    "start_time": "2023-09-30T20:20:17.673Z"
   },
   {
    "duration": 60,
    "start_time": "2023-09-30T20:20:17.740Z"
   },
   {
    "duration": 148,
    "start_time": "2023-09-30T20:20:17.802Z"
   },
   {
    "duration": 106,
    "start_time": "2023-09-30T20:20:17.954Z"
   },
   {
    "duration": 84,
    "start_time": "2023-09-30T20:20:18.062Z"
   },
   {
    "duration": 68,
    "start_time": "2023-09-30T20:20:18.149Z"
   },
   {
    "duration": 73,
    "start_time": "2023-09-30T20:20:18.219Z"
   },
   {
    "duration": 73,
    "start_time": "2023-09-30T20:24:23.752Z"
   },
   {
    "duration": 80,
    "start_time": "2023-09-30T20:24:50.409Z"
   },
   {
    "duration": 224,
    "start_time": "2023-09-30T20:33:01.355Z"
   },
   {
    "duration": 61,
    "start_time": "2023-09-30T20:33:51.846Z"
   },
   {
    "duration": 73,
    "start_time": "2023-09-30T20:34:57.350Z"
   },
   {
    "duration": 80,
    "start_time": "2023-09-30T20:35:13.573Z"
   },
   {
    "duration": 86,
    "start_time": "2023-09-30T20:36:09.168Z"
   },
   {
    "duration": 609,
    "start_time": "2023-09-30T20:36:18.718Z"
   },
   {
    "duration": 13277,
    "start_time": "2023-09-30T20:36:19.333Z"
   },
   {
    "duration": 7,
    "start_time": "2023-09-30T20:36:32.620Z"
   },
   {
    "duration": 333,
    "start_time": "2023-09-30T20:36:32.631Z"
   },
   {
    "duration": 64,
    "start_time": "2023-09-30T20:36:32.966Z"
   },
   {
    "duration": 56,
    "start_time": "2023-09-30T20:36:33.033Z"
   },
   {
    "duration": 70,
    "start_time": "2023-09-30T20:36:33.091Z"
   },
   {
    "duration": 78,
    "start_time": "2023-09-30T20:36:33.163Z"
   },
   {
    "duration": 53,
    "start_time": "2023-09-30T20:36:33.243Z"
   },
   {
    "duration": 71,
    "start_time": "2023-09-30T20:36:33.298Z"
   },
   {
    "duration": 78,
    "start_time": "2023-09-30T20:36:33.371Z"
   },
   {
    "duration": 56,
    "start_time": "2023-09-30T20:36:33.451Z"
   },
   {
    "duration": 65,
    "start_time": "2023-09-30T20:36:33.513Z"
   },
   {
    "duration": 66,
    "start_time": "2023-09-30T20:36:33.582Z"
   },
   {
    "duration": 156,
    "start_time": "2023-09-30T20:36:33.650Z"
   },
   {
    "duration": 147,
    "start_time": "2023-09-30T20:36:33.808Z"
   },
   {
    "duration": 58,
    "start_time": "2023-09-30T20:36:33.957Z"
   },
   {
    "duration": 74,
    "start_time": "2023-09-30T20:36:34.017Z"
   },
   {
    "duration": 84,
    "start_time": "2023-09-30T20:36:34.093Z"
   }
  ],
  "colab": {
   "provenance": [],
   "toc_visible": true
  },
  "kernelspec": {
   "display_name": "Python 3 (ipykernel)",
   "language": "python",
   "name": "python3"
  },
  "language_info": {
   "codemirror_mode": {
    "name": "ipython",
    "version": 3
   },
   "file_extension": ".py",
   "mimetype": "text/x-python",
   "name": "python",
   "nbconvert_exporter": "python",
   "pygments_lexer": "ipython3",
   "version": "3.9.13"
  },
  "toc": {
   "base_numbering": 1,
   "nav_menu": {},
   "number_sections": true,
   "sideBar": true,
   "skip_h1_title": true,
   "title_cell": "Table of Contents",
   "title_sidebar": "Contents",
   "toc_cell": false,
   "toc_position": {},
   "toc_section_display": true,
   "toc_window_display": false
  }
 },
 "nbformat": 4,
 "nbformat_minor": 1
}
